{
 "cells": [
  {
   "cell_type": "markdown",
   "metadata": {},
   "source": [
    "Licensed under the MIT License.\n",
    "\n",
    "Copyright (c) 2021-2025. All rights reserved.\n",
    "\n",
    "# Optuna Specified Search Space\n",
    "\n",
    "* Optuna prunning algorithms: https://optuna.readthedocs.io/en/stable/tutorial/10_key_features/003_efficient_optimization_algorithms.html#pruning-algorithms"
   ]
  },
  {
   "cell_type": "code",
   "execution_count": 1,
   "metadata": {},
   "outputs": [],
   "source": [
    "import pandas as pd\n",
    "import timeit\n",
    "\n",
    "from sklearn.model_selection import train_test_split\n",
    "from sklearn.metrics import mean_absolute_percentage_error, r2_score\n",
    "from sklearn import preprocessing\n",
    "\n",
    "import lightgbm as lgb\n",
    "from lightgbm import LGBMRegressor\n",
    "import optuna\n",
    "\n",
    "import warnings\n",
    "warnings.filterwarnings(\"ignore\", category=UserWarning)"
   ]
  },
  {
   "cell_type": "code",
   "execution_count": 2,
   "metadata": {},
   "outputs": [
    {
     "name": "stdout",
     "output_type": "stream",
     "text": [
      "(532529, 18) (161332, 18) (532529,) (161332,)\n"
     ]
    },
    {
     "data": {
      "text/html": [
       "<div>\n",
       "<style scoped>\n",
       "    .dataframe tbody tr th:only-of-type {\n",
       "        vertical-align: middle;\n",
       "    }\n",
       "\n",
       "    .dataframe tbody tr th {\n",
       "        vertical-align: top;\n",
       "    }\n",
       "\n",
       "    .dataframe thead th {\n",
       "        text-align: right;\n",
       "    }\n",
       "</style>\n",
       "<table border=\"1\" class=\"dataframe\">\n",
       "  <thead>\n",
       "    <tr style=\"text-align: right;\">\n",
       "      <th></th>\n",
       "      <th>Store</th>\n",
       "      <th>Month</th>\n",
       "      <th>Quarter</th>\n",
       "      <th>StoreType</th>\n",
       "      <th>Assortment</th>\n",
       "      <th>CompetitionDistance</th>\n",
       "      <th>CompetitionOpenSinceMonth</th>\n",
       "      <th>CompetitionOpenSinceYear</th>\n",
       "      <th>Promo2</th>\n",
       "      <th>Promo2SinceWeek</th>\n",
       "      <th>Promo2SinceYear</th>\n",
       "      <th>PromoInterval</th>\n",
       "      <th>DayOfWeek</th>\n",
       "      <th>Customers</th>\n",
       "      <th>Open</th>\n",
       "      <th>Promo</th>\n",
       "      <th>StateHoliday</th>\n",
       "      <th>SchoolHoliday</th>\n",
       "    </tr>\n",
       "  </thead>\n",
       "  <tbody>\n",
       "    <tr>\n",
       "      <th>0</th>\n",
       "      <td>1</td>\n",
       "      <td>12</td>\n",
       "      <td>4</td>\n",
       "      <td>2</td>\n",
       "      <td>0</td>\n",
       "      <td>1270.0</td>\n",
       "      <td>9</td>\n",
       "      <td>2008</td>\n",
       "      <td>0</td>\n",
       "      <td>-1</td>\n",
       "      <td>-1</td>\n",
       "      <td>-1</td>\n",
       "      <td>3</td>\n",
       "      <td>327</td>\n",
       "      <td>1</td>\n",
       "      <td>0</td>\n",
       "      <td>0</td>\n",
       "      <td>1</td>\n",
       "    </tr>\n",
       "    <tr>\n",
       "      <th>1</th>\n",
       "      <td>1</td>\n",
       "      <td>12</td>\n",
       "      <td>4</td>\n",
       "      <td>2</td>\n",
       "      <td>0</td>\n",
       "      <td>1270.0</td>\n",
       "      <td>9</td>\n",
       "      <td>2008</td>\n",
       "      <td>0</td>\n",
       "      <td>-1</td>\n",
       "      <td>-1</td>\n",
       "      <td>-1</td>\n",
       "      <td>2</td>\n",
       "      <td>703</td>\n",
       "      <td>1</td>\n",
       "      <td>0</td>\n",
       "      <td>0</td>\n",
       "      <td>1</td>\n",
       "    </tr>\n",
       "    <tr>\n",
       "      <th>2</th>\n",
       "      <td>1</td>\n",
       "      <td>12</td>\n",
       "      <td>4</td>\n",
       "      <td>2</td>\n",
       "      <td>0</td>\n",
       "      <td>1270.0</td>\n",
       "      <td>9</td>\n",
       "      <td>2008</td>\n",
       "      <td>0</td>\n",
       "      <td>-1</td>\n",
       "      <td>-1</td>\n",
       "      <td>-1</td>\n",
       "      <td>1</td>\n",
       "      <td>700</td>\n",
       "      <td>1</td>\n",
       "      <td>0</td>\n",
       "      <td>0</td>\n",
       "      <td>1</td>\n",
       "    </tr>\n",
       "    <tr>\n",
       "      <th>3</th>\n",
       "      <td>1</td>\n",
       "      <td>12</td>\n",
       "      <td>4</td>\n",
       "      <td>2</td>\n",
       "      <td>0</td>\n",
       "      <td>1270.0</td>\n",
       "      <td>9</td>\n",
       "      <td>2008</td>\n",
       "      <td>0</td>\n",
       "      <td>-1</td>\n",
       "      <td>-1</td>\n",
       "      <td>-1</td>\n",
       "      <td>7</td>\n",
       "      <td>0</td>\n",
       "      <td>0</td>\n",
       "      <td>0</td>\n",
       "      <td>0</td>\n",
       "      <td>1</td>\n",
       "    </tr>\n",
       "    <tr>\n",
       "      <th>4</th>\n",
       "      <td>1</td>\n",
       "      <td>12</td>\n",
       "      <td>4</td>\n",
       "      <td>2</td>\n",
       "      <td>0</td>\n",
       "      <td>1270.0</td>\n",
       "      <td>9</td>\n",
       "      <td>2008</td>\n",
       "      <td>0</td>\n",
       "      <td>-1</td>\n",
       "      <td>-1</td>\n",
       "      <td>-1</td>\n",
       "      <td>6</td>\n",
       "      <td>684</td>\n",
       "      <td>1</td>\n",
       "      <td>0</td>\n",
       "      <td>0</td>\n",
       "      <td>1</td>\n",
       "    </tr>\n",
       "  </tbody>\n",
       "</table>\n",
       "</div>"
      ],
      "text/plain": [
       "  Store Month Quarter StoreType Assortment  CompetitionDistance  \\\n",
       "0     1    12       4         2          0               1270.0   \n",
       "1     1    12       4         2          0               1270.0   \n",
       "2     1    12       4         2          0               1270.0   \n",
       "3     1    12       4         2          0               1270.0   \n",
       "4     1    12       4         2          0               1270.0   \n",
       "\n",
       "  CompetitionOpenSinceMonth CompetitionOpenSinceYear  Promo2 Promo2SinceWeek  \\\n",
       "0                         9                     2008       0              -1   \n",
       "1                         9                     2008       0              -1   \n",
       "2                         9                     2008       0              -1   \n",
       "3                         9                     2008       0              -1   \n",
       "4                         9                     2008       0              -1   \n",
       "\n",
       "  Promo2SinceYear PromoInterval DayOfWeek  Customers  Open  Promo  \\\n",
       "0              -1            -1         3        327     1      0   \n",
       "1              -1            -1         2        703     1      0   \n",
       "2              -1            -1         1        700     1      0   \n",
       "3              -1            -1         7          0     0      0   \n",
       "4              -1            -1         6        684     1      0   \n",
       "\n",
       "  StateHoliday  SchoolHoliday  \n",
       "0            0              1  \n",
       "1            0              1  \n",
       "2            0              1  \n",
       "3            0              1  \n",
       "4            0              1  "
      ]
     },
     "execution_count": 2,
     "metadata": {},
     "output_type": "execute_result"
    }
   ],
   "source": [
    "df = pd.read_pickle('../../crystal_ball/data_collector/structured_data/sales.pkl')\n",
    "\n",
    "# train, test split for df\n",
    "train_df = df.loc[df['Year'].astype(str) < '2015']\n",
    "test_df = df.loc[df['Year'].astype(str) == '2015']\n",
    "\n",
    "y_train, y_test = train_df['Sales'], test_df['Sales']\n",
    "X_train, X_test = train_df.drop(['Sales', 'Date', 'Year'], axis=1), test_df.drop(['Sales', 'Date', 'Year'], axis=1)\n",
    "\n",
    "X_train.reset_index(inplace=True, drop=True)\n",
    "X_test.reset_index(inplace=True, drop=True)\n",
    "y_train.reset_index(inplace=True, drop=True)\n",
    "y_test.reset_index(inplace=True, drop=True)\n",
    "\n",
    "print(X_train.shape, X_test.shape, y_train.shape, y_test.shape)\n",
    "\n",
    "X_train.head()"
   ]
  },
  {
   "cell_type": "markdown",
   "metadata": {},
   "source": [
    "## For Leaves30"
   ]
  },
  {
   "cell_type": "code",
   "execution_count": 3,
   "metadata": {},
   "outputs": [],
   "source": [
    "def objective(trial):\n",
    "    dtrain = lgb.Dataset(X_train, y_train)\n",
    "    dval = lgb.Dataset(X_test, y_test)\n",
    "    upper = min(32768, int(X_train.shape[0]))\n",
    "        \n",
    "    params = {\n",
    "        \"objective\": \"regression\",\n",
    "        \"metric\": \"mape\",\n",
    "        \"random_state\": 10,\n",
    "        \"verbosity\": -1,\n",
    "        \n",
    "        # specify the similar search space as FLAML, but optuna has no initial value to suggest\n",
    "        \"num_leaves\": trial.suggest_int(\"num_leaves\", 4, upper),\n",
    "        \"learning_rate\": trial.suggest_loguniform(\"learning_rate\", 1/1024, 1.0),\n",
    "        \"subsample\": trial.suggest_uniform(\"subsample\", 0.1, 1.0),\n",
    "        \"max_bin\": trial.suggest_int(\"max_bin\", 3, 10),\n",
    "        \"colsample_bytree\": trial.suggest_uniform(\"colsample_bytree\", 0.01, 1.0),\n",
    "        \"reg_alpha\": trial.suggest_loguniform(\"reg_alpha\", 1/1024, 1024),\n",
    "        \"reg_lambda\": trial.suggest_loguniform(\"reg_lambda\", 1/1024, 1024),\n",
    "        \"max_depth\": trial.suggest_int(\"max_depth\", 2, 10),\n",
    "        \"extra_trees\": True\n",
    "    }\n",
    "    \n",
    "    pruning_callback = optuna.integration.LightGBMPruningCallback(trial, \"mape\")\n",
    "    clf = lgb.train(\n",
    "        params, dtrain, valid_sets=[dval], verbose_eval=False, callbacks=[pruning_callback]\n",
    "    )\n",
    "\n",
    "    y_pred = clf.predict(X_test)\n",
    "    mape = mean_absolute_percentage_error(y_test, y_pred)\n",
    "    return mape"
   ]
  },
  {
   "cell_type": "code",
   "execution_count": 4,
   "metadata": {},
   "outputs": [
    {
     "name": "stderr",
     "output_type": "stream",
     "text": [
      "\u001b[32m[I 2021-09-04 22:10:16,214]\u001b[0m A new study created in memory with name: no-name-e083afb3-1592-4afb-9df3-6ebdb17803fa\u001b[0m\n",
      "\u001b[32m[I 2021-09-04 22:10:26,283]\u001b[0m Trial 0 finished with value: 1.7117832331907008e+17 and parameters: {'num_leaves': 16658, 'learning_rate': 0.38418484570659567, 'subsample': 0.656242476193716, 'max_bin': 7, 'colsample_bytree': 0.3490742100916358, 'reg_alpha': 0.002106404706520766, 'reg_lambda': 4.908978363940727, 'max_depth': 10}. Best is trial 0 with value: 1.7117832331907008e+17.\u001b[0m\n",
      "\u001b[32m[I 2021-09-04 22:10:31,371]\u001b[0m Trial 1 finished with value: 1.9431207279083024e+17 and parameters: {'num_leaves': 25416, 'learning_rate': 0.5385852501816885, 'subsample': 0.2614045147721976, 'max_bin': 8, 'colsample_bytree': 0.3771294221196161, 'reg_alpha': 0.015564012323944814, 'reg_lambda': 0.013871801909216068, 'max_depth': 4}. Best is trial 0 with value: 1.7117832331907008e+17.\u001b[0m\n",
      "\u001b[32m[I 2021-09-04 22:10:32,787]\u001b[0m Trial 2 pruned. Trial was pruned at iteration 3.\u001b[0m\n",
      "\u001b[32m[I 2021-09-04 22:10:39,335]\u001b[0m Trial 3 finished with value: 6.20991597998122e+16 and parameters: {'num_leaves': 31859, 'learning_rate': 0.04413605627205777, 'subsample': 0.818030983445434, 'max_bin': 6, 'colsample_bytree': 0.6390911333710436, 'reg_alpha': 305.48273099750776, 'reg_lambda': 0.0030861585745836436, 'max_depth': 7}. Best is trial 3 with value: 6.20991597998122e+16.\u001b[0m\n",
      "\u001b[32m[I 2021-09-04 22:10:44,235]\u001b[0m Trial 4 finished with value: 5.717488499254613e+16 and parameters: {'num_leaves': 23168, 'learning_rate': 0.0616696318329643, 'subsample': 0.6078253433839202, 'max_bin': 9, 'colsample_bytree': 0.7087852543805064, 'reg_alpha': 35.37989465574135, 'reg_lambda': 0.0018544675902215223, 'max_depth': 5}. Best is trial 4 with value: 5.717488499254613e+16.\u001b[0m\n",
      "\u001b[32m[I 2021-09-04 22:10:45,641]\u001b[0m Trial 5 pruned. Trial was pruned at iteration 3.\u001b[0m\n",
      "\u001b[32m[I 2021-09-04 22:10:47,033]\u001b[0m Trial 6 pruned. Trial was pruned at iteration 1.\u001b[0m\n",
      "\u001b[32m[I 2021-09-04 22:10:48,513]\u001b[0m Trial 7 pruned. Trial was pruned at iteration 3.\u001b[0m\n",
      "\u001b[32m[I 2021-09-04 22:10:49,929]\u001b[0m Trial 8 pruned. Trial was pruned at iteration 3.\u001b[0m\n",
      "\u001b[32m[I 2021-09-04 22:10:51,322]\u001b[0m Trial 9 pruned. Trial was pruned at iteration 3.\u001b[0m\n",
      "\u001b[32m[I 2021-09-04 22:10:52,750]\u001b[0m Trial 10 pruned. Trial was pruned at iteration 3.\u001b[0m\n",
      "\u001b[32m[I 2021-09-04 22:10:54,103]\u001b[0m Trial 11 pruned. Trial was pruned at iteration 1.\u001b[0m\n",
      "\u001b[32m[I 2021-09-04 22:10:55,512]\u001b[0m Trial 12 pruned. Trial was pruned at iteration 3.\u001b[0m\n",
      "\u001b[32m[I 2021-09-04 22:10:57,094]\u001b[0m Trial 13 pruned. Trial was pruned at iteration 3.\u001b[0m\n",
      "\u001b[32m[I 2021-09-04 22:11:02,409]\u001b[0m Trial 14 pruned. Trial was pruned at iteration 81.\u001b[0m\n",
      "\u001b[32m[I 2021-09-04 22:11:03,943]\u001b[0m Trial 15 pruned. Trial was pruned at iteration 3.\u001b[0m\n",
      "\u001b[32m[I 2021-09-04 22:11:07,931]\u001b[0m Trial 16 finished with value: 5.7234431631902304e+17 and parameters: {'num_leaves': 15148, 'learning_rate': 0.4388707007201298, 'subsample': 0.34949310273327105, 'max_bin': 8, 'colsample_bytree': 0.02226326289721447, 'reg_alpha': 0.0010268208254503822, 'reg_lambda': 0.0076994421537929765, 'max_depth': 4}. Best is trial 4 with value: 5.717488499254613e+16.\u001b[0m\n",
      "\u001b[32m[I 2021-09-04 22:11:10,066]\u001b[0m Trial 17 pruned. Trial was pruned at iteration 27.\u001b[0m\n",
      "\u001b[32m[I 2021-09-04 22:11:11,458]\u001b[0m Trial 18 pruned. Trial was pruned at iteration 1.\u001b[0m\n",
      "\u001b[32m[I 2021-09-04 22:11:13,011]\u001b[0m Trial 19 pruned. Trial was pruned at iteration 3.\u001b[0m\n",
      "\u001b[32m[I 2021-09-04 22:11:14,485]\u001b[0m Trial 20 pruned. Trial was pruned at iteration 9.\u001b[0m\n",
      "\u001b[32m[I 2021-09-04 22:11:17,800]\u001b[0m Trial 21 pruned. Trial was pruned at iteration 81.\u001b[0m\n",
      "\u001b[32m[I 2021-09-04 22:11:19,497]\u001b[0m Trial 22 pruned. Trial was pruned at iteration 9.\u001b[0m\n",
      "\u001b[32m[I 2021-09-04 22:11:20,913]\u001b[0m Trial 23 pruned. Trial was pruned at iteration 3.\u001b[0m\n",
      "\u001b[32m[I 2021-09-04 22:11:28,350]\u001b[0m Trial 24 finished with value: 6.067199200162924e+16 and parameters: {'num_leaves': 31457, 'learning_rate': 0.821177333460891, 'subsample': 0.1432501175201068, 'max_bin': 10, 'colsample_bytree': 0.9934256379533326, 'reg_alpha': 716.2514502416855, 'reg_lambda': 0.026372608899642425, 'max_depth': 8}. Best is trial 4 with value: 5.717488499254613e+16.\u001b[0m\n",
      "\u001b[32m[I 2021-09-04 22:11:30,348]\u001b[0m Trial 25 pruned. Trial was pruned at iteration 27.\u001b[0m\n",
      "\u001b[32m[I 2021-09-04 22:11:32,393]\u001b[0m Trial 26 pruned. Trial was pruned at iteration 9.\u001b[0m\n",
      "\u001b[32m[I 2021-09-04 22:11:33,998]\u001b[0m Trial 27 pruned. Trial was pruned at iteration 3.\u001b[0m\n",
      "\u001b[32m[I 2021-09-04 22:11:35,721]\u001b[0m Trial 28 pruned. Trial was pruned at iteration 27.\u001b[0m\n",
      "\u001b[32m[I 2021-09-04 22:11:37,036]\u001b[0m Trial 29 pruned. Trial was pruned at iteration 1.\u001b[0m\n",
      "\u001b[32m[I 2021-09-04 22:11:38,367]\u001b[0m Trial 30 pruned. Trial was pruned at iteration 1.\u001b[0m\n",
      "\u001b[32m[I 2021-09-04 22:11:40,288]\u001b[0m Trial 31 pruned. Trial was pruned at iteration 9.\u001b[0m\n",
      "\u001b[32m[I 2021-09-04 22:11:41,663]\u001b[0m Trial 32 pruned. Trial was pruned at iteration 1.\u001b[0m\n",
      "\u001b[32m[I 2021-09-04 22:11:43,344]\u001b[0m Trial 33 pruned. Trial was pruned at iteration 9.\u001b[0m\n",
      "\u001b[32m[I 2021-09-04 22:11:44,738]\u001b[0m Trial 34 pruned. Trial was pruned at iteration 1.\u001b[0m\n",
      "\u001b[32m[I 2021-09-04 22:11:46,067]\u001b[0m Trial 35 pruned. Trial was pruned at iteration 1.\u001b[0m\n",
      "\u001b[32m[I 2021-09-04 22:11:47,680]\u001b[0m Trial 36 pruned. Trial was pruned at iteration 9.\u001b[0m\n",
      "\u001b[32m[I 2021-09-04 22:11:50,522]\u001b[0m Trial 37 pruned. Trial was pruned at iteration 27.\u001b[0m\n",
      "\u001b[32m[I 2021-09-04 22:11:52,523]\u001b[0m Trial 38 pruned. Trial was pruned at iteration 9.\u001b[0m\n",
      "\u001b[32m[I 2021-09-04 22:11:54,038]\u001b[0m Trial 39 pruned. Trial was pruned at iteration 3.\u001b[0m\n",
      "\u001b[32m[I 2021-09-04 22:11:55,517]\u001b[0m Trial 40 pruned. Trial was pruned at iteration 3.\u001b[0m\n",
      "\u001b[32m[I 2021-09-04 22:11:56,881]\u001b[0m Trial 41 pruned. Trial was pruned at iteration 1.\u001b[0m\n",
      "\u001b[32m[I 2021-09-04 22:11:58,271]\u001b[0m Trial 42 pruned. Trial was pruned at iteration 1.\u001b[0m\n",
      "\u001b[32m[I 2021-09-04 22:11:59,721]\u001b[0m Trial 43 pruned. Trial was pruned at iteration 3.\u001b[0m\n",
      "\u001b[32m[I 2021-09-04 22:12:01,285]\u001b[0m Trial 44 pruned. Trial was pruned at iteration 3.\u001b[0m\n",
      "\u001b[32m[I 2021-09-04 22:12:03,108]\u001b[0m Trial 45 pruned. Trial was pruned at iteration 9.\u001b[0m\n",
      "\u001b[32m[I 2021-09-04 22:12:04,476]\u001b[0m Trial 46 pruned. Trial was pruned at iteration 1.\u001b[0m\n",
      "\u001b[32m[I 2021-09-04 22:12:11,298]\u001b[0m Trial 47 finished with value: 9.621128188573418e+16 and parameters: {'num_leaves': 26799, 'learning_rate': 0.7455809700540055, 'subsample': 0.11803721198512862, 'max_bin': 8, 'colsample_bytree': 0.7161934927199024, 'reg_alpha': 258.9263708961388, 'reg_lambda': 0.47532336149320525, 'max_depth': 7}. Best is trial 4 with value: 5.717488499254613e+16.\u001b[0m\n",
      "\u001b[32m[I 2021-09-04 22:12:12,736]\u001b[0m Trial 48 pruned. Trial was pruned at iteration 3.\u001b[0m\n",
      "\u001b[32m[I 2021-09-04 22:12:19,153]\u001b[0m Trial 49 pruned. Trial was pruned at iteration 81.\u001b[0m\n",
      "\u001b[32m[I 2021-09-04 22:12:27,476]\u001b[0m Trial 50 pruned. Trial was pruned at iteration 81.\u001b[0m\n",
      "\u001b[32m[I 2021-09-04 22:12:28,852]\u001b[0m Trial 51 pruned. Trial was pruned at iteration 1.\u001b[0m\n",
      "\u001b[32m[I 2021-09-04 22:12:30,351]\u001b[0m Trial 52 pruned. Trial was pruned at iteration 3.\u001b[0m\n",
      "\u001b[32m[I 2021-09-04 22:12:31,451]\u001b[0m Trial 53 pruned. Trial was pruned at iteration 1.\u001b[0m\n",
      "\u001b[32m[I 2021-09-04 22:12:32,844]\u001b[0m Trial 54 pruned. Trial was pruned at iteration 3.\u001b[0m\n",
      "\u001b[32m[I 2021-09-04 22:12:34,443]\u001b[0m Trial 55 pruned. Trial was pruned at iteration 3.\u001b[0m\n",
      "\u001b[32m[I 2021-09-04 22:12:36,015]\u001b[0m Trial 56 pruned. Trial was pruned at iteration 3.\u001b[0m\n",
      "\u001b[32m[I 2021-09-04 22:12:37,590]\u001b[0m Trial 57 pruned. Trial was pruned at iteration 3.\u001b[0m\n",
      "\u001b[32m[I 2021-09-04 22:12:39,100]\u001b[0m Trial 58 pruned. Trial was pruned at iteration 3.\u001b[0m\n",
      "\u001b[32m[I 2021-09-04 22:12:40,706]\u001b[0m Trial 59 pruned. Trial was pruned at iteration 1.\u001b[0m\n",
      "\u001b[32m[I 2021-09-04 22:12:42,121]\u001b[0m Trial 60 pruned. Trial was pruned at iteration 1.\u001b[0m\n",
      "\u001b[32m[I 2021-09-04 22:12:43,533]\u001b[0m Trial 61 pruned. Trial was pruned at iteration 3.\u001b[0m\n",
      "\u001b[32m[I 2021-09-04 22:12:45,488]\u001b[0m Trial 62 pruned. Trial was pruned at iteration 9.\u001b[0m\n",
      "\u001b[32m[I 2021-09-04 22:12:49,964]\u001b[0m Trial 63 finished with value: 8.473490029220278e+17 and parameters: {'num_leaves': 11365, 'learning_rate': 0.01699054161830421, 'subsample': 0.6906179922979598, 'max_bin': 6, 'colsample_bytree': 0.66425111323201, 'reg_alpha': 0.01869149362763444, 'reg_lambda': 0.6554821660734406, 'max_depth': 4}. Best is trial 4 with value: 5.717488499254613e+16.\u001b[0m\n",
      "\u001b[32m[I 2021-09-04 22:12:52,029]\u001b[0m Trial 64 pruned. Trial was pruned at iteration 9.\u001b[0m\n",
      "\u001b[32m[I 2021-09-04 22:12:53,503]\u001b[0m Trial 65 pruned. Trial was pruned at iteration 1.\u001b[0m\n",
      "\u001b[32m[I 2021-09-04 22:12:55,544]\u001b[0m Trial 66 pruned. Trial was pruned at iteration 9.\u001b[0m\n",
      "\u001b[32m[I 2021-09-04 22:12:57,560]\u001b[0m Trial 67 pruned. Trial was pruned at iteration 9.\u001b[0m\n",
      "\u001b[32m[I 2021-09-04 22:12:59,197]\u001b[0m Trial 68 pruned. Trial was pruned at iteration 3.\u001b[0m\n",
      "\u001b[32m[I 2021-09-04 22:13:02,313]\u001b[0m Trial 69 pruned. Trial was pruned at iteration 27.\u001b[0m\n",
      "\u001b[32m[I 2021-09-04 22:13:05,376]\u001b[0m Trial 70 pruned. Trial was pruned at iteration 27.\u001b[0m\n",
      "\u001b[32m[I 2021-09-04 22:13:06,929]\u001b[0m Trial 71 pruned. Trial was pruned at iteration 3.\u001b[0m\n",
      "\u001b[32m[I 2021-09-04 22:13:10,246]\u001b[0m Trial 72 pruned. Trial was pruned at iteration 27.\u001b[0m\n",
      "\u001b[32m[I 2021-09-04 22:13:11,778]\u001b[0m Trial 73 pruned. Trial was pruned at iteration 9.\u001b[0m\n",
      "\u001b[32m[I 2021-09-04 22:13:13,392]\u001b[0m Trial 74 pruned. Trial was pruned at iteration 3.\u001b[0m\n",
      "\u001b[32m[I 2021-09-04 22:13:14,903]\u001b[0m Trial 75 pruned. Trial was pruned at iteration 3.\u001b[0m\n",
      "\u001b[32m[I 2021-09-04 22:13:16,765]\u001b[0m Trial 76 pruned. Trial was pruned at iteration 9.\u001b[0m\n",
      "\u001b[32m[I 2021-09-04 22:13:18,172]\u001b[0m Trial 77 pruned. Trial was pruned at iteration 3.\u001b[0m\n",
      "\u001b[32m[I 2021-09-04 22:13:19,657]\u001b[0m Trial 78 pruned. Trial was pruned at iteration 1.\u001b[0m\n",
      "\u001b[32m[I 2021-09-04 22:13:21,228]\u001b[0m Trial 79 pruned. Trial was pruned at iteration 3.\u001b[0m\n",
      "\u001b[32m[I 2021-09-04 22:13:22,763]\u001b[0m Trial 80 pruned. Trial was pruned at iteration 3.\u001b[0m\n",
      "\u001b[32m[I 2021-09-04 22:13:31,594]\u001b[0m Trial 81 pruned. Trial was pruned at iteration 81.\u001b[0m\n",
      "\u001b[32m[I 2021-09-04 22:13:33,413]\u001b[0m Trial 82 pruned. Trial was pruned at iteration 3.\u001b[0m\n",
      "\u001b[32m[I 2021-09-04 22:13:34,906]\u001b[0m Trial 83 pruned. Trial was pruned at iteration 1.\u001b[0m\n",
      "\u001b[32m[I 2021-09-04 22:13:36,415]\u001b[0m Trial 84 pruned. Trial was pruned at iteration 1.\u001b[0m\n",
      "\u001b[32m[I 2021-09-04 22:13:38,109]\u001b[0m Trial 85 pruned. Trial was pruned at iteration 3.\u001b[0m\n",
      "\u001b[32m[I 2021-09-04 22:13:41,226]\u001b[0m Trial 86 pruned. Trial was pruned at iteration 27.\u001b[0m\n",
      "\u001b[32m[I 2021-09-04 22:13:44,946]\u001b[0m Trial 87 pruned. Trial was pruned at iteration 27.\u001b[0m\n",
      "\u001b[32m[I 2021-09-04 22:13:46,515]\u001b[0m Trial 88 pruned. Trial was pruned at iteration 3.\u001b[0m\n",
      "\u001b[32m[I 2021-09-04 22:13:48,436]\u001b[0m Trial 89 pruned. Trial was pruned at iteration 9.\u001b[0m\n",
      "\u001b[32m[I 2021-09-04 22:13:50,522]\u001b[0m Trial 90 pruned. Trial was pruned at iteration 9.\u001b[0m\n",
      "\u001b[32m[I 2021-09-04 22:13:52,034]\u001b[0m Trial 91 pruned. Trial was pruned at iteration 1.\u001b[0m\n",
      "\u001b[32m[I 2021-09-04 22:13:53,366]\u001b[0m Trial 92 pruned. Trial was pruned at iteration 1.\u001b[0m\n",
      "\u001b[32m[I 2021-09-04 22:13:55,047]\u001b[0m Trial 93 pruned. Trial was pruned at iteration 3.\u001b[0m\n",
      "\u001b[32m[I 2021-09-04 22:13:56,495]\u001b[0m Trial 94 pruned. Trial was pruned at iteration 9.\u001b[0m\n",
      "\u001b[32m[I 2021-09-04 22:13:58,030]\u001b[0m Trial 95 pruned. Trial was pruned at iteration 1.\u001b[0m\n",
      "\u001b[32m[I 2021-09-04 22:13:59,518]\u001b[0m Trial 96 pruned. Trial was pruned at iteration 1.\u001b[0m\n",
      "\u001b[32m[I 2021-09-04 22:14:01,321]\u001b[0m Trial 97 pruned. Trial was pruned at iteration 9.\u001b[0m\n",
      "\u001b[32m[I 2021-09-04 22:14:02,635]\u001b[0m Trial 98 pruned. Trial was pruned at iteration 1.\u001b[0m\n",
      "\u001b[32m[I 2021-09-04 22:14:04,131]\u001b[0m Trial 99 pruned. Trial was pruned at iteration 1.\u001b[0m\n",
      "\u001b[32m[I 2021-09-04 22:14:05,975]\u001b[0m Trial 100 pruned. Trial was pruned at iteration 9.\u001b[0m\n",
      "\u001b[32m[I 2021-09-04 22:14:07,966]\u001b[0m Trial 101 pruned. Trial was pruned at iteration 27.\u001b[0m\n",
      "\u001b[32m[I 2021-09-04 22:14:09,801]\u001b[0m Trial 102 pruned. Trial was pruned at iteration 9.\u001b[0m\n",
      "\u001b[32m[I 2021-09-04 22:14:11,291]\u001b[0m Trial 103 pruned. Trial was pruned at iteration 3.\u001b[0m\n",
      "\u001b[32m[I 2021-09-04 22:14:12,697]\u001b[0m Trial 104 pruned. Trial was pruned at iteration 1.\u001b[0m\n",
      "\u001b[32m[I 2021-09-04 22:14:16,799]\u001b[0m Trial 105 pruned. Trial was pruned at iteration 27.\u001b[0m\n",
      "\u001b[32m[I 2021-09-04 22:14:22,683]\u001b[0m Trial 106 finished with value: 1.7245342432297952e+17 and parameters: {'num_leaves': 8731, 'learning_rate': 0.9231541256933699, 'subsample': 0.5656624666334773, 'max_bin': 6, 'colsample_bytree': 0.6432990691266612, 'reg_alpha': 0.0029499061592380867, 'reg_lambda': 45.933110932794655, 'max_depth': 6}. Best is trial 4 with value: 5.717488499254613e+16.\u001b[0m\n",
      "\u001b[32m[I 2021-09-04 22:14:24,215]\u001b[0m Trial 107 pruned. Trial was pruned at iteration 1.\u001b[0m\n",
      "\u001b[32m[I 2021-09-04 22:14:26,147]\u001b[0m Trial 108 pruned. Trial was pruned at iteration 9.\u001b[0m\n",
      "\u001b[32m[I 2021-09-04 22:14:27,686]\u001b[0m Trial 109 pruned. Trial was pruned at iteration 1.\u001b[0m\n",
      "\u001b[32m[I 2021-09-04 22:14:28,869]\u001b[0m Trial 110 pruned. Trial was pruned at iteration 1.\u001b[0m\n",
      "\u001b[32m[I 2021-09-04 22:14:35,661]\u001b[0m Trial 111 finished with value: 7.149547873325164e+16 and parameters: {'num_leaves': 23722, 'learning_rate': 0.7473493355767319, 'subsample': 0.14001188123331637, 'max_bin': 8, 'colsample_bytree': 0.9935158661229043, 'reg_alpha': 167.0718664671219, 'reg_lambda': 0.09063477327097766, 'max_depth': 7}. Best is trial 4 with value: 5.717488499254613e+16.\u001b[0m\n",
      "\u001b[32m[I 2021-09-04 22:14:42,637]\u001b[0m Trial 112 pruned. Trial was pruned at iteration 81.\u001b[0m\n",
      "\u001b[32m[I 2021-09-04 22:14:44,531]\u001b[0m Trial 113 pruned. Trial was pruned at iteration 27.\u001b[0m\n",
      "\u001b[32m[I 2021-09-04 22:14:53,633]\u001b[0m Trial 114 finished with value: 4.968402520879543e+16 and parameters: {'num_leaves': 12240, 'learning_rate': 0.7063153974116304, 'subsample': 0.6108658344238802, 'max_bin': 6, 'colsample_bytree': 0.974954776800856, 'reg_alpha': 0.002350730734879383, 'reg_lambda': 117.47497239088976, 'max_depth': 10}. Best is trial 114 with value: 4.968402520879543e+16.\u001b[0m\n",
      "\u001b[32m[I 2021-09-04 22:14:55,992]\u001b[0m Trial 115 pruned. Trial was pruned at iteration 9.\u001b[0m\n",
      "\u001b[32m[I 2021-09-04 22:14:57,629]\u001b[0m Trial 116 pruned. Trial was pruned at iteration 3.\u001b[0m\n",
      "\u001b[32m[I 2021-09-04 22:14:59,162]\u001b[0m Trial 117 pruned. Trial was pruned at iteration 3.\u001b[0m\n",
      "\u001b[32m[I 2021-09-04 22:15:01,170]\u001b[0m Trial 118 pruned. Trial was pruned at iteration 9.\u001b[0m\n",
      "\u001b[32m[I 2021-09-04 22:15:03,345]\u001b[0m Trial 119 pruned. Trial was pruned at iteration 27.\u001b[0m\n",
      "\u001b[32m[I 2021-09-04 22:15:04,966]\u001b[0m Trial 120 pruned. Trial was pruned at iteration 1.\u001b[0m\n",
      "\u001b[32m[I 2021-09-04 22:15:06,714]\u001b[0m Trial 121 pruned. Trial was pruned at iteration 1.\u001b[0m\n",
      "\u001b[32m[I 2021-09-04 22:15:08,626]\u001b[0m Trial 122 pruned. Trial was pruned at iteration 3.\u001b[0m\n",
      "\u001b[32m[I 2021-09-04 22:15:10,320]\u001b[0m Trial 123 pruned. Trial was pruned at iteration 1.\u001b[0m\n",
      "\u001b[32m[I 2021-09-04 22:15:12,125]\u001b[0m Trial 124 pruned. Trial was pruned at iteration 3.\u001b[0m\n",
      "\u001b[32m[I 2021-09-04 22:15:19,533]\u001b[0m Trial 125 pruned. Trial was pruned at iteration 81.\u001b[0m\n",
      "\u001b[32m[I 2021-09-04 22:15:21,350]\u001b[0m Trial 126 pruned. Trial was pruned at iteration 1.\u001b[0m\n",
      "\u001b[32m[I 2021-09-04 22:15:23,198]\u001b[0m Trial 127 pruned. Trial was pruned at iteration 3.\u001b[0m\n",
      "\u001b[32m[I 2021-09-04 22:15:24,902]\u001b[0m Trial 128 pruned. Trial was pruned at iteration 1.\u001b[0m\n",
      "\u001b[32m[I 2021-09-04 22:15:27,471]\u001b[0m Trial 129 pruned. Trial was pruned at iteration 27.\u001b[0m\n",
      "\u001b[32m[I 2021-09-04 22:15:29,496]\u001b[0m Trial 130 pruned. Trial was pruned at iteration 9.\u001b[0m\n",
      "\u001b[32m[I 2021-09-04 22:15:31,479]\u001b[0m Trial 131 pruned. Trial was pruned at iteration 9.\u001b[0m\n",
      "\u001b[32m[I 2021-09-04 22:15:32,985]\u001b[0m Trial 132 pruned. Trial was pruned at iteration 1.\u001b[0m\n",
      "\u001b[32m[I 2021-09-04 22:15:34,730]\u001b[0m Trial 133 pruned. Trial was pruned at iteration 3.\u001b[0m\n",
      "\u001b[32m[I 2021-09-04 22:15:37,047]\u001b[0m Trial 134 pruned. Trial was pruned at iteration 9.\u001b[0m\n",
      "\u001b[32m[I 2021-09-04 22:15:39,338]\u001b[0m Trial 135 pruned. Trial was pruned at iteration 27.\u001b[0m\n",
      "\u001b[32m[I 2021-09-04 22:15:42,534]\u001b[0m Trial 136 pruned. Trial was pruned at iteration 27.\u001b[0m\n",
      "\u001b[32m[I 2021-09-04 22:15:44,392]\u001b[0m Trial 137 pruned. Trial was pruned at iteration 3.\u001b[0m\n",
      "\u001b[32m[I 2021-09-04 22:15:54,253]\u001b[0m Trial 138 finished with value: 5.917439666231329e+16 and parameters: {'num_leaves': 9488, 'learning_rate': 0.7750732662932516, 'subsample': 0.6850581769758576, 'max_bin': 5, 'colsample_bytree': 0.8608538040501976, 'reg_alpha': 98.53515615135413, 'reg_lambda': 48.134693242269414, 'max_depth': 10}. Best is trial 114 with value: 4.968402520879543e+16.\u001b[0m\n",
      "\u001b[32m[I 2021-09-04 22:15:55,853]\u001b[0m Trial 139 pruned. Trial was pruned at iteration 1.\u001b[0m\n",
      "\u001b[32m[I 2021-09-04 22:15:57,441]\u001b[0m Trial 140 pruned. Trial was pruned at iteration 1.\u001b[0m\n",
      "\u001b[32m[I 2021-09-04 22:15:59,151]\u001b[0m Trial 141 pruned. Trial was pruned at iteration 3.\u001b[0m\n",
      "\u001b[32m[I 2021-09-04 22:16:00,764]\u001b[0m Trial 142 pruned. Trial was pruned at iteration 3.\u001b[0m\n",
      "\u001b[32m[I 2021-09-04 22:16:02,464]\u001b[0m Trial 143 pruned. Trial was pruned at iteration 1.\u001b[0m\n",
      "\u001b[32m[I 2021-09-04 22:16:13,686]\u001b[0m Trial 144 finished with value: 5.467572966287319e+16 and parameters: {'num_leaves': 21604, 'learning_rate': 0.6278801201049786, 'subsample': 0.6750487793586352, 'max_bin': 5, 'colsample_bytree': 0.7815329664206725, 'reg_alpha': 0.008721067364914929, 'reg_lambda': 19.883150451049687, 'max_depth': 10}. Best is trial 114 with value: 4.968402520879543e+16.\u001b[0m\n",
      "\u001b[32m[I 2021-09-04 22:16:15,434]\u001b[0m Trial 145 pruned. Trial was pruned at iteration 3.\u001b[0m\n",
      "\u001b[32m[I 2021-09-04 22:16:18,411]\u001b[0m Trial 146 pruned. Trial was pruned at iteration 27.\u001b[0m\n",
      "\u001b[32m[I 2021-09-04 22:16:19,975]\u001b[0m Trial 147 pruned. Trial was pruned at iteration 1.\u001b[0m\n",
      "\u001b[32m[I 2021-09-04 22:16:26,608]\u001b[0m Trial 148 finished with value: 3.0080394683864452e+16 and parameters: {'num_leaves': 24536, 'learning_rate': 0.26395666956334923, 'subsample': 0.15992329108513492, 'max_bin': 8, 'colsample_bytree': 0.9922451397332521, 'reg_alpha': 22.905971159598263, 'reg_lambda': 0.09975918661295301, 'max_depth': 7}. Best is trial 148 with value: 3.0080394683864452e+16.\u001b[0m\n",
      "\u001b[32m[I 2021-09-04 22:16:29,578]\u001b[0m Trial 149 pruned. Trial was pruned at iteration 27.\u001b[0m\n",
      "\u001b[32m[I 2021-09-04 22:16:31,240]\u001b[0m Trial 150 pruned. Trial was pruned at iteration 3.\u001b[0m\n",
      "\u001b[32m[I 2021-09-04 22:16:33,040]\u001b[0m Trial 151 pruned. Trial was pruned at iteration 3.\u001b[0m\n",
      "\u001b[32m[I 2021-09-04 22:16:34,473]\u001b[0m Trial 152 pruned. Trial was pruned at iteration 1.\u001b[0m\n",
      "\u001b[32m[I 2021-09-04 22:16:36,799]\u001b[0m Trial 153 pruned. Trial was pruned at iteration 27.\u001b[0m\n",
      "\u001b[32m[I 2021-09-04 22:16:38,689]\u001b[0m Trial 154 pruned. Trial was pruned at iteration 9.\u001b[0m\n",
      "\u001b[32m[I 2021-09-04 22:16:40,599]\u001b[0m Trial 155 pruned. Trial was pruned at iteration 9.\u001b[0m\n",
      "\u001b[32m[I 2021-09-04 22:16:43,570]\u001b[0m Trial 156 pruned. Trial was pruned at iteration 27.\u001b[0m\n",
      "\u001b[32m[I 2021-09-04 22:16:45,444]\u001b[0m Trial 157 pruned. Trial was pruned at iteration 1.\u001b[0m\n",
      "\u001b[32m[I 2021-09-04 22:16:47,103]\u001b[0m Trial 158 pruned. Trial was pruned at iteration 3.\u001b[0m\n",
      "\u001b[32m[I 2021-09-04 22:16:48,490]\u001b[0m Trial 159 pruned. Trial was pruned at iteration 1.\u001b[0m\n",
      "\u001b[32m[I 2021-09-04 22:16:49,970]\u001b[0m Trial 160 pruned. Trial was pruned at iteration 1.\u001b[0m\n",
      "\u001b[32m[I 2021-09-04 22:16:59,062]\u001b[0m Trial 161 finished with value: 5.161013803946613e+16 and parameters: {'num_leaves': 13048, 'learning_rate': 0.674897719479879, 'subsample': 0.5061088609943488, 'max_bin': 6, 'colsample_bytree': 0.9756526552052975, 'reg_alpha': 35.24894448368561, 'reg_lambda': 182.91824023737803, 'max_depth': 10}. Best is trial 148 with value: 3.0080394683864452e+16.\u001b[0m\n",
      "\u001b[32m[I 2021-09-04 22:17:03,086]\u001b[0m Trial 162 pruned. Trial was pruned at iteration 81.\u001b[0m\n",
      "\u001b[32m[I 2021-09-04 22:17:11,750]\u001b[0m Trial 163 finished with value: 5.006424375458444e+16 and parameters: {'num_leaves': 12788, 'learning_rate': 0.6709617042970386, 'subsample': 0.6820112547979108, 'max_bin': 6, 'colsample_bytree': 0.9798762974399796, 'reg_alpha': 30.35430829446074, 'reg_lambda': 229.9769058895081, 'max_depth': 10}. Best is trial 148 with value: 3.0080394683864452e+16.\u001b[0m\n",
      "\u001b[32m[I 2021-09-04 22:17:20,541]\u001b[0m Trial 164 finished with value: 5.3895787371721896e+16 and parameters: {'num_leaves': 12978, 'learning_rate': 0.8207145741933711, 'subsample': 0.685030016164091, 'max_bin': 6, 'colsample_bytree': 0.9766666874831331, 'reg_alpha': 33.54109566550085, 'reg_lambda': 158.81903563590473, 'max_depth': 10}. Best is trial 148 with value: 3.0080394683864452e+16.\u001b[0m\n",
      "\u001b[32m[I 2021-09-04 22:17:22,073]\u001b[0m Trial 165 pruned. Trial was pruned at iteration 1.\u001b[0m\n",
      "\u001b[32m[I 2021-09-04 22:17:23,809]\u001b[0m Trial 166 pruned. Trial was pruned at iteration 3.\u001b[0m\n",
      "\u001b[32m[I 2021-09-04 22:17:25,780]\u001b[0m Trial 167 pruned. Trial was pruned at iteration 3.\u001b[0m\n",
      "\u001b[32m[I 2021-09-04 22:17:27,161]\u001b[0m Trial 168 pruned. Trial was pruned at iteration 1.\u001b[0m\n",
      "\u001b[32m[I 2021-09-04 22:17:28,671]\u001b[0m Trial 169 pruned. Trial was pruned at iteration 1.\u001b[0m\n",
      "\u001b[32m[I 2021-09-04 22:17:34,101]\u001b[0m Trial 170 pruned. Trial was pruned at iteration 81.\u001b[0m\n",
      "\u001b[32m[I 2021-09-04 22:17:37,484]\u001b[0m Trial 171 pruned. Trial was pruned at iteration 27.\u001b[0m\n",
      "\u001b[32m[I 2021-09-04 22:17:38,907]\u001b[0m Trial 172 pruned. Trial was pruned at iteration 3.\u001b[0m\n",
      "\u001b[32m[I 2021-09-04 22:17:40,401]\u001b[0m Trial 173 pruned. Trial was pruned at iteration 3.\u001b[0m\n",
      "\u001b[32m[I 2021-09-04 22:17:42,105]\u001b[0m Trial 174 pruned. Trial was pruned at iteration 9.\u001b[0m\n",
      "\u001b[32m[I 2021-09-04 22:17:50,007]\u001b[0m Trial 175 finished with value: 3.626151347598645e+16 and parameters: {'num_leaves': 28034, 'learning_rate': 0.41248814134622924, 'subsample': 0.34010035316443965, 'max_bin': 9, 'colsample_bytree': 0.8720459128910483, 'reg_alpha': 7.066495116232926, 'reg_lambda': 0.019824949379741857, 'max_depth': 8}. Best is trial 148 with value: 3.0080394683864452e+16.\u001b[0m\n",
      "\u001b[32m[I 2021-09-04 22:17:51,880]\u001b[0m Trial 176 pruned. Trial was pruned at iteration 9.\u001b[0m\n",
      "\u001b[32m[I 2021-09-04 22:17:53,650]\u001b[0m Trial 177 pruned. Trial was pruned at iteration 3.\u001b[0m\n",
      "\u001b[32m[I 2021-09-04 22:17:55,266]\u001b[0m Trial 178 pruned. Trial was pruned at iteration 3.\u001b[0m\n",
      "\u001b[32m[I 2021-09-04 22:17:57,364]\u001b[0m Trial 179 pruned. Trial was pruned at iteration 9.\u001b[0m\n"
     ]
    },
    {
     "name": "stdout",
     "output_type": "stream",
     "text": [
      "Number of finished trials: 180\n",
      "Best trial:\n",
      "  Value: 3.0080394683864452e+16\n",
      "  Params: \n",
      "    num_leaves: 24536\n",
      "    learning_rate: 0.26395666956334923\n",
      "    subsample: 0.15992329108513492\n",
      "    max_bin: 8\n",
      "    colsample_bytree: 0.9922451397332521\n",
      "    reg_alpha: 22.905971159598263\n",
      "    reg_lambda: 0.09975918661295301\n",
      "    max_depth: 7\n",
      "Time:  461.2881876\n"
     ]
    }
   ],
   "source": [
    "start = timeit.default_timer()\n",
    "\n",
    "study = optuna.create_study(direction=\"minimize\", pruner=optuna.pruners.HyperbandPruner())\n",
    "study.optimize(objective, n_trials=180)\n",
    "\n",
    "print(\"Number of finished trials: {}\".format(len(study.trials)))\n",
    "print(\"Best trial:\")\n",
    "trial = study.best_trial\n",
    "\n",
    "print(\"  Value: {}\".format(trial.value))\n",
    "\n",
    "print(\"  Params: \")\n",
    "for key, value in trial.params.items():\n",
    "    print(\"    {}: {}\".format(key, value))\n",
    "    \n",
    "stop = timeit.default_timer()\n",
    "print('Time: ', stop - start)"
   ]
  },
  {
   "cell_type": "code",
   "execution_count": 18,
   "metadata": {},
   "outputs": [
    {
     "name": "stdout",
     "output_type": "stream",
     "text": [
      "Testing R2 is 0.9636877688547115\n"
     ]
    }
   ],
   "source": [
    "turned_params= {\n",
    "    'num_leaves': trial.params['num_leaves'],\n",
    "    'learning_rate': trial.params['learning_rate'],\n",
    "    'subsample': trial.params['subsample'],\n",
    "    'max_bin': trial.params['max_bin'],\n",
    "    'colsample_bytree': trial.params['colsample_bytree'],\n",
    "    'reg_alpha': trial.params['reg_alpha'],\n",
    "    'reg_lambda': trial.params['reg_lambda'],\n",
    "    'max_depth': trial.params['max_depth']\n",
    "}\n",
    "\n",
    "model = LGBMRegressor(objective='regression', metric='mape',\n",
    "                       random_state=10, **turned_params)\n",
    "model.fit(X_train, y_train)\n",
    "y_pred = model.predict(X_test)\n",
    "\n",
    "r2 = r2_score(y_test, y_pred)\n",
    "print(f'Testing R2 is {r2}')"
   ]
  },
  {
   "cell_type": "markdown",
   "metadata": {},
   "source": [
    "### Optuna Visualization\n",
    "\n",
    "* Optuna supported visualization list: https://optuna.readthedocs.io/en/stable/reference/visualization/index.html\n",
    "* Installation list needed if you're using jupyter: https://github.com/plotly/plotly.py#installation"
   ]
  },
  {
   "cell_type": "code",
   "execution_count": 14,
   "metadata": {},
   "outputs": [
    {
     "data": {
      "application/vnd.plotly.v1+json": {
       "config": {
        "plotlyServerURL": "https://plot.ly"
       },
       "data": [
        {
         "cliponaxis": false,
         "hovertemplate": [
          "reg_lambda (LogUniformDistribution): 4.201604313011952e-05<extra></extra>",
          "max_bin (IntUniformDistribution): 0.0008959469629660627<extra></extra>",
          "num_leaves (IntUniformDistribution): 0.02484250811866631<extra></extra>",
          "reg_alpha (LogUniformDistribution): 0.0255392280832513<extra></extra>",
          "subsample (UniformDistribution): 0.11486920215903064<extra></extra>",
          "learning_rate (LogUniformDistribution): 0.22183410203671422<extra></extra>",
          "max_depth (IntUniformDistribution): 0.24560559795398787<extra></extra>",
          "colsample_bytree (UniformDistribution): 0.3663713986422534<extra></extra>"
         ],
         "marker": {
          "color": "rgb(66,146,198)"
         },
         "orientation": "h",
         "text": [
          "4.201604313011952e-05",
          "0.0008959469629660627",
          "0.02484250811866631",
          "0.0255392280832513",
          "0.11486920215903064",
          "0.22183410203671422",
          "0.24560559795398787",
          "0.3663713986422534"
         ],
         "textposition": "outside",
         "texttemplate": "%{text:.2f}",
         "type": "bar",
         "x": [
          4.201604313011952e-05,
          0.0008959469629660627,
          0.02484250811866631,
          0.0255392280832513,
          0.11486920215903064,
          0.22183410203671422,
          0.24560559795398787,
          0.3663713986422534
         ],
         "y": [
          "reg_lambda",
          "max_bin",
          "num_leaves",
          "reg_alpha",
          "subsample",
          "learning_rate",
          "max_depth",
          "colsample_bytree"
         ]
        }
       ],
       "layout": {
        "autosize": true,
        "showlegend": false,
        "template": {
         "data": {
          "bar": [
           {
            "error_x": {
             "color": "#2a3f5f"
            },
            "error_y": {
             "color": "#2a3f5f"
            },
            "marker": {
             "line": {
              "color": "#E5ECF6",
              "width": 0.5
             },
             "pattern": {
              "fillmode": "overlay",
              "size": 10,
              "solidity": 0.2
             }
            },
            "type": "bar"
           }
          ],
          "barpolar": [
           {
            "marker": {
             "line": {
              "color": "#E5ECF6",
              "width": 0.5
             },
             "pattern": {
              "fillmode": "overlay",
              "size": 10,
              "solidity": 0.2
             }
            },
            "type": "barpolar"
           }
          ],
          "carpet": [
           {
            "aaxis": {
             "endlinecolor": "#2a3f5f",
             "gridcolor": "white",
             "linecolor": "white",
             "minorgridcolor": "white",
             "startlinecolor": "#2a3f5f"
            },
            "baxis": {
             "endlinecolor": "#2a3f5f",
             "gridcolor": "white",
             "linecolor": "white",
             "minorgridcolor": "white",
             "startlinecolor": "#2a3f5f"
            },
            "type": "carpet"
           }
          ],
          "choropleth": [
           {
            "colorbar": {
             "outlinewidth": 0,
             "ticks": ""
            },
            "type": "choropleth"
           }
          ],
          "contour": [
           {
            "colorbar": {
             "outlinewidth": 0,
             "ticks": ""
            },
            "colorscale": [
             [
              0,
              "#0d0887"
             ],
             [
              0.1111111111111111,
              "#46039f"
             ],
             [
              0.2222222222222222,
              "#7201a8"
             ],
             [
              0.3333333333333333,
              "#9c179e"
             ],
             [
              0.4444444444444444,
              "#bd3786"
             ],
             [
              0.5555555555555556,
              "#d8576b"
             ],
             [
              0.6666666666666666,
              "#ed7953"
             ],
             [
              0.7777777777777778,
              "#fb9f3a"
             ],
             [
              0.8888888888888888,
              "#fdca26"
             ],
             [
              1,
              "#f0f921"
             ]
            ],
            "type": "contour"
           }
          ],
          "contourcarpet": [
           {
            "colorbar": {
             "outlinewidth": 0,
             "ticks": ""
            },
            "type": "contourcarpet"
           }
          ],
          "heatmap": [
           {
            "colorbar": {
             "outlinewidth": 0,
             "ticks": ""
            },
            "colorscale": [
             [
              0,
              "#0d0887"
             ],
             [
              0.1111111111111111,
              "#46039f"
             ],
             [
              0.2222222222222222,
              "#7201a8"
             ],
             [
              0.3333333333333333,
              "#9c179e"
             ],
             [
              0.4444444444444444,
              "#bd3786"
             ],
             [
              0.5555555555555556,
              "#d8576b"
             ],
             [
              0.6666666666666666,
              "#ed7953"
             ],
             [
              0.7777777777777778,
              "#fb9f3a"
             ],
             [
              0.8888888888888888,
              "#fdca26"
             ],
             [
              1,
              "#f0f921"
             ]
            ],
            "type": "heatmap"
           }
          ],
          "heatmapgl": [
           {
            "colorbar": {
             "outlinewidth": 0,
             "ticks": ""
            },
            "colorscale": [
             [
              0,
              "#0d0887"
             ],
             [
              0.1111111111111111,
              "#46039f"
             ],
             [
              0.2222222222222222,
              "#7201a8"
             ],
             [
              0.3333333333333333,
              "#9c179e"
             ],
             [
              0.4444444444444444,
              "#bd3786"
             ],
             [
              0.5555555555555556,
              "#d8576b"
             ],
             [
              0.6666666666666666,
              "#ed7953"
             ],
             [
              0.7777777777777778,
              "#fb9f3a"
             ],
             [
              0.8888888888888888,
              "#fdca26"
             ],
             [
              1,
              "#f0f921"
             ]
            ],
            "type": "heatmapgl"
           }
          ],
          "histogram": [
           {
            "marker": {
             "pattern": {
              "fillmode": "overlay",
              "size": 10,
              "solidity": 0.2
             }
            },
            "type": "histogram"
           }
          ],
          "histogram2d": [
           {
            "colorbar": {
             "outlinewidth": 0,
             "ticks": ""
            },
            "colorscale": [
             [
              0,
              "#0d0887"
             ],
             [
              0.1111111111111111,
              "#46039f"
             ],
             [
              0.2222222222222222,
              "#7201a8"
             ],
             [
              0.3333333333333333,
              "#9c179e"
             ],
             [
              0.4444444444444444,
              "#bd3786"
             ],
             [
              0.5555555555555556,
              "#d8576b"
             ],
             [
              0.6666666666666666,
              "#ed7953"
             ],
             [
              0.7777777777777778,
              "#fb9f3a"
             ],
             [
              0.8888888888888888,
              "#fdca26"
             ],
             [
              1,
              "#f0f921"
             ]
            ],
            "type": "histogram2d"
           }
          ],
          "histogram2dcontour": [
           {
            "colorbar": {
             "outlinewidth": 0,
             "ticks": ""
            },
            "colorscale": [
             [
              0,
              "#0d0887"
             ],
             [
              0.1111111111111111,
              "#46039f"
             ],
             [
              0.2222222222222222,
              "#7201a8"
             ],
             [
              0.3333333333333333,
              "#9c179e"
             ],
             [
              0.4444444444444444,
              "#bd3786"
             ],
             [
              0.5555555555555556,
              "#d8576b"
             ],
             [
              0.6666666666666666,
              "#ed7953"
             ],
             [
              0.7777777777777778,
              "#fb9f3a"
             ],
             [
              0.8888888888888888,
              "#fdca26"
             ],
             [
              1,
              "#f0f921"
             ]
            ],
            "type": "histogram2dcontour"
           }
          ],
          "mesh3d": [
           {
            "colorbar": {
             "outlinewidth": 0,
             "ticks": ""
            },
            "type": "mesh3d"
           }
          ],
          "parcoords": [
           {
            "line": {
             "colorbar": {
              "outlinewidth": 0,
              "ticks": ""
             }
            },
            "type": "parcoords"
           }
          ],
          "pie": [
           {
            "automargin": true,
            "type": "pie"
           }
          ],
          "scatter": [
           {
            "marker": {
             "colorbar": {
              "outlinewidth": 0,
              "ticks": ""
             }
            },
            "type": "scatter"
           }
          ],
          "scatter3d": [
           {
            "line": {
             "colorbar": {
              "outlinewidth": 0,
              "ticks": ""
             }
            },
            "marker": {
             "colorbar": {
              "outlinewidth": 0,
              "ticks": ""
             }
            },
            "type": "scatter3d"
           }
          ],
          "scattercarpet": [
           {
            "marker": {
             "colorbar": {
              "outlinewidth": 0,
              "ticks": ""
             }
            },
            "type": "scattercarpet"
           }
          ],
          "scattergeo": [
           {
            "marker": {
             "colorbar": {
              "outlinewidth": 0,
              "ticks": ""
             }
            },
            "type": "scattergeo"
           }
          ],
          "scattergl": [
           {
            "marker": {
             "colorbar": {
              "outlinewidth": 0,
              "ticks": ""
             }
            },
            "type": "scattergl"
           }
          ],
          "scattermapbox": [
           {
            "marker": {
             "colorbar": {
              "outlinewidth": 0,
              "ticks": ""
             }
            },
            "type": "scattermapbox"
           }
          ],
          "scatterpolar": [
           {
            "marker": {
             "colorbar": {
              "outlinewidth": 0,
              "ticks": ""
             }
            },
            "type": "scatterpolar"
           }
          ],
          "scatterpolargl": [
           {
            "marker": {
             "colorbar": {
              "outlinewidth": 0,
              "ticks": ""
             }
            },
            "type": "scatterpolargl"
           }
          ],
          "scatterternary": [
           {
            "marker": {
             "colorbar": {
              "outlinewidth": 0,
              "ticks": ""
             }
            },
            "type": "scatterternary"
           }
          ],
          "surface": [
           {
            "colorbar": {
             "outlinewidth": 0,
             "ticks": ""
            },
            "colorscale": [
             [
              0,
              "#0d0887"
             ],
             [
              0.1111111111111111,
              "#46039f"
             ],
             [
              0.2222222222222222,
              "#7201a8"
             ],
             [
              0.3333333333333333,
              "#9c179e"
             ],
             [
              0.4444444444444444,
              "#bd3786"
             ],
             [
              0.5555555555555556,
              "#d8576b"
             ],
             [
              0.6666666666666666,
              "#ed7953"
             ],
             [
              0.7777777777777778,
              "#fb9f3a"
             ],
             [
              0.8888888888888888,
              "#fdca26"
             ],
             [
              1,
              "#f0f921"
             ]
            ],
            "type": "surface"
           }
          ],
          "table": [
           {
            "cells": {
             "fill": {
              "color": "#EBF0F8"
             },
             "line": {
              "color": "white"
             }
            },
            "header": {
             "fill": {
              "color": "#C8D4E3"
             },
             "line": {
              "color": "white"
             }
            },
            "type": "table"
           }
          ]
         },
         "layout": {
          "annotationdefaults": {
           "arrowcolor": "#2a3f5f",
           "arrowhead": 0,
           "arrowwidth": 1
          },
          "autotypenumbers": "strict",
          "coloraxis": {
           "colorbar": {
            "outlinewidth": 0,
            "ticks": ""
           }
          },
          "colorscale": {
           "diverging": [
            [
             0,
             "#8e0152"
            ],
            [
             0.1,
             "#c51b7d"
            ],
            [
             0.2,
             "#de77ae"
            ],
            [
             0.3,
             "#f1b6da"
            ],
            [
             0.4,
             "#fde0ef"
            ],
            [
             0.5,
             "#f7f7f7"
            ],
            [
             0.6,
             "#e6f5d0"
            ],
            [
             0.7,
             "#b8e186"
            ],
            [
             0.8,
             "#7fbc41"
            ],
            [
             0.9,
             "#4d9221"
            ],
            [
             1,
             "#276419"
            ]
           ],
           "sequential": [
            [
             0,
             "#0d0887"
            ],
            [
             0.1111111111111111,
             "#46039f"
            ],
            [
             0.2222222222222222,
             "#7201a8"
            ],
            [
             0.3333333333333333,
             "#9c179e"
            ],
            [
             0.4444444444444444,
             "#bd3786"
            ],
            [
             0.5555555555555556,
             "#d8576b"
            ],
            [
             0.6666666666666666,
             "#ed7953"
            ],
            [
             0.7777777777777778,
             "#fb9f3a"
            ],
            [
             0.8888888888888888,
             "#fdca26"
            ],
            [
             1,
             "#f0f921"
            ]
           ],
           "sequentialminus": [
            [
             0,
             "#0d0887"
            ],
            [
             0.1111111111111111,
             "#46039f"
            ],
            [
             0.2222222222222222,
             "#7201a8"
            ],
            [
             0.3333333333333333,
             "#9c179e"
            ],
            [
             0.4444444444444444,
             "#bd3786"
            ],
            [
             0.5555555555555556,
             "#d8576b"
            ],
            [
             0.6666666666666666,
             "#ed7953"
            ],
            [
             0.7777777777777778,
             "#fb9f3a"
            ],
            [
             0.8888888888888888,
             "#fdca26"
            ],
            [
             1,
             "#f0f921"
            ]
           ]
          },
          "colorway": [
           "#636efa",
           "#EF553B",
           "#00cc96",
           "#ab63fa",
           "#FFA15A",
           "#19d3f3",
           "#FF6692",
           "#B6E880",
           "#FF97FF",
           "#FECB52"
          ],
          "font": {
           "color": "#2a3f5f"
          },
          "geo": {
           "bgcolor": "white",
           "lakecolor": "white",
           "landcolor": "#E5ECF6",
           "showlakes": true,
           "showland": true,
           "subunitcolor": "white"
          },
          "hoverlabel": {
           "align": "left"
          },
          "hovermode": "closest",
          "mapbox": {
           "style": "light"
          },
          "paper_bgcolor": "white",
          "plot_bgcolor": "#E5ECF6",
          "polar": {
           "angularaxis": {
            "gridcolor": "white",
            "linecolor": "white",
            "ticks": ""
           },
           "bgcolor": "#E5ECF6",
           "radialaxis": {
            "gridcolor": "white",
            "linecolor": "white",
            "ticks": ""
           }
          },
          "scene": {
           "xaxis": {
            "backgroundcolor": "#E5ECF6",
            "gridcolor": "white",
            "gridwidth": 2,
            "linecolor": "white",
            "showbackground": true,
            "ticks": "",
            "zerolinecolor": "white"
           },
           "yaxis": {
            "backgroundcolor": "#E5ECF6",
            "gridcolor": "white",
            "gridwidth": 2,
            "linecolor": "white",
            "showbackground": true,
            "ticks": "",
            "zerolinecolor": "white"
           },
           "zaxis": {
            "backgroundcolor": "#E5ECF6",
            "gridcolor": "white",
            "gridwidth": 2,
            "linecolor": "white",
            "showbackground": true,
            "ticks": "",
            "zerolinecolor": "white"
           }
          },
          "shapedefaults": {
           "line": {
            "color": "#2a3f5f"
           }
          },
          "ternary": {
           "aaxis": {
            "gridcolor": "white",
            "linecolor": "white",
            "ticks": ""
           },
           "baxis": {
            "gridcolor": "white",
            "linecolor": "white",
            "ticks": ""
           },
           "bgcolor": "#E5ECF6",
           "caxis": {
            "gridcolor": "white",
            "linecolor": "white",
            "ticks": ""
           }
          },
          "title": {
           "x": 0.05
          },
          "xaxis": {
           "automargin": true,
           "gridcolor": "white",
           "linecolor": "white",
           "ticks": "",
           "title": {
            "standoff": 15
           },
           "zerolinecolor": "white",
           "zerolinewidth": 2
          },
          "yaxis": {
           "automargin": true,
           "gridcolor": "white",
           "linecolor": "white",
           "ticks": "",
           "title": {
            "standoff": 15
           },
           "zerolinecolor": "white",
           "zerolinewidth": 2
          }
         }
        },
        "title": {
         "text": "Hyperparameter Importances"
        },
        "xaxis": {
         "autorange": true,
         "range": [
          0,
          0.38565410383395093
         ],
         "title": {
          "text": "Importance for Objective Value"
         },
         "type": "linear"
        },
        "yaxis": {
         "autorange": false,
         "range": [
          -0.5,
          7.5
         ],
         "title": {
          "text": "Hyperparameter"
         },
         "type": "category"
        }
       }
      },
      "image/png": "[encoded data removed]",
      "text/html": [
       "<div>                            <div id=\"1961f113-1d88-447d-9ee8-989c7d215556\" class=\"plotly-graph-div\" style=\"height:525px; width:100%;\"></div>            <script type=\"text/javascript\">                require([\"plotly\"], function(Plotly) {                    window.PLOTLYENV=window.PLOTLYENV || {};                                    if (document.getElementById(\"1961f113-1d88-447d-9ee8-989c7d215556\")) {                    Plotly.newPlot(                        \"1961f113-1d88-447d-9ee8-989c7d215556\",                        [{\"cliponaxis\":false,\"hovertemplate\":[\"reg_lambda (LogUniformDistribution): 4.201604313011952e-05<extra></extra>\",\"max_bin (IntUniformDistribution): 0.0008959469629660627<extra></extra>\",\"num_leaves (IntUniformDistribution): 0.02484250811866631<extra></extra>\",\"reg_alpha (LogUniformDistribution): 0.0255392280832513<extra></extra>\",\"subsample (UniformDistribution): 0.11486920215903064<extra></extra>\",\"learning_rate (LogUniformDistribution): 0.22183410203671422<extra></extra>\",\"max_depth (IntUniformDistribution): 0.24560559795398787<extra></extra>\",\"colsample_bytree (UniformDistribution): 0.3663713986422534<extra></extra>\"],\"marker\":{\"color\":\"rgb(66,146,198)\"},\"orientation\":\"h\",\"text\":[\"4.201604313011952e-05\",\"0.0008959469629660627\",\"0.02484250811866631\",\"0.0255392280832513\",\"0.11486920215903064\",\"0.22183410203671422\",\"0.24560559795398787\",\"0.3663713986422534\"],\"textposition\":\"outside\",\"texttemplate\":\"%{text:.2f}\",\"type\":\"bar\",\"x\":[4.201604313011952e-05,0.0008959469629660627,0.02484250811866631,0.0255392280832513,0.11486920215903064,0.22183410203671422,0.24560559795398787,0.3663713986422534],\"y\":[\"reg_lambda\",\"max_bin\",\"num_leaves\",\"reg_alpha\",\"subsample\",\"learning_rate\",\"max_depth\",\"colsample_bytree\"]}],                        {\"showlegend\":false,\"template\":{\"data\":{\"bar\":[{\"error_x\":{\"color\":\"#2a3f5f\"},\"error_y\":{\"color\":\"#2a3f5f\"},\"marker\":{\"line\":{\"color\":\"#E5ECF6\",\"width\":0.5},\"pattern\":{\"fillmode\":\"overlay\",\"size\":10,\"solidity\":0.2}},\"type\":\"bar\"}],\"barpolar\":[{\"marker\":{\"line\":{\"color\":\"#E5ECF6\",\"width\":0.5},\"pattern\":{\"fillmode\":\"overlay\",\"size\":10,\"solidity\":0.2}},\"type\":\"barpolar\"}],\"carpet\":[{\"aaxis\":{\"endlinecolor\":\"#2a3f5f\",\"gridcolor\":\"white\",\"linecolor\":\"white\",\"minorgridcolor\":\"white\",\"startlinecolor\":\"#2a3f5f\"},\"baxis\":{\"endlinecolor\":\"#2a3f5f\",\"gridcolor\":\"white\",\"linecolor\":\"white\",\"minorgridcolor\":\"white\",\"startlinecolor\":\"#2a3f5f\"},\"type\":\"carpet\"}],\"choropleth\":[{\"colorbar\":{\"outlinewidth\":0,\"ticks\":\"\"},\"type\":\"choropleth\"}],\"contour\":[{\"colorbar\":{\"outlinewidth\":0,\"ticks\":\"\"},\"colorscale\":[[0.0,\"#0d0887\"],[0.1111111111111111,\"#46039f\"],[0.2222222222222222,\"#7201a8\"],[0.3333333333333333,\"#9c179e\"],[0.4444444444444444,\"#bd3786\"],[0.5555555555555556,\"#d8576b\"],[0.6666666666666666,\"#ed7953\"],[0.7777777777777778,\"#fb9f3a\"],[0.8888888888888888,\"#fdca26\"],[1.0,\"#f0f921\"]],\"type\":\"contour\"}],\"contourcarpet\":[{\"colorbar\":{\"outlinewidth\":0,\"ticks\":\"\"},\"type\":\"contourcarpet\"}],\"heatmap\":[{\"colorbar\":{\"outlinewidth\":0,\"ticks\":\"\"},\"colorscale\":[[0.0,\"#0d0887\"],[0.1111111111111111,\"#46039f\"],[0.2222222222222222,\"#7201a8\"],[0.3333333333333333,\"#9c179e\"],[0.4444444444444444,\"#bd3786\"],[0.5555555555555556,\"#d8576b\"],[0.6666666666666666,\"#ed7953\"],[0.7777777777777778,\"#fb9f3a\"],[0.8888888888888888,\"#fdca26\"],[1.0,\"#f0f921\"]],\"type\":\"heatmap\"}],\"heatmapgl\":[{\"colorbar\":{\"outlinewidth\":0,\"ticks\":\"\"},\"colorscale\":[[0.0,\"#0d0887\"],[0.1111111111111111,\"#46039f\"],[0.2222222222222222,\"#7201a8\"],[0.3333333333333333,\"#9c179e\"],[0.4444444444444444,\"#bd3786\"],[0.5555555555555556,\"#d8576b\"],[0.6666666666666666,\"#ed7953\"],[0.7777777777777778,\"#fb9f3a\"],[0.8888888888888888,\"#fdca26\"],[1.0,\"#f0f921\"]],\"type\":\"heatmapgl\"}],\"histogram\":[{\"marker\":{\"pattern\":{\"fillmode\":\"overlay\",\"size\":10,\"solidity\":0.2}},\"type\":\"histogram\"}],\"histogram2d\":[{\"colorbar\":{\"outlinewidth\":0,\"ticks\":\"\"},\"colorscale\":[[0.0,\"#0d0887\"],[0.1111111111111111,\"#46039f\"],[0.2222222222222222,\"#7201a8\"],[0.3333333333333333,\"#9c179e\"],[0.4444444444444444,\"#bd3786\"],[0.5555555555555556,\"#d8576b\"],[0.6666666666666666,\"#ed7953\"],[0.7777777777777778,\"#fb9f3a\"],[0.8888888888888888,\"#fdca26\"],[1.0,\"#f0f921\"]],\"type\":\"histogram2d\"}],\"histogram2dcontour\":[{\"colorbar\":{\"outlinewidth\":0,\"ticks\":\"\"},\"colorscale\":[[0.0,\"#0d0887\"],[0.1111111111111111,\"#46039f\"],[0.2222222222222222,\"#7201a8\"],[0.3333333333333333,\"#9c179e\"],[0.4444444444444444,\"#bd3786\"],[0.5555555555555556,\"#d8576b\"],[0.6666666666666666,\"#ed7953\"],[0.7777777777777778,\"#fb9f3a\"],[0.8888888888888888,\"#fdca26\"],[1.0,\"#f0f921\"]],\"type\":\"histogram2dcontour\"}],\"mesh3d\":[{\"colorbar\":{\"outlinewidth\":0,\"ticks\":\"\"},\"type\":\"mesh3d\"}],\"parcoords\":[{\"line\":{\"colorbar\":{\"outlinewidth\":0,\"ticks\":\"\"}},\"type\":\"parcoords\"}],\"pie\":[{\"automargin\":true,\"type\":\"pie\"}],\"scatter\":[{\"marker\":{\"colorbar\":{\"outlinewidth\":0,\"ticks\":\"\"}},\"type\":\"scatter\"}],\"scatter3d\":[{\"line\":{\"colorbar\":{\"outlinewidth\":0,\"ticks\":\"\"}},\"marker\":{\"colorbar\":{\"outlinewidth\":0,\"ticks\":\"\"}},\"type\":\"scatter3d\"}],\"scattercarpet\":[{\"marker\":{\"colorbar\":{\"outlinewidth\":0,\"ticks\":\"\"}},\"type\":\"scattercarpet\"}],\"scattergeo\":[{\"marker\":{\"colorbar\":{\"outlinewidth\":0,\"ticks\":\"\"}},\"type\":\"scattergeo\"}],\"scattergl\":[{\"marker\":{\"colorbar\":{\"outlinewidth\":0,\"ticks\":\"\"}},\"type\":\"scattergl\"}],\"scattermapbox\":[{\"marker\":{\"colorbar\":{\"outlinewidth\":0,\"ticks\":\"\"}},\"type\":\"scattermapbox\"}],\"scatterpolar\":[{\"marker\":{\"colorbar\":{\"outlinewidth\":0,\"ticks\":\"\"}},\"type\":\"scatterpolar\"}],\"scatterpolargl\":[{\"marker\":{\"colorbar\":{\"outlinewidth\":0,\"ticks\":\"\"}},\"type\":\"scatterpolargl\"}],\"scatterternary\":[{\"marker\":{\"colorbar\":{\"outlinewidth\":0,\"ticks\":\"\"}},\"type\":\"scatterternary\"}],\"surface\":[{\"colorbar\":{\"outlinewidth\":0,\"ticks\":\"\"},\"colorscale\":[[0.0,\"#0d0887\"],[0.1111111111111111,\"#46039f\"],[0.2222222222222222,\"#7201a8\"],[0.3333333333333333,\"#9c179e\"],[0.4444444444444444,\"#bd3786\"],[0.5555555555555556,\"#d8576b\"],[0.6666666666666666,\"#ed7953\"],[0.7777777777777778,\"#fb9f3a\"],[0.8888888888888888,\"#fdca26\"],[1.0,\"#f0f921\"]],\"type\":\"surface\"}],\"table\":[{\"cells\":{\"fill\":{\"color\":\"#EBF0F8\"},\"line\":{\"color\":\"white\"}},\"header\":{\"fill\":{\"color\":\"#C8D4E3\"},\"line\":{\"color\":\"white\"}},\"type\":\"table\"}]},\"layout\":{\"annotationdefaults\":{\"arrowcolor\":\"#2a3f5f\",\"arrowhead\":0,\"arrowwidth\":1},\"autotypenumbers\":\"strict\",\"coloraxis\":{\"colorbar\":{\"outlinewidth\":0,\"ticks\":\"\"}},\"colorscale\":{\"diverging\":[[0,\"#8e0152\"],[0.1,\"#c51b7d\"],[0.2,\"#de77ae\"],[0.3,\"#f1b6da\"],[0.4,\"#fde0ef\"],[0.5,\"#f7f7f7\"],[0.6,\"#e6f5d0\"],[0.7,\"#b8e186\"],[0.8,\"#7fbc41\"],[0.9,\"#4d9221\"],[1,\"#276419\"]],\"sequential\":[[0.0,\"#0d0887\"],[0.1111111111111111,\"#46039f\"],[0.2222222222222222,\"#7201a8\"],[0.3333333333333333,\"#9c179e\"],[0.4444444444444444,\"#bd3786\"],[0.5555555555555556,\"#d8576b\"],[0.6666666666666666,\"#ed7953\"],[0.7777777777777778,\"#fb9f3a\"],[0.8888888888888888,\"#fdca26\"],[1.0,\"#f0f921\"]],\"sequentialminus\":[[0.0,\"#0d0887\"],[0.1111111111111111,\"#46039f\"],[0.2222222222222222,\"#7201a8\"],[0.3333333333333333,\"#9c179e\"],[0.4444444444444444,\"#bd3786\"],[0.5555555555555556,\"#d8576b\"],[0.6666666666666666,\"#ed7953\"],[0.7777777777777778,\"#fb9f3a\"],[0.8888888888888888,\"#fdca26\"],[1.0,\"#f0f921\"]]},\"colorway\":[\"#636efa\",\"#EF553B\",\"#00cc96\",\"#ab63fa\",\"#FFA15A\",\"#19d3f3\",\"#FF6692\",\"#B6E880\",\"#FF97FF\",\"#FECB52\"],\"font\":{\"color\":\"#2a3f5f\"},\"geo\":{\"bgcolor\":\"white\",\"lakecolor\":\"white\",\"landcolor\":\"#E5ECF6\",\"showlakes\":true,\"showland\":true,\"subunitcolor\":\"white\"},\"hoverlabel\":{\"align\":\"left\"},\"hovermode\":\"closest\",\"mapbox\":{\"style\":\"light\"},\"paper_bgcolor\":\"white\",\"plot_bgcolor\":\"#E5ECF6\",\"polar\":{\"angularaxis\":{\"gridcolor\":\"white\",\"linecolor\":\"white\",\"ticks\":\"\"},\"bgcolor\":\"#E5ECF6\",\"radialaxis\":{\"gridcolor\":\"white\",\"linecolor\":\"white\",\"ticks\":\"\"}},\"scene\":{\"xaxis\":{\"backgroundcolor\":\"#E5ECF6\",\"gridcolor\":\"white\",\"gridwidth\":2,\"linecolor\":\"white\",\"showbackground\":true,\"ticks\":\"\",\"zerolinecolor\":\"white\"},\"yaxis\":{\"backgroundcolor\":\"#E5ECF6\",\"gridcolor\":\"white\",\"gridwidth\":2,\"linecolor\":\"white\",\"showbackground\":true,\"ticks\":\"\",\"zerolinecolor\":\"white\"},\"zaxis\":{\"backgroundcolor\":\"#E5ECF6\",\"gridcolor\":\"white\",\"gridwidth\":2,\"linecolor\":\"white\",\"showbackground\":true,\"ticks\":\"\",\"zerolinecolor\":\"white\"}},\"shapedefaults\":{\"line\":{\"color\":\"#2a3f5f\"}},\"ternary\":{\"aaxis\":{\"gridcolor\":\"white\",\"linecolor\":\"white\",\"ticks\":\"\"},\"baxis\":{\"gridcolor\":\"white\",\"linecolor\":\"white\",\"ticks\":\"\"},\"bgcolor\":\"#E5ECF6\",\"caxis\":{\"gridcolor\":\"white\",\"linecolor\":\"white\",\"ticks\":\"\"}},\"title\":{\"x\":0.05},\"xaxis\":{\"automargin\":true,\"gridcolor\":\"white\",\"linecolor\":\"white\",\"ticks\":\"\",\"title\":{\"standoff\":15},\"zerolinecolor\":\"white\",\"zerolinewidth\":2},\"yaxis\":{\"automargin\":true,\"gridcolor\":\"white\",\"linecolor\":\"white\",\"ticks\":\"\",\"title\":{\"standoff\":15},\"zerolinecolor\":\"white\",\"zerolinewidth\":2}}},\"title\":{\"text\":\"Hyperparameter Importances\"},\"xaxis\":{\"title\":{\"text\":\"Importance for Objective Value\"}},\"yaxis\":{\"title\":{\"text\":\"Hyperparameter\"}}},                        {\"responsive\": true}                    ).then(function(){\n",
       "                            \n",
       "var gd = document.getElementById('1961f113-1d88-447d-9ee8-989c7d215556');\n",
       "var x = new MutationObserver(function (mutations, observer) {{\n",
       "        var display = window.getComputedStyle(gd).display;\n",
       "        if (!display || display === 'none') {{\n",
       "            console.log([gd, 'removed!']);\n",
       "            Plotly.purge(gd);\n",
       "            observer.disconnect();\n",
       "        }}\n",
       "}});\n",
       "\n",
       "// Listen for the removal of the full notebook cells\n",
       "var notebookContainer = gd.closest('#notebook-container');\n",
       "if (notebookContainer) {{\n",
       "    x.observe(notebookContainer, {childList: true});\n",
       "}}\n",
       "\n",
       "// Listen for the clearing of the current output cell\n",
       "var outputEl = gd.closest('.output');\n",
       "if (outputEl) {{\n",
       "    x.observe(outputEl, {childList: true});\n",
       "}}\n",
       "\n",
       "                        })                };                });            </script>        </div>"
      ]
     },
     "metadata": {},
     "output_type": "display_data"
    }
   ],
   "source": [
    "optuna.visualization.plot_param_importances(study)"
   ]
  },
  {
   "cell_type": "code",
   "execution_count": 15,
   "metadata": {},
   "outputs": [
    {
     "data": {
      "application/vnd.plotly.v1+json": {
       "config": {
        "plotlyServerURL": "https://plot.ly"
       },
       "data": [
        {
         "autocontour": true,
         "colorbar": {
          "title": {
           "text": "Objective Value"
          }
         },
         "colorscale": [
          [
           0,
           "rgb(5,10,172)"
          ],
          [
           0.35,
           "rgb(40,60,190)"
          ],
          [
           0.5,
           "rgb(70,100,245)"
          ],
          [
           0.6,
           "rgb(90,120,245)"
          ],
          [
           0.7,
           "rgb(106,137,247)"
          ],
          [
           1,
           "rgb(220,220,220)"
          ]
         ],
         "connectgaps": true,
         "contours": {
          "coloring": "heatmap",
          "end": 800000000000000000,
          "size": 100000000000000000,
          "start": 100000000000000000
         },
         "hoverinfo": "none",
         "line": {
          "smoothing": 1.3
         },
         "reversescale": true,
         "type": "contour",
         "x": [
          -0.026299367264070027,
          0.02226326289721447,
          0.3490742100916358,
          0.3771294221196161,
          0.6390911333710436,
          0.6432990691266612,
          0.66425111323201,
          0.7087852543805064,
          0.7161934927199024,
          0.7815329664206725,
          0.8608538040501976,
          0.8720459128910483,
          0.974954776800856,
          0.9756526552052975,
          0.9766666874831331,
          0.9798762974399796,
          0.9922451397332521,
          0.9934256379533326,
          0.9935158661229043,
          1.042078496284189
         ],
         "y": [
          0.01391406006435094,
          0.01699054161830421,
          0.04413605627205777,
          0.0616696318329643,
          0.26395666956334923,
          0.38418484570659567,
          0.41248814134622924,
          0.4388707007201298,
          0.5385852501816885,
          0.6278801201049786,
          0.6709617042970386,
          0.674897719479879,
          0.7063153974116304,
          0.7455809700540055,
          0.7473493355767319,
          0.7750732662932516,
          0.8207145741933711,
          0.821177333460891,
          0.9231541256933699,
          1.127269001295209
         ],
         "z": [
          [
           null,
           null,
           null,
           null,
           null,
           null,
           null,
           null,
           null,
           null,
           null,
           null,
           null,
           null,
           null,
           null,
           null,
           null,
           null,
           null
          ],
          [
           null,
           null,
           null,
           null,
           null,
           null,
           847349002922027800,
           null,
           null,
           null,
           null,
           null,
           null,
           null,
           null,
           null,
           null,
           null,
           null,
           null
          ],
          [
           null,
           null,
           null,
           null,
           62099159799812200,
           null,
           null,
           null,
           null,
           null,
           null,
           null,
           null,
           null,
           null,
           null,
           null,
           null,
           null,
           null
          ],
          [
           null,
           null,
           null,
           null,
           null,
           null,
           null,
           57174884992546130,
           null,
           null,
           null,
           null,
           null,
           null,
           null,
           null,
           null,
           null,
           null,
           null
          ],
          [
           null,
           null,
           null,
           null,
           null,
           null,
           null,
           null,
           null,
           null,
           null,
           null,
           null,
           null,
           null,
           null,
           30080394683864452,
           null,
           null,
           null
          ],
          [
           null,
           null,
           171178323319070080,
           null,
           null,
           null,
           null,
           null,
           null,
           null,
           null,
           null,
           null,
           null,
           null,
           null,
           null,
           null,
           null,
           null
          ],
          [
           null,
           null,
           null,
           null,
           null,
           null,
           null,
           null,
           null,
           null,
           null,
           36261513475986450,
           null,
           null,
           null,
           null,
           null,
           null,
           null,
           null
          ],
          [
           null,
           572344316319023040,
           null,
           null,
           null,
           null,
           null,
           null,
           null,
           null,
           null,
           null,
           null,
           null,
           null,
           null,
           null,
           null,
           null,
           null
          ],
          [
           null,
           null,
           null,
           194312072790830240,
           null,
           null,
           null,
           null,
           null,
           null,
           null,
           null,
           null,
           null,
           null,
           null,
           null,
           null,
           null,
           null
          ],
          [
           null,
           null,
           null,
           null,
           null,
           null,
           null,
           null,
           null,
           54675729662873190,
           null,
           null,
           null,
           null,
           null,
           null,
           null,
           null,
           null,
           null
          ],
          [
           null,
           null,
           null,
           null,
           null,
           null,
           null,
           null,
           null,
           null,
           null,
           null,
           null,
           null,
           null,
           50064243754584440,
           null,
           null,
           null,
           null
          ],
          [
           null,
           null,
           null,
           null,
           null,
           null,
           null,
           null,
           null,
           null,
           null,
           null,
           null,
           51610138039466130,
           null,
           null,
           null,
           null,
           null,
           null
          ],
          [
           null,
           null,
           null,
           null,
           null,
           null,
           null,
           null,
           null,
           null,
           null,
           null,
           49684025208795430,
           null,
           null,
           null,
           null,
           null,
           null,
           null
          ],
          [
           null,
           null,
           null,
           null,
           null,
           null,
           null,
           null,
           96211281885734180,
           null,
           null,
           null,
           null,
           null,
           null,
           null,
           null,
           null,
           null,
           null
          ],
          [
           null,
           null,
           null,
           null,
           null,
           null,
           null,
           null,
           null,
           null,
           null,
           null,
           null,
           null,
           null,
           null,
           null,
           null,
           71495478733251640,
           null
          ],
          [
           null,
           null,
           null,
           null,
           null,
           null,
           null,
           null,
           null,
           null,
           59174396662313290,
           null,
           null,
           null,
           null,
           null,
           null,
           null,
           null,
           null
          ],
          [
           null,
           null,
           null,
           null,
           null,
           null,
           null,
           null,
           null,
           null,
           null,
           null,
           null,
           null,
           53895787371721896,
           null,
           null,
           null,
           null,
           null
          ],
          [
           null,
           null,
           null,
           null,
           null,
           null,
           null,
           null,
           null,
           null,
           null,
           null,
           null,
           null,
           null,
           null,
           null,
           60671992001629240,
           null,
           null
          ],
          [
           null,
           null,
           null,
           null,
           null,
           172453424322979520,
           null,
           null,
           null,
           null,
           null,
           null,
           null,
           null,
           null,
           null,
           null,
           null,
           null,
           null
          ],
          [
           null,
           null,
           null,
           null,
           null,
           null,
           null,
           null,
           null,
           null,
           null,
           null,
           null,
           null,
           null,
           null,
           null,
           null,
           null,
           null
          ]
         ]
        },
        {
         "marker": {
          "color": "black",
          "line": {
           "color": "Grey",
           "width": 0.5
          }
         },
         "mode": "markers",
         "showlegend": false,
         "type": "scatter",
         "x": [
          0.3490742100916358,
          0.3771294221196161,
          0.6390911333710436,
          0.7087852543805064,
          0.02226326289721447,
          0.9934256379533326,
          0.7161934927199024,
          0.66425111323201,
          0.6432990691266612,
          0.9935158661229043,
          0.974954776800856,
          0.8608538040501976,
          0.7815329664206725,
          0.9922451397332521,
          0.9756526552052975,
          0.9798762974399796,
          0.9766666874831331,
          0.8720459128910483
         ],
         "y": [
          0.38418484570659567,
          0.5385852501816885,
          0.04413605627205777,
          0.0616696318329643,
          0.4388707007201298,
          0.821177333460891,
          0.7455809700540055,
          0.01699054161830421,
          0.9231541256933699,
          0.7473493355767319,
          0.7063153974116304,
          0.7750732662932516,
          0.6278801201049786,
          0.26395666956334923,
          0.674897719479879,
          0.6709617042970386,
          0.8207145741933711,
          0.41248814134622924
         ]
        }
       ],
       "layout": {
        "autosize": true,
        "template": {
         "data": {
          "bar": [
           {
            "error_x": {
             "color": "#2a3f5f"
            },
            "error_y": {
             "color": "#2a3f5f"
            },
            "marker": {
             "line": {
              "color": "#E5ECF6",
              "width": 0.5
             },
             "pattern": {
              "fillmode": "overlay",
              "size": 10,
              "solidity": 0.2
             }
            },
            "type": "bar"
           }
          ],
          "barpolar": [
           {
            "marker": {
             "line": {
              "color": "#E5ECF6",
              "width": 0.5
             },
             "pattern": {
              "fillmode": "overlay",
              "size": 10,
              "solidity": 0.2
             }
            },
            "type": "barpolar"
           }
          ],
          "carpet": [
           {
            "aaxis": {
             "endlinecolor": "#2a3f5f",
             "gridcolor": "white",
             "linecolor": "white",
             "minorgridcolor": "white",
             "startlinecolor": "#2a3f5f"
            },
            "baxis": {
             "endlinecolor": "#2a3f5f",
             "gridcolor": "white",
             "linecolor": "white",
             "minorgridcolor": "white",
             "startlinecolor": "#2a3f5f"
            },
            "type": "carpet"
           }
          ],
          "choropleth": [
           {
            "colorbar": {
             "outlinewidth": 0,
             "ticks": ""
            },
            "type": "choropleth"
           }
          ],
          "contour": [
           {
            "colorbar": {
             "outlinewidth": 0,
             "ticks": ""
            },
            "colorscale": [
             [
              0,
              "#0d0887"
             ],
             [
              0.1111111111111111,
              "#46039f"
             ],
             [
              0.2222222222222222,
              "#7201a8"
             ],
             [
              0.3333333333333333,
              "#9c179e"
             ],
             [
              0.4444444444444444,
              "#bd3786"
             ],
             [
              0.5555555555555556,
              "#d8576b"
             ],
             [
              0.6666666666666666,
              "#ed7953"
             ],
             [
              0.7777777777777778,
              "#fb9f3a"
             ],
             [
              0.8888888888888888,
              "#fdca26"
             ],
             [
              1,
              "#f0f921"
             ]
            ],
            "type": "contour"
           }
          ],
          "contourcarpet": [
           {
            "colorbar": {
             "outlinewidth": 0,
             "ticks": ""
            },
            "type": "contourcarpet"
           }
          ],
          "heatmap": [
           {
            "colorbar": {
             "outlinewidth": 0,
             "ticks": ""
            },
            "colorscale": [
             [
              0,
              "#0d0887"
             ],
             [
              0.1111111111111111,
              "#46039f"
             ],
             [
              0.2222222222222222,
              "#7201a8"
             ],
             [
              0.3333333333333333,
              "#9c179e"
             ],
             [
              0.4444444444444444,
              "#bd3786"
             ],
             [
              0.5555555555555556,
              "#d8576b"
             ],
             [
              0.6666666666666666,
              "#ed7953"
             ],
             [
              0.7777777777777778,
              "#fb9f3a"
             ],
             [
              0.8888888888888888,
              "#fdca26"
             ],
             [
              1,
              "#f0f921"
             ]
            ],
            "type": "heatmap"
           }
          ],
          "heatmapgl": [
           {
            "colorbar": {
             "outlinewidth": 0,
             "ticks": ""
            },
            "colorscale": [
             [
              0,
              "#0d0887"
             ],
             [
              0.1111111111111111,
              "#46039f"
             ],
             [
              0.2222222222222222,
              "#7201a8"
             ],
             [
              0.3333333333333333,
              "#9c179e"
             ],
             [
              0.4444444444444444,
              "#bd3786"
             ],
             [
              0.5555555555555556,
              "#d8576b"
             ],
             [
              0.6666666666666666,
              "#ed7953"
             ],
             [
              0.7777777777777778,
              "#fb9f3a"
             ],
             [
              0.8888888888888888,
              "#fdca26"
             ],
             [
              1,
              "#f0f921"
             ]
            ],
            "type": "heatmapgl"
           }
          ],
          "histogram": [
           {
            "marker": {
             "pattern": {
              "fillmode": "overlay",
              "size": 10,
              "solidity": 0.2
             }
            },
            "type": "histogram"
           }
          ],
          "histogram2d": [
           {
            "colorbar": {
             "outlinewidth": 0,
             "ticks": ""
            },
            "colorscale": [
             [
              0,
              "#0d0887"
             ],
             [
              0.1111111111111111,
              "#46039f"
             ],
             [
              0.2222222222222222,
              "#7201a8"
             ],
             [
              0.3333333333333333,
              "#9c179e"
             ],
             [
              0.4444444444444444,
              "#bd3786"
             ],
             [
              0.5555555555555556,
              "#d8576b"
             ],
             [
              0.6666666666666666,
              "#ed7953"
             ],
             [
              0.7777777777777778,
              "#fb9f3a"
             ],
             [
              0.8888888888888888,
              "#fdca26"
             ],
             [
              1,
              "#f0f921"
             ]
            ],
            "type": "histogram2d"
           }
          ],
          "histogram2dcontour": [
           {
            "colorbar": {
             "outlinewidth": 0,
             "ticks": ""
            },
            "colorscale": [
             [
              0,
              "#0d0887"
             ],
             [
              0.1111111111111111,
              "#46039f"
             ],
             [
              0.2222222222222222,
              "#7201a8"
             ],
             [
              0.3333333333333333,
              "#9c179e"
             ],
             [
              0.4444444444444444,
              "#bd3786"
             ],
             [
              0.5555555555555556,
              "#d8576b"
             ],
             [
              0.6666666666666666,
              "#ed7953"
             ],
             [
              0.7777777777777778,
              "#fb9f3a"
             ],
             [
              0.8888888888888888,
              "#fdca26"
             ],
             [
              1,
              "#f0f921"
             ]
            ],
            "type": "histogram2dcontour"
           }
          ],
          "mesh3d": [
           {
            "colorbar": {
             "outlinewidth": 0,
             "ticks": ""
            },
            "type": "mesh3d"
           }
          ],
          "parcoords": [
           {
            "line": {
             "colorbar": {
              "outlinewidth": 0,
              "ticks": ""
             }
            },
            "type": "parcoords"
           }
          ],
          "pie": [
           {
            "automargin": true,
            "type": "pie"
           }
          ],
          "scatter": [
           {
            "marker": {
             "colorbar": {
              "outlinewidth": 0,
              "ticks": ""
             }
            },
            "type": "scatter"
           }
          ],
          "scatter3d": [
           {
            "line": {
             "colorbar": {
              "outlinewidth": 0,
              "ticks": ""
             }
            },
            "marker": {
             "colorbar": {
              "outlinewidth": 0,
              "ticks": ""
             }
            },
            "type": "scatter3d"
           }
          ],
          "scattercarpet": [
           {
            "marker": {
             "colorbar": {
              "outlinewidth": 0,
              "ticks": ""
             }
            },
            "type": "scattercarpet"
           }
          ],
          "scattergeo": [
           {
            "marker": {
             "colorbar": {
              "outlinewidth": 0,
              "ticks": ""
             }
            },
            "type": "scattergeo"
           }
          ],
          "scattergl": [
           {
            "marker": {
             "colorbar": {
              "outlinewidth": 0,
              "ticks": ""
             }
            },
            "type": "scattergl"
           }
          ],
          "scattermapbox": [
           {
            "marker": {
             "colorbar": {
              "outlinewidth": 0,
              "ticks": ""
             }
            },
            "type": "scattermapbox"
           }
          ],
          "scatterpolar": [
           {
            "marker": {
             "colorbar": {
              "outlinewidth": 0,
              "ticks": ""
             }
            },
            "type": "scatterpolar"
           }
          ],
          "scatterpolargl": [
           {
            "marker": {
             "colorbar": {
              "outlinewidth": 0,
              "ticks": ""
             }
            },
            "type": "scatterpolargl"
           }
          ],
          "scatterternary": [
           {
            "marker": {
             "colorbar": {
              "outlinewidth": 0,
              "ticks": ""
             }
            },
            "type": "scatterternary"
           }
          ],
          "surface": [
           {
            "colorbar": {
             "outlinewidth": 0,
             "ticks": ""
            },
            "colorscale": [
             [
              0,
              "#0d0887"
             ],
             [
              0.1111111111111111,
              "#46039f"
             ],
             [
              0.2222222222222222,
              "#7201a8"
             ],
             [
              0.3333333333333333,
              "#9c179e"
             ],
             [
              0.4444444444444444,
              "#bd3786"
             ],
             [
              0.5555555555555556,
              "#d8576b"
             ],
             [
              0.6666666666666666,
              "#ed7953"
             ],
             [
              0.7777777777777778,
              "#fb9f3a"
             ],
             [
              0.8888888888888888,
              "#fdca26"
             ],
             [
              1,
              "#f0f921"
             ]
            ],
            "type": "surface"
           }
          ],
          "table": [
           {
            "cells": {
             "fill": {
              "color": "#EBF0F8"
             },
             "line": {
              "color": "white"
             }
            },
            "header": {
             "fill": {
              "color": "#C8D4E3"
             },
             "line": {
              "color": "white"
             }
            },
            "type": "table"
           }
          ]
         },
         "layout": {
          "annotationdefaults": {
           "arrowcolor": "#2a3f5f",
           "arrowhead": 0,
           "arrowwidth": 1
          },
          "autotypenumbers": "strict",
          "coloraxis": {
           "colorbar": {
            "outlinewidth": 0,
            "ticks": ""
           }
          },
          "colorscale": {
           "diverging": [
            [
             0,
             "#8e0152"
            ],
            [
             0.1,
             "#c51b7d"
            ],
            [
             0.2,
             "#de77ae"
            ],
            [
             0.3,
             "#f1b6da"
            ],
            [
             0.4,
             "#fde0ef"
            ],
            [
             0.5,
             "#f7f7f7"
            ],
            [
             0.6,
             "#e6f5d0"
            ],
            [
             0.7,
             "#b8e186"
            ],
            [
             0.8,
             "#7fbc41"
            ],
            [
             0.9,
             "#4d9221"
            ],
            [
             1,
             "#276419"
            ]
           ],
           "sequential": [
            [
             0,
             "#0d0887"
            ],
            [
             0.1111111111111111,
             "#46039f"
            ],
            [
             0.2222222222222222,
             "#7201a8"
            ],
            [
             0.3333333333333333,
             "#9c179e"
            ],
            [
             0.4444444444444444,
             "#bd3786"
            ],
            [
             0.5555555555555556,
             "#d8576b"
            ],
            [
             0.6666666666666666,
             "#ed7953"
            ],
            [
             0.7777777777777778,
             "#fb9f3a"
            ],
            [
             0.8888888888888888,
             "#fdca26"
            ],
            [
             1,
             "#f0f921"
            ]
           ],
           "sequentialminus": [
            [
             0,
             "#0d0887"
            ],
            [
             0.1111111111111111,
             "#46039f"
            ],
            [
             0.2222222222222222,
             "#7201a8"
            ],
            [
             0.3333333333333333,
             "#9c179e"
            ],
            [
             0.4444444444444444,
             "#bd3786"
            ],
            [
             0.5555555555555556,
             "#d8576b"
            ],
            [
             0.6666666666666666,
             "#ed7953"
            ],
            [
             0.7777777777777778,
             "#fb9f3a"
            ],
            [
             0.8888888888888888,
             "#fdca26"
            ],
            [
             1,
             "#f0f921"
            ]
           ]
          },
          "colorway": [
           "#636efa",
           "#EF553B",
           "#00cc96",
           "#ab63fa",
           "#FFA15A",
           "#19d3f3",
           "#FF6692",
           "#B6E880",
           "#FF97FF",
           "#FECB52"
          ],
          "font": {
           "color": "#2a3f5f"
          },
          "geo": {
           "bgcolor": "white",
           "lakecolor": "white",
           "landcolor": "#E5ECF6",
           "showlakes": true,
           "showland": true,
           "subunitcolor": "white"
          },
          "hoverlabel": {
           "align": "left"
          },
          "hovermode": "closest",
          "mapbox": {
           "style": "light"
          },
          "paper_bgcolor": "white",
          "plot_bgcolor": "#E5ECF6",
          "polar": {
           "angularaxis": {
            "gridcolor": "white",
            "linecolor": "white",
            "ticks": ""
           },
           "bgcolor": "#E5ECF6",
           "radialaxis": {
            "gridcolor": "white",
            "linecolor": "white",
            "ticks": ""
           }
          },
          "scene": {
           "xaxis": {
            "backgroundcolor": "#E5ECF6",
            "gridcolor": "white",
            "gridwidth": 2,
            "linecolor": "white",
            "showbackground": true,
            "ticks": "",
            "zerolinecolor": "white"
           },
           "yaxis": {
            "backgroundcolor": "#E5ECF6",
            "gridcolor": "white",
            "gridwidth": 2,
            "linecolor": "white",
            "showbackground": true,
            "ticks": "",
            "zerolinecolor": "white"
           },
           "zaxis": {
            "backgroundcolor": "#E5ECF6",
            "gridcolor": "white",
            "gridwidth": 2,
            "linecolor": "white",
            "showbackground": true,
            "ticks": "",
            "zerolinecolor": "white"
           }
          },
          "shapedefaults": {
           "line": {
            "color": "#2a3f5f"
           }
          },
          "ternary": {
           "aaxis": {
            "gridcolor": "white",
            "linecolor": "white",
            "ticks": ""
           },
           "baxis": {
            "gridcolor": "white",
            "linecolor": "white",
            "ticks": ""
           },
           "bgcolor": "#E5ECF6",
           "caxis": {
            "gridcolor": "white",
            "linecolor": "white",
            "ticks": ""
           }
          },
          "title": {
           "x": 0.05
          },
          "xaxis": {
           "automargin": true,
           "gridcolor": "white",
           "linecolor": "white",
           "ticks": "",
           "title": {
            "standoff": 15
           },
           "zerolinecolor": "white",
           "zerolinewidth": 2
          },
          "yaxis": {
           "automargin": true,
           "gridcolor": "white",
           "linecolor": "white",
           "ticks": "",
           "title": {
            "standoff": 15
           },
           "zerolinecolor": "white",
           "zerolinewidth": 2
          }
         }
        },
        "title": {
         "text": "Contour Plot"
        },
        "xaxis": {
         "range": [
          -0.026299367264070027,
          1.042078496284189
         ],
         "title": {
          "text": "colsample_bytree"
         },
         "type": "linear"
        },
        "yaxis": {
         "range": [
          -1.856546126207644,
          0.0520275645269413
         ],
         "title": {
          "text": "learning_rate"
         },
         "type": "log"
        }
       }
      },
      "image/png": "[encoded data removed]",
      "text/html": [
       "<div>                            <div id=\"0756fc2a-92c8-48b5-b6ab-48cc3171b549\" class=\"plotly-graph-div\" style=\"height:525px; width:100%;\"></div>            <script type=\"text/javascript\">                require([\"plotly\"], function(Plotly) {                    window.PLOTLYENV=window.PLOTLYENV || {};                                    if (document.getElementById(\"0756fc2a-92c8-48b5-b6ab-48cc3171b549\")) {                    Plotly.newPlot(                        \"0756fc2a-92c8-48b5-b6ab-48cc3171b549\",                        [{\"colorbar\":{\"title\":{\"text\":\"Objective Value\"}},\"colorscale\":[[0,\"rgb(5,10,172)\"],[0.35,\"rgb(40,60,190)\"],[0.5,\"rgb(70,100,245)\"],[0.6,\"rgb(90,120,245)\"],[0.7,\"rgb(106,137,247)\"],[1,\"rgb(220,220,220)\"]],\"connectgaps\":true,\"contours\":{\"coloring\":\"heatmap\"},\"hoverinfo\":\"none\",\"line\":{\"smoothing\":1.3},\"reversescale\":true,\"type\":\"contour\",\"x\":[-0.026299367264070027,0.02226326289721447,0.3490742100916358,0.3771294221196161,0.6390911333710436,0.6432990691266612,0.66425111323201,0.7087852543805064,0.7161934927199024,0.7815329664206725,0.8608538040501976,0.8720459128910483,0.974954776800856,0.9756526552052975,0.9766666874831331,0.9798762974399796,0.9922451397332521,0.9934256379533326,0.9935158661229043,1.042078496284189],\"y\":[0.01391406006435094,0.01699054161830421,0.04413605627205777,0.0616696318329643,0.26395666956334923,0.38418484570659567,0.41248814134622924,0.4388707007201298,0.5385852501816885,0.6278801201049786,0.6709617042970386,0.674897719479879,0.7063153974116304,0.7455809700540055,0.7473493355767319,0.7750732662932516,0.8207145741933711,0.821177333460891,0.9231541256933699,1.127269001295209],\"z\":[[null,null,null,null,null,null,null,null,null,null,null,null,null,null,null,null,null,null,null,null],[null,null,null,null,null,null,8.473490029220278e+17,null,null,null,null,null,null,null,null,null,null,null,null,null],[null,null,null,null,6.20991597998122e+16,null,null,null,null,null,null,null,null,null,null,null,null,null,null,null],[null,null,null,null,null,null,null,5.717488499254613e+16,null,null,null,null,null,null,null,null,null,null,null,null],[null,null,null,null,null,null,null,null,null,null,null,null,null,null,null,null,3.0080394683864452e+16,null,null,null],[null,null,1.7117832331907008e+17,null,null,null,null,null,null,null,null,null,null,null,null,null,null,null,null,null],[null,null,null,null,null,null,null,null,null,null,null,3.626151347598645e+16,null,null,null,null,null,null,null,null],[null,5.7234431631902304e+17,null,null,null,null,null,null,null,null,null,null,null,null,null,null,null,null,null,null],[null,null,null,1.9431207279083024e+17,null,null,null,null,null,null,null,null,null,null,null,null,null,null,null,null],[null,null,null,null,null,null,null,null,null,5.467572966287319e+16,null,null,null,null,null,null,null,null,null,null],[null,null,null,null,null,null,null,null,null,null,null,null,null,null,null,5.006424375458444e+16,null,null,null,null],[null,null,null,null,null,null,null,null,null,null,null,null,null,5.161013803946613e+16,null,null,null,null,null,null],[null,null,null,null,null,null,null,null,null,null,null,null,4.968402520879543e+16,null,null,null,null,null,null,null],[null,null,null,null,null,null,null,null,9.621128188573418e+16,null,null,null,null,null,null,null,null,null,null,null],[null,null,null,null,null,null,null,null,null,null,null,null,null,null,null,null,null,null,7.149547873325164e+16,null],[null,null,null,null,null,null,null,null,null,null,5.917439666231329e+16,null,null,null,null,null,null,null,null,null],[null,null,null,null,null,null,null,null,null,null,null,null,null,null,5.3895787371721896e+16,null,null,null,null,null],[null,null,null,null,null,null,null,null,null,null,null,null,null,null,null,null,null,6.067199200162924e+16,null,null],[null,null,null,null,null,1.7245342432297952e+17,null,null,null,null,null,null,null,null,null,null,null,null,null,null],[null,null,null,null,null,null,null,null,null,null,null,null,null,null,null,null,null,null,null,null]]},{\"marker\":{\"color\":\"black\",\"line\":{\"color\":\"Grey\",\"width\":0.5}},\"mode\":\"markers\",\"showlegend\":false,\"type\":\"scatter\",\"x\":[0.3490742100916358,0.3771294221196161,0.6390911333710436,0.7087852543805064,0.02226326289721447,0.9934256379533326,0.7161934927199024,0.66425111323201,0.6432990691266612,0.9935158661229043,0.974954776800856,0.8608538040501976,0.7815329664206725,0.9922451397332521,0.9756526552052975,0.9798762974399796,0.9766666874831331,0.8720459128910483],\"y\":[0.38418484570659567,0.5385852501816885,0.04413605627205777,0.0616696318329643,0.4388707007201298,0.821177333460891,0.7455809700540055,0.01699054161830421,0.9231541256933699,0.7473493355767319,0.7063153974116304,0.7750732662932516,0.6278801201049786,0.26395666956334923,0.674897719479879,0.6709617042970386,0.8207145741933711,0.41248814134622924]}],                        {\"template\":{\"data\":{\"bar\":[{\"error_x\":{\"color\":\"#2a3f5f\"},\"error_y\":{\"color\":\"#2a3f5f\"},\"marker\":{\"line\":{\"color\":\"#E5ECF6\",\"width\":0.5},\"pattern\":{\"fillmode\":\"overlay\",\"size\":10,\"solidity\":0.2}},\"type\":\"bar\"}],\"barpolar\":[{\"marker\":{\"line\":{\"color\":\"#E5ECF6\",\"width\":0.5},\"pattern\":{\"fillmode\":\"overlay\",\"size\":10,\"solidity\":0.2}},\"type\":\"barpolar\"}],\"carpet\":[{\"aaxis\":{\"endlinecolor\":\"#2a3f5f\",\"gridcolor\":\"white\",\"linecolor\":\"white\",\"minorgridcolor\":\"white\",\"startlinecolor\":\"#2a3f5f\"},\"baxis\":{\"endlinecolor\":\"#2a3f5f\",\"gridcolor\":\"white\",\"linecolor\":\"white\",\"minorgridcolor\":\"white\",\"startlinecolor\":\"#2a3f5f\"},\"type\":\"carpet\"}],\"choropleth\":[{\"colorbar\":{\"outlinewidth\":0,\"ticks\":\"\"},\"type\":\"choropleth\"}],\"contour\":[{\"colorbar\":{\"outlinewidth\":0,\"ticks\":\"\"},\"colorscale\":[[0.0,\"#0d0887\"],[0.1111111111111111,\"#46039f\"],[0.2222222222222222,\"#7201a8\"],[0.3333333333333333,\"#9c179e\"],[0.4444444444444444,\"#bd3786\"],[0.5555555555555556,\"#d8576b\"],[0.6666666666666666,\"#ed7953\"],[0.7777777777777778,\"#fb9f3a\"],[0.8888888888888888,\"#fdca26\"],[1.0,\"#f0f921\"]],\"type\":\"contour\"}],\"contourcarpet\":[{\"colorbar\":{\"outlinewidth\":0,\"ticks\":\"\"},\"type\":\"contourcarpet\"}],\"heatmap\":[{\"colorbar\":{\"outlinewidth\":0,\"ticks\":\"\"},\"colorscale\":[[0.0,\"#0d0887\"],[0.1111111111111111,\"#46039f\"],[0.2222222222222222,\"#7201a8\"],[0.3333333333333333,\"#9c179e\"],[0.4444444444444444,\"#bd3786\"],[0.5555555555555556,\"#d8576b\"],[0.6666666666666666,\"#ed7953\"],[0.7777777777777778,\"#fb9f3a\"],[0.8888888888888888,\"#fdca26\"],[1.0,\"#f0f921\"]],\"type\":\"heatmap\"}],\"heatmapgl\":[{\"colorbar\":{\"outlinewidth\":0,\"ticks\":\"\"},\"colorscale\":[[0.0,\"#0d0887\"],[0.1111111111111111,\"#46039f\"],[0.2222222222222222,\"#7201a8\"],[0.3333333333333333,\"#9c179e\"],[0.4444444444444444,\"#bd3786\"],[0.5555555555555556,\"#d8576b\"],[0.6666666666666666,\"#ed7953\"],[0.7777777777777778,\"#fb9f3a\"],[0.8888888888888888,\"#fdca26\"],[1.0,\"#f0f921\"]],\"type\":\"heatmapgl\"}],\"histogram\":[{\"marker\":{\"pattern\":{\"fillmode\":\"overlay\",\"size\":10,\"solidity\":0.2}},\"type\":\"histogram\"}],\"histogram2d\":[{\"colorbar\":{\"outlinewidth\":0,\"ticks\":\"\"},\"colorscale\":[[0.0,\"#0d0887\"],[0.1111111111111111,\"#46039f\"],[0.2222222222222222,\"#7201a8\"],[0.3333333333333333,\"#9c179e\"],[0.4444444444444444,\"#bd3786\"],[0.5555555555555556,\"#d8576b\"],[0.6666666666666666,\"#ed7953\"],[0.7777777777777778,\"#fb9f3a\"],[0.8888888888888888,\"#fdca26\"],[1.0,\"#f0f921\"]],\"type\":\"histogram2d\"}],\"histogram2dcontour\":[{\"colorbar\":{\"outlinewidth\":0,\"ticks\":\"\"},\"colorscale\":[[0.0,\"#0d0887\"],[0.1111111111111111,\"#46039f\"],[0.2222222222222222,\"#7201a8\"],[0.3333333333333333,\"#9c179e\"],[0.4444444444444444,\"#bd3786\"],[0.5555555555555556,\"#d8576b\"],[0.6666666666666666,\"#ed7953\"],[0.7777777777777778,\"#fb9f3a\"],[0.8888888888888888,\"#fdca26\"],[1.0,\"#f0f921\"]],\"type\":\"histogram2dcontour\"}],\"mesh3d\":[{\"colorbar\":{\"outlinewidth\":0,\"ticks\":\"\"},\"type\":\"mesh3d\"}],\"parcoords\":[{\"line\":{\"colorbar\":{\"outlinewidth\":0,\"ticks\":\"\"}},\"type\":\"parcoords\"}],\"pie\":[{\"automargin\":true,\"type\":\"pie\"}],\"scatter\":[{\"marker\":{\"colorbar\":{\"outlinewidth\":0,\"ticks\":\"\"}},\"type\":\"scatter\"}],\"scatter3d\":[{\"line\":{\"colorbar\":{\"outlinewidth\":0,\"ticks\":\"\"}},\"marker\":{\"colorbar\":{\"outlinewidth\":0,\"ticks\":\"\"}},\"type\":\"scatter3d\"}],\"scattercarpet\":[{\"marker\":{\"colorbar\":{\"outlinewidth\":0,\"ticks\":\"\"}},\"type\":\"scattercarpet\"}],\"scattergeo\":[{\"marker\":{\"colorbar\":{\"outlinewidth\":0,\"ticks\":\"\"}},\"type\":\"scattergeo\"}],\"scattergl\":[{\"marker\":{\"colorbar\":{\"outlinewidth\":0,\"ticks\":\"\"}},\"type\":\"scattergl\"}],\"scattermapbox\":[{\"marker\":{\"colorbar\":{\"outlinewidth\":0,\"ticks\":\"\"}},\"type\":\"scattermapbox\"}],\"scatterpolar\":[{\"marker\":{\"colorbar\":{\"outlinewidth\":0,\"ticks\":\"\"}},\"type\":\"scatterpolar\"}],\"scatterpolargl\":[{\"marker\":{\"colorbar\":{\"outlinewidth\":0,\"ticks\":\"\"}},\"type\":\"scatterpolargl\"}],\"scatterternary\":[{\"marker\":{\"colorbar\":{\"outlinewidth\":0,\"ticks\":\"\"}},\"type\":\"scatterternary\"}],\"surface\":[{\"colorbar\":{\"outlinewidth\":0,\"ticks\":\"\"},\"colorscale\":[[0.0,\"#0d0887\"],[0.1111111111111111,\"#46039f\"],[0.2222222222222222,\"#7201a8\"],[0.3333333333333333,\"#9c179e\"],[0.4444444444444444,\"#bd3786\"],[0.5555555555555556,\"#d8576b\"],[0.6666666666666666,\"#ed7953\"],[0.7777777777777778,\"#fb9f3a\"],[0.8888888888888888,\"#fdca26\"],[1.0,\"#f0f921\"]],\"type\":\"surface\"}],\"table\":[{\"cells\":{\"fill\":{\"color\":\"#EBF0F8\"},\"line\":{\"color\":\"white\"}},\"header\":{\"fill\":{\"color\":\"#C8D4E3\"},\"line\":{\"color\":\"white\"}},\"type\":\"table\"}]},\"layout\":{\"annotationdefaults\":{\"arrowcolor\":\"#2a3f5f\",\"arrowhead\":0,\"arrowwidth\":1},\"autotypenumbers\":\"strict\",\"coloraxis\":{\"colorbar\":{\"outlinewidth\":0,\"ticks\":\"\"}},\"colorscale\":{\"diverging\":[[0,\"#8e0152\"],[0.1,\"#c51b7d\"],[0.2,\"#de77ae\"],[0.3,\"#f1b6da\"],[0.4,\"#fde0ef\"],[0.5,\"#f7f7f7\"],[0.6,\"#e6f5d0\"],[0.7,\"#b8e186\"],[0.8,\"#7fbc41\"],[0.9,\"#4d9221\"],[1,\"#276419\"]],\"sequential\":[[0.0,\"#0d0887\"],[0.1111111111111111,\"#46039f\"],[0.2222222222222222,\"#7201a8\"],[0.3333333333333333,\"#9c179e\"],[0.4444444444444444,\"#bd3786\"],[0.5555555555555556,\"#d8576b\"],[0.6666666666666666,\"#ed7953\"],[0.7777777777777778,\"#fb9f3a\"],[0.8888888888888888,\"#fdca26\"],[1.0,\"#f0f921\"]],\"sequentialminus\":[[0.0,\"#0d0887\"],[0.1111111111111111,\"#46039f\"],[0.2222222222222222,\"#7201a8\"],[0.3333333333333333,\"#9c179e\"],[0.4444444444444444,\"#bd3786\"],[0.5555555555555556,\"#d8576b\"],[0.6666666666666666,\"#ed7953\"],[0.7777777777777778,\"#fb9f3a\"],[0.8888888888888888,\"#fdca26\"],[1.0,\"#f0f921\"]]},\"colorway\":[\"#636efa\",\"#EF553B\",\"#00cc96\",\"#ab63fa\",\"#FFA15A\",\"#19d3f3\",\"#FF6692\",\"#B6E880\",\"#FF97FF\",\"#FECB52\"],\"font\":{\"color\":\"#2a3f5f\"},\"geo\":{\"bgcolor\":\"white\",\"lakecolor\":\"white\",\"landcolor\":\"#E5ECF6\",\"showlakes\":true,\"showland\":true,\"subunitcolor\":\"white\"},\"hoverlabel\":{\"align\":\"left\"},\"hovermode\":\"closest\",\"mapbox\":{\"style\":\"light\"},\"paper_bgcolor\":\"white\",\"plot_bgcolor\":\"#E5ECF6\",\"polar\":{\"angularaxis\":{\"gridcolor\":\"white\",\"linecolor\":\"white\",\"ticks\":\"\"},\"bgcolor\":\"#E5ECF6\",\"radialaxis\":{\"gridcolor\":\"white\",\"linecolor\":\"white\",\"ticks\":\"\"}},\"scene\":{\"xaxis\":{\"backgroundcolor\":\"#E5ECF6\",\"gridcolor\":\"white\",\"gridwidth\":2,\"linecolor\":\"white\",\"showbackground\":true,\"ticks\":\"\",\"zerolinecolor\":\"white\"},\"yaxis\":{\"backgroundcolor\":\"#E5ECF6\",\"gridcolor\":\"white\",\"gridwidth\":2,\"linecolor\":\"white\",\"showbackground\":true,\"ticks\":\"\",\"zerolinecolor\":\"white\"},\"zaxis\":{\"backgroundcolor\":\"#E5ECF6\",\"gridcolor\":\"white\",\"gridwidth\":2,\"linecolor\":\"white\",\"showbackground\":true,\"ticks\":\"\",\"zerolinecolor\":\"white\"}},\"shapedefaults\":{\"line\":{\"color\":\"#2a3f5f\"}},\"ternary\":{\"aaxis\":{\"gridcolor\":\"white\",\"linecolor\":\"white\",\"ticks\":\"\"},\"baxis\":{\"gridcolor\":\"white\",\"linecolor\":\"white\",\"ticks\":\"\"},\"bgcolor\":\"#E5ECF6\",\"caxis\":{\"gridcolor\":\"white\",\"linecolor\":\"white\",\"ticks\":\"\"}},\"title\":{\"x\":0.05},\"xaxis\":{\"automargin\":true,\"gridcolor\":\"white\",\"linecolor\":\"white\",\"ticks\":\"\",\"title\":{\"standoff\":15},\"zerolinecolor\":\"white\",\"zerolinewidth\":2},\"yaxis\":{\"automargin\":true,\"gridcolor\":\"white\",\"linecolor\":\"white\",\"ticks\":\"\",\"title\":{\"standoff\":15},\"zerolinecolor\":\"white\",\"zerolinewidth\":2}}},\"title\":{\"text\":\"Contour Plot\"},\"xaxis\":{\"range\":[-0.026299367264070027,1.042078496284189],\"title\":{\"text\":\"colsample_bytree\"}},\"yaxis\":{\"range\":[-1.856546126207644,0.0520275645269413],\"title\":{\"text\":\"learning_rate\"},\"type\":\"log\"}},                        {\"responsive\": true}                    ).then(function(){\n",
       "                            \n",
       "var gd = document.getElementById('0756fc2a-92c8-48b5-b6ab-48cc3171b549');\n",
       "var x = new MutationObserver(function (mutations, observer) {{\n",
       "        var display = window.getComputedStyle(gd).display;\n",
       "        if (!display || display === 'none') {{\n",
       "            console.log([gd, 'removed!']);\n",
       "            Plotly.purge(gd);\n",
       "            observer.disconnect();\n",
       "        }}\n",
       "}});\n",
       "\n",
       "// Listen for the removal of the full notebook cells\n",
       "var notebookContainer = gd.closest('#notebook-container');\n",
       "if (notebookContainer) {{\n",
       "    x.observe(notebookContainer, {childList: true});\n",
       "}}\n",
       "\n",
       "// Listen for the clearing of the current output cell\n",
       "var outputEl = gd.closest('.output');\n",
       "if (outputEl) {{\n",
       "    x.observe(outputEl, {childList: true});\n",
       "}}\n",
       "\n",
       "                        })                };                });            </script>        </div>"
      ]
     },
     "metadata": {},
     "output_type": "display_data"
    }
   ],
   "source": [
    "optuna.visualization.plot_contour(study, params=['colsample_bytree', 'learning_rate'])"
   ]
  },
  {
   "cell_type": "code",
   "execution_count": 17,
   "metadata": {},
   "outputs": [
    {
     "data": {
      "application/vnd.plotly.v1+json": {
       "config": {
        "plotlyServerURL": "https://plot.ly"
       },
       "data": [
        {
         "marker": {
          "color": [
           0,
           1,
           3,
           4,
           16,
           24,
           47,
           63,
           106,
           111,
           114,
           138,
           144,
           148,
           161,
           163,
           164,
           175
          ],
          "colorbar": {
           "title": {
            "text": "#Trials"
           },
           "x": 1,
           "xpad": 40,
           "y": 0.5
          },
          "colorscale": [
           [
            0,
            "rgb(247,251,255)"
           ],
           [
            0.125,
            "rgb(222,235,247)"
           ],
           [
            0.25,
            "rgb(198,219,239)"
           ],
           [
            0.375,
            "rgb(158,202,225)"
           ],
           [
            0.5,
            "rgb(107,174,214)"
           ],
           [
            0.625,
            "rgb(66,146,198)"
           ],
           [
            0.75,
            "rgb(33,113,181)"
           ],
           [
            0.875,
            "rgb(8,81,156)"
           ],
           [
            1,
            "rgb(8,48,107)"
           ]
          ],
          "line": {
           "color": "Grey",
           "width": 0.5
          },
          "showscale": true
         },
         "mode": "markers",
         "showlegend": false,
         "type": "scatter",
         "x": [
          0.3490742100916358,
          0.3771294221196161,
          0.6390911333710436,
          0.7087852543805064,
          0.02226326289721447,
          0.9934256379533326,
          0.7161934927199024,
          0.66425111323201,
          0.6432990691266612,
          0.9935158661229043,
          0.974954776800856,
          0.8608538040501976,
          0.7815329664206725,
          0.9922451397332521,
          0.9756526552052975,
          0.9798762974399796,
          0.9766666874831331,
          0.8720459128910483
         ],
         "xaxis": "x",
         "y": [
          171178323319070080,
          194312072790830240,
          62099159799812200,
          57174884992546130,
          572344316319023040,
          60671992001629240,
          96211281885734180,
          847349002922027800,
          172453424322979520,
          71495478733251640,
          49684025208795430,
          59174396662313290,
          54675729662873190,
          30080394683864452,
          51610138039466130,
          50064243754584440,
          53895787371721896,
          36261513475986450
         ],
         "yaxis": "y"
        },
        {
         "marker": {
          "color": [
           0,
           1,
           3,
           4,
           16,
           24,
           47,
           63,
           106,
           111,
           114,
           138,
           144,
           148,
           161,
           163,
           164,
           175
          ],
          "colorbar": {
           "title": {
            "text": "#Trials"
           },
           "x": 1,
           "xpad": 40
          },
          "colorscale": [
           [
            0,
            "rgb(247,251,255)"
           ],
           [
            0.125,
            "rgb(222,235,247)"
           ],
           [
            0.25,
            "rgb(198,219,239)"
           ],
           [
            0.375,
            "rgb(158,202,225)"
           ],
           [
            0.5,
            "rgb(107,174,214)"
           ],
           [
            0.625,
            "rgb(66,146,198)"
           ],
           [
            0.75,
            "rgb(33,113,181)"
           ],
           [
            0.875,
            "rgb(8,81,156)"
           ],
           [
            1,
            "rgb(8,48,107)"
           ]
          ],
          "line": {
           "color": "Grey",
           "width": 0.5
          },
          "showscale": false
         },
         "mode": "markers",
         "showlegend": false,
         "type": "scatter",
         "x": [
          0.38418484570659567,
          0.5385852501816885,
          0.04413605627205777,
          0.0616696318329643,
          0.4388707007201298,
          0.821177333460891,
          0.7455809700540055,
          0.01699054161830421,
          0.9231541256933699,
          0.7473493355767319,
          0.7063153974116304,
          0.7750732662932516,
          0.6278801201049786,
          0.26395666956334923,
          0.674897719479879,
          0.6709617042970386,
          0.8207145741933711,
          0.41248814134622924
         ],
         "xaxis": "x2",
         "y": [
          171178323319070080,
          194312072790830240,
          62099159799812200,
          57174884992546130,
          572344316319023040,
          60671992001629240,
          96211281885734180,
          847349002922027800,
          172453424322979520,
          71495478733251640,
          49684025208795430,
          59174396662313290,
          54675729662873190,
          30080394683864452,
          51610138039466130,
          50064243754584440,
          53895787371721896,
          36261513475986450
         ],
         "yaxis": "y2"
        }
       ],
       "layout": {
        "autosize": true,
        "template": {
         "data": {
          "bar": [
           {
            "error_x": {
             "color": "#2a3f5f"
            },
            "error_y": {
             "color": "#2a3f5f"
            },
            "marker": {
             "line": {
              "color": "#E5ECF6",
              "width": 0.5
             },
             "pattern": {
              "fillmode": "overlay",
              "size": 10,
              "solidity": 0.2
             }
            },
            "type": "bar"
           }
          ],
          "barpolar": [
           {
            "marker": {
             "line": {
              "color": "#E5ECF6",
              "width": 0.5
             },
             "pattern": {
              "fillmode": "overlay",
              "size": 10,
              "solidity": 0.2
             }
            },
            "type": "barpolar"
           }
          ],
          "carpet": [
           {
            "aaxis": {
             "endlinecolor": "#2a3f5f",
             "gridcolor": "white",
             "linecolor": "white",
             "minorgridcolor": "white",
             "startlinecolor": "#2a3f5f"
            },
            "baxis": {
             "endlinecolor": "#2a3f5f",
             "gridcolor": "white",
             "linecolor": "white",
             "minorgridcolor": "white",
             "startlinecolor": "#2a3f5f"
            },
            "type": "carpet"
           }
          ],
          "choropleth": [
           {
            "colorbar": {
             "outlinewidth": 0,
             "ticks": ""
            },
            "type": "choropleth"
           }
          ],
          "contour": [
           {
            "colorbar": {
             "outlinewidth": 0,
             "ticks": ""
            },
            "colorscale": [
             [
              0,
              "#0d0887"
             ],
             [
              0.1111111111111111,
              "#46039f"
             ],
             [
              0.2222222222222222,
              "#7201a8"
             ],
             [
              0.3333333333333333,
              "#9c179e"
             ],
             [
              0.4444444444444444,
              "#bd3786"
             ],
             [
              0.5555555555555556,
              "#d8576b"
             ],
             [
              0.6666666666666666,
              "#ed7953"
             ],
             [
              0.7777777777777778,
              "#fb9f3a"
             ],
             [
              0.8888888888888888,
              "#fdca26"
             ],
             [
              1,
              "#f0f921"
             ]
            ],
            "type": "contour"
           }
          ],
          "contourcarpet": [
           {
            "colorbar": {
             "outlinewidth": 0,
             "ticks": ""
            },
            "type": "contourcarpet"
           }
          ],
          "heatmap": [
           {
            "colorbar": {
             "outlinewidth": 0,
             "ticks": ""
            },
            "colorscale": [
             [
              0,
              "#0d0887"
             ],
             [
              0.1111111111111111,
              "#46039f"
             ],
             [
              0.2222222222222222,
              "#7201a8"
             ],
             [
              0.3333333333333333,
              "#9c179e"
             ],
             [
              0.4444444444444444,
              "#bd3786"
             ],
             [
              0.5555555555555556,
              "#d8576b"
             ],
             [
              0.6666666666666666,
              "#ed7953"
             ],
             [
              0.7777777777777778,
              "#fb9f3a"
             ],
             [
              0.8888888888888888,
              "#fdca26"
             ],
             [
              1,
              "#f0f921"
             ]
            ],
            "type": "heatmap"
           }
          ],
          "heatmapgl": [
           {
            "colorbar": {
             "outlinewidth": 0,
             "ticks": ""
            },
            "colorscale": [
             [
              0,
              "#0d0887"
             ],
             [
              0.1111111111111111,
              "#46039f"
             ],
             [
              0.2222222222222222,
              "#7201a8"
             ],
             [
              0.3333333333333333,
              "#9c179e"
             ],
             [
              0.4444444444444444,
              "#bd3786"
             ],
             [
              0.5555555555555556,
              "#d8576b"
             ],
             [
              0.6666666666666666,
              "#ed7953"
             ],
             [
              0.7777777777777778,
              "#fb9f3a"
             ],
             [
              0.8888888888888888,
              "#fdca26"
             ],
             [
              1,
              "#f0f921"
             ]
            ],
            "type": "heatmapgl"
           }
          ],
          "histogram": [
           {
            "marker": {
             "pattern": {
              "fillmode": "overlay",
              "size": 10,
              "solidity": 0.2
             }
            },
            "type": "histogram"
           }
          ],
          "histogram2d": [
           {
            "colorbar": {
             "outlinewidth": 0,
             "ticks": ""
            },
            "colorscale": [
             [
              0,
              "#0d0887"
             ],
             [
              0.1111111111111111,
              "#46039f"
             ],
             [
              0.2222222222222222,
              "#7201a8"
             ],
             [
              0.3333333333333333,
              "#9c179e"
             ],
             [
              0.4444444444444444,
              "#bd3786"
             ],
             [
              0.5555555555555556,
              "#d8576b"
             ],
             [
              0.6666666666666666,
              "#ed7953"
             ],
             [
              0.7777777777777778,
              "#fb9f3a"
             ],
             [
              0.8888888888888888,
              "#fdca26"
             ],
             [
              1,
              "#f0f921"
             ]
            ],
            "type": "histogram2d"
           }
          ],
          "histogram2dcontour": [
           {
            "colorbar": {
             "outlinewidth": 0,
             "ticks": ""
            },
            "colorscale": [
             [
              0,
              "#0d0887"
             ],
             [
              0.1111111111111111,
              "#46039f"
             ],
             [
              0.2222222222222222,
              "#7201a8"
             ],
             [
              0.3333333333333333,
              "#9c179e"
             ],
             [
              0.4444444444444444,
              "#bd3786"
             ],
             [
              0.5555555555555556,
              "#d8576b"
             ],
             [
              0.6666666666666666,
              "#ed7953"
             ],
             [
              0.7777777777777778,
              "#fb9f3a"
             ],
             [
              0.8888888888888888,
              "#fdca26"
             ],
             [
              1,
              "#f0f921"
             ]
            ],
            "type": "histogram2dcontour"
           }
          ],
          "mesh3d": [
           {
            "colorbar": {
             "outlinewidth": 0,
             "ticks": ""
            },
            "type": "mesh3d"
           }
          ],
          "parcoords": [
           {
            "line": {
             "colorbar": {
              "outlinewidth": 0,
              "ticks": ""
             }
            },
            "type": "parcoords"
           }
          ],
          "pie": [
           {
            "automargin": true,
            "type": "pie"
           }
          ],
          "scatter": [
           {
            "marker": {
             "colorbar": {
              "outlinewidth": 0,
              "ticks": ""
             }
            },
            "type": "scatter"
           }
          ],
          "scatter3d": [
           {
            "line": {
             "colorbar": {
              "outlinewidth": 0,
              "ticks": ""
             }
            },
            "marker": {
             "colorbar": {
              "outlinewidth": 0,
              "ticks": ""
             }
            },
            "type": "scatter3d"
           }
          ],
          "scattercarpet": [
           {
            "marker": {
             "colorbar": {
              "outlinewidth": 0,
              "ticks": ""
             }
            },
            "type": "scattercarpet"
           }
          ],
          "scattergeo": [
           {
            "marker": {
             "colorbar": {
              "outlinewidth": 0,
              "ticks": ""
             }
            },
            "type": "scattergeo"
           }
          ],
          "scattergl": [
           {
            "marker": {
             "colorbar": {
              "outlinewidth": 0,
              "ticks": ""
             }
            },
            "type": "scattergl"
           }
          ],
          "scattermapbox": [
           {
            "marker": {
             "colorbar": {
              "outlinewidth": 0,
              "ticks": ""
             }
            },
            "type": "scattermapbox"
           }
          ],
          "scatterpolar": [
           {
            "marker": {
             "colorbar": {
              "outlinewidth": 0,
              "ticks": ""
             }
            },
            "type": "scatterpolar"
           }
          ],
          "scatterpolargl": [
           {
            "marker": {
             "colorbar": {
              "outlinewidth": 0,
              "ticks": ""
             }
            },
            "type": "scatterpolargl"
           }
          ],
          "scatterternary": [
           {
            "marker": {
             "colorbar": {
              "outlinewidth": 0,
              "ticks": ""
             }
            },
            "type": "scatterternary"
           }
          ],
          "surface": [
           {
            "colorbar": {
             "outlinewidth": 0,
             "ticks": ""
            },
            "colorscale": [
             [
              0,
              "#0d0887"
             ],
             [
              0.1111111111111111,
              "#46039f"
             ],
             [
              0.2222222222222222,
              "#7201a8"
             ],
             [
              0.3333333333333333,
              "#9c179e"
             ],
             [
              0.4444444444444444,
              "#bd3786"
             ],
             [
              0.5555555555555556,
              "#d8576b"
             ],
             [
              0.6666666666666666,
              "#ed7953"
             ],
             [
              0.7777777777777778,
              "#fb9f3a"
             ],
             [
              0.8888888888888888,
              "#fdca26"
             ],
             [
              1,
              "#f0f921"
             ]
            ],
            "type": "surface"
           }
          ],
          "table": [
           {
            "cells": {
             "fill": {
              "color": "#EBF0F8"
             },
             "line": {
              "color": "white"
             }
            },
            "header": {
             "fill": {
              "color": "#C8D4E3"
             },
             "line": {
              "color": "white"
             }
            },
            "type": "table"
           }
          ]
         },
         "layout": {
          "annotationdefaults": {
           "arrowcolor": "#2a3f5f",
           "arrowhead": 0,
           "arrowwidth": 1
          },
          "autotypenumbers": "strict",
          "coloraxis": {
           "colorbar": {
            "outlinewidth": 0,
            "ticks": ""
           }
          },
          "colorscale": {
           "diverging": [
            [
             0,
             "#8e0152"
            ],
            [
             0.1,
             "#c51b7d"
            ],
            [
             0.2,
             "#de77ae"
            ],
            [
             0.3,
             "#f1b6da"
            ],
            [
             0.4,
             "#fde0ef"
            ],
            [
             0.5,
             "#f7f7f7"
            ],
            [
             0.6,
             "#e6f5d0"
            ],
            [
             0.7,
             "#b8e186"
            ],
            [
             0.8,
             "#7fbc41"
            ],
            [
             0.9,
             "#4d9221"
            ],
            [
             1,
             "#276419"
            ]
           ],
           "sequential": [
            [
             0,
             "#0d0887"
            ],
            [
             0.1111111111111111,
             "#46039f"
            ],
            [
             0.2222222222222222,
             "#7201a8"
            ],
            [
             0.3333333333333333,
             "#9c179e"
            ],
            [
             0.4444444444444444,
             "#bd3786"
            ],
            [
             0.5555555555555556,
             "#d8576b"
            ],
            [
             0.6666666666666666,
             "#ed7953"
            ],
            [
             0.7777777777777778,
             "#fb9f3a"
            ],
            [
             0.8888888888888888,
             "#fdca26"
            ],
            [
             1,
             "#f0f921"
            ]
           ],
           "sequentialminus": [
            [
             0,
             "#0d0887"
            ],
            [
             0.1111111111111111,
             "#46039f"
            ],
            [
             0.2222222222222222,
             "#7201a8"
            ],
            [
             0.3333333333333333,
             "#9c179e"
            ],
            [
             0.4444444444444444,
             "#bd3786"
            ],
            [
             0.5555555555555556,
             "#d8576b"
            ],
            [
             0.6666666666666666,
             "#ed7953"
            ],
            [
             0.7777777777777778,
             "#fb9f3a"
            ],
            [
             0.8888888888888888,
             "#fdca26"
            ],
            [
             1,
             "#f0f921"
            ]
           ]
          },
          "colorway": [
           "#636efa",
           "#EF553B",
           "#00cc96",
           "#ab63fa",
           "#FFA15A",
           "#19d3f3",
           "#FF6692",
           "#B6E880",
           "#FF97FF",
           "#FECB52"
          ],
          "font": {
           "color": "#2a3f5f"
          },
          "geo": {
           "bgcolor": "white",
           "lakecolor": "white",
           "landcolor": "#E5ECF6",
           "showlakes": true,
           "showland": true,
           "subunitcolor": "white"
          },
          "hoverlabel": {
           "align": "left"
          },
          "hovermode": "closest",
          "mapbox": {
           "style": "light"
          },
          "paper_bgcolor": "white",
          "plot_bgcolor": "#E5ECF6",
          "polar": {
           "angularaxis": {
            "gridcolor": "white",
            "linecolor": "white",
            "ticks": ""
           },
           "bgcolor": "#E5ECF6",
           "radialaxis": {
            "gridcolor": "white",
            "linecolor": "white",
            "ticks": ""
           }
          },
          "scene": {
           "xaxis": {
            "backgroundcolor": "#E5ECF6",
            "gridcolor": "white",
            "gridwidth": 2,
            "linecolor": "white",
            "showbackground": true,
            "ticks": "",
            "zerolinecolor": "white"
           },
           "yaxis": {
            "backgroundcolor": "#E5ECF6",
            "gridcolor": "white",
            "gridwidth": 2,
            "linecolor": "white",
            "showbackground": true,
            "ticks": "",
            "zerolinecolor": "white"
           },
           "zaxis": {
            "backgroundcolor": "#E5ECF6",
            "gridcolor": "white",
            "gridwidth": 2,
            "linecolor": "white",
            "showbackground": true,
            "ticks": "",
            "zerolinecolor": "white"
           }
          },
          "shapedefaults": {
           "line": {
            "color": "#2a3f5f"
           }
          },
          "ternary": {
           "aaxis": {
            "gridcolor": "white",
            "linecolor": "white",
            "ticks": ""
           },
           "baxis": {
            "gridcolor": "white",
            "linecolor": "white",
            "ticks": ""
           },
           "bgcolor": "#E5ECF6",
           "caxis": {
            "gridcolor": "white",
            "linecolor": "white",
            "ticks": ""
           }
          },
          "title": {
           "x": 0.05
          },
          "xaxis": {
           "automargin": true,
           "gridcolor": "white",
           "linecolor": "white",
           "ticks": "",
           "title": {
            "standoff": 15
           },
           "zerolinecolor": "white",
           "zerolinewidth": 2
          },
          "yaxis": {
           "automargin": true,
           "gridcolor": "white",
           "linecolor": "white",
           "ticks": "",
           "title": {
            "standoff": 15
           },
           "zerolinecolor": "white",
           "zerolinewidth": 2
          }
         }
        },
        "title": {
         "text": "Slice Plot"
        },
        "xaxis": {
         "anchor": "y",
         "autorange": true,
         "domain": [
          0,
          0.45
         ],
         "range": [
          -0.03984235049038627,
          1.055621479510505
         ],
         "title": {
          "text": "colsample_bytree"
         },
         "type": "linear"
        },
        "xaxis2": {
         "anchor": "y2",
         "autorange": true,
         "domain": [
          0.55,
          1
         ],
         "range": [
          -1.8807396090208894,
          0.07622104734018703
         ],
         "title": {
          "text": "learning_rate"
         },
         "type": "log"
        },
        "yaxis": {
         "anchor": "x",
         "autorange": true,
         "domain": [
          0,
          1
         ],
         "range": [
          -37364102112488830,
          914793499718381000
         ],
         "title": {
          "text": "Objective Value"
         },
         "type": "linear"
        },
        "yaxis2": {
         "anchor": "x2",
         "autorange": true,
         "domain": [
          0,
          1
         ],
         "matches": "y",
         "range": [
          -37364102112488830,
          914793499718381000
         ],
         "showticklabels": false,
         "type": "linear"
        }
       }
      },
      "image/png": "[encoded data removed]",
      "text/html": [
       "<div>                            <div id=\"5260a081-effc-45af-8308-1d4aa26a7bf7\" class=\"plotly-graph-div\" style=\"height:525px; width:100%;\"></div>            <script type=\"text/javascript\">                require([\"plotly\"], function(Plotly) {                    window.PLOTLYENV=window.PLOTLYENV || {};                                    if (document.getElementById(\"5260a081-effc-45af-8308-1d4aa26a7bf7\")) {                    Plotly.newPlot(                        \"5260a081-effc-45af-8308-1d4aa26a7bf7\",                        [{\"marker\":{\"color\":[0,1,3,4,16,24,47,63,106,111,114,138,144,148,161,163,164,175],\"colorbar\":{\"title\":{\"text\":\"#Trials\"},\"x\":1.0,\"xpad\":40},\"colorscale\":[[0.0,\"rgb(247,251,255)\"],[0.125,\"rgb(222,235,247)\"],[0.25,\"rgb(198,219,239)\"],[0.375,\"rgb(158,202,225)\"],[0.5,\"rgb(107,174,214)\"],[0.625,\"rgb(66,146,198)\"],[0.75,\"rgb(33,113,181)\"],[0.875,\"rgb(8,81,156)\"],[1.0,\"rgb(8,48,107)\"]],\"line\":{\"color\":\"Grey\",\"width\":0.5},\"showscale\":true},\"mode\":\"markers\",\"showlegend\":false,\"type\":\"scatter\",\"x\":[0.3490742100916358,0.3771294221196161,0.6390911333710436,0.7087852543805064,0.02226326289721447,0.9934256379533326,0.7161934927199024,0.66425111323201,0.6432990691266612,0.9935158661229043,0.974954776800856,0.8608538040501976,0.7815329664206725,0.9922451397332521,0.9756526552052975,0.9798762974399796,0.9766666874831331,0.8720459128910483],\"xaxis\":\"x\",\"y\":[1.7117832331907008e+17,1.9431207279083024e+17,6.20991597998122e+16,5.717488499254613e+16,5.7234431631902304e+17,6.067199200162924e+16,9.621128188573418e+16,8.473490029220278e+17,1.7245342432297952e+17,7.149547873325164e+16,4.968402520879543e+16,5.917439666231329e+16,5.467572966287319e+16,3.0080394683864452e+16,5.161013803946613e+16,5.006424375458444e+16,5.3895787371721896e+16,3.626151347598645e+16],\"yaxis\":\"y\"},{\"marker\":{\"color\":[0,1,3,4,16,24,47,63,106,111,114,138,144,148,161,163,164,175],\"colorbar\":{\"title\":{\"text\":\"#Trials\"},\"x\":1.0,\"xpad\":40},\"colorscale\":[[0.0,\"rgb(247,251,255)\"],[0.125,\"rgb(222,235,247)\"],[0.25,\"rgb(198,219,239)\"],[0.375,\"rgb(158,202,225)\"],[0.5,\"rgb(107,174,214)\"],[0.625,\"rgb(66,146,198)\"],[0.75,\"rgb(33,113,181)\"],[0.875,\"rgb(8,81,156)\"],[1.0,\"rgb(8,48,107)\"]],\"line\":{\"color\":\"Grey\",\"width\":0.5},\"showscale\":false},\"mode\":\"markers\",\"showlegend\":false,\"type\":\"scatter\",\"x\":[0.38418484570659567,0.5385852501816885,0.04413605627205777,0.0616696318329643,0.4388707007201298,0.821177333460891,0.7455809700540055,0.01699054161830421,0.9231541256933699,0.7473493355767319,0.7063153974116304,0.7750732662932516,0.6278801201049786,0.26395666956334923,0.674897719479879,0.6709617042970386,0.8207145741933711,0.41248814134622924],\"xaxis\":\"x2\",\"y\":[1.7117832331907008e+17,1.9431207279083024e+17,6.20991597998122e+16,5.717488499254613e+16,5.7234431631902304e+17,6.067199200162924e+16,9.621128188573418e+16,8.473490029220278e+17,1.7245342432297952e+17,7.149547873325164e+16,4.968402520879543e+16,5.917439666231329e+16,5.467572966287319e+16,3.0080394683864452e+16,5.161013803946613e+16,5.006424375458444e+16,5.3895787371721896e+16,3.626151347598645e+16],\"yaxis\":\"y2\"}],                        {\"template\":{\"data\":{\"bar\":[{\"error_x\":{\"color\":\"#2a3f5f\"},\"error_y\":{\"color\":\"#2a3f5f\"},\"marker\":{\"line\":{\"color\":\"#E5ECF6\",\"width\":0.5},\"pattern\":{\"fillmode\":\"overlay\",\"size\":10,\"solidity\":0.2}},\"type\":\"bar\"}],\"barpolar\":[{\"marker\":{\"line\":{\"color\":\"#E5ECF6\",\"width\":0.5},\"pattern\":{\"fillmode\":\"overlay\",\"size\":10,\"solidity\":0.2}},\"type\":\"barpolar\"}],\"carpet\":[{\"aaxis\":{\"endlinecolor\":\"#2a3f5f\",\"gridcolor\":\"white\",\"linecolor\":\"white\",\"minorgridcolor\":\"white\",\"startlinecolor\":\"#2a3f5f\"},\"baxis\":{\"endlinecolor\":\"#2a3f5f\",\"gridcolor\":\"white\",\"linecolor\":\"white\",\"minorgridcolor\":\"white\",\"startlinecolor\":\"#2a3f5f\"},\"type\":\"carpet\"}],\"choropleth\":[{\"colorbar\":{\"outlinewidth\":0,\"ticks\":\"\"},\"type\":\"choropleth\"}],\"contour\":[{\"colorbar\":{\"outlinewidth\":0,\"ticks\":\"\"},\"colorscale\":[[0.0,\"#0d0887\"],[0.1111111111111111,\"#46039f\"],[0.2222222222222222,\"#7201a8\"],[0.3333333333333333,\"#9c179e\"],[0.4444444444444444,\"#bd3786\"],[0.5555555555555556,\"#d8576b\"],[0.6666666666666666,\"#ed7953\"],[0.7777777777777778,\"#fb9f3a\"],[0.8888888888888888,\"#fdca26\"],[1.0,\"#f0f921\"]],\"type\":\"contour\"}],\"contourcarpet\":[{\"colorbar\":{\"outlinewidth\":0,\"ticks\":\"\"},\"type\":\"contourcarpet\"}],\"heatmap\":[{\"colorbar\":{\"outlinewidth\":0,\"ticks\":\"\"},\"colorscale\":[[0.0,\"#0d0887\"],[0.1111111111111111,\"#46039f\"],[0.2222222222222222,\"#7201a8\"],[0.3333333333333333,\"#9c179e\"],[0.4444444444444444,\"#bd3786\"],[0.5555555555555556,\"#d8576b\"],[0.6666666666666666,\"#ed7953\"],[0.7777777777777778,\"#fb9f3a\"],[0.8888888888888888,\"#fdca26\"],[1.0,\"#f0f921\"]],\"type\":\"heatmap\"}],\"heatmapgl\":[{\"colorbar\":{\"outlinewidth\":0,\"ticks\":\"\"},\"colorscale\":[[0.0,\"#0d0887\"],[0.1111111111111111,\"#46039f\"],[0.2222222222222222,\"#7201a8\"],[0.3333333333333333,\"#9c179e\"],[0.4444444444444444,\"#bd3786\"],[0.5555555555555556,\"#d8576b\"],[0.6666666666666666,\"#ed7953\"],[0.7777777777777778,\"#fb9f3a\"],[0.8888888888888888,\"#fdca26\"],[1.0,\"#f0f921\"]],\"type\":\"heatmapgl\"}],\"histogram\":[{\"marker\":{\"pattern\":{\"fillmode\":\"overlay\",\"size\":10,\"solidity\":0.2}},\"type\":\"histogram\"}],\"histogram2d\":[{\"colorbar\":{\"outlinewidth\":0,\"ticks\":\"\"},\"colorscale\":[[0.0,\"#0d0887\"],[0.1111111111111111,\"#46039f\"],[0.2222222222222222,\"#7201a8\"],[0.3333333333333333,\"#9c179e\"],[0.4444444444444444,\"#bd3786\"],[0.5555555555555556,\"#d8576b\"],[0.6666666666666666,\"#ed7953\"],[0.7777777777777778,\"#fb9f3a\"],[0.8888888888888888,\"#fdca26\"],[1.0,\"#f0f921\"]],\"type\":\"histogram2d\"}],\"histogram2dcontour\":[{\"colorbar\":{\"outlinewidth\":0,\"ticks\":\"\"},\"colorscale\":[[0.0,\"#0d0887\"],[0.1111111111111111,\"#46039f\"],[0.2222222222222222,\"#7201a8\"],[0.3333333333333333,\"#9c179e\"],[0.4444444444444444,\"#bd3786\"],[0.5555555555555556,\"#d8576b\"],[0.6666666666666666,\"#ed7953\"],[0.7777777777777778,\"#fb9f3a\"],[0.8888888888888888,\"#fdca26\"],[1.0,\"#f0f921\"]],\"type\":\"histogram2dcontour\"}],\"mesh3d\":[{\"colorbar\":{\"outlinewidth\":0,\"ticks\":\"\"},\"type\":\"mesh3d\"}],\"parcoords\":[{\"line\":{\"colorbar\":{\"outlinewidth\":0,\"ticks\":\"\"}},\"type\":\"parcoords\"}],\"pie\":[{\"automargin\":true,\"type\":\"pie\"}],\"scatter\":[{\"marker\":{\"colorbar\":{\"outlinewidth\":0,\"ticks\":\"\"}},\"type\":\"scatter\"}],\"scatter3d\":[{\"line\":{\"colorbar\":{\"outlinewidth\":0,\"ticks\":\"\"}},\"marker\":{\"colorbar\":{\"outlinewidth\":0,\"ticks\":\"\"}},\"type\":\"scatter3d\"}],\"scattercarpet\":[{\"marker\":{\"colorbar\":{\"outlinewidth\":0,\"ticks\":\"\"}},\"type\":\"scattercarpet\"}],\"scattergeo\":[{\"marker\":{\"colorbar\":{\"outlinewidth\":0,\"ticks\":\"\"}},\"type\":\"scattergeo\"}],\"scattergl\":[{\"marker\":{\"colorbar\":{\"outlinewidth\":0,\"ticks\":\"\"}},\"type\":\"scattergl\"}],\"scattermapbox\":[{\"marker\":{\"colorbar\":{\"outlinewidth\":0,\"ticks\":\"\"}},\"type\":\"scattermapbox\"}],\"scatterpolar\":[{\"marker\":{\"colorbar\":{\"outlinewidth\":0,\"ticks\":\"\"}},\"type\":\"scatterpolar\"}],\"scatterpolargl\":[{\"marker\":{\"colorbar\":{\"outlinewidth\":0,\"ticks\":\"\"}},\"type\":\"scatterpolargl\"}],\"scatterternary\":[{\"marker\":{\"colorbar\":{\"outlinewidth\":0,\"ticks\":\"\"}},\"type\":\"scatterternary\"}],\"surface\":[{\"colorbar\":{\"outlinewidth\":0,\"ticks\":\"\"},\"colorscale\":[[0.0,\"#0d0887\"],[0.1111111111111111,\"#46039f\"],[0.2222222222222222,\"#7201a8\"],[0.3333333333333333,\"#9c179e\"],[0.4444444444444444,\"#bd3786\"],[0.5555555555555556,\"#d8576b\"],[0.6666666666666666,\"#ed7953\"],[0.7777777777777778,\"#fb9f3a\"],[0.8888888888888888,\"#fdca26\"],[1.0,\"#f0f921\"]],\"type\":\"surface\"}],\"table\":[{\"cells\":{\"fill\":{\"color\":\"#EBF0F8\"},\"line\":{\"color\":\"white\"}},\"header\":{\"fill\":{\"color\":\"#C8D4E3\"},\"line\":{\"color\":\"white\"}},\"type\":\"table\"}]},\"layout\":{\"annotationdefaults\":{\"arrowcolor\":\"#2a3f5f\",\"arrowhead\":0,\"arrowwidth\":1},\"autotypenumbers\":\"strict\",\"coloraxis\":{\"colorbar\":{\"outlinewidth\":0,\"ticks\":\"\"}},\"colorscale\":{\"diverging\":[[0,\"#8e0152\"],[0.1,\"#c51b7d\"],[0.2,\"#de77ae\"],[0.3,\"#f1b6da\"],[0.4,\"#fde0ef\"],[0.5,\"#f7f7f7\"],[0.6,\"#e6f5d0\"],[0.7,\"#b8e186\"],[0.8,\"#7fbc41\"],[0.9,\"#4d9221\"],[1,\"#276419\"]],\"sequential\":[[0.0,\"#0d0887\"],[0.1111111111111111,\"#46039f\"],[0.2222222222222222,\"#7201a8\"],[0.3333333333333333,\"#9c179e\"],[0.4444444444444444,\"#bd3786\"],[0.5555555555555556,\"#d8576b\"],[0.6666666666666666,\"#ed7953\"],[0.7777777777777778,\"#fb9f3a\"],[0.8888888888888888,\"#fdca26\"],[1.0,\"#f0f921\"]],\"sequentialminus\":[[0.0,\"#0d0887\"],[0.1111111111111111,\"#46039f\"],[0.2222222222222222,\"#7201a8\"],[0.3333333333333333,\"#9c179e\"],[0.4444444444444444,\"#bd3786\"],[0.5555555555555556,\"#d8576b\"],[0.6666666666666666,\"#ed7953\"],[0.7777777777777778,\"#fb9f3a\"],[0.8888888888888888,\"#fdca26\"],[1.0,\"#f0f921\"]]},\"colorway\":[\"#636efa\",\"#EF553B\",\"#00cc96\",\"#ab63fa\",\"#FFA15A\",\"#19d3f3\",\"#FF6692\",\"#B6E880\",\"#FF97FF\",\"#FECB52\"],\"font\":{\"color\":\"#2a3f5f\"},\"geo\":{\"bgcolor\":\"white\",\"lakecolor\":\"white\",\"landcolor\":\"#E5ECF6\",\"showlakes\":true,\"showland\":true,\"subunitcolor\":\"white\"},\"hoverlabel\":{\"align\":\"left\"},\"hovermode\":\"closest\",\"mapbox\":{\"style\":\"light\"},\"paper_bgcolor\":\"white\",\"plot_bgcolor\":\"#E5ECF6\",\"polar\":{\"angularaxis\":{\"gridcolor\":\"white\",\"linecolor\":\"white\",\"ticks\":\"\"},\"bgcolor\":\"#E5ECF6\",\"radialaxis\":{\"gridcolor\":\"white\",\"linecolor\":\"white\",\"ticks\":\"\"}},\"scene\":{\"xaxis\":{\"backgroundcolor\":\"#E5ECF6\",\"gridcolor\":\"white\",\"gridwidth\":2,\"linecolor\":\"white\",\"showbackground\":true,\"ticks\":\"\",\"zerolinecolor\":\"white\"},\"yaxis\":{\"backgroundcolor\":\"#E5ECF6\",\"gridcolor\":\"white\",\"gridwidth\":2,\"linecolor\":\"white\",\"showbackground\":true,\"ticks\":\"\",\"zerolinecolor\":\"white\"},\"zaxis\":{\"backgroundcolor\":\"#E5ECF6\",\"gridcolor\":\"white\",\"gridwidth\":2,\"linecolor\":\"white\",\"showbackground\":true,\"ticks\":\"\",\"zerolinecolor\":\"white\"}},\"shapedefaults\":{\"line\":{\"color\":\"#2a3f5f\"}},\"ternary\":{\"aaxis\":{\"gridcolor\":\"white\",\"linecolor\":\"white\",\"ticks\":\"\"},\"baxis\":{\"gridcolor\":\"white\",\"linecolor\":\"white\",\"ticks\":\"\"},\"bgcolor\":\"#E5ECF6\",\"caxis\":{\"gridcolor\":\"white\",\"linecolor\":\"white\",\"ticks\":\"\"}},\"title\":{\"x\":0.05},\"xaxis\":{\"automargin\":true,\"gridcolor\":\"white\",\"linecolor\":\"white\",\"ticks\":\"\",\"title\":{\"standoff\":15},\"zerolinecolor\":\"white\",\"zerolinewidth\":2},\"yaxis\":{\"automargin\":true,\"gridcolor\":\"white\",\"linecolor\":\"white\",\"ticks\":\"\",\"title\":{\"standoff\":15},\"zerolinecolor\":\"white\",\"zerolinewidth\":2}}},\"title\":{\"text\":\"Slice Plot\"},\"xaxis\":{\"anchor\":\"y\",\"domain\":[0.0,0.45],\"title\":{\"text\":\"colsample_bytree\"}},\"xaxis2\":{\"anchor\":\"y2\",\"domain\":[0.55,1.0],\"title\":{\"text\":\"learning_rate\"},\"type\":\"log\"},\"yaxis\":{\"anchor\":\"x\",\"domain\":[0.0,1.0],\"title\":{\"text\":\"Objective Value\"}},\"yaxis2\":{\"anchor\":\"x2\",\"domain\":[0.0,1.0],\"matches\":\"y\",\"showticklabels\":false}},                        {\"responsive\": true}                    ).then(function(){\n",
       "                            \n",
       "var gd = document.getElementById('5260a081-effc-45af-8308-1d4aa26a7bf7');\n",
       "var x = new MutationObserver(function (mutations, observer) {{\n",
       "        var display = window.getComputedStyle(gd).display;\n",
       "        if (!display || display === 'none') {{\n",
       "            console.log([gd, 'removed!']);\n",
       "            Plotly.purge(gd);\n",
       "            observer.disconnect();\n",
       "        }}\n",
       "}});\n",
       "\n",
       "// Listen for the removal of the full notebook cells\n",
       "var notebookContainer = gd.closest('#notebook-container');\n",
       "if (notebookContainer) {{\n",
       "    x.observe(notebookContainer, {childList: true});\n",
       "}}\n",
       "\n",
       "// Listen for the clearing of the current output cell\n",
       "var outputEl = gd.closest('.output');\n",
       "if (outputEl) {{\n",
       "    x.observe(outputEl, {childList: true});\n",
       "}}\n",
       "\n",
       "                        })                };                });            </script>        </div>"
      ]
     },
     "metadata": {},
     "output_type": "display_data"
    }
   ],
   "source": [
    "optuna.visualization.plot_slice(study, params=['colsample_bytree', 'learning_rate'])"
   ]
  },
  {
   "cell_type": "code",
   "execution_count": 19,
   "metadata": {},
   "outputs": [
    {
     "data": {
      "application/vnd.plotly.v1+json": {
       "config": {
        "plotlyServerURL": "https://plot.ly"
       },
       "data": [
        {
         "marker": {
          "maxdisplayed": 10
         },
         "mode": "lines+markers",
         "name": "Trial0",
         "type": "scatter",
         "x": [
          0,
          1,
          2,
          3,
          4,
          5,
          6,
          7,
          8,
          9,
          10,
          11,
          12,
          13,
          14,
          15,
          16,
          17,
          18,
          19,
          20,
          21,
          22,
          23,
          24,
          25,
          26,
          27,
          28,
          29,
          30,
          31,
          32,
          33,
          34,
          35,
          36,
          37,
          38,
          39,
          40,
          41,
          42,
          43,
          44,
          45,
          46,
          47,
          48,
          49,
          50,
          51,
          52,
          53,
          54,
          55,
          56,
          57,
          58,
          59,
          60,
          61,
          62,
          63,
          64,
          65,
          66,
          67,
          68,
          69,
          70,
          71,
          72,
          73,
          74,
          75,
          76,
          77,
          78,
          79,
          80,
          81,
          82,
          83,
          84,
          85,
          86,
          87,
          88,
          89,
          90,
          91,
          92,
          93,
          94,
          95,
          96,
          97,
          98,
          99
         ],
         "y": [
          978.6124574474325,
          970.7222814382148,
          685.4810084635802,
          436.92773558632535,
          271.5132864886815,
          221.49686245949906,
          192.5014592831718,
          157.8201276370296,
          125.55486822325605,
          121.12965308260378,
          105.18945041660709,
          104.26332982240085,
          98.97584116171151,
          101.37069618219219,
          101.88625471815931,
          101.61624941687766,
          96.21295114477932,
          95.90200469568747,
          94.3162662575958,
          85.96105070876536,
          83.42172440645032,
          72.26009905210002,
          61.924442081992616,
          61.56738220659679,
          61.16218384735557,
          60.73264681559982,
          59.498285421123605,
          59.76738575472881,
          59.78630274641726,
          59.91731725433036,
          59.416027566684406,
          59.057854497453,
          58.79569578882848,
          57.296408025233305,
          56.29670676353368,
          56.68443060681675,
          55.51579112617039,
          55.771541730554524,
          55.77004522086683,
          55.80151932784527,
          55.538361293922904,
          55.568168805154194,
          55.57185919659406,
          55.43562293799626,
          55.428811798367505,
          55.441698012904574,
          55.40567008798432,
          55.28958303618144,
          54.973482179423584,
          54.77218210284372,
          54.245648745708856,
          53.99737249005277,
          53.98542870235694,
          52.535896325969205,
          51.479724306942146,
          51.30008323649435,
          51.39404941251596,
          50.643227994452616,
          50.1959706383368,
          50.28178884084535,
          49.723953267703045,
          49.90536289416696,
          49.69274937930345,
          49.64187417475322,
          48.582559917143556,
          48.23802877102223,
          48.11250552828069,
          48.06210109994749,
          48.08031141272747,
          48.097439999425895,
          48.04205800468349,
          48.13538508012893,
          47.54602791596926,
          46.98460298153345,
          46.2698015128861,
          46.23024032926146,
          46.02441411061601,
          45.699851967955794,
          45.23895744990155,
          45.270345368024216,
          45.17144648844229,
          45.16776969012019,
          45.025518020960455,
          44.78256368549334,
          44.78987606534488,
          44.66432674152557,
          44.14788980819336,
          42.480534469564745,
          42.5224195332314,
          41.64986416554661,
          40.37669153569294,
          40.22253625735517,
          40.062375492520395,
          40.03985720043369,
          40.11285191280347,
          40.0099910578696,
          39.90843947460522,
          39.71240178746817,
          38.17494717326049,
          38.08529746131615
         ]
        },
        {
         "marker": {
          "maxdisplayed": 10
         },
         "mode": "lines+markers",
         "name": "Trial1",
         "type": "scatter",
         "x": [
          0,
          1,
          2,
          3,
          4,
          5,
          6,
          7,
          8,
          9,
          10,
          11,
          12,
          13,
          14,
          15,
          16,
          17,
          18,
          19,
          20,
          21,
          22,
          23,
          24,
          25,
          26,
          27,
          28,
          29,
          30,
          31,
          32,
          33,
          34,
          35,
          36,
          37,
          38,
          39,
          40,
          41,
          42,
          43,
          44,
          45,
          46,
          47,
          48,
          49,
          50,
          51,
          52,
          53,
          54,
          55,
          56,
          57,
          58,
          59,
          60,
          61,
          62,
          63,
          64,
          65,
          66,
          67,
          68,
          69,
          70,
          71,
          72,
          73,
          74,
          75,
          76,
          77,
          78,
          79,
          80,
          81,
          82,
          83,
          84,
          85,
          86,
          87,
          88,
          89,
          90,
          91,
          92,
          93,
          94,
          95,
          96,
          97,
          98,
          99
         ],
         "y": [
          498.43677468637986,
          224.27546925361116,
          111.56120603063322,
          106.68884500532735,
          69.29535425399997,
          49.015466684621444,
          57.844679878657594,
          52.27351008840144,
          55.05818828562114,
          58.8975790012109,
          66.39586963309905,
          71.06930738477273,
          61.071015044393796,
          57.02058618336435,
          57.39037874312679,
          56.21812646379492,
          55.87403889316236,
          56.0319839323593,
          55.852218076760295,
          56.19267253738172,
          55.70777106655989,
          55.5386662643014,
          55.944305776708475,
          55.027493959516754,
          57.12704552800847,
          55.95006659368145,
          56.50790612537091,
          56.137292708588696,
          56.48311493453156,
          56.96291873916126,
          57.14256278385363,
          52.33237385553112,
          49.72691601125584,
          49.34688233590889,
          50.5051736053416,
          49.40698562739991,
          49.37571830892367,
          48.92259881298464,
          47.27595265273784,
          47.018138619390584,
          46.97297139920088,
          46.8467147406065,
          46.64436716843145,
          46.43450241547676,
          46.813651260199315,
          46.83256551482487,
          47.1167354773653,
          45.375781262382056,
          45.36963516243897,
          44.99555018667511,
          44.809349026016186,
          44.86521524984824,
          44.30824564648501,
          44.05394546991117,
          43.73642670670618,
          43.73761054004038,
          44.33452462544406,
          44.57976386965404,
          44.88424993493668,
          45.09833639876422,
          44.924702851173954,
          44.07251212393505,
          44.119954325392094,
          44.10676489024438,
          44.032452090853766,
          44.1036875424713,
          43.97975592587965,
          43.6391753733382,
          43.75623337400073,
          44.0476210683687,
          44.01103550413714,
          44.377218636078354,
          44.70960481411473,
          44.213845412299534,
          44.073285942867976,
          43.98400008273509,
          44.02654704179795,
          44.07735260130229,
          44.06533161144809,
          44.05100723684464,
          43.85001013763885,
          43.99797659139486,
          44.28577510243706,
          44.37400752676132,
          44.360489607472,
          44.29570416954082,
          44.36142780329983,
          44.09349747098555,
          44.08935455770919,
          43.98471103323506,
          43.935614425216556,
          44.07216251784225,
          43.97130819575179,
          43.968909480289675,
          43.90329756466881,
          43.896914978996996,
          43.54119599872634,
          43.62992329083096,
          43.146391086980174,
          43.224922057391666
         ]
        },
        {
         "marker": {
          "maxdisplayed": 10
         },
         "mode": "lines+markers",
         "name": "Trial2",
         "type": "scatter",
         "x": [
          0,
          1,
          2,
          3
         ],
         "y": [
          963.8982835002349,
          937.47049951805,
          911.7606102222971,
          892.5669291715752
         ]
        },
        {
         "marker": {
          "maxdisplayed": 10
         },
         "mode": "lines+markers",
         "name": "Trial3",
         "type": "scatter",
         "x": [
          0,
          1,
          2,
          3,
          4,
          5,
          6,
          7,
          8,
          9,
          10,
          11,
          12,
          13,
          14,
          15,
          16,
          17,
          18,
          19,
          20,
          21,
          22,
          23,
          24,
          25,
          26,
          27,
          28,
          29,
          30,
          31,
          32,
          33,
          34,
          35,
          36,
          37,
          38,
          39,
          40,
          41,
          42,
          43,
          44,
          45,
          46,
          47,
          48,
          49,
          50,
          51,
          52,
          53,
          54,
          55,
          56,
          57,
          58,
          59,
          60,
          61,
          62,
          63,
          64,
          65,
          66,
          67,
          68,
          69,
          70,
          71,
          72,
          73,
          74,
          75,
          76,
          77,
          78,
          79,
          80,
          81,
          82,
          83,
          84,
          85,
          86,
          87,
          88,
          89,
          90,
          91,
          92,
          93,
          94,
          95,
          96,
          97,
          98,
          99
         ],
         "y": [
          944.4888868500869,
          902.7882820876882,
          862.8941684964967,
          827.9378946845951,
          791.3329987238868,
          778.4092047971732,
          744.0534249091128,
          711.1693219195007,
          679.7353560020719,
          649.6917806523487,
          620.9631871897258,
          593.5113564937503,
          567.2603618143244,
          542.1972896346543,
          518.244314086258,
          495.3663917016197,
          475.6733293881569,
          454.6686775574982,
          434.56092406174685,
          415.33706432358514,
          396.97880817818674,
          379.41666370045317,
          362.6052603573331,
          346.5277763712875,
          331.2010526201018,
          316.6114648451754,
          305.5644919107086,
          292.0514617721327,
          279.18347112981525,
          266.831626108167,
          255.01076218851696,
          243.7478139487238,
          232.9123351535525,
          222.62207298323256,
          212.79267246373252,
          203.3436752195198,
          194.3788276469828,
          185.7755475026997,
          177.60973147759952,
          169.73864227025518,
          162.208370119143,
          154.96900469085472,
          148.1228189602327,
          141.5901958466193,
          135.32293650057977,
          130.4109222224682,
          124.62985249832319,
          119.35619112238287,
          114.0814016382111,
          109.02232272017119,
          104.26258877368177,
          99.51534286839217,
          95.11385141319536,
          90.93701068360802,
          86.91660316032419,
          83.07872274451819,
          80.1276843926109,
          76.93423631169263,
          73.48286499946028,
          69.96315142424295,
          66.9141668493433,
          64.1141714065647,
          63.157633684411685,
          60.37468209342319,
          57.64481575144155,
          55.25147418744102,
          52.821796142140165,
          50.47610076271617,
          48.222531629446266,
          46.17379581577805,
          44.1258550107079,
          42.1603990334726,
          40.29297405944527,
          38.53751543827519,
          36.829330157482964,
          35.51262765326757,
          33.932604438851804,
          32.35498845019951,
          30.929496160825813,
          29.39116066637842,
          28.61104635415834,
          27.029107896018502,
          25.851151267874645,
          25.088786993669622,
          24.1179208714114,
          23.22123073717672,
          22.181828780300556,
          21.16865332365877,
          20.778988484082962,
          19.875737300364218,
          19.000919817150926,
          17.942854366064918,
          17.25805721970405,
          16.545974851163344,
          15.90899579043947,
          15.36957972206201,
          15.338996378063381,
          14.886201062764382,
          14.275324697175327,
          13.8780045606305
         ]
        },
        {
         "marker": {
          "maxdisplayed": 10
         },
         "mode": "lines+markers",
         "name": "Trial4",
         "type": "scatter",
         "x": [
          0,
          1,
          2,
          3,
          4,
          5,
          6,
          7,
          8,
          9,
          10,
          11,
          12,
          13,
          14,
          15,
          16,
          17,
          18,
          19,
          20,
          21,
          22,
          23,
          24,
          25,
          26,
          27,
          28,
          29,
          30,
          31,
          32,
          33,
          34,
          35,
          36,
          37,
          38,
          39,
          40,
          41,
          42,
          43,
          44,
          45,
          46,
          47,
          48,
          49,
          50,
          51,
          52,
          53,
          54,
          55,
          56,
          57,
          58,
          59,
          60,
          61,
          62,
          63,
          64,
          65,
          66,
          67,
          68,
          69,
          70,
          71,
          72,
          73,
          74,
          75,
          76,
          77,
          78,
          79,
          80,
          81,
          82,
          83,
          84,
          85,
          86,
          87,
          88,
          89,
          90,
          91,
          92,
          93,
          94,
          95,
          96,
          97,
          98,
          99
         ],
         "y": [
          924.2872066013038,
          867.2560784721506,
          813.7333384006662,
          765.8624834647873,
          718.5981243551652,
          674.2598433349768,
          632.6079307094816,
          593.5197088542244,
          556.8337491429331,
          522.4252455116538,
          490.1716141954585,
          459.85505241363524,
          431.4326329491873,
          404.7434151854224,
          379.71342232749635,
          356.24144361346765,
          336.64006440327324,
          315.76704342441246,
          296.20405370688815,
          277.84790376101404,
          260.65273941909965,
          244.48900929245843,
          229.39218260686627,
          215.1971374447756,
          201.89192981904276,
          189.44606799869777,
          180.15141932386217,
          169.03259339114607,
          158.6248891781194,
          148.89917933278443,
          140.85495027323628,
          132.1614195209148,
          123.95569509449544,
          116.4071252094526,
          109.4070618391315,
          102.69150037126924,
          96.35434230100992,
          90.40676965244096,
          84.96587225351354,
          79.70288893981696,
          75.62123405028818,
          71.48350986580996,
          67.21218163973731,
          63.31731382961542,
          59.3917527315888,
          56.36298736360456,
          52.27613714347405,
          49.76408171933201,
          46.69560431262498,
          43.3799436418601,
          39.92859662422221,
          37.535834569080976,
          36.59699695334024,
          34.39943038025985,
          32.31376891851556,
          30.29788205736381,
          27.97210472038376,
          28.07900154403761,
          26.541133361932694,
          24.282967510465834,
          22.774010643405365,
          21.33581699188284,
          21.672158069724073,
          20.403116200580566,
          19.269536298009754,
          18.04638103006377,
          17.0658512637255,
          16.48198442517118,
          15.669198059115018,
          14.926367301352487,
          14.618780376393282,
          13.623210799780313,
          13.055657476365512,
          12.174381651256885,
          11.405328211142926,
          11.30270794752328,
          11.152512094458412,
          10.811908065055073,
          10.481545529601428,
          10.391234009726595,
          10.593726719094413,
          10.442762478543198,
          10.92875832132904,
          11.172472363981825,
          11.343377731631943,
          11.507672637790154,
          11.547025405367073,
          11.487553881717925,
          11.83358351836462,
          12.022391506758556,
          11.999099486292707,
          12.233806852641937,
          12.304881096412366,
          12.370827566016107,
          12.537790902129444,
          12.510007582141846,
          12.66576425465503,
          12.633478377562266,
          12.647076786560502,
          12.776190087835793
         ]
        },
        {
         "marker": {
          "maxdisplayed": 10
         },
         "mode": "lines+markers",
         "name": "Trial5",
         "type": "scatter",
         "x": [
          0,
          1,
          2,
          3
         ],
         "y": [
          826.9729789080794,
          687.4049948672368,
          571.2068507054091,
          474.55976259921516
         ]
        },
        {
         "marker": {
          "maxdisplayed": 10
         },
         "mode": "lines+markers",
         "name": "Trial6",
         "type": "scatter",
         "x": [
          0,
          1
         ],
         "y": [
          984.7136887555833,
          984.4491153599565
         ]
        },
        {
         "marker": {
          "maxdisplayed": 10
         },
         "mode": "lines+markers",
         "name": "Trial7",
         "type": "scatter",
         "x": [
          0,
          1,
          2,
          3
         ],
         "y": [
          740.7982796290787,
          539.1105164983799,
          392.8871547243455,
          288.32245921230486
         ]
        },
        {
         "marker": {
          "maxdisplayed": 10
         },
         "mode": "lines+markers",
         "name": "Trial8",
         "type": "scatter",
         "x": [
          0,
          1,
          2,
          3
         ],
         "y": [
          886.0949481150319,
          767.8997948621894,
          665.211462660044,
          580.4395535465229
         ]
        },
        {
         "marker": {
          "maxdisplayed": 10
         },
         "mode": "lines+markers",
         "name": "Trial9",
         "type": "scatter",
         "x": [
          0,
          1,
          2,
          3
         ],
         "y": [
          979.4387018457589,
          979.3398650462563,
          979.2555286108177,
          979.197684206057
         ]
        },
        {
         "marker": {
          "maxdisplayed": 10
         },
         "mode": "lines+markers",
         "name": "Trial10",
         "type": "scatter",
         "x": [
          0,
          1,
          2,
          3
         ],
         "y": [
          963.1955130007702,
          946.8669641919836,
          850.3885635365285,
          809.1825900098378
         ]
        },
        {
         "marker": {
          "maxdisplayed": 10
         },
         "mode": "lines+markers",
         "name": "Trial11",
         "type": "scatter",
         "x": [
          0,
          1
         ],
         "y": [
          924.4223828247456,
          918.6456201257636
         ]
        },
        {
         "marker": {
          "maxdisplayed": 10
         },
         "mode": "lines+markers",
         "name": "Trial12",
         "type": "scatter",
         "x": [
          0,
          1,
          2,
          3
         ],
         "y": [
          984.7204118612948,
          984.4972005673587,
          984.28780265799,
          984.101742274527
         ]
        },
        {
         "marker": {
          "maxdisplayed": 10
         },
         "mode": "lines+markers",
         "name": "Trial13",
         "type": "scatter",
         "x": [
          0,
          1,
          2,
          3
         ],
         "y": [
          983.3825681932669,
          588.4157320590039,
          527.6044135620766,
          518.1340851783453
         ]
        },
        {
         "marker": {
          "maxdisplayed": 10
         },
         "mode": "lines+markers",
         "name": "Trial14",
         "type": "scatter",
         "x": [
          0,
          1,
          2,
          3,
          4,
          5,
          6,
          7,
          8,
          9,
          10,
          11,
          12,
          13,
          14,
          15,
          16,
          17,
          18,
          19,
          20,
          21,
          22,
          23,
          24,
          25,
          26,
          27,
          28,
          29,
          30,
          31,
          32,
          33,
          34,
          35,
          36,
          37,
          38,
          39,
          40,
          41,
          42,
          43,
          44,
          45,
          46,
          47,
          48,
          49,
          50,
          51,
          52,
          53,
          54,
          55,
          56,
          57,
          58,
          59,
          60,
          61,
          62,
          63,
          64,
          65,
          66,
          67,
          68,
          69,
          70,
          71,
          72,
          73,
          74,
          75,
          76,
          77,
          78,
          79,
          80,
          81
         ],
         "y": [
          19.74293699514427,
          30.396833001899896,
          32.95167619335951,
          49.62073769237859,
          37.52803757544219,
          40.839070642794546,
          43.42639922138246,
          43.94897378663398,
          30.958441598105296,
          31.70699645524729,
          33.939856310400344,
          33.97305836095065,
          34.70177492338753,
          35.19199123930097,
          36.019520570989066,
          36.32266893624301,
          35.98646880524039,
          36.2196342509315,
          36.327199249944385,
          36.240188892490124,
          35.27481412052709,
          34.98717231485399,
          35.179897636003844,
          35.16642800791767,
          35.88338329930041,
          35.8131621756984,
          35.655340443786216,
          35.41089295170681,
          35.55712837451625,
          35.64265287993908,
          35.844118666711566,
          35.94101037316747,
          35.636771019154125,
          35.77579393487126,
          36.073359350844136,
          36.250420819447065,
          36.140828774432414,
          36.32951169130069,
          36.40258228529455,
          36.34264003358893,
          36.30111478288385,
          36.20816968841707,
          36.45543745727585,
          36.416838168855996,
          36.43764291219662,
          36.36779729055586,
          36.27398651570203,
          36.3451274974677,
          36.09216798485904,
          35.97183065829909,
          35.9580494531832,
          35.90767067095026,
          35.71941267698662,
          35.91629548751083,
          36.04641491306691,
          36.07620481420636,
          36.06524542038068,
          36.11563126018433,
          36.12855160774142,
          36.14538325438096,
          35.98121771694799,
          35.91749502553082,
          35.843616128842434,
          35.7981045368305,
          35.66937976289415,
          35.49719043959618,
          35.45561755190066,
          35.24887553253268,
          35.139228770864314,
          35.03794463078234,
          34.72338120830581,
          34.74213429436397,
          34.7127479004227,
          34.73879587309771,
          34.653168443923605,
          34.657736233609604,
          34.643504658155024,
          34.62693083525316,
          34.41387293550699,
          34.209525290370706,
          34.15116629550427,
          33.92537279724432
         ]
        },
        {
         "marker": {
          "maxdisplayed": 10
         },
         "mode": "lines+markers",
         "name": "Trial15",
         "type": "scatter",
         "x": [
          0,
          1,
          2,
          3
         ],
         "y": [
          956.0211743646158,
          925.8483839286412,
          896.602275280562,
          895.7191924678087
         ]
        },
        {
         "marker": {
          "maxdisplayed": 10
         },
         "mode": "lines+markers",
         "name": "Trial16",
         "type": "scatter",
         "x": [
          0,
          1,
          2,
          3,
          4,
          5,
          6,
          7,
          8,
          9,
          10,
          11,
          12,
          13,
          14,
          15,
          16,
          17,
          18,
          19,
          20,
          21,
          22,
          23,
          24,
          25,
          26,
          27,
          28,
          29,
          30,
          31,
          32,
          33,
          34,
          35,
          36,
          37,
          38,
          39,
          40,
          41,
          42,
          43,
          44,
          45,
          46,
          47,
          48,
          49,
          50,
          51,
          52,
          53,
          54,
          55,
          56,
          57,
          58,
          59,
          60,
          61,
          62,
          63,
          64,
          65,
          66,
          67,
          68,
          69,
          70,
          71,
          72,
          73,
          74,
          75,
          76,
          77,
          78,
          79,
          80,
          81,
          82,
          83,
          84,
          85,
          86,
          87,
          88,
          89,
          90,
          91,
          92,
          93,
          94,
          95,
          96,
          97,
          98,
          99
         ],
         "y": [
          984.4756351354127,
          982.9002794905172,
          982.0168334419046,
          981.6061396367669,
          981.8424130370688,
          915.7756121474272,
          915.9584986635754,
          905.6582698645091,
          903.927094111737,
          823.8031620852229,
          823.6569257793717,
          823.565359236104,
          661.0137476081217,
          658.1205210808349,
          658.1180444314928,
          658.9845889505712,
          657.6344808787853,
          658.3210952517311,
          373.96461046904875,
          374.12508175832915,
          374.2052810235269,
          374.3356002368737,
          240.24519057463823,
          239.3220855043218,
          230.70109581465226,
          165.3309086642127,
          166.0191582054065,
          165.83694604400245,
          118.56771251677809,
          119.48105466393221,
          119.48105466393221,
          118.39781829609377,
          118.23270168529878,
          118.0456786435233,
          117.9377176353557,
          117.95201654962568,
          118.72274228721908,
          117.59680664467767,
          117.65215410125322,
          113.09138091915906,
          116.78877552888727,
          111.0117080086748,
          111.06133287141304,
          105.6228258695431,
          105.58477453473927,
          108.81932755002912,
          109.60600425104685,
          109.55727460847909,
          110.18928278346293,
          110.20301902149544,
          111.41795656305682,
          112.1997742292762,
          110.0448649682001,
          110.9131567517214,
          111.47745408926461,
          110.96645259679028,
          110.92910473218818,
          110.17367764056522,
          112.03765904989716,
          113.14529201457044,
          113.13880089163027,
          112.49201296466741,
          112.48796761086311,
          115.22841292874551,
          118.41122476875853,
          117.90062919200568,
          118.07746673103402,
          118.08695007707757,
          118.15204492380013,
          118.17132083115877,
          115.7058048860541,
          115.24107717951935,
          113.95870566212754,
          114.70519127989161,
          114.85161223137627,
          114.71711652665184,
          114.72068244442121,
          114.72068244442121,
          114.72273528822018,
          115.7137236412035,
          116.37619642482012,
          116.34639230633998,
          116.43808913293428,
          116.77596468239305,
          116.67997387053408,
          116.66911825515321,
          116.75095245862198,
          116.76228709886963,
          124.73857769604501,
          124.77167296566088,
          125.54574172755486,
          127.96578147970045,
          127.93723106688343,
          128.36485145879465,
          127.77499451180971,
          127.77998598894894,
          127.77189662155097,
          127.77999044181377,
          127.33285303225146,
          127.21351952725006
         ]
        },
        {
         "marker": {
          "maxdisplayed": 10
         },
         "mode": "lines+markers",
         "name": "Trial17",
         "type": "scatter",
         "x": [
          0,
          1,
          2,
          3,
          4,
          5,
          6,
          7,
          8,
          9,
          10,
          11,
          12,
          13,
          14,
          15,
          16,
          17,
          18,
          19,
          20,
          21,
          22,
          23,
          24,
          25,
          26,
          27
         ],
         "y": [
          953.7686090010654,
          920.5997024295344,
          888.5764225022115,
          858.6464304198582,
          828.7758298435053,
          817.7405114648195,
          789.2844333630685,
          761.8134127578388,
          735.292369504069,
          709.6969634871588,
          684.9874069281411,
          661.1417664321617,
          638.1206008217353,
          615.9088152509335,
          594.4640205614852,
          573.7692834299224,
          567.1878294314736,
          547.4312899124699,
          528.3523565671131,
          509.93941899190105,
          492.1717986288942,
          475.01404960652127,
          458.4565864190879,
          442.4708564753845,
          427.04844428243484,
          412.1624314605406,
          400.9452806140017,
          386.97688647145407
         ]
        },
        {
         "marker": {
          "maxdisplayed": 10
         },
         "mode": "lines+markers",
         "name": "Trial18",
         "type": "scatter",
         "x": [
          0,
          1
         ],
         "y": [
          984.7092594338521,
          984.6493596106537
         ]
        },
        {
         "marker": {
          "maxdisplayed": 10
         },
         "mode": "lines+markers",
         "name": "Trial19",
         "type": "scatter",
         "x": [
          0,
          1,
          2,
          3
         ],
         "y": [
          911.5889319162383,
          836.8365111546302,
          768.1945590543639,
          707.8243199252005
         ]
        },
        {
         "marker": {
          "maxdisplayed": 10
         },
         "mode": "lines+markers",
         "name": "Trial20",
         "type": "scatter",
         "x": [
          0,
          1,
          2,
          3,
          4,
          5,
          6,
          7,
          8,
          9
         ],
         "y": [
          984.7050882491235,
          975.1679822770778,
          972.4059082737178,
          972.011508934002,
          971.8382976090635,
          965.4166834654504,
          965.4083364106543,
          965.2464863798556,
          950.736150407685,
          941.6491573237414
         ]
        },
        {
         "marker": {
          "maxdisplayed": 10
         },
         "mode": "lines+markers",
         "name": "Trial21",
         "type": "scatter",
         "x": [
          0,
          1,
          2,
          3,
          4,
          5,
          6,
          7,
          8,
          9,
          10,
          11,
          12,
          13,
          14,
          15,
          16,
          17,
          18,
          19,
          20,
          21,
          22,
          23,
          24,
          25,
          26,
          27,
          28,
          29,
          30,
          31,
          32,
          33,
          34,
          35,
          36,
          37,
          38,
          39,
          40,
          41,
          42,
          43,
          44,
          45,
          46,
          47,
          48,
          49,
          50,
          51,
          52,
          53,
          54,
          55,
          56,
          57,
          58,
          59,
          60,
          61,
          62,
          63,
          64,
          65,
          66,
          67,
          68,
          69,
          70,
          71,
          72,
          73,
          74,
          75,
          76,
          77,
          78,
          79,
          80,
          81
         ],
         "y": [
          816.0073497047181,
          629.3914656156185,
          485.9926188975775,
          483.9648792922464,
          372.98239462936226,
          334.9678869559154,
          283.89799773025265,
          210.79611530646216,
          163.57357490873787,
          131.73314135106594,
          107.01814109556369,
          102.69058901556274,
          83.52640761987074,
          79.32840022605873,
          77.21910986730602,
          60.22438653670561,
          56.3932714553406,
          57.18609930508503,
          59.5146611125733,
          55.66243579799901,
          56.63869901292819,
          53.06415329585603,
          58.003230597520364,
          54.43123596319028,
          55.025781174739855,
          56.71849875395732,
          58.70473791619854,
          56.94504305979083,
          58.03150184298073,
          60.66746757254809,
          61.63631672819571,
          62.39658048540281,
          64.29027207800048,
          67.48623543423355,
          69.80594575948513,
          70.64335333855742,
          71.03455755810157,
          70.56736753084179,
          68.00002639038222,
          65.33182982463332,
          61.00795294039623,
          60.35181237461468,
          56.78717880170125,
          54.144752853470166,
          53.88674454936005,
          52.50039607757813,
          50.66894265763644,
          50.08741525024142,
          51.79895163885312,
          53.26564302646221,
          52.6508917061004,
          52.58806479245137,
          52.988833673382395,
          53.96240933429324,
          53.568934309114965,
          54.581875364804205,
          54.72785672187479,
          55.17222651015422,
          53.85441320184509,
          54.34239569770564,
          54.876733279252775,
          52.61436216024015,
          53.46400232360534,
          53.86139402689582,
          54.79678352936603,
          55.475016931462456,
          54.588163924787914,
          54.287200021205926,
          54.40714722451806,
          55.41934899445405,
          55.93232444831619,
          56.01347883282713,
          56.62387107332573,
          56.7313180934964,
          57.30588594858862,
          56.63232031798882,
          57.60063493273614,
          58.192972739182224,
          57.79231665297856,
          57.82374268147553,
          57.73197820825914,
          58.034333551071484
         ]
        },
        {
         "marker": {
          "maxdisplayed": 10
         },
         "mode": "lines+markers",
         "name": "Trial22",
         "type": "scatter",
         "x": [
          0,
          1,
          2,
          3,
          4,
          5,
          6,
          7,
          8,
          9
         ],
         "y": [
          973.4511810288345,
          961.3339393570436,
          949.3650729049276,
          937.708414355614,
          926.0338857716059,
          921.6034701055968,
          910.5187608608358,
          899.1725306965214,
          887.9673156192925,
          876.901886773911
         ]
        },
        {
         "marker": {
          "maxdisplayed": 10
         },
         "mode": "lines+markers",
         "name": "Trial23",
         "type": "scatter",
         "x": [
          0,
          1,
          2,
          3
         ],
         "y": [
          799.6962832788248,
          604.8566742749867,
          457.46500718286507,
          347.8508331199953
         ]
        },
        {
         "marker": {
          "maxdisplayed": 10
         },
         "mode": "lines+markers",
         "name": "Trial24",
         "type": "scatter",
         "x": [
          0,
          1,
          2,
          3,
          4,
          5,
          6,
          7,
          8,
          9,
          10,
          11,
          12,
          13,
          14,
          15,
          16,
          17,
          18,
          19,
          20,
          21,
          22,
          23,
          24,
          25,
          26,
          27,
          28,
          29,
          30,
          31,
          32,
          33,
          34,
          35,
          36,
          37,
          38,
          39,
          40,
          41,
          42,
          43,
          44,
          45,
          46,
          47,
          48,
          49,
          50,
          51,
          52,
          53,
          54,
          55,
          56,
          57,
          58,
          59,
          60,
          61,
          62,
          63,
          64,
          65,
          66,
          67,
          68,
          69,
          70,
          71,
          72,
          73,
          74,
          75,
          76,
          77,
          78,
          79,
          80,
          81,
          82,
          83,
          84,
          85,
          86,
          87,
          88,
          89,
          90,
          91,
          92,
          93,
          94,
          95,
          96,
          97,
          98,
          99
         ],
         "y": [
          176.23564588006758,
          31.598915826297294,
          8.446923044625484,
          12.20003028088421,
          3.2308367921970986,
          5.286019940732355,
          3.0513072228051175,
          3.9768976922434303,
          4.558276265448555,
          5.923139528441417,
          4.417493687101025,
          5.122612863082844,
          3.5564638011751626,
          5.075278164249874,
          5.984414649536207,
          6.677016533268382,
          6.434910734304855,
          6.299555127874905,
          6.380742946328144,
          6.366924938831864,
          6.846661746947482,
          7.683767070910149,
          7.473168641256075,
          7.43981198647066,
          7.8187237275337225,
          7.8332708236410395,
          7.978774404583123,
          8.520764224055421,
          8.561755807567355,
          8.969774348900001,
          8.999470995521872,
          9.068548848541868,
          9.159312829193606,
          9.3860644087595,
          9.005638562619064,
          9.955619489791076,
          10.230155460757445,
          10.638512246304883,
          10.718900255833674,
          10.831953445516339,
          11.258931509578368,
          11.318806167431635,
          11.304877432726906,
          11.321346685337192,
          11.563236056853171,
          11.53977376864034,
          11.546152250924763,
          11.63754257825402,
          11.750234306618907,
          11.924177593245991,
          12.00492435530402,
          12.125460986478208,
          12.271262896381543,
          12.34377905640549,
          12.319808148367674,
          12.022103328777701,
          12.267794609626732,
          12.465343927414239,
          12.415336061219113,
          12.525851459776238,
          12.56144346974524,
          12.616259605134102,
          12.484726925485775,
          12.507391189590306,
          12.636356375267935,
          12.749948370240961,
          12.78037607145116,
          12.800273124626624,
          12.54766196362109,
          12.599313049802385,
          12.720097919169723,
          12.729792021306633,
          12.784536736800302,
          12.854708248398458,
          12.91128666108281,
          12.973822131563564,
          13.0196399235584,
          13.060925947696074,
          13.00149972169774,
          13.01101221487933,
          13.050354875788468,
          13.029005333767408,
          13.021040552141018,
          13.09003008943256,
          13.044333649032176,
          13.050199369007236,
          13.185373116684998,
          13.25232767592947,
          13.326280524666808,
          13.308622153231164,
          13.344453985077639,
          13.387596172652337,
          13.44322286529166,
          13.464049661101521,
          13.465703407189201,
          13.473787570691256,
          13.479790526987438,
          13.52227209087552,
          13.553986805196294,
          13.53854975685289
         ]
        },
        {
         "marker": {
          "maxdisplayed": 10
         },
         "mode": "lines+markers",
         "name": "Trial25",
         "type": "scatter",
         "x": [
          0,
          1,
          2,
          3,
          4,
          5,
          6,
          7,
          8,
          9,
          10,
          11,
          12,
          13,
          14,
          15,
          16,
          17,
          18,
          19,
          20,
          21,
          22,
          23,
          24,
          25,
          26,
          27
         ],
         "y": [
          984.5068792053619,
          936.1881859706396,
          923.3004661908735,
          921.4438387067928,
          920.6636597849254,
          853.3936556952775,
          853.3596043260277,
          852.7401095304348,
          790.4416112505758,
          732.6724942381147,
          679.0577997109988,
          668.2944500095452,
          667.7301483770303,
          631.4746849475054,
          631.4522882191001,
          630.0182593323661,
          628.6690469243271,
          582.5323123746424,
          574.3464117517605,
          573.0148649896289,
          572.6678301951821,
          572.5738122312237,
          572.5556037872237,
          530.5148855657183,
          530.4517434193563,
          491.1392651299708,
          484.25408539073476,
          483.41109681512506
         ]
        },
        {
         "marker": {
          "maxdisplayed": 10
         },
         "mode": "lines+markers",
         "name": "Trial26",
         "type": "scatter",
         "x": [
          0,
          1,
          2,
          3,
          4,
          5,
          6,
          7,
          8,
          9
         ],
         "y": [
          39.29078388644337,
          43.09906887110671,
          29.564126997890444,
          32.36117346000356,
          34.842103122540685,
          35.3897393448449,
          35.673480553144586,
          36.78930120385219,
          36.66943864006331,
          36.43493083159309
         ]
        },
        {
         "marker": {
          "maxdisplayed": 10
         },
         "mode": "lines+markers",
         "name": "Trial27",
         "type": "scatter",
         "x": [
          0,
          1,
          2,
          3
         ],
         "y": [
          983.6065455241156,
          982.4150380701659,
          981.2250213608071,
          980.0579910751309
         ]
        },
        {
         "marker": {
          "maxdisplayed": 10
         },
         "mode": "lines+markers",
         "name": "Trial28",
         "type": "scatter",
         "x": [
          0,
          1,
          2,
          3,
          4,
          5,
          6,
          7,
          8,
          9,
          10,
          11,
          12,
          13,
          14,
          15,
          16,
          17,
          18,
          19,
          20,
          21,
          22,
          23,
          24,
          25,
          26,
          27
         ],
         "y": [
          984.6665883055543,
          984.1103713225583,
          983.6400697123555,
          983.2677620375777,
          983.1938239221714,
          959.9416653481336,
          959.8479620615425,
          955.8606492936563,
          955.2378294943503,
          926.986504520341,
          926.9065048706466,
          926.8300267576923,
          783.0751727006055,
          781.964289645637,
          781.964289645637,
          781.8867697910782,
          780.961311516592,
          780.9169237074916,
          659.6509342360504,
          659.5717286803609,
          659.5534376507818,
          659.4489923222824,
          556.8836463908143,
          553.6342834810323,
          534.3660520738541,
          450.73461698343135,
          450.3641981660494,
          447.6810204024564
         ]
        },
        {
         "marker": {
          "maxdisplayed": 10
         },
         "mode": "lines+markers",
         "name": "Trial29",
         "type": "scatter",
         "x": [
          0,
          1
         ],
         "y": [
          984.5827007875856,
          983.5200066748151
         ]
        },
        {
         "marker": {
          "maxdisplayed": 10
         },
         "mode": "lines+markers",
         "name": "Trial30",
         "type": "scatter",
         "x": [
          0,
          1
         ],
         "y": [
          984.1277379059347,
          982.9430625828338
         ]
        },
        {
         "marker": {
          "maxdisplayed": 10
         },
         "mode": "lines+markers",
         "name": "Trial31",
         "type": "scatter",
         "x": [
          0,
          1,
          2,
          3,
          4,
          5,
          6,
          7,
          8,
          9
         ],
         "y": [
          983.420827955128,
          981.9799635853343,
          980.5410117192517,
          979.1240472855778,
          977.6893852512147,
          977.1170486246486,
          975.6854650466855,
          974.2556139118321,
          972.8278371615063,
          971.4021699406027
         ]
        },
        {
         "marker": {
          "maxdisplayed": 10
         },
         "mode": "lines+markers",
         "name": "Trial32",
         "type": "scatter",
         "x": [
          0,
          1
         ],
         "y": [
          974.5505759577248,
          964.450926110638
         ]
        },
        {
         "marker": {
          "maxdisplayed": 10
         },
         "mode": "lines+markers",
         "name": "Trial33",
         "type": "scatter",
         "x": [
          0,
          1,
          2,
          3,
          4,
          5,
          6,
          7,
          8,
          9
         ],
         "y": [
          796.5871615903694,
          676.8060673717582,
          192.8329242629092,
          199.7857317977856,
          185.96929722311674,
          159.550623806573,
          145.14541764048292,
          146.7926327600481,
          142.8030222926242,
          128.45435352651253
         ]
        },
        {
         "marker": {
          "maxdisplayed": 10
         },
         "mode": "lines+markers",
         "name": "Trial34",
         "type": "scatter",
         "x": [
          0,
          1
         ],
         "y": [
          978.1665041159248,
          971.0637795574065
         ]
        },
        {
         "marker": {
          "maxdisplayed": 10
         },
         "mode": "lines+markers",
         "name": "Trial35",
         "type": "scatter",
         "x": [
          0,
          1
         ],
         "y": [
          968.1788996302125,
          950.5063509371215
         ]
        },
        {
         "marker": {
          "maxdisplayed": 10
         },
         "mode": "lines+markers",
         "name": "Trial36",
         "type": "scatter",
         "x": [
          0,
          1,
          2,
          3,
          4,
          5,
          6,
          7,
          8,
          9
         ],
         "y": [
          208.36615769909622,
          41.193722655720066,
          32.91608084529226,
          37.11156691443989,
          38.01636047897717,
          38.28694988333052,
          39.43373458057513,
          38.615112456717334,
          37.01156807252564,
          35.39804547053397
         ]
        },
        {
         "marker": {
          "maxdisplayed": 10
         },
         "mode": "lines+markers",
         "name": "Trial37",
         "type": "scatter",
         "x": [
          0,
          1,
          2,
          3,
          4,
          5,
          6,
          7,
          8,
          9,
          10,
          11,
          12,
          13,
          14,
          15,
          16,
          17,
          18,
          19,
          20,
          21,
          22,
          23,
          24,
          25,
          26,
          27
         ],
         "y": [
          924.0148919929769,
          867.0215382300421,
          813.5443227541693,
          763.3648045156958,
          716.2805750027637,
          672.102560057223,
          630.649446394051,
          591.753196371381,
          555.2565784686984,
          521.0120149012797,
          488.8787216077226,
          458.7278351620932,
          430.437585056111,
          403.8933139847168,
          378.98620405353114,
          355.61461092637666,
          333.68603008520614,
          313.1100166599137,
          293.8027275910512,
          275.68664661234834,
          258.68859894992727,
          242.7390330570203,
          227.77257660720267,
          213.73041440690065,
          200.5535430934285,
          188.18896593990598,
          176.58829601734288,
          165.70325402193072
         ]
        },
        {
         "marker": {
          "maxdisplayed": 10
         },
         "mode": "lines+markers",
         "name": "Trial38",
         "type": "scatter",
         "x": [
          0,
          1,
          2,
          3,
          4,
          5,
          6,
          7,
          8,
          9
         ],
         "y": [
          670.0207271356185,
          435.22196632705425,
          282.5781776930173,
          186.928267097466,
          121.65517169230648,
          102.45768677478239,
          68.99496541612405,
          47.120178494605284,
          35.46467394710177,
          22.933632559419323
         ]
        },
        {
         "marker": {
          "maxdisplayed": 10
         },
         "mode": "lines+markers",
         "name": "Trial39",
         "type": "scatter",
         "x": [
          0,
          1,
          2,
          3
         ],
         "y": [
          978.3477385819173,
          971.447644580795,
          964.5958461896562,
          957.7935145945244
         ]
        },
        {
         "marker": {
          "maxdisplayed": 10
         },
         "mode": "lines+markers",
         "name": "Trial40",
         "type": "scatter",
         "x": [
          0,
          1,
          2,
          3
         ],
         "y": [
          826.3280029555275,
          682.0301622467042,
          562.6392946948368,
          473.86831881260173
         ]
        },
        {
         "marker": {
          "maxdisplayed": 10
         },
         "mode": "lines+markers",
         "name": "Trial41",
         "type": "scatter",
         "x": [
          0,
          1
         ],
         "y": [
          977.9238264556847,
          976.7794511926962
         ]
        },
        {
         "marker": {
          "maxdisplayed": 10
         },
         "mode": "lines+markers",
         "name": "Trial42",
         "type": "scatter",
         "x": [
          0,
          1
         ],
         "y": [
          983.7889089797383,
          982.7350975517533
         ]
        },
        {
         "marker": {
          "maxdisplayed": 10
         },
         "mode": "lines+markers",
         "name": "Trial43",
         "type": "scatter",
         "x": [
          0,
          1,
          2,
          3
         ],
         "y": [
          866.7662139084509,
          762.9208799937418,
          671.5203713577723,
          591.0600620515031
         ]
        },
        {
         "marker": {
          "maxdisplayed": 10
         },
         "mode": "lines+markers",
         "name": "Trial44",
         "type": "scatter",
         "x": [
          0,
          1,
          2,
          3
         ],
         "y": [
          622.3761395968025,
          370.4631951706262,
          221.86223680085953,
          138.1155603075909
         ]
        },
        {
         "marker": {
          "maxdisplayed": 10
         },
         "mode": "lines+markers",
         "name": "Trial45",
         "type": "scatter",
         "x": [
          0,
          1,
          2,
          3,
          4,
          5,
          6,
          7,
          8,
          9
         ],
         "y": [
          474.2781870077957,
          202.6378772709352,
          98.95460329781854,
          58.531935989008296,
          40.58365763401573,
          32.32497801004159,
          30.573840081862347,
          28.68732665540751,
          28.051057121202714,
          26.611015809582142
         ]
        },
        {
         "marker": {
          "maxdisplayed": 10
         },
         "mode": "lines+markers",
         "name": "Trial46",
         "type": "scatter",
         "x": [
          0,
          1
         ],
         "y": [
          965.9489321952577,
          946.4382772231003
         ]
        },
        {
         "marker": {
          "maxdisplayed": 10
         },
         "mode": "lines+markers",
         "name": "Trial47",
         "type": "scatter",
         "x": [
          0,
          1,
          2,
          3,
          4,
          5,
          6,
          7,
          8,
          9,
          10,
          11,
          12,
          13,
          14,
          15,
          16,
          17,
          18,
          19,
          20,
          21,
          22,
          23,
          24,
          25,
          26,
          27,
          28,
          29,
          30,
          31,
          32,
          33,
          34,
          35,
          36,
          37,
          38,
          39,
          40,
          41,
          42,
          43,
          44,
          45,
          46,
          47,
          48,
          49,
          50,
          51,
          52,
          53,
          54,
          55,
          56,
          57,
          58,
          59,
          60,
          61,
          62,
          63,
          64,
          65,
          66,
          67,
          68,
          69,
          70,
          71,
          72,
          73,
          74,
          75,
          76,
          77,
          78,
          79,
          80,
          81,
          82,
          83,
          84,
          85,
          86,
          87,
          88,
          89,
          90,
          91,
          92,
          93,
          94,
          95,
          96,
          97,
          98,
          99
         ],
         "y": [
          288.2238893212517,
          74.27647342826221,
          30.26724847267171,
          36.71261753892667,
          34.9870638924781,
          30.96614202010278,
          30.586207563928994,
          25.306690074984303,
          24.151439195428463,
          22.98546293216102,
          23.312736585350372,
          22.21591503832943,
          22.970604819539894,
          23.478006427421988,
          23.246622936461378,
          23.496010058278134,
          23.986570517056474,
          23.140965930647276,
          21.756890905783383,
          22.635749442997636,
          22.436554842140588,
          22.719817240241298,
          22.24660599342489,
          22.114987879559386,
          22.2667818897788,
          22.41728544910036,
          22.369004119180058,
          22.287539833831612,
          22.023859844848097,
          20.86859736270964,
          21.116410463262575,
          21.10124033181239,
          21.286244499976135,
          21.094955815996823,
          20.984050221826212,
          20.981924584054532,
          21.25892072934333,
          20.750456260372438,
          20.487853760727152,
          20.7939651220303,
          20.85473333101587,
          21.12841264862938,
          20.88662607140955,
          20.965437397829135,
          21.160828921084143,
          21.206703793769208,
          21.272313303601617,
          21.17642958522258,
          21.280689455038136,
          21.34326933289998,
          21.359823296400283,
          21.440851155083855,
          21.46173625702158,
          21.37658974231486,
          21.513074791303442,
          21.608113079268428,
          21.62996836676299,
          21.874417699640297,
          22.01109640842674,
          21.593711697834852,
          21.670263981672914,
          21.591505014692284,
          21.60224152818128,
          21.576413654187355,
          21.624293773303346,
          21.63823880147055,
          21.761404000312822,
          21.753107545010877,
          21.708111595742622,
          21.6825659443566,
          21.700713202301216,
          21.62220330736338,
          21.663017307986006,
          21.309886244467933,
          21.467020531585465,
          21.443425960788726,
          21.447765978759563,
          21.42767839931838,
          21.450089403931322,
          21.540197074641227,
          21.450676666146784,
          21.466509062530537,
          21.364526707348613,
          21.291397287024463,
          21.116616521822934,
          21.183796736839778,
          20.869821599320566,
          20.92339609102994,
          21.0258422871818,
          21.04431038716752,
          20.989389883137513,
          21.032932621337455,
          21.010886522874777,
          21.0182877453384,
          21.052903561512867,
          21.08510865092493,
          21.20753713085132,
          21.30529926167057,
          21.37475663576049,
          21.435601513081803
         ]
        },
        {
         "marker": {
          "maxdisplayed": 10
         },
         "mode": "lines+markers",
         "name": "Trial48",
         "type": "scatter",
         "x": [
          0,
          1,
          2,
          3
         ],
         "y": [
          687.3324348881698,
          678.1291746518796,
          670.561700730466,
          669.2396447633529
         ]
        },
        {
         "marker": {
          "maxdisplayed": 10
         },
         "mode": "lines+markers",
         "name": "Trial49",
         "type": "scatter",
         "x": [
          0,
          1,
          2,
          3,
          4,
          5,
          6,
          7,
          8,
          9,
          10,
          11,
          12,
          13,
          14,
          15,
          16,
          17,
          18,
          19,
          20,
          21,
          22,
          23,
          24,
          25,
          26,
          27,
          28,
          29,
          30,
          31,
          32,
          33,
          34,
          35,
          36,
          37,
          38,
          39,
          40,
          41,
          42,
          43,
          44,
          45,
          46,
          47,
          48,
          49,
          50,
          51,
          52,
          53,
          54,
          55,
          56,
          57,
          58,
          59,
          60,
          61,
          62,
          63,
          64,
          65,
          66,
          67,
          68,
          69,
          70,
          71,
          72,
          73,
          74,
          75,
          76,
          77,
          78,
          79,
          80,
          81
         ],
         "y": [
          91.47597941591539,
          8.623989376353022,
          11.268292431932077,
          15.99558491551283,
          15.320506292474443,
          21.182130274548197,
          24.28440920962383,
          22.724309491819504,
          17.30872249251614,
          19.865678108897917,
          20.80892079877851,
          22.02850711514218,
          23.77368337625053,
          22.864895821064078,
          23.432927193268284,
          23.932899342418818,
          24.655182189419744,
          24.965097794097147,
          25.078859484254075,
          25.381998137822162,
          25.695100623254252,
          25.557135206792275,
          25.886999568962317,
          25.983542374955256,
          26.23558199321268,
          26.323345233185176,
          26.3371355699054,
          26.386709391187523,
          26.494260054855044,
          26.524865299726173,
          26.63080680844739,
          26.783440893604993,
          26.889460995505782,
          26.796697313402003,
          26.79677560412533,
          26.900386469360537,
          27.038322557849657,
          27.154123416986664,
          27.218420218833362,
          27.128536573531594,
          27.18473401124068,
          27.223384875585978,
          27.356848354010577,
          27.402280875350712,
          27.598063713274577,
          26.954637987770653,
          26.999597304679373,
          27.190228197526444,
          27.246388173429995,
          27.311865695313795,
          27.282887599008912,
          27.28121400735606,
          27.251614670639388,
          27.339422667632178,
          27.230829676134665,
          27.29255837356809,
          27.354809939266286,
          27.417148850327433,
          27.492227561909232,
          27.39948775658689,
          27.476412430827285,
          27.43012312829476,
          27.47084823259929,
          27.382948367219505,
          27.441162945929406,
          27.51834172895801,
          27.554547285345873,
          27.493228715293853,
          27.488982840298473,
          27.478404482577186,
          27.486763612385264,
          27.478667465529313,
          27.448597224973064,
          27.484261222688765,
          27.52365357450465,
          27.516494323305903,
          27.54166295114792,
          27.569351413340314,
          27.542969597560646,
          27.466732861765667,
          27.362558869638303,
          27.418482009475316
         ]
        },
        {
         "marker": {
          "maxdisplayed": 10
         },
         "mode": "lines+markers",
         "name": "Trial50",
         "type": "scatter",
         "x": [
          0,
          1,
          2,
          3,
          4,
          5,
          6,
          7,
          8,
          9,
          10,
          11,
          12,
          13,
          14,
          15,
          16,
          17,
          18,
          19,
          20,
          21,
          22,
          23,
          24,
          25,
          26,
          27,
          28,
          29,
          30,
          31,
          32,
          33,
          34,
          35,
          36,
          37,
          38,
          39,
          40,
          41,
          42,
          43,
          44,
          45,
          46,
          47,
          48,
          49,
          50,
          51,
          52,
          53,
          54,
          55,
          56,
          57,
          58,
          59,
          60,
          61,
          62,
          63,
          64,
          65,
          66,
          67,
          68,
          69,
          70,
          71,
          72,
          73,
          74,
          75,
          76,
          77,
          78,
          79,
          80,
          81
         ],
         "y": [
          422.6756836940603,
          181.47625389256334,
          77.95427919573478,
          33.53220117503249,
          23.088488127776788,
          10.844748879371641,
          16.86836978436942,
          11.726837738562995,
          12.167909546195435,
          13.744712281910486,
          14.34406645072992,
          15.453722492591714,
          15.56372365207906,
          16.0738371435088,
          16.62451463665717,
          16.028972315316135,
          16.581228505021205,
          16.967584176563474,
          17.408865049003822,
          17.45537584437128,
          17.27037989803977,
          17.527962347895954,
          17.615757472104058,
          17.515120548881217,
          17.510756254863935,
          17.637832011084896,
          17.691181646011707,
          17.913065515357385,
          18.041843538783464,
          18.192729928704253,
          18.030483365200112,
          18.053551558990694,
          18.139956654843164,
          18.037562094437554,
          18.07429243648259,
          18.142494872173366,
          18.121356175695187,
          18.20238876065767,
          18.21950321380337,
          18.082001495220638,
          18.1337362609446,
          17.866437595985015,
          17.942794947054512,
          17.648537461944063,
          17.722642811224894,
          17.661695818272868,
          17.692909647286587,
          17.743848501244283,
          17.67471230839748,
          17.706328617876572,
          17.828545008875203,
          17.82951271614103,
          17.863627254300994,
          17.84779804441701,
          17.8276065127334,
          17.822064091477912,
          17.899655772864886,
          17.968717459121404,
          17.927638816869585,
          17.962884064641067,
          17.994369598222605,
          17.981899598433387,
          17.980413731559256,
          18.035142438364524,
          18.06317928318482,
          18.068916047219542,
          18.075166049110823,
          18.08359888904502,
          18.032298911771747,
          17.995362164649485,
          17.924393147846303,
          17.900237483889004,
          17.924460334748336,
          17.914608359665284,
          17.988716329454906,
          17.965253641299515,
          17.96420311175998,
          17.960942475521215,
          17.970686677060932,
          17.951642483259274,
          17.915273526249067,
          17.83985910003929
         ]
        },
        {
         "marker": {
          "maxdisplayed": 10
         },
         "mode": "lines+markers",
         "name": "Trial51",
         "type": "scatter",
         "x": [
          0,
          1
         ],
         "y": [
          847.6836590997838,
          729.6966891922568
         ]
        },
        {
         "marker": {
          "maxdisplayed": 10
         },
         "mode": "lines+markers",
         "name": "Trial52",
         "type": "scatter",
         "x": [
          0,
          1,
          2,
          3
         ],
         "y": [
          487.44423961401844,
          241.32150484601328,
          119.49017300061078,
          59.19645536559545
         ]
        },
        {
         "marker": {
          "maxdisplayed": 10
         },
         "mode": "lines+markers",
         "name": "Trial53",
         "type": "scatter",
         "x": [
          0,
          1
         ],
         "y": [
          923.261036665409,
          861.1891790795343
         ]
        },
        {
         "marker": {
          "maxdisplayed": 10
         },
         "mode": "lines+markers",
         "name": "Trial54",
         "type": "scatter",
         "x": [
          0,
          1,
          2,
          3
         ],
         "y": [
          974.6402670871844,
          972.9928936687583,
          939.0896845033981,
          890.6177555709513
         ]
        },
        {
         "marker": {
          "maxdisplayed": 10
         },
         "mode": "lines+markers",
         "name": "Trial55",
         "type": "scatter",
         "x": [
          0,
          1,
          2,
          3
         ],
         "y": [
          805.7484024968057,
          646.8004552902969,
          519.1746807096902,
          419.07295232792916
         ]
        },
        {
         "marker": {
          "maxdisplayed": 10
         },
         "mode": "lines+markers",
         "name": "Trial56",
         "type": "scatter",
         "x": [
          0,
          1,
          2,
          3
         ],
         "y": [
          445.57682073031987,
          179.26792417114223,
          82.42105660392352,
          77.91780112733134
         ]
        },
        {
         "marker": {
          "maxdisplayed": 10
         },
         "mode": "lines+markers",
         "name": "Trial57",
         "type": "scatter",
         "x": [
          0,
          1,
          2,
          3
         ],
         "y": [
          971.126204840746,
          956.5948182267391,
          942.2763362480538,
          941.8160862802858
         ]
        },
        {
         "marker": {
          "maxdisplayed": 10
         },
         "mode": "lines+markers",
         "name": "Trial58",
         "type": "scatter",
         "x": [
          0,
          1,
          2,
          3
         ],
         "y": [
          983.7775691672642,
          982.7421040021006,
          981.7077253102594,
          980.6746321757774
         ]
        },
        {
         "marker": {
          "maxdisplayed": 10
         },
         "mode": "lines+markers",
         "name": "Trial59",
         "type": "scatter",
         "x": [
          0,
          1
         ],
         "y": [
          859.4056543804162,
          747.8126041350483
         ]
        },
        {
         "marker": {
          "maxdisplayed": 10
         },
         "mode": "lines+markers",
         "name": "Trial60",
         "type": "scatter",
         "x": [
          0,
          1
         ],
         "y": [
          984.4774858398608,
          930.4387347310546
         ]
        },
        {
         "marker": {
          "maxdisplayed": 10
         },
         "mode": "lines+markers",
         "name": "Trial61",
         "type": "scatter",
         "x": [
          0,
          1,
          2,
          3
         ],
         "y": [
          787.3169732944555,
          616.0592971908037,
          481.67758687840893,
          376.93515972447426
         ]
        },
        {
         "marker": {
          "maxdisplayed": 10
         },
         "mode": "lines+markers",
         "name": "Trial62",
         "type": "scatter",
         "x": [
          0,
          1,
          2,
          3,
          4,
          5,
          6,
          7,
          8,
          9
         ],
         "y": [
          573.0569292799955,
          308.53609418602286,
          168.87266493432577,
          97.821353701606,
          63.50537879297315,
          49.045786875405746,
          33.51236798078807,
          25.416676186424887,
          22.04483074122433,
          23.415453687379063
         ]
        },
        {
         "marker": {
          "maxdisplayed": 10
         },
         "mode": "lines+markers",
         "name": "Trial63",
         "type": "scatter",
         "x": [
          0,
          1,
          2,
          3,
          4,
          5,
          6,
          7,
          8,
          9,
          10,
          11,
          12,
          13,
          14,
          15,
          16,
          17,
          18,
          19,
          20,
          21,
          22,
          23,
          24,
          25,
          26,
          27,
          28,
          29,
          30,
          31,
          32,
          33,
          34,
          35,
          36,
          37,
          38,
          39,
          40,
          41,
          42,
          43,
          44,
          45,
          46,
          47,
          48,
          49,
          50,
          51,
          52,
          53,
          54,
          55,
          56,
          57,
          58,
          59,
          60,
          61,
          62,
          63,
          64,
          65,
          66,
          67,
          68,
          69,
          70,
          71,
          72,
          73,
          74,
          75,
          76,
          77,
          78,
          79,
          80,
          81,
          82,
          83,
          84,
          85,
          86,
          87,
          88,
          89,
          90,
          91,
          92,
          93,
          94,
          95,
          96,
          97,
          98,
          99
         ],
         "y": [
          969.4213344045883,
          952.9510274396692,
          936.7558039524635,
          923.2458434457577,
          907.546058532264,
          901.3620969341106,
          886.0461244397488,
          870.9893684839268,
          856.1848725351308,
          841.6322329228097,
          827.3264727515658,
          813.2643662345024,
          799.4405167640675,
          785.8515817863413,
          772.4970267893627,
          759.3691838240055,
          747.0798808435536,
          734.3726476918456,
          721.870055605327,
          709.5932398742706,
          697.51817536793,
          685.6573707459385,
          673.9931321527273,
          662.5318388464184,
          651.2684440910119,
          640.1990849063567,
          631.6566465216367,
          620.9192342307969,
          610.363894119561,
          599.9875485642798,
          589.784289495011,
          579.7546402526108,
          569.8879762981659,
          560.1952039783666,
          550.6621244773482,
          541.2907120906203,
          532.0905559586618,
          523.0404192621137,
          514.1420530031381,
          505.3969721147251,
          496.8048301484799,
          488.3482389153181,
          480.04103143828354,
          471.8779893919876,
          463.8510332033825,
          457.6635694002621,
          449.8746611001649,
          443.07418616132435,
          435.5322102874957,
          428.12585482602066,
          420.84329178397707,
          413.6872634007005,
          406.650944924293,
          399.74639732471616,
          392.95121317640996,
          386.2677479735511,
          381.32019123294094,
          374.8311835706612,
          368.46539341364434,
          362.19548170039343,
          356.03580740179353,
          349.97249900294713,
          348.15672345332325,
          342.2439703530919,
          336.40897754189535,
          330.68681679393256,
          325.05727865963087,
          319.5224185150747,
          314.0902937588084,
          308.7346270765085,
          303.49228394981935,
          298.3287417351479,
          293.24951115424017,
          288.2610495504094,
          283.36095156049623,
          279.3764653324877,
          274.62922916889704,
          269.9525465620116,
          265.3493995014155,
          260.8407655513993,
          256.40023460067454,
          252.02755356763188,
          247.72962174413516,
          243.69333231880353,
          239.54007081442762,
          235.45926163488318,
          231.71256883496295,
          227.76116868316166,
          226.61429559849694,
          222.76139466893017,
          218.95797439622373,
          215.50269868571817,
          211.83143757253384,
          208.22926100654408,
          204.74043190076517,
          201.2483537900628,
          197.81725725801107,
          194.68041297895252,
          191.57396985601702,
          188.30706729165675
         ]
        },
        {
         "marker": {
          "maxdisplayed": 10
         },
         "mode": "lines+markers",
         "name": "Trial64",
         "type": "scatter",
         "x": [
          0,
          1,
          2,
          3,
          4,
          5,
          6,
          7,
          8,
          9
         ],
         "y": [
          459.722549517284,
          193.96943142327868,
          91.01523122435476,
          55.71053597992619,
          36.45794608550665,
          31.89792644792194,
          27.82848193244029,
          24.615571764992023,
          23.819642635957297,
          24.128467410959047
         ]
        },
        {
         "marker": {
          "maxdisplayed": 10
         },
         "mode": "lines+markers",
         "name": "Trial65",
         "type": "scatter",
         "x": [
          0,
          1
         ],
         "y": [
          956.8057458768753,
          920.628065147278
         ]
        },
        {
         "marker": {
          "maxdisplayed": 10
         },
         "mode": "lines+markers",
         "name": "Trial66",
         "type": "scatter",
         "x": [
          0,
          1,
          2,
          3,
          4,
          5,
          6,
          7,
          8,
          9
         ],
         "y": [
          395.52023387292746,
          158.9178069371637,
          63.90063908527235,
          28.08262378560502,
          24.572329479718633,
          16.365806863738662,
          17.91910038815274,
          19.215849962450722,
          20.380824062287115,
          21.276229794981774
         ]
        },
        {
         "marker": {
          "maxdisplayed": 10
         },
         "mode": "lines+markers",
         "name": "Trial67",
         "type": "scatter",
         "x": [
          0,
          1,
          2,
          3,
          4,
          5,
          6,
          7,
          8,
          9
         ],
         "y": [
          100.14150231104952,
          10.303338640064919,
          35.839395857014814,
          19.0177199029209,
          17.438745924979628,
          21.589177175188695,
          23.571132880618606,
          22.25451178982258,
          24.229650817261508,
          24.228349104054125
         ]
        },
        {
         "marker": {
          "maxdisplayed": 10
         },
         "mode": "lines+markers",
         "name": "Trial68",
         "type": "scatter",
         "x": [
          0,
          1,
          2,
          3
         ],
         "y": [
          706.4260329813816,
          488.1241862338109,
          337.7193535753768,
          258.25793953396146
         ]
        },
        {
         "marker": {
          "maxdisplayed": 10
         },
         "mode": "lines+markers",
         "name": "Trial69",
         "type": "scatter",
         "x": [
          0,
          1,
          2,
          3,
          4,
          5,
          6,
          7,
          8,
          9,
          10,
          11,
          12,
          13,
          14,
          15,
          16,
          17,
          18,
          19,
          20,
          21,
          22,
          23,
          24,
          25,
          26,
          27
         ],
         "y": [
          267.46058868018406,
          72.68718153202099,
          19.81064525698825,
          5.456203758415641,
          1.5936207107286389,
          1.5088613086293619,
          2.937695048985494,
          3.485907582890958,
          3.9403355243624736,
          2.8287831333431392,
          3.4362315173122786,
          3.4062381370288586,
          4.099699259753665,
          4.285658389731417,
          5.582704358938308,
          5.598878718853837,
          5.888209140693399,
          5.915891688332429,
          7.234750074783155,
          7.1514559195687415,
          7.3121036805374136,
          7.355415598623527,
          7.003141722847782,
          7.446470947101823,
          7.5862510356270345,
          7.982483268265863,
          8.392943414288327,
          8.71548265789341
         ]
        },
        {
         "marker": {
          "maxdisplayed": 10
         },
         "mode": "lines+markers",
         "name": "Trial70",
         "type": "scatter",
         "x": [
          0,
          1,
          2,
          3,
          4,
          5,
          6,
          7,
          8,
          9,
          10,
          11,
          12,
          13,
          14,
          15,
          16,
          17,
          18,
          19,
          20,
          21,
          22,
          23,
          24,
          25,
          26,
          27
         ],
         "y": [
          193.75493352506487,
          38.180122794872545,
          18.727717091373233,
          6.552236336909053,
          6.140388023426697,
          10.450165969857153,
          11.349298611475396,
          10.931626073295455,
          11.062531676377315,
          10.99885287141108,
          11.03852347164975,
          11.121958575744495,
          11.711582580070976,
          12.112119977508726,
          12.384859365580176,
          12.587484962113862,
          12.652811662961376,
          12.92755393913118,
          12.986738781868834,
          13.223485465443826,
          13.051678122697185,
          13.218586661776191,
          13.067346221528508,
          13.445964560398375,
          13.550188080980272,
          13.750345993676362,
          13.982204688808325,
          13.759335397705584
         ]
        },
        {
         "marker": {
          "maxdisplayed": 10
         },
         "mode": "lines+markers",
         "name": "Trial71",
         "type": "scatter",
         "x": [
          0,
          1,
          2,
          3
         ],
         "y": [
          892.1800687092382,
          808.3017896428377,
          732.3078155824963,
          663.4663461332613
         ]
        },
        {
         "marker": {
          "maxdisplayed": 10
         },
         "mode": "lines+markers",
         "name": "Trial72",
         "type": "scatter",
         "x": [
          0,
          1,
          2,
          3,
          4,
          5,
          6,
          7,
          8,
          9,
          10,
          11,
          12,
          13,
          14,
          15,
          16,
          17,
          18,
          19,
          20,
          21,
          22,
          23,
          24,
          25,
          26,
          27
         ],
         "y": [
          862.4135124199759,
          746.6362498814285,
          646.1259240455604,
          560.7367119686256,
          485.0746192644784,
          456.9549817957911,
          402.15779600696357,
          347.46912499980004,
          299.86501021642925,
          259.18775284060774,
          224.27133524475622,
          194.0482148969315,
          167.7409796026638,
          145.1086302619905,
          125.34074034650486,
          108.38888504357429,
          99.65304806507736,
          86.3513668308936,
          74.49822502729255,
          67.44202030406099,
          58.3563412356676,
          50.54900201629306,
          44.00537583534644,
          38.51738811386498,
          32.3571644842126,
          28.50821605434832,
          25.818331649246186,
          22.89479827924725
         ]
        },
        {
         "marker": {
          "maxdisplayed": 10
         },
         "mode": "lines+markers",
         "name": "Trial73",
         "type": "scatter",
         "x": [
          0,
          1,
          2,
          3,
          4,
          5,
          6,
          7,
          8,
          9
         ],
         "y": [
          401.4497717584282,
          155.39442509503579,
          63.0848706877797,
          36.99568424502664,
          21.39975636807106,
          14.074153834787552,
          16.09185116811425,
          17.8322828797676,
          18.12764187417787,
          18.9906849911228
         ]
        },
        {
         "marker": {
          "maxdisplayed": 10
         },
         "mode": "lines+markers",
         "name": "Trial74",
         "type": "scatter",
         "x": [
          0,
          1,
          2,
          3
         ],
         "y": [
          825.6989640885495,
          692.3428455876185,
          580.5294626068489,
          486.78653319502564
         ]
        },
        {
         "marker": {
          "maxdisplayed": 10
         },
         "mode": "lines+markers",
         "name": "Trial75",
         "type": "scatter",
         "x": [
          0,
          1,
          2,
          3
         ],
         "y": [
          644.2780769804845,
          421.53538003746445,
          275.81365063861466,
          180.49200799341077
         ]
        },
        {
         "marker": {
          "maxdisplayed": 10
         },
         "mode": "lines+markers",
         "name": "Trial76",
         "type": "scatter",
         "x": [
          0,
          1,
          2,
          3,
          4,
          5,
          6,
          7,
          8,
          9
         ],
         "y": [
          976.3586218360858,
          967.3691920620873,
          958.4593062202017,
          949.7645786745107,
          941.0170756296108,
          937.488420605567,
          929.7090177715868,
          921.144296131229,
          913.7588501678962,
          905.3405530190597
         ]
        },
        {
         "marker": {
          "maxdisplayed": 10
         },
         "mode": "lines+markers",
         "name": "Trial77",
         "type": "scatter",
         "x": [
          0,
          1,
          2,
          3
         ],
         "y": [
          981.3522201546701,
          977.9599532854811,
          974.5793971427152,
          971.2109522275383
         ]
        },
        {
         "marker": {
          "maxdisplayed": 10
         },
         "mode": "lines+markers",
         "name": "Trial78",
         "type": "scatter",
         "x": [
          0,
          1
         ],
         "y": [
          779.1168751704529,
          667.3622166431759
         ]
        },
        {
         "marker": {
          "maxdisplayed": 10
         },
         "mode": "lines+markers",
         "name": "Trial79",
         "type": "scatter",
         "x": [
          0,
          1,
          2,
          3
         ],
         "y": [
          982.5060109689387,
          980.8456644422403,
          855.7174793987926,
          655.7160640052962
         ]
        },
        {
         "marker": {
          "maxdisplayed": 10
         },
         "mode": "lines+markers",
         "name": "Trial80",
         "type": "scatter",
         "x": [
          0,
          1,
          2,
          3
         ],
         "y": [
          705.6363487958586,
          505.6465841131327,
          362.3454679573326,
          259.6761999202941
         ]
        },
        {
         "marker": {
          "maxdisplayed": 10
         },
         "mode": "lines+markers",
         "name": "Trial81",
         "type": "scatter",
         "x": [
          0,
          1,
          2,
          3,
          4,
          5,
          6,
          7,
          8,
          9,
          10,
          11,
          12,
          13,
          14,
          15,
          16,
          17,
          18,
          19,
          20,
          21,
          22,
          23,
          24,
          25,
          26,
          27,
          28,
          29,
          30,
          31,
          32,
          33,
          34,
          35,
          36,
          37,
          38,
          39,
          40,
          41,
          42,
          43,
          44,
          45,
          46,
          47,
          48,
          49,
          50,
          51,
          52,
          53,
          54,
          55,
          56,
          57,
          58,
          59,
          60,
          61,
          62,
          63,
          64,
          65,
          66,
          67,
          68,
          69,
          70,
          71,
          72,
          73,
          74,
          75,
          76,
          77,
          78,
          79,
          80,
          81
         ],
         "y": [
          365.0087918578744,
          135.34005502528743,
          50.21852799384056,
          19.61982768779835,
          10.45244575370776,
          5.453296372468028,
          5.153198114091026,
          6.56991291800496,
          6.772348221759513,
          7.00997483270492,
          7.764926549823219,
          8.27027466682173,
          8.188083050091379,
          8.94525588479435,
          8.989967636632292,
          9.911453628922196,
          10.994698800263917,
          11.138008914020737,
          10.533097229091602,
          10.955892210519616,
          10.595064820889451,
          10.93650461120898,
          10.81925473099,
          10.885391671790712,
          10.956154531963696,
          11.068287227721173,
          11.252402350112332,
          11.516692620170284,
          11.43179919463387,
          11.67019026973606,
          11.623891342851275,
          11.571604691998697,
          11.828092299600218,
          12.1193293556456,
          12.064779632492693,
          12.268721775150132,
          12.522061076896351,
          12.42018721592572,
          12.56064100701232,
          12.548848032794519,
          12.623908783867593,
          12.730148878631871,
          12.564442835370714,
          12.696760251104571,
          12.7549287699949,
          12.907554683395924,
          12.84175439553334,
          13.130607507869435,
          13.148152034383001,
          13.098991238082352,
          13.136628602711161,
          13.12226888682264,
          13.1461302806501,
          13.072968508457794,
          13.108005708908456,
          13.177670491341006,
          13.25200881306351,
          13.293313172741852,
          13.285068008503572,
          13.315200316731294,
          13.352626719439664,
          13.411579535452178,
          13.453692478005431,
          13.400962194194506,
          13.458676310415523,
          13.486750729509216,
          13.56797770592493,
          13.572160883727753,
          13.539690745612521,
          13.509584721317504,
          13.578896813694785,
          13.641682426446618,
          13.656779472047118,
          13.653398727997107,
          13.682697889540911,
          13.588645318456235,
          13.651385616520756,
          13.592905051322617,
          13.571841551853954,
          13.604737995226557,
          13.58232878753111,
          13.608765259385343
         ]
        },
        {
         "marker": {
          "maxdisplayed": 10
         },
         "mode": "lines+markers",
         "name": "Trial82",
         "type": "scatter",
         "x": [
          0,
          1,
          2,
          3
         ],
         "y": [
          423.3100794236505,
          161.56299328160816,
          78.15276485599242,
          45.90625337094138
         ]
        },
        {
         "marker": {
          "maxdisplayed": 10
         },
         "mode": "lines+markers",
         "name": "Trial83",
         "type": "scatter",
         "x": [
          0,
          1
         ],
         "y": [
          777.0855265703537,
          604.317439337686
         ]
        },
        {
         "marker": {
          "maxdisplayed": 10
         },
         "mode": "lines+markers",
         "name": "Trial84",
         "type": "scatter",
         "x": [
          0,
          1
         ],
         "y": [
          983.7882672105986,
          983.5645568936478
         ]
        },
        {
         "marker": {
          "maxdisplayed": 10
         },
         "mode": "lines+markers",
         "name": "Trial85",
         "type": "scatter",
         "x": [
          0,
          1,
          2,
          3
         ],
         "y": [
          675.7918848213294,
          443.67760886551906,
          292.7578957144049,
          195.22881109238148
         ]
        },
        {
         "marker": {
          "maxdisplayed": 10
         },
         "mode": "lines+markers",
         "name": "Trial86",
         "type": "scatter",
         "x": [
          0,
          1,
          2,
          3,
          4,
          5,
          6,
          7,
          8,
          9,
          10,
          11,
          12,
          13,
          14,
          15,
          16,
          17,
          18,
          19,
          20,
          21,
          22,
          23,
          24,
          25,
          26,
          27
         ],
         "y": [
          18.084943793963113,
          0.47366976410056144,
          2.7887490700293105,
          2.772112796703405,
          5.659863471849264,
          5.839818581569946,
          3.514256990819267,
          3.5359446247317994,
          4.872865396046553,
          5.135350268227278,
          4.076595308084678,
          4.815691734593772,
          5.92429522576146,
          6.938356066796967,
          6.993948943374062,
          8.157745131051081,
          9.26739188618426,
          10.060436287993037,
          10.935069187042034,
          11.888468073325996,
          12.004713894835929,
          12.317406027335512,
          13.149546254052389,
          13.380739914899582,
          13.273638787353669,
          13.05392573734222,
          13.3271238800182,
          13.714168838732634
         ]
        },
        {
         "marker": {
          "maxdisplayed": 10
         },
         "mode": "lines+markers",
         "name": "Trial87",
         "type": "scatter",
         "x": [
          0,
          1,
          2,
          3,
          4,
          5,
          6,
          7,
          8,
          9,
          10,
          11,
          12,
          13,
          14,
          15,
          16,
          17,
          18,
          19,
          20,
          21,
          22,
          23,
          24,
          25,
          26,
          27
         ],
         "y": [
          353.31878187931443,
          126.82341526205026,
          54.03252113573219,
          21.00683790660528,
          9.420742820169886,
          10.398759260850541,
          11.90883674702223,
          11.18371281110388,
          13.103307818498966,
          13.454284557025508,
          13.479818308158897,
          14.529455709111561,
          16.03844581972829,
          16.35970555477852,
          16.709432566223064,
          16.794080031960835,
          17.80793385053184,
          17.834010934362176,
          17.85993877543808,
          18.030535597572946,
          18.60079098880409,
          19.059665991036194,
          19.12378898996421,
          19.372572730640602,
          19.38396374273191,
          19.537680814692745,
          19.686620642199074,
          19.68882947541781
         ]
        },
        {
         "marker": {
          "maxdisplayed": 10
         },
         "mode": "lines+markers",
         "name": "Trial88",
         "type": "scatter",
         "x": [
          0,
          1,
          2,
          3
         ],
         "y": [
          576.5840690175218,
          337.6294399421363,
          197.72187504458412,
          115.82768641080868
         ]
        },
        {
         "marker": {
          "maxdisplayed": 10
         },
         "mode": "lines+markers",
         "name": "Trial89",
         "type": "scatter",
         "x": [
          0,
          1,
          2,
          3,
          4,
          5,
          6,
          7,
          8,
          9
         ],
         "y": [
          46.75844436682162,
          19.07365874102883,
          15.697396450993079,
          22.579717552765654,
          22.751153706527994,
          22.82717894286328,
          23.81975963380967,
          23.330549815998282,
          22.45312633452417,
          23.846014169548017
         ]
        },
        {
         "marker": {
          "maxdisplayed": 10
         },
         "mode": "lines+markers",
         "name": "Trial90",
         "type": "scatter",
         "x": [
          0,
          1,
          2,
          3,
          4,
          5,
          6,
          7,
          8,
          9
         ],
         "y": [
          247.83188774522466,
          62.77183023889092,
          20.28823713028626,
          24.21941154765916,
          13.314275045561654,
          12.465947241938943,
          15.117716969244308,
          15.440494684512682,
          16.633811022243695,
          17.700802439886882
         ]
        },
        {
         "marker": {
          "maxdisplayed": 10
         },
         "mode": "lines+markers",
         "name": "Trial91",
         "type": "scatter",
         "x": [
          0,
          1
         ],
         "y": [
          712.2541056950174,
          515.1822341740733
         ]
        },
        {
         "marker": {
          "maxdisplayed": 10
         },
         "mode": "lines+markers",
         "name": "Trial92",
         "type": "scatter",
         "x": [
          0,
          1
         ],
         "y": [
          968.8897086735994,
          952.6490104474207
         ]
        },
        {
         "marker": {
          "maxdisplayed": 10
         },
         "mode": "lines+markers",
         "name": "Trial93",
         "type": "scatter",
         "x": [
          0,
          1,
          2,
          3
         ],
         "y": [
          555.2078816105048,
          286.83503154142915,
          150.09114816890133,
          92.06742223003846
         ]
        },
        {
         "marker": {
          "maxdisplayed": 10
         },
         "mode": "lines+markers",
         "name": "Trial94",
         "type": "scatter",
         "x": [
          0,
          1,
          2,
          3,
          4,
          5,
          6,
          7,
          8,
          9
         ],
         "y": [
          984.753286985694,
          984.7340181376612,
          984.7148521607122,
          984.6969860215321,
          984.6820328225332,
          983.8839403261027,
          983.87212491713,
          983.7286712570657,
          983.7065301292297,
          982.7286317887642
         ]
        },
        {
         "marker": {
          "maxdisplayed": 10
         },
         "mode": "lines+markers",
         "name": "Trial95",
         "type": "scatter",
         "x": [
          0,
          1
         ],
         "y": [
          933.9295910751464,
          882.4392204307633
         ]
        },
        {
         "marker": {
          "maxdisplayed": 10
         },
         "mode": "lines+markers",
         "name": "Trial96",
         "type": "scatter",
         "x": [
          0,
          1
         ],
         "y": [
          893.0013948785546,
          802.9947232877695
         ]
        },
        {
         "marker": {
          "maxdisplayed": 10
         },
         "mode": "lines+markers",
         "name": "Trial97",
         "type": "scatter",
         "x": [
          0,
          1,
          2,
          3,
          4,
          5,
          6,
          7,
          8,
          9
         ],
         "y": [
          461.3411518016775,
          216.1860453606314,
          101.33369770974906,
          47.542140248957985,
          37.461001573199745,
          18.956703012998883,
          18.65785682588062,
          18.457593077289776,
          19.21787447545722,
          21.15267713874821
         ]
        },
        {
         "marker": {
          "maxdisplayed": 10
         },
         "mode": "lines+markers",
         "name": "Trial98",
         "type": "scatter",
         "x": [
          0,
          1
         ],
         "y": [
          808.5691766154403,
          655.7838559115598
         ]
        },
        {
         "marker": {
          "maxdisplayed": 10
         },
         "mode": "lines+markers",
         "name": "Trial99",
         "type": "scatter",
         "x": [
          0,
          1
         ],
         "y": [
          983.4359351228242,
          982.0128037192725
         ]
        },
        {
         "marker": {
          "maxdisplayed": 10
         },
         "mode": "lines+markers",
         "name": "Trial100",
         "type": "scatter",
         "x": [
          0,
          1,
          2,
          3,
          4,
          5,
          6,
          7,
          8,
          9
         ],
         "y": [
          71.30346972310583,
          60.07701593845504,
          32.46827212047257,
          24.825345934382494,
          29.868818156433562,
          27.021784887148602,
          27.182673463591833,
          28.57222792930372,
          28.1518176397171,
          28.742883846240378
         ]
        },
        {
         "marker": {
          "maxdisplayed": 10
         },
         "mode": "lines+markers",
         "name": "Trial101",
         "type": "scatter",
         "x": [
          0,
          1,
          2,
          3,
          4,
          5,
          6,
          7,
          8,
          9,
          10,
          11,
          12,
          13,
          14,
          15,
          16,
          17,
          18,
          19,
          20,
          21,
          22,
          23,
          24,
          25,
          26,
          27
         ],
         "y": [
          961.3616931527645,
          959.9252191660411,
          869.6013248921565,
          765.6332222523941,
          674.1187158995241,
          673.4839008809093,
          672.140799116385,
          668.3624852890691,
          588.1371178530558,
          585.5175652500036,
          565.8694226589434,
          565.2747821113944,
          553.804386460477,
          553.3836305133259,
          552.8630693314752,
          486.0383795810433,
          476.5462093796944,
          458.81069062770007,
          457.13684110950726,
          415.08008791084467,
          379.7332930411369,
          377.7813930494349,
          377.787931403534,
          377.6675465892961,
          371.84683379194894,
          371.5768981920771,
          326.2034142492679,
          297.03626726317077
         ]
        },
        {
         "marker": {
          "maxdisplayed": 10
         },
         "mode": "lines+markers",
         "name": "Trial102",
         "type": "scatter",
         "x": [
          0,
          1,
          2,
          3,
          4,
          5,
          6,
          7,
          8,
          9
         ],
         "y": [
          267.93921551688874,
          72.98991657801011,
          19.962377472261224,
          14.662160612095184,
          12.654400272640197,
          19.077330816327805,
          22.894815360771222,
          26.443951426914847,
          28.26970437914222,
          27.36143313752256
         ]
        },
        {
         "marker": {
          "maxdisplayed": 10
         },
         "mode": "lines+markers",
         "name": "Trial103",
         "type": "scatter",
         "x": [
          0,
          1,
          2,
          3
         ],
         "y": [
          479.10148093856793,
          233.14839531328082,
          113.4864022266085,
          55.283577620341404
         ]
        },
        {
         "marker": {
          "maxdisplayed": 10
         },
         "mode": "lines+markers",
         "name": "Trial104",
         "type": "scatter",
         "x": [
          0,
          1
         ],
         "y": [
          614.1395261873682,
          383.0192185268098
         ]
        },
        {
         "marker": {
          "maxdisplayed": 10
         },
         "mode": "lines+markers",
         "name": "Trial105",
         "type": "scatter",
         "x": [
          0,
          1,
          2,
          3,
          4,
          5,
          6,
          7,
          8,
          9,
          10,
          11,
          12,
          13,
          14,
          15,
          16,
          17,
          18,
          19,
          20,
          21,
          22,
          23,
          24,
          25,
          26,
          27
         ],
         "y": [
          53.53363471608553,
          3.044780735066254,
          4.141243206026218,
          7.690656238349114,
          11.893312383224593,
          10.88394476989142,
          13.860987133763842,
          16.54292856665927,
          15.02817167482334,
          15.172469157935055,
          16.715852363882885,
          17.935535463975732,
          17.362746999813776,
          17.956731755623757,
          18.50938169292045,
          18.352962206834107,
          18.424110232369173,
          19.01147081494355,
          19.47523649366489,
          19.775629703949015,
          19.71935408048953,
          19.868326788605106,
          20.26115268536472,
          20.25660819568363,
          20.056479680653336,
          20.069443339565566,
          20.15102926736976,
          20.31572835423426
         ]
        },
        {
         "marker": {
          "maxdisplayed": 10
         },
         "mode": "lines+markers",
         "name": "Trial106",
         "type": "scatter",
         "x": [
          0,
          1,
          2,
          3,
          4,
          5,
          6,
          7,
          8,
          9,
          10,
          11,
          12,
          13,
          14,
          15,
          16,
          17,
          18,
          19,
          20,
          21,
          22,
          23,
          24,
          25,
          26,
          27,
          28,
          29,
          30,
          31,
          32,
          33,
          34,
          35,
          36,
          37,
          38,
          39,
          40,
          41,
          42,
          43,
          44,
          45,
          46,
          47,
          48,
          49,
          50,
          51,
          52,
          53,
          54,
          55,
          56,
          57,
          58,
          59,
          60,
          61,
          62,
          63,
          64,
          65,
          66,
          67,
          68,
          69,
          70,
          71,
          72,
          73,
          74,
          75,
          76,
          77,
          78,
          79,
          80,
          81,
          82,
          83,
          84,
          85,
          86,
          87,
          88,
          89,
          90,
          91,
          92,
          93,
          94,
          95,
          96,
          97,
          98,
          99
         ],
         "y": [
          150.07950800369653,
          69.11438276066032,
          78.93724822311094,
          66.15156476003303,
          61.472488567329314,
          54.872920385227,
          43.911153769760226,
          39.17246686808824,
          38.98978579135032,
          37.36443789085691,
          36.65134807529855,
          36.695053466635386,
          36.88101276656641,
          37.45988892526694,
          38.18369715723476,
          39.398932682330226,
          39.8435424353085,
          40.01162096802208,
          39.739127586481544,
          38.24473577015419,
          38.058094337488036,
          38.22028447258732,
          38.294675628481244,
          38.81053435534172,
          38.97646077113716,
          39.02105011789862,
          39.11108522031177,
          39.267699199499326,
          39.16767794510483,
          39.348788165049555,
          39.01571241882954,
          39.42285568595275,
          39.04484015770671,
          38.80763717363462,
          38.26691245770537,
          38.39971399174015,
          38.21337073565452,
          37.99470508216486,
          38.102197065339325,
          38.1079092486941,
          38.1060739262563,
          38.13253263273179,
          37.99351626906976,
          38.066708845860894,
          38.285806999855794,
          38.316512710657186,
          38.7307037762194,
          38.664546027802146,
          38.752504110360526,
          38.518954672496754,
          37.76787484016828,
          37.80632278043122,
          38.2026574688294,
          38.2131118078434,
          38.264403656222804,
          38.21052851548059,
          38.16381905356363,
          38.19182199360492,
          37.97775459019118,
          38.12917344579601,
          38.15518440627887,
          38.10286125944265,
          38.49159037166536,
          38.472880289530735,
          38.54661400929355,
          38.51328858995956,
          38.606343154034334,
          38.59255446222842,
          38.78053512064373,
          38.78288126840803,
          38.76627708319783,
          38.69823432687952,
          38.64738398447145,
          38.63589059228866,
          38.686788643634095,
          38.732787954869515,
          38.85215680702192,
          38.92891369978129,
          39.09444821261347,
          38.764499734144714,
          38.806155042727575,
          38.769896841576504,
          38.774001823251176,
          38.98474980815604,
          38.6445325055942,
          38.55893558519915,
          38.67069913126414,
          38.30157978315238,
          38.33920938192579,
          38.21321880673525,
          38.37025923339147,
          38.476583682895345,
          38.502252292791944,
          38.330041293939914,
          38.22492704770733,
          38.36258456407908,
          38.22270552912784,
          38.33263409486786,
          38.40937162089425,
          38.37272843591737
         ]
        },
        {
         "marker": {
          "maxdisplayed": 10
         },
         "mode": "lines+markers",
         "name": "Trial107",
         "type": "scatter",
         "x": [
          0,
          1
         ],
         "y": [
          961.6719206856659,
          938.2500693426746
         ]
        },
        {
         "marker": {
          "maxdisplayed": 10
         },
         "mode": "lines+markers",
         "name": "Trial108",
         "type": "scatter",
         "x": [
          0,
          1,
          2,
          3,
          4,
          5,
          6,
          7,
          8,
          9
         ],
         "y": [
          326.4596753769255,
          110.36326023342181,
          43.486733843064194,
          26.37503161520746,
          18.521583719622758,
          20.26047341128673,
          21.41020429083919,
          22.261849333726204,
          21.848119234690188,
          22.125409413802547
         ]
        },
        {
         "marker": {
          "maxdisplayed": 10
         },
         "mode": "lines+markers",
         "name": "Trial109",
         "type": "scatter",
         "x": [
          0,
          1
         ],
         "y": [
          832.75343743544,
          704.2143243956632
         ]
        },
        {
         "marker": {
          "maxdisplayed": 10
         },
         "mode": "lines+markers",
         "name": "Trial110",
         "type": "scatter",
         "x": [
          0,
          1
         ],
         "y": [
          762.827904710002,
          583.9732321238316
         ]
        },
        {
         "marker": {
          "maxdisplayed": 10
         },
         "mode": "lines+markers",
         "name": "Trial111",
         "type": "scatter",
         "x": [
          0,
          1,
          2,
          3,
          4,
          5,
          6,
          7,
          8,
          9,
          10,
          11,
          12,
          13,
          14,
          15,
          16,
          17,
          18,
          19,
          20,
          21,
          22,
          23,
          24,
          25,
          26,
          27,
          28,
          29,
          30,
          31,
          32,
          33,
          34,
          35,
          36,
          37,
          38,
          39,
          40,
          41,
          42,
          43,
          44,
          45,
          46,
          47,
          48,
          49,
          50,
          51,
          52,
          53,
          54,
          55,
          56,
          57,
          58,
          59,
          60,
          61,
          62,
          63,
          64,
          65,
          66,
          67,
          68,
          69,
          70,
          71,
          72,
          73,
          74,
          75,
          76,
          77,
          78,
          79,
          80,
          81,
          82,
          83,
          84,
          85,
          86,
          87,
          88,
          89,
          90,
          91,
          92,
          93,
          94,
          95,
          96,
          97,
          98,
          99
         ],
         "y": [
          248.92254864752093,
          62.96580257794263,
          16.09853752034639,
          3.7191657485655822,
          3.33467481319622,
          5.547617799903542,
          7.869163373308504,
          10.248304312169784,
          9.439903080108884,
          10.148303276719574,
          10.017650301385931,
          11.362227763973136,
          11.339158327186764,
          11.520593213915191,
          11.518028623600806,
          12.39863982989276,
          12.846245740312337,
          14.25692349980026,
          14.421229259730687,
          14.66080648898172,
          14.703069803714957,
          14.899432842798307,
          15.291729884549996,
          15.43593959459949,
          14.300113473955228,
          14.785284306301524,
          14.91031605486274,
          14.801615581402958,
          14.888889493091673,
          15.107610636247692,
          14.74391583405065,
          14.396973790428529,
          14.645208190381407,
          14.999289546087255,
          14.973003279384796,
          15.042807108595543,
          15.192946077500734,
          15.294465365678322,
          15.197730097181093,
          15.294081794737835,
          15.358990431070099,
          15.404187002965253,
          15.48667433792805,
          15.686509968786892,
          15.693770153717404,
          15.774921887392773,
          15.827318486371595,
          15.891953666820463,
          15.805961191634879,
          15.790171345993985,
          15.749259466727585,
          15.807627824554562,
          16.008997700474836,
          15.957500910365935,
          16.059041339426315,
          16.027946514044057,
          16.072123808146596,
          16.17573064434189,
          16.181662526248942,
          16.18989953796775,
          16.144736909407033,
          16.174872072539834,
          16.226361438481412,
          16.14470419984231,
          16.13573823296402,
          16.084584411041142,
          16.092066916000423,
          16.127099173477156,
          16.157858571881828,
          16.171372236435886,
          16.187211909621578,
          16.196286541194546,
          16.211042009076607,
          16.22035440297436,
          16.055994731426857,
          16.101948633586964,
          16.119783857764617,
          16.111835237284517,
          16.141695376452788,
          16.150035757254752,
          15.993955040556454,
          16.050714000825394,
          15.933670823134785,
          15.99247742958915,
          15.998550696585783,
          16.04435144878021,
          16.0098453294606,
          16.024784708803868,
          16.032959533336093,
          16.03873424949695,
          16.037705060103484,
          15.998985787102347,
          16.035774389967333,
          16.032148668052645,
          16.004026501435348,
          16.000059000617043,
          15.986237518834477,
          15.982000077252415,
          15.966660012465088,
          15.945880542311155
         ]
        },
        {
         "marker": {
          "maxdisplayed": 10
         },
         "mode": "lines+markers",
         "name": "Trial112",
         "type": "scatter",
         "x": [
          0,
          1,
          2,
          3,
          4,
          5,
          6,
          7,
          8,
          9,
          10,
          11,
          12,
          13,
          14,
          15,
          16,
          17,
          18,
          19,
          20,
          21,
          22,
          23,
          24,
          25,
          26,
          27,
          28,
          29,
          30,
          31,
          32,
          33,
          34,
          35,
          36,
          37,
          38,
          39,
          40,
          41,
          42,
          43,
          44,
          45,
          46,
          47,
          48,
          49,
          50,
          51,
          52,
          53,
          54,
          55,
          56,
          57,
          58,
          59,
          60,
          61,
          62,
          63,
          64,
          65,
          66,
          67,
          68,
          69,
          70,
          71,
          72,
          73,
          74,
          75,
          76,
          77,
          78,
          79,
          80,
          81
         ],
         "y": [
          276.1730132063848,
          77.515859518612,
          22.544763413050656,
          6.602495170614853,
          7.867302200189609,
          7.971574450457174,
          11.09712194470483,
          11.571332910496613,
          10.874610391596164,
          11.614440320915085,
          12.165237870455995,
          12.458794788054101,
          12.632687958101894,
          13.086244645819772,
          13.64233106224513,
          12.399882876548208,
          13.172426517981032,
          13.239229170985437,
          12.819602775606269,
          12.995135317557182,
          13.077872028065714,
          13.19853973188307,
          13.556558505160659,
          13.85141681523852,
          13.867269994706314,
          13.88283387573008,
          13.971128813156295,
          14.048562739923886,
          13.860257609859174,
          14.067703648432733,
          14.140432579847381,
          14.260951293975781,
          14.610444091248059,
          14.551324586395994,
          14.578859178938812,
          14.838285715784162,
          14.920040853549427,
          14.646551421977026,
          14.7275526131775,
          14.733202510863313,
          14.910346398643677,
          14.997793201419492,
          14.978569004251185,
          14.894267301887961,
          15.006337169452909,
          15.057988216232243,
          15.061955623673372,
          15.04184094964564,
          15.041679908309005,
          15.001556067965561,
          15.08781598195008,
          15.13748904189544,
          15.212213613417605,
          15.167357214966064,
          15.229169811796961,
          15.226374873600575,
          15.240286704585758,
          15.225072731415166,
          15.270030351415844,
          15.239321007470462,
          15.22314512316372,
          15.177079662012847,
          15.24759917288835,
          15.269833165869022,
          15.180176518243044,
          15.229834011692144,
          15.242441346518929,
          15.283697521005136,
          15.178115912532096,
          15.170539632791119,
          15.16254831123785,
          15.202871447833857,
          15.212791693608256,
          15.160169353001052,
          15.163346242109636,
          15.227797645737123,
          15.223994115753353,
          15.223689427830179,
          15.161058960181276,
          15.229366204581252,
          15.212609802586165,
          15.182394645637885
         ]
        },
        {
         "marker": {
          "maxdisplayed": 10
         },
         "mode": "lines+markers",
         "name": "Trial113",
         "type": "scatter",
         "x": [
          0,
          1,
          2,
          3,
          4,
          5,
          6,
          7,
          8,
          9,
          10,
          11,
          12,
          13,
          14,
          15,
          16,
          17,
          18,
          19,
          20,
          21,
          22,
          23,
          24,
          25,
          26,
          27
         ],
         "y": [
          984.747147052235,
          984.6981317634711,
          984.6497820070664,
          984.605217417619,
          984.5674871466657,
          982.5402830655662,
          982.5112049205309,
          982.1475086277982,
          982.0912497028512,
          979.6029911869646,
          979.5945239571224,
          979.5873838268636,
          966.3108440789553,
          966.199383674578,
          966.199383674578,
          966.1614465714489,
          966.0262372928077,
          965.9952755377358,
          952.9031512868477,
          952.8716435495936,
          952.8631109982041,
          952.8204605737812,
          939.9049079537782,
          939.626537020962,
          937.2159995004879,
          924.5101446988427,
          924.456566311278,
          924.2139858966626
         ]
        },
        {
         "marker": {
          "maxdisplayed": 10
         },
         "mode": "lines+markers",
         "name": "Trial114",
         "type": "scatter",
         "x": [
          0,
          1,
          2,
          3,
          4,
          5,
          6,
          7,
          8,
          9,
          10,
          11,
          12,
          13,
          14,
          15,
          16,
          17,
          18,
          19,
          20,
          21,
          22,
          23,
          24,
          25,
          26,
          27,
          28,
          29,
          30,
          31,
          32,
          33,
          34,
          35,
          36,
          37,
          38,
          39,
          40,
          41,
          42,
          43,
          44,
          45,
          46,
          47,
          48,
          49,
          50,
          51,
          52,
          53,
          54,
          55,
          56,
          57,
          58,
          59,
          60,
          61,
          62,
          63,
          64,
          65,
          66,
          67,
          68,
          69,
          70,
          71,
          72,
          73,
          74,
          75,
          76,
          77,
          78,
          79,
          80,
          81,
          82,
          83,
          84,
          85,
          86,
          87,
          88,
          89,
          90,
          91,
          92,
          93,
          94,
          95,
          96,
          97,
          98,
          99
         ],
         "y": [
          290.2177777344058,
          85.43401957312965,
          24.615763029257113,
          14.110262550358055,
          10.715373893296348,
          11.836256707225651,
          12.166237178050988,
          12.553917309393338,
          12.581497994198504,
          12.763997302016843,
          9.885697524767625,
          10.091585301524853,
          9.748204688007505,
          9.937834317216137,
          10.613782375061446,
          11.101731663743346,
          10.938373289706849,
          11.019100659576452,
          10.161502350528306,
          10.42020701412001,
          10.364544195345163,
          10.861465511760475,
          10.997229985583333,
          10.917019160175972,
          10.879602234447491,
          11.001547133199477,
          10.615452721006113,
          10.977059114573809,
          10.937278525342549,
          11.04069474068118,
          11.131592283341428,
          11.299155614653172,
          11.285267399202905,
          11.4134766684995,
          11.375832338890719,
          11.56698560248246,
          11.626387873560423,
          11.684669769361195,
          11.566213383809703,
          11.755339165638803,
          11.759187416133072,
          11.729556194631737,
          11.705028699015154,
          11.743197679599461,
          11.743563994788678,
          11.750016051859799,
          11.765933774048094,
          11.795766616946247,
          11.27037165445932,
          11.277084345427104,
          11.24418266539629,
          11.264879531028377,
          11.35935051352674,
          11.418444679267852,
          11.434292164323557,
          11.392743145758486,
          11.232278155229093,
          11.303497357516619,
          11.243070797245617,
          11.238262694089418,
          10.828809732083077,
          10.810268037333817,
          10.815392913401412,
          10.862834281536887,
          10.828807880185856,
          10.761962097761295,
          10.74764002746932,
          10.820295343482158,
          10.817372882969167,
          10.82332075652839,
          10.869615591780864,
          10.868930298238615,
          10.881049451921204,
          10.904348955351237,
          10.925592406722371,
          10.91979336065723,
          10.923652032791175,
          10.963783578621827,
          10.989221377629478,
          11.036537905740854,
          10.940778932653311,
          10.9400249338971,
          10.96726236079653,
          11.005103827149828,
          11.012237261551112,
          10.977252037914482,
          10.976542105079735,
          11.015234758973136,
          11.039546980222545,
          11.040379850199256,
          11.006539399774045,
          11.003657307223682,
          11.02073859001448,
          11.038341399287807,
          11.02614622566576,
          11.043409657040012,
          11.042288252137684,
          11.067426607533866,
          11.092920067339866,
          11.107789029519006
         ]
        },
        {
         "marker": {
          "maxdisplayed": 10
         },
         "mode": "lines+markers",
         "name": "Trial115",
         "type": "scatter",
         "x": [
          0,
          1,
          2,
          3,
          4,
          5,
          6,
          7,
          8,
          9
         ],
         "y": [
          317.46622449134424,
          98.88407529011843,
          33.56146500936978,
          16.93101361908727,
          11.75290884342718,
          11.530320934140073,
          13.859639601731104,
          14.129657108163391,
          13.493511585152142,
          14.525093096047671
         ]
        },
        {
         "marker": {
          "maxdisplayed": 10
         },
         "mode": "lines+markers",
         "name": "Trial116",
         "type": "scatter",
         "x": [
          0,
          1,
          2,
          3
         ],
         "y": [
          632.4699546862465,
          406.22534623179484,
          260.9192373665957,
          167.61120737233634
         ]
        },
        {
         "marker": {
          "maxdisplayed": 10
         },
         "mode": "lines+markers",
         "name": "Trial117",
         "type": "scatter",
         "x": [
          0,
          1,
          2,
          3
         ],
         "y": [
          464.78861164915213,
          219.41557084923926,
          103.6007199839035,
          49.128591856144546
         ]
        },
        {
         "marker": {
          "maxdisplayed": 10
         },
         "mode": "lines+markers",
         "name": "Trial118",
         "type": "scatter",
         "x": [
          0,
          1,
          2,
          3,
          4,
          5,
          6,
          7,
          8,
          9
         ],
         "y": [
          230.41929377964664,
          53.98808066532371,
          15.052202192398772,
          8.252455612288092,
          9.403529167301997,
          10.075858676978177,
          10.904680685158656,
          12.7710903872215,
          14.42564696081041,
          14.57216827529282
         ]
        },
        {
         "marker": {
          "maxdisplayed": 10
         },
         "mode": "lines+markers",
         "name": "Trial119",
         "type": "scatter",
         "x": [
          0,
          1,
          2,
          3,
          4,
          5,
          6,
          7,
          8,
          9,
          10,
          11,
          12,
          13,
          14,
          15,
          16,
          17,
          18,
          19,
          20,
          21,
          22,
          23,
          24,
          25,
          26,
          27
         ],
         "y": [
          982.7470474819534,
          980.1459933910221,
          977.5510332132861,
          977.5181314441711,
          974.930784652217,
          974.0001620599575,
          971.722291631505,
          970.5267792773875,
          968.2669985507175,
          965.7032093617573,
          964.0302925287962,
          961.4781986082256,
          960.0191549146851,
          958.0544791364886,
          955.5182063566348,
          952.9888725723326,
          952.0758445605571,
          950.133175353138,
          947.6179241582868,
          946.4170593370309,
          943.9117727859252,
          941.4124013749368,
          939.8428667730545,
          937.3542898549665,
          936.6415980831223,
          934.1623945985609,
          932.2375362827671,
          929.7695648201752
         ]
        },
        {
         "marker": {
          "maxdisplayed": 10
         },
         "mode": "lines+markers",
         "name": "Trial120",
         "type": "scatter",
         "x": [
          0,
          1
         ],
         "y": [
          594.4323400163817,
          342.2991459393336
         ]
        },
        {
         "marker": {
          "maxdisplayed": 10
         },
         "mode": "lines+markers",
         "name": "Trial121",
         "type": "scatter",
         "x": [
          0,
          1
         ],
         "y": [
          695.9457410499728,
          474.10523588521517
         ]
        },
        {
         "marker": {
          "maxdisplayed": 10
         },
         "mode": "lines+markers",
         "name": "Trial122",
         "type": "scatter",
         "x": [
          0,
          1,
          2,
          3
         ],
         "y": [
          479.35989574749465,
          210.1081946260546,
          103.07089979784709,
          66.26255437328851
         ]
        },
        {
         "marker": {
          "maxdisplayed": 10
         },
         "mode": "lines+markers",
         "name": "Trial123",
         "type": "scatter",
         "x": [
          0,
          1
         ],
         "y": [
          982.8634404734041,
          982.5208208300878
         ]
        },
        {
         "marker": {
          "maxdisplayed": 10
         },
         "mode": "lines+markers",
         "name": "Trial124",
         "type": "scatter",
         "x": [
          0,
          1,
          2,
          3
         ],
         "y": [
          819.5263119632945,
          667.4015975174528,
          543.3930128105825,
          446.49611977634993
         ]
        },
        {
         "marker": {
          "maxdisplayed": 10
         },
         "mode": "lines+markers",
         "name": "Trial125",
         "type": "scatter",
         "x": [
          0,
          1,
          2,
          3,
          4,
          5,
          6,
          7,
          8,
          9,
          10,
          11,
          12,
          13,
          14,
          15,
          16,
          17,
          18,
          19,
          20,
          21,
          22,
          23,
          24,
          25,
          26,
          27,
          28,
          29,
          30,
          31,
          32,
          33,
          34,
          35,
          36,
          37,
          38,
          39,
          40,
          41,
          42,
          43,
          44,
          45,
          46,
          47,
          48,
          49,
          50,
          51,
          52,
          53,
          54,
          55,
          56,
          57,
          58,
          59,
          60,
          61,
          62,
          63,
          64,
          65,
          66,
          67,
          68,
          69,
          70,
          71,
          72,
          73,
          74,
          75,
          76,
          77,
          78,
          79,
          80,
          81
         ],
         "y": [
          214.9375272738083,
          46.995029182724544,
          10.358361402628908,
          7.036810103775036,
          8.308882256436988,
          10.5181069233064,
          11.630380490678661,
          8.785757048673927,
          8.900702150163182,
          9.730188994728193,
          9.681135195174015,
          9.966060041768692,
          9.97999866543289,
          11.103597678274474,
          11.034994538424227,
          11.128825300267545,
          11.524585398938282,
          12.336537731765173,
          12.545260297415437,
          11.896117270856122,
          11.972484272309426,
          12.291758425513844,
          12.339516691633474,
          12.473947024346414,
          12.785045265591828,
          12.92084058836615,
          12.998158207718063,
          13.07590157813663,
          13.04479383114554,
          13.194770087530072,
          13.24686092811646,
          13.29534466808133,
          13.43116994632785,
          13.408870206276276,
          13.43120002673583,
          13.624781448246065,
          13.75045798005202,
          13.823825434959248,
          13.852265737222147,
          13.735354213238319,
          13.871429440174563,
          13.89656799540539,
          13.891291327014944,
          13.88061366321649,
          13.988538041847224,
          14.106359657211602,
          14.229746601771572,
          14.193963104282277,
          14.261484750017472,
          14.257758834953645,
          14.36650867423008,
          14.328108139695276,
          14.311736813242334,
          14.512775232021637,
          14.66685889876958,
          14.609220043054664,
          14.65918586980237,
          14.669522214888834,
          14.670606011071039,
          14.656696735811206,
          14.649898099910933,
          14.642161445057054,
          14.666164858522777,
          14.686739598928334,
          14.690388329556662,
          14.629070666151478,
          14.643629016641619,
          14.710088551590017,
          14.67390525865567,
          14.606902686344132,
          14.630602145710908,
          14.615616357925177,
          14.594610630220819,
          14.613143085630618,
          14.574688561321512,
          14.610678750314126,
          14.66537441166844,
          14.676207634056015,
          14.714354804536583,
          14.729191741032531,
          14.779850167126789,
          14.77628116717284
         ]
        },
        {
         "marker": {
          "maxdisplayed": 10
         },
         "mode": "lines+markers",
         "name": "Trial126",
         "type": "scatter",
         "x": [
          0,
          1
         ],
         "y": [
          595.4654750646883,
          360.0976496691295
         ]
        },
        {
         "marker": {
          "maxdisplayed": 10
         },
         "mode": "lines+markers",
         "name": "Trial127",
         "type": "scatter",
         "x": [
          0,
          1,
          2,
          3
         ],
         "y": [
          887.9184103875123,
          796.0868146836938,
          713.7625352863356,
          639.9802801886478
         ]
        },
        {
         "marker": {
          "maxdisplayed": 10
         },
         "mode": "lines+markers",
         "name": "Trial128",
         "type": "scatter",
         "x": [
          0,
          1
         ],
         "y": [
          738.7619206160663,
          536.9888319628585
         ]
        },
        {
         "marker": {
          "maxdisplayed": 10
         },
         "mode": "lines+markers",
         "name": "Trial129",
         "type": "scatter",
         "x": [
          0,
          1,
          2,
          3,
          4,
          5,
          6,
          7,
          8,
          9,
          10,
          11,
          12,
          13,
          14,
          15,
          16,
          17,
          18,
          19,
          20,
          21,
          22,
          23,
          24,
          25,
          26,
          27
         ],
         "y": [
          173.5132313686619,
          27.950590201692776,
          28.233132448511444,
          30.288456837646468,
          19.503020827898606,
          16.75255114640976,
          17.864085630795806,
          18.13306893886105,
          16.817112384818408,
          17.048158197032986,
          17.978696753809448,
          17.78321775977304,
          19.524731021550288,
          20.838681483387127,
          20.346805394862564,
          20.28196030760875,
          20.606268168937945,
          20.71418356000837,
          20.902490797158936,
          20.99999530183608,
          21.71282017346984,
          21.65342672956261,
          22.613385629762337,
          22.09322224108102,
          22.72841827833576,
          22.399842201493517,
          22.66617734671304,
          22.919077964766608
         ]
        },
        {
         "marker": {
          "maxdisplayed": 10
         },
         "mode": "lines+markers",
         "name": "Trial130",
         "type": "scatter",
         "x": [
          0,
          1,
          2,
          3,
          4,
          5,
          6,
          7,
          8,
          9
         ],
         "y": [
          53.82163411866324,
          19.55536486893191,
          17.375716614786796,
          22.42338446231938,
          20.41804164449824,
          19.24551383152823,
          21.611180494324266,
          20.651393335653047,
          20.642829127352332,
          20.567963461027805
         ]
        },
        {
         "marker": {
          "maxdisplayed": 10
         },
         "mode": "lines+markers",
         "name": "Trial131",
         "type": "scatter",
         "x": [
          0,
          1,
          2,
          3,
          4,
          5,
          6,
          7,
          8,
          9
         ],
         "y": [
          323.72935298066363,
          106.48613927627818,
          35.218598995084626,
          13.6123922264754,
          10.956725185798726,
          10.723528283974385,
          11.107917173383596,
          12.11087240714368,
          12.09680985837536,
          14.037377384225852
         ]
        },
        {
         "marker": {
          "maxdisplayed": 10
         },
         "mode": "lines+markers",
         "name": "Trial132",
         "type": "scatter",
         "x": [
          0,
          1
         ],
         "y": [
          520.0770269735759,
          274.71143851044667
         ]
        },
        {
         "marker": {
          "maxdisplayed": 10
         },
         "mode": "lines+markers",
         "name": "Trial133",
         "type": "scatter",
         "x": [
          0,
          1,
          2,
          3
         ],
         "y": [
          923.4047620603915,
          913.5177971366552,
          626.2601780714015,
          427.9607078709134
         ]
        },
        {
         "marker": {
          "maxdisplayed": 10
         },
         "mode": "lines+markers",
         "name": "Trial134",
         "type": "scatter",
         "x": [
          0,
          1,
          2,
          3,
          4,
          5,
          6,
          7,
          8,
          9
         ],
         "y": [
          264.4163821123497,
          73.54823925273548,
          30.993740795653586,
          25.40667962715016,
          20.607565796114656,
          21.975772403424347,
          23.95740877767385,
          21.756159397476235,
          21.521491293202907,
          21.61722120965633
         ]
        },
        {
         "marker": {
          "maxdisplayed": 10
         },
         "mode": "lines+markers",
         "name": "Trial135",
         "type": "scatter",
         "x": [
          0,
          1,
          2,
          3,
          4,
          5,
          6,
          7,
          8,
          9,
          10,
          11,
          12,
          13,
          14,
          15,
          16,
          17,
          18,
          19,
          20,
          21,
          22,
          23,
          24,
          25,
          26,
          27
         ],
         "y": [
          983.7840159469197,
          983.7687773635507,
          983.7335211056416,
          983.7220453123347,
          983.7107913360252,
          983.7000548656868,
          983.2458065454946,
          982.6291871552978,
          981.902168166097,
          980.932753174639,
          980.8930572152841,
          980.1681817925868,
          980.1381818986487,
          979.9917911010382,
          979.8511428977553,
          979.1193270486631,
          978.1523634233617,
          978.1488471797446,
          978.1250875640966,
          977.9776170276841,
          977.9684229542918,
          977.9401771949982,
          977.7415695936742,
          976.7761543381491,
          976.7741134178267,
          975.8097031598173,
          975.0874042941904,
          974.3660975946406
         ]
        },
        {
         "marker": {
          "maxdisplayed": 10
         },
         "mode": "lines+markers",
         "name": "Trial136",
         "type": "scatter",
         "x": [
          0,
          1,
          2,
          3,
          4,
          5,
          6,
          7,
          8,
          9,
          10,
          11,
          12,
          13,
          14,
          15,
          16,
          17,
          18,
          19,
          20,
          21,
          22,
          23,
          24,
          25,
          26,
          27
         ],
         "y": [
          983.8325997725474,
          982.833770462565,
          981.8358439429247,
          980.8575984606728,
          979.8617597045427,
          979.4823254173374,
          978.4879234484044,
          977.494347938101,
          976.5017655846818,
          975.7469958438754,
          975.0333281167477,
          974.0433137825526,
          973.0541900520458,
          972.0663350222201,
          971.0792380714364,
          970.0933709017103,
          969.727918708036,
          968.7433932982475,
          967.7596512026214,
          967.0028736591839,
          966.021069335959,
          965.0401631463491,
          964.0602318762589,
          963.0812403611948,
          962.1033821874745,
          961.1265957158793,
          960.3532725068624,
          959.378264527353
         ]
        },
        {
         "marker": {
          "maxdisplayed": 10
         },
         "mode": "lines+markers",
         "name": "Trial137",
         "type": "scatter",
         "x": [
          0,
          1,
          2,
          3
         ],
         "y": [
          857.7639522689144,
          737.9838425840891,
          634.8289045633906,
          547.5888104303266
         ]
        },
        {
         "marker": {
          "maxdisplayed": 10
         },
         "mode": "lines+markers",
         "name": "Trial138",
         "type": "scatter",
         "x": [
          0,
          1,
          2,
          3,
          4,
          5,
          6,
          7,
          8,
          9,
          10,
          11,
          12,
          13,
          14,
          15,
          16,
          17,
          18,
          19,
          20,
          21,
          22,
          23,
          24,
          25,
          26,
          27,
          28,
          29,
          30,
          31,
          32,
          33,
          34,
          35,
          36,
          37,
          38,
          39,
          40,
          41,
          42,
          43,
          44,
          45,
          46,
          47,
          48,
          49,
          50,
          51,
          52,
          53,
          54,
          55,
          56,
          57,
          58,
          59,
          60,
          61,
          62,
          63,
          64,
          65,
          66,
          67,
          68,
          69,
          70,
          71,
          72,
          73,
          74,
          75,
          76,
          77,
          78,
          79,
          80,
          81,
          82,
          83,
          84,
          85,
          86,
          87,
          88,
          89,
          90,
          91,
          92,
          93,
          94,
          95,
          96,
          97,
          98,
          99
         ],
         "y": [
          221.9974224814321,
          50.2423850700188,
          11.588590014523831,
          1.9359277944294295,
          7.071297169432923,
          5.525089948996998,
          10.049957223365167,
          9.657503044843935,
          10.10440106736738,
          9.231971479637018,
          9.522572073586169,
          9.746398515860184,
          10.255134459205694,
          10.698051588645484,
          11.207557274763062,
          11.85506615833106,
          11.783936615201407,
          11.63047097445274,
          11.695902584191133,
          11.803890974184384,
          11.953122077984071,
          12.139900979279574,
          12.230951677309363,
          12.205785139378252,
          12.467170150276317,
          12.611482291395713,
          12.666354428022203,
          12.989999497366258,
          12.918793956749186,
          13.009515548345384,
          13.120660677624207,
          13.014624970939238,
          12.98366602100043,
          12.95264255486143,
          12.956507857217288,
          12.916010918136946,
          13.041559091541904,
          13.149022450783171,
          13.110381297072832,
          13.117733279905613,
          13.036937514057914,
          13.021393271480393,
          13.032782807485768,
          13.014739931792864,
          13.066471261224137,
          13.193914334686138,
          13.025919720357184,
          13.218173550436195,
          13.199721410631586,
          13.2278245153973,
          13.202143012107413,
          13.190794663776565,
          13.210237679905818,
          13.174447377938108,
          13.159130924177672,
          13.284357541998062,
          13.25851487977947,
          13.297822991805415,
          13.24112638106812,
          13.152720111569808,
          13.183489642972212,
          13.138294367012007,
          13.245946239680393,
          13.098841389100219,
          13.114499759576173,
          13.124125313925308,
          13.212572966453358,
          13.237295215648365,
          13.270231653886412,
          13.292480909544171,
          13.272102510627839,
          13.322364956005709,
          13.28349195725082,
          13.33444003568905,
          13.35974362843284,
          13.41984655195024,
          13.42710418496623,
          13.442104615156676,
          13.386897842980458,
          13.395643752872514,
          13.436737536736064,
          13.322970691731138,
          13.392238941986601,
          13.354653105688437,
          13.424916373323308,
          13.439569001452236,
          13.441291751550802,
          13.435780096713335,
          13.414674702025168,
          13.372147550429295,
          13.338562830154487,
          13.35382753714525,
          13.336420124574087,
          13.337182663062123,
          13.336967311921784,
          13.329947381932477,
          13.33144385606618,
          13.27139370360629,
          13.286053399201224,
          13.220942021294203
         ]
        },
        {
         "marker": {
          "maxdisplayed": 10
         },
         "mode": "lines+markers",
         "name": "Trial139",
         "type": "scatter",
         "x": [
          0,
          1
         ],
         "y": [
          982.1431155661085,
          475.8243757359264
         ]
        },
        {
         "marker": {
          "maxdisplayed": 10
         },
         "mode": "lines+markers",
         "name": "Trial140",
         "type": "scatter",
         "x": [
          0,
          1
         ],
         "y": [
          883.2454060405476,
          792.2040740994146
         ]
        },
        {
         "marker": {
          "maxdisplayed": 10
         },
         "mode": "lines+markers",
         "name": "Trial141",
         "type": "scatter",
         "x": [
          0,
          1,
          2,
          3
         ],
         "y": [
          429.6711636486645,
          180.47024955453847,
          74.83077769299246,
          38.27093944202501
         ]
        },
        {
         "marker": {
          "maxdisplayed": 10
         },
         "mode": "lines+markers",
         "name": "Trial142",
         "type": "scatter",
         "x": [
          0,
          1,
          2,
          3
         ],
         "y": [
          450.07376843267895,
          82.61824721619588,
          53.911459042530836,
          70.13384904875254
         ]
        },
        {
         "marker": {
          "maxdisplayed": 10
         },
         "mode": "lines+markers",
         "name": "Trial143",
         "type": "scatter",
         "x": [
          0,
          1
         ],
         "y": [
          640.8079218866733,
          417.0153605238227
         ]
        },
        {
         "marker": {
          "maxdisplayed": 10
         },
         "mode": "lines+markers",
         "name": "Trial144",
         "type": "scatter",
         "x": [
          0,
          1,
          2,
          3,
          4,
          5,
          6,
          7,
          8,
          9,
          10,
          11,
          12,
          13,
          14,
          15,
          16,
          17,
          18,
          19,
          20,
          21,
          22,
          23,
          24,
          25,
          26,
          27,
          28,
          29,
          30,
          31,
          32,
          33,
          34,
          35,
          36,
          37,
          38,
          39,
          40,
          41,
          42,
          43,
          44,
          45,
          46,
          47,
          48,
          49,
          50,
          51,
          52,
          53,
          54,
          55,
          56,
          57,
          58,
          59,
          60,
          61,
          62,
          63,
          64,
          65,
          66,
          67,
          68,
          69,
          70,
          71,
          72,
          73,
          74,
          75,
          76,
          77,
          78,
          79,
          80,
          81,
          82,
          83,
          84,
          85,
          86,
          87,
          88,
          89,
          90,
          91,
          92,
          93,
          94,
          95,
          96,
          97,
          98,
          99
         ],
         "y": [
          366.65057241326406,
          136.63718357476887,
          51.373728948471175,
          21.31608927017525,
          8.74538118557254,
          4.783101034320813,
          4.9778110181385005,
          5.259375688062405,
          6.67544113800513,
          6.133247666407803,
          7.073083188454666,
          6.568644088399412,
          6.480226631985737,
          7.294879264022618,
          7.987447674704975,
          8.254808832636254,
          8.673064221894178,
          9.149648598596883,
          8.988120096949082,
          9.346283775720531,
          9.832482121054921,
          10.025366171309733,
          10.107237929969433,
          10.216441972245494,
          10.30403006568941,
          10.37409271190202,
          10.751458159422487,
          10.990612442410258,
          10.909849726407206,
          11.337843451566386,
          11.410727945654525,
          11.301028349186128,
          11.277211613272451,
          11.251747893609853,
          11.306681743678062,
          11.571763826191024,
          11.646757276628884,
          11.501889160390736,
          11.435324725470362,
          11.588794668001773,
          11.565454326339225,
          11.58886315918851,
          11.536721670603196,
          11.67467280464657,
          11.694102099275602,
          11.808216250521442,
          11.771723743724412,
          11.930661294923965,
          11.428952613323027,
          11.523759714888602,
          11.481751808696584,
          11.507857376378977,
          11.553800152865945,
          11.478806208660934,
          11.56470293289047,
          11.651206209168821,
          11.697425442504123,
          11.814786169281115,
          11.705623565163014,
          11.748847397492144,
          11.794059653655,
          11.81554110843194,
          11.847978032054135,
          11.860389012496114,
          11.916912036560996,
          11.973125571298613,
          11.958149744032127,
          12.054178161612624,
          12.038306675566252,
          12.01180033152591,
          12.038290475580942,
          12.060833852877183,
          12.03478635922378,
          12.03264571179024,
          11.988805473320506,
          12.05163866907274,
          12.129263949160073,
          12.188296062006891,
          12.20288767634613,
          12.210315882878888,
          12.252740970421357,
          12.152399267557579,
          12.17140641549004,
          12.195298699350015,
          12.21463058354385,
          12.2303309668347,
          12.192594029751346,
          12.173634699842703,
          12.288840495891016,
          12.243319419867046,
          12.23505661229401,
          12.187743189081578,
          12.192177271100133,
          12.204114730724502,
          12.258719948446533,
          12.291433103437155,
          12.312439227987978,
          12.240301835149042,
          12.242239935149561,
          12.220895443189669
         ]
        },
        {
         "marker": {
          "maxdisplayed": 10
         },
         "mode": "lines+markers",
         "name": "Trial145",
         "type": "scatter",
         "x": [
          0,
          1,
          2,
          3
         ],
         "y": [
          411.87891297491626,
          154.6181189092005,
          70.01304412629767,
          45.443513471950894
         ]
        },
        {
         "marker": {
          "maxdisplayed": 10
         },
         "mode": "lines+markers",
         "name": "Trial146",
         "type": "scatter",
         "x": [
          0,
          1,
          2,
          3,
          4,
          5,
          6,
          7,
          8,
          9,
          10,
          11,
          12,
          13,
          14,
          15,
          16,
          17,
          18,
          19,
          20,
          21,
          22,
          23,
          24,
          25,
          26,
          27
         ],
         "y": [
          232.1725881699603,
          54.79265955599276,
          20.060528605521224,
          6.282769059841396,
          6.980020299204703,
          6.842884010481243,
          7.887858997331258,
          9.030832144288983,
          9.001745472423371,
          10.117705857064506,
          10.862766474652988,
          11.006264737713732,
          10.782241836067403,
          11.065145410747942,
          11.417492076786159,
          12.030946048249293,
          11.74898851077695,
          11.645840647335342,
          11.71349884776712,
          12.029460918335896,
          12.16808046505707,
          12.360715299828298,
          12.345066905505622,
          12.319996383648956,
          12.178071155940952,
          12.19734143735389,
          12.167435390567944,
          12.265569398210502
         ]
        },
        {
         "marker": {
          "maxdisplayed": 10
         },
         "mode": "lines+markers",
         "name": "Trial147",
         "type": "scatter",
         "x": [
          0,
          1
         ],
         "y": [
          507.7271833159905,
          261.8139287403399
         ]
        },
        {
         "marker": {
          "maxdisplayed": 10
         },
         "mode": "lines+markers",
         "name": "Trial148",
         "type": "scatter",
         "x": [
          0,
          1,
          2,
          3,
          4,
          5,
          6,
          7,
          8,
          9,
          10,
          11,
          12,
          13,
          14,
          15,
          16,
          17,
          18,
          19,
          20,
          21,
          22,
          23,
          24,
          25,
          26,
          27,
          28,
          29,
          30,
          31,
          32,
          33,
          34,
          35,
          36,
          37,
          38,
          39,
          40,
          41,
          42,
          43,
          44,
          45,
          46,
          47,
          48,
          49,
          50,
          51,
          52,
          53,
          54,
          55,
          56,
          57,
          58,
          59,
          60,
          61,
          62,
          63,
          64,
          65,
          66,
          67,
          68,
          69,
          70,
          71,
          72,
          73,
          74,
          75,
          76,
          77,
          78,
          79,
          80,
          81,
          82,
          83,
          84,
          85,
          86,
          87,
          88,
          89,
          90,
          91,
          92,
          93,
          94,
          95,
          96,
          97,
          98,
          99
         ],
         "y": [
          724.856971585643,
          533.5453822947612,
          392.7269537046622,
          289.09253477767885,
          212.81552090322833,
          156.67068646274706,
          115.3442549264878,
          84.92749851452625,
          62.529091322818594,
          46.05017139967039,
          33.913988110071934,
          24.980806037783843,
          18.90816006105394,
          13.947212708288141,
          9.565983783171726,
          7.871255108074295,
          5.59910695780504,
          4.887225375350758,
          3.9734792491725863,
          3.8248070452194325,
          3.9856803150364657,
          4.085455927764931,
          4.052265331030257,
          3.99368871139057,
          4.218841049178542,
          4.24329371058133,
          4.360238312341554,
          4.467296617497851,
          4.653138740236006,
          4.58726198080914,
          4.866215033642797,
          4.902822086486643,
          5.110731331721854,
          5.095761621675368,
          5.067729483490726,
          5.2058117553951115,
          5.234781183203106,
          5.368716134015929,
          5.089166159889559,
          5.117917568776302,
          5.091865716110879,
          4.983906208909621,
          5.1554427874224045,
          5.240265899861707,
          5.49844221008457,
          5.5597505897599335,
          5.705498310536981,
          5.77705084267044,
          5.802866703025514,
          5.79194975647869,
          5.926475296273437,
          5.906130879624125,
          5.9044078337359265,
          5.943905423414416,
          6.043401138275808,
          6.0205275037973225,
          6.067075906807746,
          6.125312863336304,
          6.114780335083662,
          6.099152813614834,
          6.14458878775832,
          6.23250944469345,
          6.202960515229895,
          6.281118935537178,
          6.303787182046446,
          6.261230509890613,
          6.291904805326725,
          6.2905547677386995,
          6.295215676369816,
          6.349110153184594,
          6.296709220168385,
          6.369540169569384,
          6.500290655937794,
          6.477882057267267,
          6.5099448024618205,
          6.469412034555795,
          6.4798735429056515,
          6.507641534928332,
          6.55528901544091,
          6.529987733454787,
          6.539200388386685,
          6.5575899553937225,
          6.574590949379564,
          6.542288742204021,
          6.601316186748628,
          6.6583967629194385,
          6.654605157097599,
          6.714032440730649,
          6.6884871884655,
          6.716283243189204,
          6.796068511691394,
          6.827131452379865,
          6.843845766363714,
          6.9261337233750515,
          6.7541766734126485,
          6.710565029475689,
          6.752367403828231,
          6.7683262636692785,
          6.7719049811883565,
          6.746244480513483
         ]
        },
        {
         "marker": {
          "maxdisplayed": 10
         },
         "mode": "lines+markers",
         "name": "Trial149",
         "type": "scatter",
         "x": [
          0,
          1,
          2,
          3,
          4,
          5,
          6,
          7,
          8,
          9,
          10,
          11,
          12,
          13,
          14,
          15,
          16,
          17,
          18,
          19,
          20,
          21,
          22,
          23,
          24,
          25,
          26,
          27
         ],
         "y": [
          194.09826983134272,
          38.59290610947939,
          9.430967135592697,
          11.75949990748817,
          8.546680353032729,
          7.954546435045439,
          10.088943896606658,
          9.957747093380302,
          11.570514806803276,
          11.987986168275066,
          12.166546555737234,
          12.755305855774333,
          13.100613532449026,
          13.768295055388526,
          13.733522738340982,
          14.297447397466543,
          14.38455277582974,
          14.776043918137729,
          14.672057435449545,
          14.915073770703428,
          14.990596571131793,
          15.258769531984234,
          15.490902507791628,
          15.445157629310918,
          15.465117636642042,
          15.312418477492582,
          15.512915765000567,
          15.656897739256205
         ]
        },
        {
         "marker": {
          "maxdisplayed": 10
         },
         "mode": "lines+markers",
         "name": "Trial150",
         "type": "scatter",
         "x": [
          0,
          1,
          2,
          3
         ],
         "y": [
          561.0255156342103,
          313.1655137148946,
          176.000267943119,
          99.98722556689673
         ]
        },
        {
         "marker": {
          "maxdisplayed": 10
         },
         "mode": "lines+markers",
         "name": "Trial151",
         "type": "scatter",
         "x": [
          0,
          1,
          2,
          3
         ],
         "y": [
          374.9887406421789,
          142.85148818141832,
          54.45044998563671,
          25.402830272708883
         ]
        },
        {
         "marker": {
          "maxdisplayed": 10
         },
         "mode": "lines+markers",
         "name": "Trial152",
         "type": "scatter",
         "x": [
          0,
          1
         ],
         "y": [
          574.655901868679,
          319.0952216829931
         ]
        },
        {
         "marker": {
          "maxdisplayed": 10
         },
         "mode": "lines+markers",
         "name": "Trial153",
         "type": "scatter",
         "x": [
          0,
          1,
          2,
          3,
          4,
          5,
          6,
          7,
          8,
          9,
          10,
          11,
          12,
          13,
          14,
          15,
          16,
          17,
          18,
          19,
          20,
          21,
          22,
          23,
          24,
          25,
          26,
          27
         ],
         "y": [
          974.0212075180973,
          973.7291208191484,
          973.3249997055814,
          973.1989354961134,
          972.8602720582957,
          972.673665346028,
          962.060231526406,
          951.5623631905021,
          943.7759202863477,
          933.4809390490568,
          933.0577961966876,
          925.4308442858334,
          925.0917904860218,
          923.494217621957,
          921.9105520456247,
          914.2766825196409,
          904.2989269029241,
          904.2697907126052,
          904.0304362310479,
          902.4333615488392,
          902.3299171913363,
          902.045680051637,
          899.9445611439924,
          890.1140103873722,
          890.0947429522643,
          880.3722578800955,
          873.1959033009514,
          866.0905599888125
         ]
        },
        {
         "marker": {
          "maxdisplayed": 10
         },
         "mode": "lines+markers",
         "name": "Trial154",
         "type": "scatter",
         "x": [
          0,
          1,
          2,
          3,
          4,
          5,
          6,
          7,
          8,
          9
         ],
         "y": [
          767.0710222445737,
          597.5185016425069,
          465.449099544839,
          362.5671740848245,
          282.42562710086304,
          220.0128603340197,
          171.393588130123,
          133.52568000404855,
          104.02217566425131,
          81.04678380984043
         ]
        },
        {
         "marker": {
          "maxdisplayed": 10
         },
         "mode": "lines+markers",
         "name": "Trial155",
         "type": "scatter",
         "x": [
          0,
          1,
          2,
          3,
          4,
          5,
          6,
          7,
          8,
          9
         ],
         "y": [
          919.225819043617,
          857.719831145306,
          800.3282384760213,
          746.7855451059967,
          696.8141408164579,
          650.1931791697441,
          606.698378499016,
          566.1027599001475,
          528.2279990375742,
          492.879533806642
         ]
        },
        {
         "marker": {
          "maxdisplayed": 10
         },
         "mode": "lines+markers",
         "name": "Trial156",
         "type": "scatter",
         "x": [
          0,
          1,
          2,
          3,
          4,
          5,
          6,
          7,
          8,
          9,
          10,
          11,
          12,
          13,
          14,
          15,
          16,
          17,
          18,
          19,
          20,
          21,
          22,
          23,
          24,
          25,
          26,
          27
         ],
         "y": [
          276.6853158799777,
          77.81591205833234,
          20.328252826808985,
          17.49427394793476,
          13.947434843865357,
          14.277540931234329,
          16.337578174823623,
          15.464487491778442,
          16.298869087962945,
          16.599208310165547,
          16.847654008716955,
          16.381989693503048,
          17.067771533047257,
          17.207981810759723,
          17.092832591811188,
          17.506226210041007,
          17.14756999247733,
          16.522930563244863,
          16.351447937893862,
          16.72630109787765,
          16.571341151256117,
          16.63562899439103,
          16.562668873981448,
          16.878205579555914,
          16.94620186532969,
          16.302841401643896,
          16.540266435848235,
          16.563781070872494
         ]
        },
        {
         "marker": {
          "maxdisplayed": 10
         },
         "mode": "lines+markers",
         "name": "Trial157",
         "type": "scatter",
         "x": [
          0,
          1
         ],
         "y": [
          674.4124025267757,
          461.8950463389463
         ]
        },
        {
         "marker": {
          "maxdisplayed": 10
         },
         "mode": "lines+markers",
         "name": "Trial158",
         "type": "scatter",
         "x": [
          0,
          1,
          2,
          3
         ],
         "y": [
          45.46675901225145,
          23.422276556050612,
          29.626652330704808,
          32.51828732682227
         ]
        },
        {
         "marker": {
          "maxdisplayed": 10
         },
         "mode": "lines+markers",
         "name": "Trial159",
         "type": "scatter",
         "x": [
          0,
          1
         ],
         "y": [
          980.5978289492062,
          976.0693849468166
         ]
        },
        {
         "marker": {
          "maxdisplayed": 10
         },
         "mode": "lines+markers",
         "name": "Trial160",
         "type": "scatter",
         "x": [
          0,
          1
         ],
         "y": [
          773.0514189406146,
          767.8106795833686
         ]
        },
        {
         "marker": {
          "maxdisplayed": 10
         },
         "mode": "lines+markers",
         "name": "Trial161",
         "type": "scatter",
         "x": [
          0,
          1,
          2,
          3,
          4,
          5,
          6,
          7,
          8,
          9,
          10,
          11,
          12,
          13,
          14,
          15,
          16,
          17,
          18,
          19,
          20,
          21,
          22,
          23,
          24,
          25,
          26,
          27,
          28,
          29,
          30,
          31,
          32,
          33,
          34,
          35,
          36,
          37,
          38,
          39,
          40,
          41,
          42,
          43,
          44,
          45,
          46,
          47,
          48,
          49,
          50,
          51,
          52,
          53,
          54,
          55,
          56,
          57,
          58,
          59,
          60,
          61,
          62,
          63,
          64,
          65,
          66,
          67,
          68,
          69,
          70,
          71,
          72,
          73,
          74,
          75,
          76,
          77,
          78,
          79,
          80,
          81,
          82,
          83,
          84,
          85,
          86,
          87,
          88,
          89,
          90,
          91,
          92,
          93,
          94,
          95,
          96,
          97,
          98,
          99
         ],
         "y": [
          321.58814251662665,
          104.93141434940782,
          33.7853842570072,
          13.37454924843909,
          6.64526584319862,
          8.056341906824674,
          9.208580488647906,
          10.084818348333336,
          11.38936321649459,
          11.866633794386164,
          11.865826971826545,
          11.911631504691837,
          9.681551172485804,
          10.000732857448805,
          9.994183283415024,
          10.1023692425205,
          10.096377949781,
          10.323949027678568,
          10.358105039457715,
          10.69303220634694,
          10.394095078941298,
          10.5951672106872,
          10.642925641111411,
          10.97963913231256,
          11.29224514535504,
          11.389539342079214,
          11.537052442765434,
          11.650609582502115,
          11.488782757289805,
          11.530615432324373,
          11.412220469285522,
          11.488375015320061,
          11.671066090557204,
          11.719160540117533,
          11.85490902509619,
          11.879244021359701,
          11.76616730697887,
          11.779116452413643,
          11.874918544969864,
          11.918524135672909,
          11.886013859749157,
          11.832225571136211,
          11.950738503399428,
          12.039346036100909,
          11.944095589435461,
          12.065236977485679,
          11.871166297615307,
          11.972240123712432,
          12.036340201923402,
          12.063959423580519,
          12.076421528617098,
          12.092894107468371,
          12.161913305210103,
          12.157569299924026,
          11.842828279762884,
          11.825654029456853,
          11.871913662607051,
          11.885896153398587,
          11.904319524869436,
          11.952640312044423,
          11.924968989864496,
          11.937146878220839,
          11.959803684043353,
          11.916557859308812,
          11.883268634463478,
          11.872105905495657,
          11.876380868380343,
          11.881314525543024,
          11.766006442612236,
          11.781098865711764,
          11.801280540715409,
          11.923148053051886,
          11.933267801205346,
          11.909433209703556,
          11.89424059125182,
          11.976403510528483,
          11.978210165580958,
          11.973646065252844,
          11.893404392053538,
          11.909079928478256,
          11.958843972968397,
          11.958350244290505,
          11.878679307034902,
          11.842329052663024,
          11.829331423249025,
          11.833840012310908,
          11.848694236136504,
          11.875300012079647,
          11.898940858233981,
          11.919801890303432,
          11.890307655225223,
          11.889336934144877,
          11.731996866485606,
          11.566814671646213,
          11.544149933847264,
          11.561922976874989,
          11.543312822296723,
          11.524747585503444,
          11.522048012381706,
          11.535134447369384
         ]
        },
        {
         "marker": {
          "maxdisplayed": 10
         },
         "mode": "lines+markers",
         "name": "Trial162",
         "type": "scatter",
         "x": [
          0,
          1,
          2,
          3,
          4,
          5,
          6,
          7,
          8,
          9,
          10,
          11,
          12,
          13,
          14,
          15,
          16,
          17,
          18,
          19,
          20,
          21,
          22,
          23,
          24,
          25,
          26,
          27,
          28,
          29,
          30,
          31,
          32,
          33,
          34,
          35,
          36,
          37,
          38,
          39,
          40,
          41,
          42,
          43,
          44,
          45,
          46,
          47,
          48,
          49,
          50,
          51,
          52,
          53,
          54,
          55,
          56,
          57,
          58,
          59,
          60,
          61,
          62,
          63,
          64,
          65,
          66,
          67,
          68,
          69,
          70,
          71,
          72,
          73,
          74,
          75,
          76,
          77,
          78,
          79,
          80,
          81
         ],
         "y": [
          671.4962523002325,
          454.04014688128916,
          307.1250246929528,
          208.07823110254458,
          140.89443012981832,
          96.17317425677753,
          65.54743178810726,
          44.613659793765486,
          30.719424763976182,
          22.122844830315277,
          21.160349847436308,
          16.553844314612515,
          13.13511074944543,
          12.551938396525143,
          12.1016390257898,
          12.451864594491337,
          13.10762514775289,
          13.887277843169063,
          13.864582822935073,
          15.056578743423835,
          14.181391412525727,
          14.58194053591649,
          14.406678898456684,
          14.569058972661905,
          15.22801563260358,
          15.308626698638745,
          16.371709760800087,
          16.41771931839546,
          16.726322730607066,
          16.76668564523088,
          16.56820476427801,
          16.49966631738834,
          16.59967338128831,
          16.580153568197275,
          16.81946728237758,
          16.705092989929785,
          16.750911217768966,
          16.707167848666117,
          16.369272957788066,
          16.40283041483501,
          16.33027679475238,
          16.354068880786656,
          16.259632064010283,
          16.18489440231614,
          16.263587723921972,
          16.462320993773012,
          16.459754801525524,
          16.572523376621653,
          16.5066794468479,
          16.527678900476637,
          16.474422643122843,
          16.495081790950884,
          16.496583474469933,
          16.529889712962458,
          16.560747238624955,
          16.611147529899366,
          17.05129021991361,
          17.068123554599687,
          17.059595570585582,
          16.464105754591507,
          16.412046516806566,
          16.32328254320129,
          16.36646755464495,
          16.263577579906748,
          16.25987603919147,
          16.23243024748306,
          16.31108154917275,
          16.286599996210807,
          16.28373324625392,
          16.310522146326285,
          16.142686097051378,
          15.927123694511558,
          15.717004701604884,
          15.74619646735834,
          15.845780088505123,
          15.205918165776254,
          15.329549103031496,
          15.312216065811517,
          15.256240761327103,
          15.24350886440303,
          15.256332163900854,
          15.269140340815175
         ]
        },
        {
         "marker": {
          "maxdisplayed": 10
         },
         "mode": "lines+markers",
         "name": "Trial163",
         "type": "scatter",
         "x": [
          0,
          1,
          2,
          3,
          4,
          5,
          6,
          7,
          8,
          9,
          10,
          11,
          12,
          13,
          14,
          15,
          16,
          17,
          18,
          19,
          20,
          21,
          22,
          23,
          24,
          25,
          26,
          27,
          28,
          29,
          30,
          31,
          32,
          33,
          34,
          35,
          36,
          37,
          38,
          39,
          40,
          41,
          42,
          43,
          44,
          45,
          46,
          47,
          48,
          49,
          50,
          51,
          52,
          53,
          54,
          55,
          56,
          57,
          58,
          59,
          60,
          61,
          62,
          63,
          64,
          65,
          66,
          67,
          68,
          69,
          70,
          71,
          72,
          73,
          74,
          75,
          76,
          77,
          78,
          79,
          80,
          81,
          82,
          83,
          84,
          85,
          86,
          87,
          88,
          89,
          90,
          91,
          92,
          93,
          94,
          95,
          96,
          97,
          98,
          99
         ],
         "y": [
          325.79856658539813,
          107.69759453218205,
          36.89021380032896,
          12.603932781238607,
          4.744460791158883,
          4.475800275258232,
          5.095054675441865,
          6.440598062594655,
          7.376758739115798,
          7.920816922449487,
          8.163843376925042,
          8.931162745083318,
          9.141916849287867,
          9.33275752678736,
          9.671878086286682,
          9.699169679354137,
          10.025803416465198,
          10.438760409359459,
          10.242489964091982,
          10.590513868847243,
          10.261366662086857,
          10.620200552731998,
          10.649168164056746,
          10.674641669684918,
          10.624019246856133,
          10.950018334814411,
          10.685774900261348,
          10.700332402449128,
          10.992603275631604,
          11.238831189408879,
          11.161779235353029,
          11.08269389540886,
          11.070115764290959,
          11.245337498594699,
          11.290801656308663,
          11.372551396012279,
          11.478314607811257,
          11.3689080159692,
          11.350535354141615,
          10.644569831247521,
          10.494500108897773,
          10.669843819443773,
          10.650735526195124,
          10.682806121169326,
          10.715085173146635,
          10.817160057418562,
          10.766388713581563,
          10.798427321938284,
          10.79515133014517,
          10.861675894433608,
          10.861731525786672,
          10.920265584015093,
          10.918429099049387,
          11.025248761243096,
          11.015471839300071,
          11.037811886882917,
          10.956312657667564,
          10.989495015951873,
          10.971865924696713,
          10.93620343090875,
          10.921696345349359,
          10.907330854060959,
          10.953519004000036,
          10.988923375443385,
          10.970611949000542,
          10.950023288308417,
          10.972040185124449,
          10.988843009595374,
          10.989690296023545,
          11.031193185015542,
          11.033113765719296,
          10.991714741185174,
          10.99194760745319,
          11.013806309902579,
          11.091632255581466,
          11.100319403838409,
          11.087198112293368,
          11.142823296918001,
          11.121022888043923,
          11.131182316761391,
          11.115165448663468,
          11.18703077455329,
          11.269891316034293,
          11.22588750693973,
          11.198946811912288,
          11.190074421532817,
          11.177491906034435,
          11.20505540778081,
          11.225260647866982,
          11.203309032770937,
          11.180706300209406,
          11.219544447885985,
          11.129886856263164,
          11.169764064127047,
          11.186550627339729,
          11.199120542481065,
          11.21127156173462,
          11.223979857144277,
          11.205461129403323,
          11.192122261379106
         ]
        },
        {
         "marker": {
          "maxdisplayed": 10
         },
         "mode": "lines+markers",
         "name": "Trial164",
         "type": "scatter",
         "x": [
          0,
          1,
          2,
          3,
          4,
          5,
          6,
          7,
          8,
          9,
          10,
          11,
          12,
          13,
          14,
          15,
          16,
          17,
          18,
          19,
          20,
          21,
          22,
          23,
          24,
          25,
          26,
          27,
          28,
          29,
          30,
          31,
          32,
          33,
          34,
          35,
          36,
          37,
          38,
          39,
          40,
          41,
          42,
          43,
          44,
          45,
          46,
          47,
          48,
          49,
          50,
          51,
          52,
          53,
          54,
          55,
          56,
          57,
          58,
          59,
          60,
          61,
          62,
          63,
          64,
          65,
          66,
          67,
          68,
          69,
          70,
          71,
          72,
          73,
          74,
          75,
          76,
          77,
          78,
          79,
          80,
          81,
          82,
          83,
          84,
          85,
          86,
          87,
          88,
          89,
          90,
          91,
          92,
          93,
          94,
          95,
          96,
          97,
          98,
          99
         ],
         "y": [
          178.10252200226046,
          32.09380901852408,
          5.917844233619172,
          4.167482442747862,
          4.788723325939943,
          6.062975847673382,
          7.812526594028341,
          8.064546641759538,
          7.163407889963154,
          8.101516740270943,
          8.36453533843131,
          8.786628713021303,
          9.317134643228593,
          9.555645806246627,
          8.763604602803152,
          9.488375063689842,
          9.894743060742126,
          10.035330976774038,
          9.911914059986362,
          10.358605968636809,
          10.368859081800467,
          10.651737966472535,
          10.510688525088419,
          10.645164069022645,
          10.785432112770012,
          10.865382812223539,
          10.852419925726815,
          11.12268396561785,
          10.19578310854997,
          10.25746376605145,
          10.202509398972188,
          10.372045768507684,
          10.388501408070702,
          10.751548115869344,
          10.20397492335836,
          10.464222438189235,
          10.586830815093379,
          10.62843411113842,
          10.632314612966512,
          10.730942287878982,
          10.770598904270054,
          10.834746228369088,
          10.76342684243109,
          10.843997909201395,
          10.947327395909305,
          10.944897591553492,
          10.880409316304858,
          11.001582530599368,
          11.094020485609022,
          11.237853107146867,
          11.23645580560586,
          11.334065449026573,
          11.37708072544886,
          11.522047169903859,
          11.602841098025213,
          11.654206992213854,
          11.727422405523942,
          11.869076693535513,
          11.793470844429875,
          11.770834327654034,
          11.687628851480602,
          11.71981420154524,
          11.756857619564748,
          11.75048340045755,
          11.807445144897681,
          11.855212319906594,
          11.721164076154686,
          11.743201769445932,
          11.724060351411937,
          11.780755001780571,
          11.783198941978597,
          11.771172637313283,
          11.731062241343624,
          11.444529900317095,
          11.449867634346301,
          11.551777206037679,
          11.572835481748262,
          11.680514602253577,
          11.695110446473823,
          11.72286789056835,
          11.7955872134056,
          11.777692766879046,
          11.819129132021487,
          11.835314266856553,
          11.854300907294025,
          11.887316908530199,
          11.873498647483515,
          11.877690622192933,
          11.88288799229346,
          11.914228747334771,
          11.894325551413896,
          11.91139970553043,
          11.91279984344076,
          11.969404420459641,
          11.98606166215797,
          12.0463423493951,
          12.009015712630177,
          12.041535923565874,
          12.037923409953697,
          12.044340095724742
         ]
        },
        {
         "marker": {
          "maxdisplayed": 10
         },
         "mode": "lines+markers",
         "name": "Trial165",
         "type": "scatter",
         "x": [
          0,
          1
         ],
         "y": [
          467.0757533986143,
          221.47148863035542
         ]
        },
        {
         "marker": {
          "maxdisplayed": 10
         },
         "mode": "lines+markers",
         "name": "Trial166",
         "type": "scatter",
         "x": [
          0,
          1,
          2,
          3
         ],
         "y": [
          262.7421332475304,
          52.53574744933406,
          18.923169474746047,
          21.044152877676698
         ]
        },
        {
         "marker": {
          "maxdisplayed": 10
         },
         "mode": "lines+markers",
         "name": "Trial167",
         "type": "scatter",
         "x": [
          0,
          1,
          2,
          3
         ],
         "y": [
          592.8293098575424,
          342.4718527404227,
          198.31835575927613,
          115.4505435982493
         ]
        },
        {
         "marker": {
          "maxdisplayed": 10
         },
         "mode": "lines+markers",
         "name": "Trial168",
         "type": "scatter",
         "x": [
          0,
          1
         ],
         "y": [
          618.353209066303,
          372.72869874456165
         ]
        },
        {
         "marker": {
          "maxdisplayed": 10
         },
         "mode": "lines+markers",
         "name": "Trial169",
         "type": "scatter",
         "x": [
          0,
          1
         ],
         "y": [
          949.5626432124058,
          911.4976997786484
         ]
        },
        {
         "marker": {
          "maxdisplayed": 10
         },
         "mode": "lines+markers",
         "name": "Trial170",
         "type": "scatter",
         "x": [
          0,
          1,
          2,
          3,
          4,
          5,
          6,
          7,
          8,
          9,
          10,
          11,
          12,
          13,
          14,
          15,
          16,
          17,
          18,
          19,
          20,
          21,
          22,
          23,
          24,
          25,
          26,
          27,
          28,
          29,
          30,
          31,
          32,
          33,
          34,
          35,
          36,
          37,
          38,
          39,
          40,
          41,
          42,
          43,
          44,
          45,
          46,
          47,
          48,
          49,
          50,
          51,
          52,
          53,
          54,
          55,
          56,
          57,
          58,
          59,
          60,
          61,
          62,
          63,
          64,
          65,
          66,
          67,
          68,
          69,
          70,
          71,
          72,
          73,
          74,
          75,
          76,
          77,
          78,
          79,
          80,
          81
         ],
         "y": [
          978.0517724014304,
          970.8718237078929,
          963.7442936530093,
          956.8180338185962,
          949.793261377589,
          947.0203963490504,
          940.0679421913243,
          933.1650509009431,
          926.3139150933381,
          919.5119835028577,
          912.7605401736874,
          906.0579898195471,
          899.4516322779286,
          892.8482359840922,
          886.292162968374,
          879.7850090873291,
          873.6790061655244,
          867.2651778551281,
          860.8976549052325,
          855.5341357154342,
          849.2537223032225,
          843.0186522415515,
          836.8297042678095,
          830.6858246830632,
          824.5876931676438,
          818.5345889123552,
          813.806919542686,
          807.8336739380444,
          801.9036468528903,
          796.0162479900998,
          790.1718093298068,
          784.371719231549,
          778.614312162979,
          772.8984819117011,
          767.377391872562,
          761.743401036501,
          756.1524207008248,
          750.6013713867998,
          745.091286593054,
          739.6216056610789,
          734.1921544476902,
          728.8033114287505,
          723.4524718912443,
          718.1407612147791,
          712.8696204489628,
          707.7674454247434,
          702.5714730522712,
          697.5342250885639,
          692.4125746145,
          687.3289876732198,
          682.2830551947113,
          677.2739259697992,
          672.3022037281822,
          667.3674229062343,
          662.4688668014592,
          657.6061956670962,
          653.7217922822545,
          648.9238633806615,
          644.1614138550614,
          639.4319880245001,
          634.7392079850373,
          630.2335676553985,
          628.3706245518896,
          623.7586458099803,
          619.1798608855646,
          614.634464076101,
          610.1232988190196,
          605.6451788899436,
          601.1992925147847,
          596.7848465139502,
          592.4047266095189,
          588.05581541375,
          583.7381028940781,
          579.4537862191114,
          575.200069249089,
          571.1214348040068,
          566.928899608079,
          562.7653931067463,
          558.6334660798799,
          554.5318777131826,
          550.4609321992465,
          546.6591737747569
         ]
        },
        {
         "marker": {
          "maxdisplayed": 10
         },
         "mode": "lines+markers",
         "name": "Trial171",
         "type": "scatter",
         "x": [
          0,
          1,
          2,
          3,
          4,
          5,
          6,
          7,
          8,
          9,
          10,
          11,
          12,
          13,
          14,
          15,
          16,
          17,
          18,
          19,
          20,
          21,
          22,
          23,
          24,
          25,
          26,
          27
         ],
         "y": [
          32.718151337937584,
          1.2360246636570407,
          0.16929289225764718,
          3.5933512566952643,
          5.55809003231281,
          8.139634502774115,
          9.31787486438866,
          9.196786717752783,
          10.36610578903157,
          10.185109412141408,
          10.675661908718707,
          10.977147298151417,
          10.992204121801617,
          12.164051021525943,
          10.819061140162459,
          11.043848102218892,
          11.236766700802999,
          11.323018685032132,
          11.392091010766027,
          11.602729694335045,
          11.75660808730009,
          12.623450875248865,
          12.801727271758715,
          13.02708882903564,
          13.299039854181457,
          13.327427928681377,
          13.5845715184858,
          13.860115011811121
         ]
        },
        {
         "marker": {
          "maxdisplayed": 10
         },
         "mode": "lines+markers",
         "name": "Trial172",
         "type": "scatter",
         "x": [
          0,
          1,
          2,
          3
         ],
         "y": [
          440.08871474877367,
          153.98319764916985,
          88.35136771367611,
          80.60970298238159
         ]
        },
        {
         "marker": {
          "maxdisplayed": 10
         },
         "mode": "lines+markers",
         "name": "Trial173",
         "type": "scatter",
         "x": [
          0,
          1,
          2,
          3
         ],
         "y": [
          982.7804494817124,
          981.1608979622657,
          729.0098608317574,
          548.7032939065613
         ]
        },
        {
         "marker": {
          "maxdisplayed": 10
         },
         "mode": "lines+markers",
         "name": "Trial174",
         "type": "scatter",
         "x": [
          0,
          1,
          2,
          3,
          4,
          5,
          6,
          7,
          8,
          9
         ],
         "y": [
          984.2810744022631,
          983.8236647533633,
          936.7470128728573,
          881.2262282118642,
          826.8584018463467,
          786.5286588136167,
          770.9971728502469,
          723.3573906127065,
          689.9765816432484,
          681.1543814511381
         ]
        },
        {
         "marker": {
          "maxdisplayed": 10
         },
         "mode": "lines+markers",
         "name": "Trial175",
         "type": "scatter",
         "x": [
          0,
          1,
          2,
          3,
          4,
          5,
          6,
          7,
          8,
          9,
          10,
          11,
          12,
          13,
          14,
          15,
          16,
          17,
          18,
          19,
          20,
          21,
          22,
          23,
          24,
          25,
          26,
          27,
          28,
          29,
          30,
          31,
          32,
          33,
          34,
          35,
          36,
          37,
          38,
          39,
          40,
          41,
          42,
          43,
          44,
          45,
          46,
          47,
          48,
          49,
          50,
          51,
          52,
          53,
          54,
          55,
          56,
          57,
          58,
          59,
          60,
          61,
          62,
          63,
          64,
          65,
          66,
          67,
          68,
          69,
          70,
          71,
          72,
          73,
          74,
          75,
          76,
          77,
          78,
          79,
          80,
          81,
          82,
          83,
          84,
          85,
          86,
          87,
          88,
          89,
          90,
          91,
          92,
          93,
          94,
          95,
          96,
          97,
          98,
          99
         ],
         "y": [
          580.7949730894502,
          341.0383412742393,
          200.24393494837875,
          117.60537780380646,
          69.27981590116657,
          40.76616720346904,
          24.126897056206733,
          14.041192876348646,
          7.496467611266509,
          7.373652488770863,
          7.448363415735398,
          7.496237091612638,
          7.63728178890861,
          7.827438364476862,
          7.805341797341908,
          7.891979341079929,
          6.9990116417157235,
          7.016700584354235,
          7.039538469999783,
          6.717382455563714,
          6.975893269578376,
          7.070471772908409,
          7.1096965670324,
          7.55096050295357,
          7.542013421892439,
          7.32355962445524,
          7.351310038106903,
          7.487100187734268,
          7.285192189022299,
          7.315836268726312,
          7.412874403446084,
          7.60631525764098,
          7.5132243523664455,
          7.445318657871627,
          7.5624614304300835,
          7.543208329331903,
          7.656622678525204,
          7.50389318773123,
          7.554660520211463,
          7.512549294576287,
          7.5566576577561255,
          7.703165140609917,
          7.733649559356386,
          7.649803315686032,
          7.732468805007949,
          7.801067648126397,
          7.740738831103102,
          7.67248674377237,
          7.707047142760417,
          7.754992452019825,
          7.7716407280193085,
          7.806963815916575,
          7.884940691612208,
          7.925494913112917,
          7.961703586888299,
          7.914199501854035,
          7.981935571913018,
          8.087488824382783,
          8.171648523039758,
          8.05487064181516,
          8.073250768066785,
          8.072179829136232,
          8.048009494434934,
          8.085049124108032,
          8.106828125025935,
          8.104250556699473,
          8.066453905957516,
          8.046796038117714,
          8.117879957137905,
          8.153183542350678,
          8.133509589178141,
          8.157806105999773,
          8.167260764349933,
          8.210886789811381,
          8.013617783745142,
          7.971508665496171,
          7.971595139244166,
          8.020218836231352,
          8.038797941730326,
          8.065145905804208,
          8.074237461998374,
          8.082476522672577,
          8.118183496594314,
          8.13814119978747,
          8.091703072452011,
          8.121617162631356,
          8.11437286914953,
          8.112000140676393,
          8.093365914243627,
          8.123717845157008,
          8.104974875120051,
          8.023736650179025,
          8.054191401933632,
          8.10044112221835,
          8.093347844325498,
          8.105654324961282,
          8.134286021966226,
          8.069563184040875,
          8.117651800540155,
          8.117031796872435
         ]
        },
        {
         "marker": {
          "maxdisplayed": 10
         },
         "mode": "lines+markers",
         "name": "Trial176",
         "type": "scatter",
         "x": [
          0,
          1,
          2,
          3,
          4,
          5,
          6,
          7,
          8,
          9
         ],
         "y": [
          312.9819655807755,
          98.29403433437368,
          30.969081377012014,
          24.46137236034262,
          11.404861264691352,
          9.947306401695867,
          10.930843271048339,
          10.177489406448197,
          11.009439011503419,
          11.889185430231548
         ]
        },
        {
         "marker": {
          "maxdisplayed": 10
         },
         "mode": "lines+markers",
         "name": "Trial177",
         "type": "scatter",
         "x": [
          0,
          1,
          2,
          3
         ],
         "y": [
          176.59690314462736,
          33.85957002912983,
          20.759433020629103,
          22.830113218152825
         ]
        },
        {
         "marker": {
          "maxdisplayed": 10
         },
         "mode": "lines+markers",
         "name": "Trial178",
         "type": "scatter",
         "x": [
          0,
          1,
          2,
          3
         ],
         "y": [
          419.80578611890917,
          179.00540101773436,
          76.37386229037979,
          32.91709684800176
         ]
        },
        {
         "marker": {
          "maxdisplayed": 10
         },
         "mode": "lines+markers",
         "name": "Trial179",
         "type": "scatter",
         "x": [
          0,
          1,
          2,
          3,
          4,
          5,
          6,
          7,
          8,
          9
         ],
         "y": [
          830.9729573944713,
          690.7474531834544,
          574.1301624086478,
          479.3755610317232,
          397.8156199963218,
          367.23719054718407,
          305.21505373104196,
          253.54280995355893,
          210.9274230159737,
          174.785869570064
         ]
        }
       ],
       "layout": {
        "autosize": true,
        "showlegend": false,
        "template": {
         "data": {
          "bar": [
           {
            "error_x": {
             "color": "#2a3f5f"
            },
            "error_y": {
             "color": "#2a3f5f"
            },
            "marker": {
             "line": {
              "color": "#E5ECF6",
              "width": 0.5
             },
             "pattern": {
              "fillmode": "overlay",
              "size": 10,
              "solidity": 0.2
             }
            },
            "type": "bar"
           }
          ],
          "barpolar": [
           {
            "marker": {
             "line": {
              "color": "#E5ECF6",
              "width": 0.5
             },
             "pattern": {
              "fillmode": "overlay",
              "size": 10,
              "solidity": 0.2
             }
            },
            "type": "barpolar"
           }
          ],
          "carpet": [
           {
            "aaxis": {
             "endlinecolor": "#2a3f5f",
             "gridcolor": "white",
             "linecolor": "white",
             "minorgridcolor": "white",
             "startlinecolor": "#2a3f5f"
            },
            "baxis": {
             "endlinecolor": "#2a3f5f",
             "gridcolor": "white",
             "linecolor": "white",
             "minorgridcolor": "white",
             "startlinecolor": "#2a3f5f"
            },
            "type": "carpet"
           }
          ],
          "choropleth": [
           {
            "colorbar": {
             "outlinewidth": 0,
             "ticks": ""
            },
            "type": "choropleth"
           }
          ],
          "contour": [
           {
            "colorbar": {
             "outlinewidth": 0,
             "ticks": ""
            },
            "colorscale": [
             [
              0,
              "#0d0887"
             ],
             [
              0.1111111111111111,
              "#46039f"
             ],
             [
              0.2222222222222222,
              "#7201a8"
             ],
             [
              0.3333333333333333,
              "#9c179e"
             ],
             [
              0.4444444444444444,
              "#bd3786"
             ],
             [
              0.5555555555555556,
              "#d8576b"
             ],
             [
              0.6666666666666666,
              "#ed7953"
             ],
             [
              0.7777777777777778,
              "#fb9f3a"
             ],
             [
              0.8888888888888888,
              "#fdca26"
             ],
             [
              1,
              "#f0f921"
             ]
            ],
            "type": "contour"
           }
          ],
          "contourcarpet": [
           {
            "colorbar": {
             "outlinewidth": 0,
             "ticks": ""
            },
            "type": "contourcarpet"
           }
          ],
          "heatmap": [
           {
            "colorbar": {
             "outlinewidth": 0,
             "ticks": ""
            },
            "colorscale": [
             [
              0,
              "#0d0887"
             ],
             [
              0.1111111111111111,
              "#46039f"
             ],
             [
              0.2222222222222222,
              "#7201a8"
             ],
             [
              0.3333333333333333,
              "#9c179e"
             ],
             [
              0.4444444444444444,
              "#bd3786"
             ],
             [
              0.5555555555555556,
              "#d8576b"
             ],
             [
              0.6666666666666666,
              "#ed7953"
             ],
             [
              0.7777777777777778,
              "#fb9f3a"
             ],
             [
              0.8888888888888888,
              "#fdca26"
             ],
             [
              1,
              "#f0f921"
             ]
            ],
            "type": "heatmap"
           }
          ],
          "heatmapgl": [
           {
            "colorbar": {
             "outlinewidth": 0,
             "ticks": ""
            },
            "colorscale": [
             [
              0,
              "#0d0887"
             ],
             [
              0.1111111111111111,
              "#46039f"
             ],
             [
              0.2222222222222222,
              "#7201a8"
             ],
             [
              0.3333333333333333,
              "#9c179e"
             ],
             [
              0.4444444444444444,
              "#bd3786"
             ],
             [
              0.5555555555555556,
              "#d8576b"
             ],
             [
              0.6666666666666666,
              "#ed7953"
             ],
             [
              0.7777777777777778,
              "#fb9f3a"
             ],
             [
              0.8888888888888888,
              "#fdca26"
             ],
             [
              1,
              "#f0f921"
             ]
            ],
            "type": "heatmapgl"
           }
          ],
          "histogram": [
           {
            "marker": {
             "pattern": {
              "fillmode": "overlay",
              "size": 10,
              "solidity": 0.2
             }
            },
            "type": "histogram"
           }
          ],
          "histogram2d": [
           {
            "colorbar": {
             "outlinewidth": 0,
             "ticks": ""
            },
            "colorscale": [
             [
              0,
              "#0d0887"
             ],
             [
              0.1111111111111111,
              "#46039f"
             ],
             [
              0.2222222222222222,
              "#7201a8"
             ],
             [
              0.3333333333333333,
              "#9c179e"
             ],
             [
              0.4444444444444444,
              "#bd3786"
             ],
             [
              0.5555555555555556,
              "#d8576b"
             ],
             [
              0.6666666666666666,
              "#ed7953"
             ],
             [
              0.7777777777777778,
              "#fb9f3a"
             ],
             [
              0.8888888888888888,
              "#fdca26"
             ],
             [
              1,
              "#f0f921"
             ]
            ],
            "type": "histogram2d"
           }
          ],
          "histogram2dcontour": [
           {
            "colorbar": {
             "outlinewidth": 0,
             "ticks": ""
            },
            "colorscale": [
             [
              0,
              "#0d0887"
             ],
             [
              0.1111111111111111,
              "#46039f"
             ],
             [
              0.2222222222222222,
              "#7201a8"
             ],
             [
              0.3333333333333333,
              "#9c179e"
             ],
             [
              0.4444444444444444,
              "#bd3786"
             ],
             [
              0.5555555555555556,
              "#d8576b"
             ],
             [
              0.6666666666666666,
              "#ed7953"
             ],
             [
              0.7777777777777778,
              "#fb9f3a"
             ],
             [
              0.8888888888888888,
              "#fdca26"
             ],
             [
              1,
              "#f0f921"
             ]
            ],
            "type": "histogram2dcontour"
           }
          ],
          "mesh3d": [
           {
            "colorbar": {
             "outlinewidth": 0,
             "ticks": ""
            },
            "type": "mesh3d"
           }
          ],
          "parcoords": [
           {
            "line": {
             "colorbar": {
              "outlinewidth": 0,
              "ticks": ""
             }
            },
            "type": "parcoords"
           }
          ],
          "pie": [
           {
            "automargin": true,
            "type": "pie"
           }
          ],
          "scatter": [
           {
            "marker": {
             "colorbar": {
              "outlinewidth": 0,
              "ticks": ""
             }
            },
            "type": "scatter"
           }
          ],
          "scatter3d": [
           {
            "line": {
             "colorbar": {
              "outlinewidth": 0,
              "ticks": ""
             }
            },
            "marker": {
             "colorbar": {
              "outlinewidth": 0,
              "ticks": ""
             }
            },
            "type": "scatter3d"
           }
          ],
          "scattercarpet": [
           {
            "marker": {
             "colorbar": {
              "outlinewidth": 0,
              "ticks": ""
             }
            },
            "type": "scattercarpet"
           }
          ],
          "scattergeo": [
           {
            "marker": {
             "colorbar": {
              "outlinewidth": 0,
              "ticks": ""
             }
            },
            "type": "scattergeo"
           }
          ],
          "scattergl": [
           {
            "marker": {
             "colorbar": {
              "outlinewidth": 0,
              "ticks": ""
             }
            },
            "type": "scattergl"
           }
          ],
          "scattermapbox": [
           {
            "marker": {
             "colorbar": {
              "outlinewidth": 0,
              "ticks": ""
             }
            },
            "type": "scattermapbox"
           }
          ],
          "scatterpolar": [
           {
            "marker": {
             "colorbar": {
              "outlinewidth": 0,
              "ticks": ""
             }
            },
            "type": "scatterpolar"
           }
          ],
          "scatterpolargl": [
           {
            "marker": {
             "colorbar": {
              "outlinewidth": 0,
              "ticks": ""
             }
            },
            "type": "scatterpolargl"
           }
          ],
          "scatterternary": [
           {
            "marker": {
             "colorbar": {
              "outlinewidth": 0,
              "ticks": ""
             }
            },
            "type": "scatterternary"
           }
          ],
          "surface": [
           {
            "colorbar": {
             "outlinewidth": 0,
             "ticks": ""
            },
            "colorscale": [
             [
              0,
              "#0d0887"
             ],
             [
              0.1111111111111111,
              "#46039f"
             ],
             [
              0.2222222222222222,
              "#7201a8"
             ],
             [
              0.3333333333333333,
              "#9c179e"
             ],
             [
              0.4444444444444444,
              "#bd3786"
             ],
             [
              0.5555555555555556,
              "#d8576b"
             ],
             [
              0.6666666666666666,
              "#ed7953"
             ],
             [
              0.7777777777777778,
              "#fb9f3a"
             ],
             [
              0.8888888888888888,
              "#fdca26"
             ],
             [
              1,
              "#f0f921"
             ]
            ],
            "type": "surface"
           }
          ],
          "table": [
           {
            "cells": {
             "fill": {
              "color": "#EBF0F8"
             },
             "line": {
              "color": "white"
             }
            },
            "header": {
             "fill": {
              "color": "#C8D4E3"
             },
             "line": {
              "color": "white"
             }
            },
            "type": "table"
           }
          ]
         },
         "layout": {
          "annotationdefaults": {
           "arrowcolor": "#2a3f5f",
           "arrowhead": 0,
           "arrowwidth": 1
          },
          "autotypenumbers": "strict",
          "coloraxis": {
           "colorbar": {
            "outlinewidth": 0,
            "ticks": ""
           }
          },
          "colorscale": {
           "diverging": [
            [
             0,
             "#8e0152"
            ],
            [
             0.1,
             "#c51b7d"
            ],
            [
             0.2,
             "#de77ae"
            ],
            [
             0.3,
             "#f1b6da"
            ],
            [
             0.4,
             "#fde0ef"
            ],
            [
             0.5,
             "#f7f7f7"
            ],
            [
             0.6,
             "#e6f5d0"
            ],
            [
             0.7,
             "#b8e186"
            ],
            [
             0.8,
             "#7fbc41"
            ],
            [
             0.9,
             "#4d9221"
            ],
            [
             1,
             "#276419"
            ]
           ],
           "sequential": [
            [
             0,
             "#0d0887"
            ],
            [
             0.1111111111111111,
             "#46039f"
            ],
            [
             0.2222222222222222,
             "#7201a8"
            ],
            [
             0.3333333333333333,
             "#9c179e"
            ],
            [
             0.4444444444444444,
             "#bd3786"
            ],
            [
             0.5555555555555556,
             "#d8576b"
            ],
            [
             0.6666666666666666,
             "#ed7953"
            ],
            [
             0.7777777777777778,
             "#fb9f3a"
            ],
            [
             0.8888888888888888,
             "#fdca26"
            ],
            [
             1,
             "#f0f921"
            ]
           ],
           "sequentialminus": [
            [
             0,
             "#0d0887"
            ],
            [
             0.1111111111111111,
             "#46039f"
            ],
            [
             0.2222222222222222,
             "#7201a8"
            ],
            [
             0.3333333333333333,
             "#9c179e"
            ],
            [
             0.4444444444444444,
             "#bd3786"
            ],
            [
             0.5555555555555556,
             "#d8576b"
            ],
            [
             0.6666666666666666,
             "#ed7953"
            ],
            [
             0.7777777777777778,
             "#fb9f3a"
            ],
            [
             0.8888888888888888,
             "#fdca26"
            ],
            [
             1,
             "#f0f921"
            ]
           ]
          },
          "colorway": [
           "#636efa",
           "#EF553B",
           "#00cc96",
           "#ab63fa",
           "#FFA15A",
           "#19d3f3",
           "#FF6692",
           "#B6E880",
           "#FF97FF",
           "#FECB52"
          ],
          "font": {
           "color": "#2a3f5f"
          },
          "geo": {
           "bgcolor": "white",
           "lakecolor": "white",
           "landcolor": "#E5ECF6",
           "showlakes": true,
           "showland": true,
           "subunitcolor": "white"
          },
          "hoverlabel": {
           "align": "left"
          },
          "hovermode": "closest",
          "mapbox": {
           "style": "light"
          },
          "paper_bgcolor": "white",
          "plot_bgcolor": "#E5ECF6",
          "polar": {
           "angularaxis": {
            "gridcolor": "white",
            "linecolor": "white",
            "ticks": ""
           },
           "bgcolor": "#E5ECF6",
           "radialaxis": {
            "gridcolor": "white",
            "linecolor": "white",
            "ticks": ""
           }
          },
          "scene": {
           "xaxis": {
            "backgroundcolor": "#E5ECF6",
            "gridcolor": "white",
            "gridwidth": 2,
            "linecolor": "white",
            "showbackground": true,
            "ticks": "",
            "zerolinecolor": "white"
           },
           "yaxis": {
            "backgroundcolor": "#E5ECF6",
            "gridcolor": "white",
            "gridwidth": 2,
            "linecolor": "white",
            "showbackground": true,
            "ticks": "",
            "zerolinecolor": "white"
           },
           "zaxis": {
            "backgroundcolor": "#E5ECF6",
            "gridcolor": "white",
            "gridwidth": 2,
            "linecolor": "white",
            "showbackground": true,
            "ticks": "",
            "zerolinecolor": "white"
           }
          },
          "shapedefaults": {
           "line": {
            "color": "#2a3f5f"
           }
          },
          "ternary": {
           "aaxis": {
            "gridcolor": "white",
            "linecolor": "white",
            "ticks": ""
           },
           "baxis": {
            "gridcolor": "white",
            "linecolor": "white",
            "ticks": ""
           },
           "bgcolor": "#E5ECF6",
           "caxis": {
            "gridcolor": "white",
            "linecolor": "white",
            "ticks": ""
           }
          },
          "title": {
           "x": 0.05
          },
          "xaxis": {
           "automargin": true,
           "gridcolor": "white",
           "linecolor": "white",
           "ticks": "",
           "title": {
            "standoff": 15
           },
           "zerolinecolor": "white",
           "zerolinewidth": 2
          },
          "yaxis": {
           "automargin": true,
           "gridcolor": "white",
           "linecolor": "white",
           "ticks": "",
           "title": {
            "standoff": 15
           },
           "zerolinecolor": "white",
           "zerolinewidth": 2
          }
         }
        },
        "title": {
         "text": "Intermediate Values Plot"
        },
        "xaxis": {
         "autorange": true,
         "range": [
          -5.851842374616171,
          104.85184237461617
         ],
         "title": {
          "text": "Step"
         },
         "type": "linear"
        },
        "yaxis": {
         "autorange": true,
         "range": [
          -81.08278429021041,
          1066.005364168162
         ],
         "title": {
          "text": "Intermediate Value"
         },
         "type": "linear"
        }
       }
      },
      "image/png": "[encoded data removed]",
      "text/html": [
       "<div>                            <div id=\"8034bee4-708b-46e0-aa28-1156b004e046\" class=\"plotly-graph-div\" style=\"height:525px; width:100%;\"></div>            <script type=\"text/javascript\">                require([\"plotly\"], function(Plotly) {                    window.PLOTLYENV=window.PLOTLYENV || {};                                    if (document.getElementById(\"8034bee4-708b-46e0-aa28-1156b004e046\")) {                    Plotly.newPlot(                        \"8034bee4-708b-46e0-aa28-1156b004e046\",                        [{\"marker\":{\"maxdisplayed\":10},\"mode\":\"lines+markers\",\"name\":\"Trial0\",\"type\":\"scatter\",\"x\":[0,1,2,3,4,5,6,7,8,9,10,11,12,13,14,15,16,17,18,19,20,21,22,23,24,25,26,27,28,29,30,31,32,33,34,35,36,37,38,39,40,41,42,43,44,45,46,47,48,49,50,51,52,53,54,55,56,57,58,59,60,61,62,63,64,65,66,67,68,69,70,71,72,73,74,75,76,77,78,79,80,81,82,83,84,85,86,87,88,89,90,91,92,93,94,95,96,97,98,99],\"y\":[978.6124574474325,970.7222814382148,685.4810084635802,436.92773558632535,271.5132864886815,221.49686245949906,192.5014592831718,157.8201276370296,125.55486822325605,121.12965308260378,105.18945041660709,104.26332982240085,98.97584116171151,101.37069618219219,101.88625471815931,101.61624941687766,96.21295114477932,95.90200469568747,94.3162662575958,85.96105070876536,83.42172440645032,72.26009905210002,61.924442081992616,61.56738220659679,61.16218384735557,60.73264681559982,59.498285421123605,59.76738575472881,59.78630274641726,59.91731725433036,59.416027566684406,59.057854497453,58.79569578882848,57.296408025233305,56.29670676353368,56.68443060681675,55.51579112617039,55.771541730554524,55.77004522086683,55.80151932784527,55.538361293922904,55.568168805154194,55.57185919659406,55.43562293799626,55.428811798367505,55.441698012904574,55.40567008798432,55.28958303618144,54.973482179423584,54.77218210284372,54.245648745708856,53.99737249005277,53.98542870235694,52.535896325969205,51.479724306942146,51.30008323649435,51.39404941251596,50.643227994452616,50.1959706383368,50.28178884084535,49.723953267703045,49.90536289416696,49.69274937930345,49.64187417475322,48.582559917143556,48.23802877102223,48.11250552828069,48.06210109994749,48.08031141272747,48.097439999425895,48.04205800468349,48.13538508012893,47.54602791596926,46.98460298153345,46.2698015128861,46.23024032926146,46.02441411061601,45.699851967955794,45.23895744990155,45.270345368024216,45.17144648844229,45.16776969012019,45.025518020960455,44.78256368549334,44.78987606534488,44.66432674152557,44.14788980819336,42.480534469564745,42.5224195332314,41.64986416554661,40.37669153569294,40.22253625735517,40.062375492520395,40.03985720043369,40.11285191280347,40.0099910578696,39.90843947460522,39.71240178746817,38.17494717326049,38.08529746131615]},{\"marker\":{\"maxdisplayed\":10},\"mode\":\"lines+markers\",\"name\":\"Trial1\",\"type\":\"scatter\",\"x\":[0,1,2,3,4,5,6,7,8,9,10,11,12,13,14,15,16,17,18,19,20,21,22,23,24,25,26,27,28,29,30,31,32,33,34,35,36,37,38,39,40,41,42,43,44,45,46,47,48,49,50,51,52,53,54,55,56,57,58,59,60,61,62,63,64,65,66,67,68,69,70,71,72,73,74,75,76,77,78,79,80,81,82,83,84,85,86,87,88,89,90,91,92,93,94,95,96,97,98,99],\"y\":[498.43677468637986,224.27546925361116,111.56120603063322,106.68884500532735,69.29535425399997,49.015466684621444,57.844679878657594,52.27351008840144,55.05818828562114,58.8975790012109,66.39586963309905,71.06930738477273,61.071015044393796,57.02058618336435,57.39037874312679,56.21812646379492,55.87403889316236,56.0319839323593,55.852218076760295,56.19267253738172,55.70777106655989,55.5386662643014,55.944305776708475,55.027493959516754,57.12704552800847,55.95006659368145,56.50790612537091,56.137292708588696,56.48311493453156,56.96291873916126,57.14256278385363,52.33237385553112,49.72691601125584,49.34688233590889,50.5051736053416,49.40698562739991,49.37571830892367,48.92259881298464,47.27595265273784,47.018138619390584,46.97297139920088,46.8467147406065,46.64436716843145,46.43450241547676,46.813651260199315,46.83256551482487,47.1167354773653,45.375781262382056,45.36963516243897,44.99555018667511,44.809349026016186,44.86521524984824,44.30824564648501,44.05394546991117,43.73642670670618,43.73761054004038,44.33452462544406,44.57976386965404,44.88424993493668,45.09833639876422,44.924702851173954,44.07251212393505,44.119954325392094,44.10676489024438,44.032452090853766,44.1036875424713,43.97975592587965,43.6391753733382,43.75623337400073,44.0476210683687,44.01103550413714,44.377218636078354,44.70960481411473,44.213845412299534,44.073285942867976,43.98400008273509,44.02654704179795,44.07735260130229,44.06533161144809,44.05100723684464,43.85001013763885,43.99797659139486,44.28577510243706,44.37400752676132,44.360489607472,44.29570416954082,44.36142780329983,44.09349747098555,44.08935455770919,43.98471103323506,43.935614425216556,44.07216251784225,43.97130819575179,43.968909480289675,43.90329756466881,43.896914978996996,43.54119599872634,43.62992329083096,43.146391086980174,43.224922057391666]},{\"marker\":{\"maxdisplayed\":10},\"mode\":\"lines+markers\",\"name\":\"Trial2\",\"type\":\"scatter\",\"x\":[0,1,2,3],\"y\":[963.8982835002349,937.47049951805,911.7606102222971,892.5669291715752]},{\"marker\":{\"maxdisplayed\":10},\"mode\":\"lines+markers\",\"name\":\"Trial3\",\"type\":\"scatter\",\"x\":[0,1,2,3,4,5,6,7,8,9,10,11,12,13,14,15,16,17,18,19,20,21,22,23,24,25,26,27,28,29,30,31,32,33,34,35,36,37,38,39,40,41,42,43,44,45,46,47,48,49,50,51,52,53,54,55,56,57,58,59,60,61,62,63,64,65,66,67,68,69,70,71,72,73,74,75,76,77,78,79,80,81,82,83,84,85,86,87,88,89,90,91,92,93,94,95,96,97,98,99],\"y\":[944.4888868500869,902.7882820876882,862.8941684964967,827.9378946845951,791.3329987238868,778.4092047971732,744.0534249091128,711.1693219195007,679.7353560020719,649.6917806523487,620.9631871897258,593.5113564937503,567.2603618143244,542.1972896346543,518.244314086258,495.3663917016197,475.6733293881569,454.6686775574982,434.56092406174685,415.33706432358514,396.97880817818674,379.41666370045317,362.6052603573331,346.5277763712875,331.2010526201018,316.6114648451754,305.5644919107086,292.0514617721327,279.18347112981525,266.831626108167,255.01076218851696,243.7478139487238,232.9123351535525,222.62207298323256,212.79267246373252,203.3436752195198,194.3788276469828,185.7755475026997,177.60973147759952,169.73864227025518,162.208370119143,154.96900469085472,148.1228189602327,141.5901958466193,135.32293650057977,130.4109222224682,124.62985249832319,119.35619112238287,114.0814016382111,109.02232272017119,104.26258877368177,99.51534286839217,95.11385141319536,90.93701068360802,86.91660316032419,83.07872274451819,80.1276843926109,76.93423631169263,73.48286499946028,69.96315142424295,66.9141668493433,64.1141714065647,63.157633684411685,60.37468209342319,57.64481575144155,55.25147418744102,52.821796142140165,50.47610076271617,48.222531629446266,46.17379581577805,44.1258550107079,42.1603990334726,40.29297405944527,38.53751543827519,36.829330157482964,35.51262765326757,33.932604438851804,32.35498845019951,30.929496160825813,29.39116066637842,28.61104635415834,27.029107896018502,25.851151267874645,25.088786993669622,24.1179208714114,23.22123073717672,22.181828780300556,21.16865332365877,20.778988484082962,19.875737300364218,19.000919817150926,17.942854366064918,17.25805721970405,16.545974851163344,15.90899579043947,15.36957972206201,15.338996378063381,14.886201062764382,14.275324697175327,13.8780045606305]},{\"marker\":{\"maxdisplayed\":10},\"mode\":\"lines+markers\",\"name\":\"Trial4\",\"type\":\"scatter\",\"x\":[0,1,2,3,4,5,6,7,8,9,10,11,12,13,14,15,16,17,18,19,20,21,22,23,24,25,26,27,28,29,30,31,32,33,34,35,36,37,38,39,40,41,42,43,44,45,46,47,48,49,50,51,52,53,54,55,56,57,58,59,60,61,62,63,64,65,66,67,68,69,70,71,72,73,74,75,76,77,78,79,80,81,82,83,84,85,86,87,88,89,90,91,92,93,94,95,96,97,98,99],\"y\":[924.2872066013038,867.2560784721506,813.7333384006662,765.8624834647873,718.5981243551652,674.2598433349768,632.6079307094816,593.5197088542244,556.8337491429331,522.4252455116538,490.1716141954585,459.85505241363524,431.4326329491873,404.7434151854224,379.71342232749635,356.24144361346765,336.64006440327324,315.76704342441246,296.20405370688815,277.84790376101404,260.65273941909965,244.48900929245843,229.39218260686627,215.1971374447756,201.89192981904276,189.44606799869777,180.15141932386217,169.03259339114607,158.6248891781194,148.89917933278443,140.85495027323628,132.1614195209148,123.95569509449544,116.4071252094526,109.4070618391315,102.69150037126924,96.35434230100992,90.40676965244096,84.96587225351354,79.70288893981696,75.62123405028818,71.48350986580996,67.21218163973731,63.31731382961542,59.3917527315888,56.36298736360456,52.27613714347405,49.76408171933201,46.69560431262498,43.3799436418601,39.92859662422221,37.535834569080976,36.59699695334024,34.39943038025985,32.31376891851556,30.29788205736381,27.97210472038376,28.07900154403761,26.541133361932694,24.282967510465834,22.774010643405365,21.33581699188284,21.672158069724073,20.403116200580566,19.269536298009754,18.04638103006377,17.0658512637255,16.48198442517118,15.669198059115018,14.926367301352487,14.618780376393282,13.623210799780313,13.055657476365512,12.174381651256885,11.405328211142926,11.30270794752328,11.152512094458412,10.811908065055073,10.481545529601428,10.391234009726595,10.593726719094413,10.442762478543198,10.92875832132904,11.172472363981825,11.343377731631943,11.507672637790154,11.547025405367073,11.487553881717925,11.83358351836462,12.022391506758556,11.999099486292707,12.233806852641937,12.304881096412366,12.370827566016107,12.537790902129444,12.510007582141846,12.66576425465503,12.633478377562266,12.647076786560502,12.776190087835793]},{\"marker\":{\"maxdisplayed\":10},\"mode\":\"lines+markers\",\"name\":\"Trial5\",\"type\":\"scatter\",\"x\":[0,1,2,3],\"y\":[826.9729789080794,687.4049948672368,571.2068507054091,474.55976259921516]},{\"marker\":{\"maxdisplayed\":10},\"mode\":\"lines+markers\",\"name\":\"Trial6\",\"type\":\"scatter\",\"x\":[0,1],\"y\":[984.7136887555833,984.4491153599565]},{\"marker\":{\"maxdisplayed\":10},\"mode\":\"lines+markers\",\"name\":\"Trial7\",\"type\":\"scatter\",\"x\":[0,1,2,3],\"y\":[740.7982796290787,539.1105164983799,392.8871547243455,288.32245921230486]},{\"marker\":{\"maxdisplayed\":10},\"mode\":\"lines+markers\",\"name\":\"Trial8\",\"type\":\"scatter\",\"x\":[0,1,2,3],\"y\":[886.0949481150319,767.8997948621894,665.211462660044,580.4395535465229]},{\"marker\":{\"maxdisplayed\":10},\"mode\":\"lines+markers\",\"name\":\"Trial9\",\"type\":\"scatter\",\"x\":[0,1,2,3],\"y\":[979.4387018457589,979.3398650462563,979.2555286108177,979.197684206057]},{\"marker\":{\"maxdisplayed\":10},\"mode\":\"lines+markers\",\"name\":\"Trial10\",\"type\":\"scatter\",\"x\":[0,1,2,3],\"y\":[963.1955130007702,946.8669641919836,850.3885635365285,809.1825900098378]},{\"marker\":{\"maxdisplayed\":10},\"mode\":\"lines+markers\",\"name\":\"Trial11\",\"type\":\"scatter\",\"x\":[0,1],\"y\":[924.4223828247456,918.6456201257636]},{\"marker\":{\"maxdisplayed\":10},\"mode\":\"lines+markers\",\"name\":\"Trial12\",\"type\":\"scatter\",\"x\":[0,1,2,3],\"y\":[984.7204118612948,984.4972005673587,984.28780265799,984.101742274527]},{\"marker\":{\"maxdisplayed\":10},\"mode\":\"lines+markers\",\"name\":\"Trial13\",\"type\":\"scatter\",\"x\":[0,1,2,3],\"y\":[983.3825681932669,588.4157320590039,527.6044135620766,518.1340851783453]},{\"marker\":{\"maxdisplayed\":10},\"mode\":\"lines+markers\",\"name\":\"Trial14\",\"type\":\"scatter\",\"x\":[0,1,2,3,4,5,6,7,8,9,10,11,12,13,14,15,16,17,18,19,20,21,22,23,24,25,26,27,28,29,30,31,32,33,34,35,36,37,38,39,40,41,42,43,44,45,46,47,48,49,50,51,52,53,54,55,56,57,58,59,60,61,62,63,64,65,66,67,68,69,70,71,72,73,74,75,76,77,78,79,80,81],\"y\":[19.74293699514427,30.396833001899896,32.95167619335951,49.62073769237859,37.52803757544219,40.839070642794546,43.42639922138246,43.94897378663398,30.958441598105296,31.70699645524729,33.939856310400344,33.97305836095065,34.70177492338753,35.19199123930097,36.019520570989066,36.32266893624301,35.98646880524039,36.2196342509315,36.327199249944385,36.240188892490124,35.27481412052709,34.98717231485399,35.179897636003844,35.16642800791767,35.88338329930041,35.8131621756984,35.655340443786216,35.41089295170681,35.55712837451625,35.64265287993908,35.844118666711566,35.94101037316747,35.636771019154125,35.77579393487126,36.073359350844136,36.250420819447065,36.140828774432414,36.32951169130069,36.40258228529455,36.34264003358893,36.30111478288385,36.20816968841707,36.45543745727585,36.416838168855996,36.43764291219662,36.36779729055586,36.27398651570203,36.3451274974677,36.09216798485904,35.97183065829909,35.9580494531832,35.90767067095026,35.71941267698662,35.91629548751083,36.04641491306691,36.07620481420636,36.06524542038068,36.11563126018433,36.12855160774142,36.14538325438096,35.98121771694799,35.91749502553082,35.843616128842434,35.7981045368305,35.66937976289415,35.49719043959618,35.45561755190066,35.24887553253268,35.139228770864314,35.03794463078234,34.72338120830581,34.74213429436397,34.7127479004227,34.73879587309771,34.653168443923605,34.657736233609604,34.643504658155024,34.62693083525316,34.41387293550699,34.209525290370706,34.15116629550427,33.92537279724432]},{\"marker\":{\"maxdisplayed\":10},\"mode\":\"lines+markers\",\"name\":\"Trial15\",\"type\":\"scatter\",\"x\":[0,1,2,3],\"y\":[956.0211743646158,925.8483839286412,896.602275280562,895.7191924678087]},{\"marker\":{\"maxdisplayed\":10},\"mode\":\"lines+markers\",\"name\":\"Trial16\",\"type\":\"scatter\",\"x\":[0,1,2,3,4,5,6,7,8,9,10,11,12,13,14,15,16,17,18,19,20,21,22,23,24,25,26,27,28,29,30,31,32,33,34,35,36,37,38,39,40,41,42,43,44,45,46,47,48,49,50,51,52,53,54,55,56,57,58,59,60,61,62,63,64,65,66,67,68,69,70,71,72,73,74,75,76,77,78,79,80,81,82,83,84,85,86,87,88,89,90,91,92,93,94,95,96,97,98,99],\"y\":[984.4756351354127,982.9002794905172,982.0168334419046,981.6061396367669,981.8424130370688,915.7756121474272,915.9584986635754,905.6582698645091,903.927094111737,823.8031620852229,823.6569257793717,823.565359236104,661.0137476081217,658.1205210808349,658.1180444314928,658.9845889505712,657.6344808787853,658.3210952517311,373.96461046904875,374.12508175832915,374.2052810235269,374.3356002368737,240.24519057463823,239.3220855043218,230.70109581465226,165.3309086642127,166.0191582054065,165.83694604400245,118.56771251677809,119.48105466393221,119.48105466393221,118.39781829609377,118.23270168529878,118.0456786435233,117.9377176353557,117.95201654962568,118.72274228721908,117.59680664467767,117.65215410125322,113.09138091915906,116.78877552888727,111.0117080086748,111.06133287141304,105.6228258695431,105.58477453473927,108.81932755002912,109.60600425104685,109.55727460847909,110.18928278346293,110.20301902149544,111.41795656305682,112.1997742292762,110.0448649682001,110.9131567517214,111.47745408926461,110.96645259679028,110.92910473218818,110.17367764056522,112.03765904989716,113.14529201457044,113.13880089163027,112.49201296466741,112.48796761086311,115.22841292874551,118.41122476875853,117.90062919200568,118.07746673103402,118.08695007707757,118.15204492380013,118.17132083115877,115.7058048860541,115.24107717951935,113.95870566212754,114.70519127989161,114.85161223137627,114.71711652665184,114.72068244442121,114.72068244442121,114.72273528822018,115.7137236412035,116.37619642482012,116.34639230633998,116.43808913293428,116.77596468239305,116.67997387053408,116.66911825515321,116.75095245862198,116.76228709886963,124.73857769604501,124.77167296566088,125.54574172755486,127.96578147970045,127.93723106688343,128.36485145879465,127.77499451180971,127.77998598894894,127.77189662155097,127.77999044181377,127.33285303225146,127.21351952725006]},{\"marker\":{\"maxdisplayed\":10},\"mode\":\"lines+markers\",\"name\":\"Trial17\",\"type\":\"scatter\",\"x\":[0,1,2,3,4,5,6,7,8,9,10,11,12,13,14,15,16,17,18,19,20,21,22,23,24,25,26,27],\"y\":[953.7686090010654,920.5997024295344,888.5764225022115,858.6464304198582,828.7758298435053,817.7405114648195,789.2844333630685,761.8134127578388,735.292369504069,709.6969634871588,684.9874069281411,661.1417664321617,638.1206008217353,615.9088152509335,594.4640205614852,573.7692834299224,567.1878294314736,547.4312899124699,528.3523565671131,509.93941899190105,492.1717986288942,475.01404960652127,458.4565864190879,442.4708564753845,427.04844428243484,412.1624314605406,400.9452806140017,386.97688647145407]},{\"marker\":{\"maxdisplayed\":10},\"mode\":\"lines+markers\",\"name\":\"Trial18\",\"type\":\"scatter\",\"x\":[0,1],\"y\":[984.7092594338521,984.6493596106537]},{\"marker\":{\"maxdisplayed\":10},\"mode\":\"lines+markers\",\"name\":\"Trial19\",\"type\":\"scatter\",\"x\":[0,1,2,3],\"y\":[911.5889319162383,836.8365111546302,768.1945590543639,707.8243199252005]},{\"marker\":{\"maxdisplayed\":10},\"mode\":\"lines+markers\",\"name\":\"Trial20\",\"type\":\"scatter\",\"x\":[0,1,2,3,4,5,6,7,8,9],\"y\":[984.7050882491235,975.1679822770778,972.4059082737178,972.011508934002,971.8382976090635,965.4166834654504,965.4083364106543,965.2464863798556,950.736150407685,941.6491573237414]},{\"marker\":{\"maxdisplayed\":10},\"mode\":\"lines+markers\",\"name\":\"Trial21\",\"type\":\"scatter\",\"x\":[0,1,2,3,4,5,6,7,8,9,10,11,12,13,14,15,16,17,18,19,20,21,22,23,24,25,26,27,28,29,30,31,32,33,34,35,36,37,38,39,40,41,42,43,44,45,46,47,48,49,50,51,52,53,54,55,56,57,58,59,60,61,62,63,64,65,66,67,68,69,70,71,72,73,74,75,76,77,78,79,80,81],\"y\":[816.0073497047181,629.3914656156185,485.9926188975775,483.9648792922464,372.98239462936226,334.9678869559154,283.89799773025265,210.79611530646216,163.57357490873787,131.73314135106594,107.01814109556369,102.69058901556274,83.52640761987074,79.32840022605873,77.21910986730602,60.22438653670561,56.3932714553406,57.18609930508503,59.5146611125733,55.66243579799901,56.63869901292819,53.06415329585603,58.003230597520364,54.43123596319028,55.025781174739855,56.71849875395732,58.70473791619854,56.94504305979083,58.03150184298073,60.66746757254809,61.63631672819571,62.39658048540281,64.29027207800048,67.48623543423355,69.80594575948513,70.64335333855742,71.03455755810157,70.56736753084179,68.00002639038222,65.33182982463332,61.00795294039623,60.35181237461468,56.78717880170125,54.144752853470166,53.88674454936005,52.50039607757813,50.66894265763644,50.08741525024142,51.79895163885312,53.26564302646221,52.6508917061004,52.58806479245137,52.988833673382395,53.96240933429324,53.568934309114965,54.581875364804205,54.72785672187479,55.17222651015422,53.85441320184509,54.34239569770564,54.876733279252775,52.61436216024015,53.46400232360534,53.86139402689582,54.79678352936603,55.475016931462456,54.588163924787914,54.287200021205926,54.40714722451806,55.41934899445405,55.93232444831619,56.01347883282713,56.62387107332573,56.7313180934964,57.30588594858862,56.63232031798882,57.60063493273614,58.192972739182224,57.79231665297856,57.82374268147553,57.73197820825914,58.034333551071484]},{\"marker\":{\"maxdisplayed\":10},\"mode\":\"lines+markers\",\"name\":\"Trial22\",\"type\":\"scatter\",\"x\":[0,1,2,3,4,5,6,7,8,9],\"y\":[973.4511810288345,961.3339393570436,949.3650729049276,937.708414355614,926.0338857716059,921.6034701055968,910.5187608608358,899.1725306965214,887.9673156192925,876.901886773911]},{\"marker\":{\"maxdisplayed\":10},\"mode\":\"lines+markers\",\"name\":\"Trial23\",\"type\":\"scatter\",\"x\":[0,1,2,3],\"y\":[799.6962832788248,604.8566742749867,457.46500718286507,347.8508331199953]},{\"marker\":{\"maxdisplayed\":10},\"mode\":\"lines+markers\",\"name\":\"Trial24\",\"type\":\"scatter\",\"x\":[0,1,2,3,4,5,6,7,8,9,10,11,12,13,14,15,16,17,18,19,20,21,22,23,24,25,26,27,28,29,30,31,32,33,34,35,36,37,38,39,40,41,42,43,44,45,46,47,48,49,50,51,52,53,54,55,56,57,58,59,60,61,62,63,64,65,66,67,68,69,70,71,72,73,74,75,76,77,78,79,80,81,82,83,84,85,86,87,88,89,90,91,92,93,94,95,96,97,98,99],\"y\":[176.23564588006758,31.598915826297294,8.446923044625484,12.20003028088421,3.2308367921970986,5.286019940732355,3.0513072228051175,3.9768976922434303,4.558276265448555,5.923139528441417,4.417493687101025,5.122612863082844,3.5564638011751626,5.075278164249874,5.984414649536207,6.677016533268382,6.434910734304855,6.299555127874905,6.380742946328144,6.366924938831864,6.846661746947482,7.683767070910149,7.473168641256075,7.43981198647066,7.8187237275337225,7.8332708236410395,7.978774404583123,8.520764224055421,8.561755807567355,8.969774348900001,8.999470995521872,9.068548848541868,9.159312829193606,9.3860644087595,9.005638562619064,9.955619489791076,10.230155460757445,10.638512246304883,10.718900255833674,10.831953445516339,11.258931509578368,11.318806167431635,11.304877432726906,11.321346685337192,11.563236056853171,11.53977376864034,11.546152250924763,11.63754257825402,11.750234306618907,11.924177593245991,12.00492435530402,12.125460986478208,12.271262896381543,12.34377905640549,12.319808148367674,12.022103328777701,12.267794609626732,12.465343927414239,12.415336061219113,12.525851459776238,12.56144346974524,12.616259605134102,12.484726925485775,12.507391189590306,12.636356375267935,12.749948370240961,12.78037607145116,12.800273124626624,12.54766196362109,12.599313049802385,12.720097919169723,12.729792021306633,12.784536736800302,12.854708248398458,12.91128666108281,12.973822131563564,13.0196399235584,13.060925947696074,13.00149972169774,13.01101221487933,13.050354875788468,13.029005333767408,13.021040552141018,13.09003008943256,13.044333649032176,13.050199369007236,13.185373116684998,13.25232767592947,13.326280524666808,13.308622153231164,13.344453985077639,13.387596172652337,13.44322286529166,13.464049661101521,13.465703407189201,13.473787570691256,13.479790526987438,13.52227209087552,13.553986805196294,13.53854975685289]},{\"marker\":{\"maxdisplayed\":10},\"mode\":\"lines+markers\",\"name\":\"Trial25\",\"type\":\"scatter\",\"x\":[0,1,2,3,4,5,6,7,8,9,10,11,12,13,14,15,16,17,18,19,20,21,22,23,24,25,26,27],\"y\":[984.5068792053619,936.1881859706396,923.3004661908735,921.4438387067928,920.6636597849254,853.3936556952775,853.3596043260277,852.7401095304348,790.4416112505758,732.6724942381147,679.0577997109988,668.2944500095452,667.7301483770303,631.4746849475054,631.4522882191001,630.0182593323661,628.6690469243271,582.5323123746424,574.3464117517605,573.0148649896289,572.6678301951821,572.5738122312237,572.5556037872237,530.5148855657183,530.4517434193563,491.1392651299708,484.25408539073476,483.41109681512506]},{\"marker\":{\"maxdisplayed\":10},\"mode\":\"lines+markers\",\"name\":\"Trial26\",\"type\":\"scatter\",\"x\":[0,1,2,3,4,5,6,7,8,9],\"y\":[39.29078388644337,43.09906887110671,29.564126997890444,32.36117346000356,34.842103122540685,35.3897393448449,35.673480553144586,36.78930120385219,36.66943864006331,36.43493083159309]},{\"marker\":{\"maxdisplayed\":10},\"mode\":\"lines+markers\",\"name\":\"Trial27\",\"type\":\"scatter\",\"x\":[0,1,2,3],\"y\":[983.6065455241156,982.4150380701659,981.2250213608071,980.0579910751309]},{\"marker\":{\"maxdisplayed\":10},\"mode\":\"lines+markers\",\"name\":\"Trial28\",\"type\":\"scatter\",\"x\":[0,1,2,3,4,5,6,7,8,9,10,11,12,13,14,15,16,17,18,19,20,21,22,23,24,25,26,27],\"y\":[984.6665883055543,984.1103713225583,983.6400697123555,983.2677620375777,983.1938239221714,959.9416653481336,959.8479620615425,955.8606492936563,955.2378294943503,926.986504520341,926.9065048706466,926.8300267576923,783.0751727006055,781.964289645637,781.964289645637,781.8867697910782,780.961311516592,780.9169237074916,659.6509342360504,659.5717286803609,659.5534376507818,659.4489923222824,556.8836463908143,553.6342834810323,534.3660520738541,450.73461698343135,450.3641981660494,447.6810204024564]},{\"marker\":{\"maxdisplayed\":10},\"mode\":\"lines+markers\",\"name\":\"Trial29\",\"type\":\"scatter\",\"x\":[0,1],\"y\":[984.5827007875856,983.5200066748151]},{\"marker\":{\"maxdisplayed\":10},\"mode\":\"lines+markers\",\"name\":\"Trial30\",\"type\":\"scatter\",\"x\":[0,1],\"y\":[984.1277379059347,982.9430625828338]},{\"marker\":{\"maxdisplayed\":10},\"mode\":\"lines+markers\",\"name\":\"Trial31\",\"type\":\"scatter\",\"x\":[0,1,2,3,4,5,6,7,8,9],\"y\":[983.420827955128,981.9799635853343,980.5410117192517,979.1240472855778,977.6893852512147,977.1170486246486,975.6854650466855,974.2556139118321,972.8278371615063,971.4021699406027]},{\"marker\":{\"maxdisplayed\":10},\"mode\":\"lines+markers\",\"name\":\"Trial32\",\"type\":\"scatter\",\"x\":[0,1],\"y\":[974.5505759577248,964.450926110638]},{\"marker\":{\"maxdisplayed\":10},\"mode\":\"lines+markers\",\"name\":\"Trial33\",\"type\":\"scatter\",\"x\":[0,1,2,3,4,5,6,7,8,9],\"y\":[796.5871615903694,676.8060673717582,192.8329242629092,199.7857317977856,185.96929722311674,159.550623806573,145.14541764048292,146.7926327600481,142.8030222926242,128.45435352651253]},{\"marker\":{\"maxdisplayed\":10},\"mode\":\"lines+markers\",\"name\":\"Trial34\",\"type\":\"scatter\",\"x\":[0,1],\"y\":[978.1665041159248,971.0637795574065]},{\"marker\":{\"maxdisplayed\":10},\"mode\":\"lines+markers\",\"name\":\"Trial35\",\"type\":\"scatter\",\"x\":[0,1],\"y\":[968.1788996302125,950.5063509371215]},{\"marker\":{\"maxdisplayed\":10},\"mode\":\"lines+markers\",\"name\":\"Trial36\",\"type\":\"scatter\",\"x\":[0,1,2,3,4,5,6,7,8,9],\"y\":[208.36615769909622,41.193722655720066,32.91608084529226,37.11156691443989,38.01636047897717,38.28694988333052,39.43373458057513,38.615112456717334,37.01156807252564,35.39804547053397]},{\"marker\":{\"maxdisplayed\":10},\"mode\":\"lines+markers\",\"name\":\"Trial37\",\"type\":\"scatter\",\"x\":[0,1,2,3,4,5,6,7,8,9,10,11,12,13,14,15,16,17,18,19,20,21,22,23,24,25,26,27],\"y\":[924.0148919929769,867.0215382300421,813.5443227541693,763.3648045156958,716.2805750027637,672.102560057223,630.649446394051,591.753196371381,555.2565784686984,521.0120149012797,488.8787216077226,458.7278351620932,430.437585056111,403.8933139847168,378.98620405353114,355.61461092637666,333.68603008520614,313.1100166599137,293.8027275910512,275.68664661234834,258.68859894992727,242.7390330570203,227.77257660720267,213.73041440690065,200.5535430934285,188.18896593990598,176.58829601734288,165.70325402193072]},{\"marker\":{\"maxdisplayed\":10},\"mode\":\"lines+markers\",\"name\":\"Trial38\",\"type\":\"scatter\",\"x\":[0,1,2,3,4,5,6,7,8,9],\"y\":[670.0207271356185,435.22196632705425,282.5781776930173,186.928267097466,121.65517169230648,102.45768677478239,68.99496541612405,47.120178494605284,35.46467394710177,22.933632559419323]},{\"marker\":{\"maxdisplayed\":10},\"mode\":\"lines+markers\",\"name\":\"Trial39\",\"type\":\"scatter\",\"x\":[0,1,2,3],\"y\":[978.3477385819173,971.447644580795,964.5958461896562,957.7935145945244]},{\"marker\":{\"maxdisplayed\":10},\"mode\":\"lines+markers\",\"name\":\"Trial40\",\"type\":\"scatter\",\"x\":[0,1,2,3],\"y\":[826.3280029555275,682.0301622467042,562.6392946948368,473.86831881260173]},{\"marker\":{\"maxdisplayed\":10},\"mode\":\"lines+markers\",\"name\":\"Trial41\",\"type\":\"scatter\",\"x\":[0,1],\"y\":[977.9238264556847,976.7794511926962]},{\"marker\":{\"maxdisplayed\":10},\"mode\":\"lines+markers\",\"name\":\"Trial42\",\"type\":\"scatter\",\"x\":[0,1],\"y\":[983.7889089797383,982.7350975517533]},{\"marker\":{\"maxdisplayed\":10},\"mode\":\"lines+markers\",\"name\":\"Trial43\",\"type\":\"scatter\",\"x\":[0,1,2,3],\"y\":[866.7662139084509,762.9208799937418,671.5203713577723,591.0600620515031]},{\"marker\":{\"maxdisplayed\":10},\"mode\":\"lines+markers\",\"name\":\"Trial44\",\"type\":\"scatter\",\"x\":[0,1,2,3],\"y\":[622.3761395968025,370.4631951706262,221.86223680085953,138.1155603075909]},{\"marker\":{\"maxdisplayed\":10},\"mode\":\"lines+markers\",\"name\":\"Trial45\",\"type\":\"scatter\",\"x\":[0,1,2,3,4,5,6,7,8,9],\"y\":[474.2781870077957,202.6378772709352,98.95460329781854,58.531935989008296,40.58365763401573,32.32497801004159,30.573840081862347,28.68732665540751,28.051057121202714,26.611015809582142]},{\"marker\":{\"maxdisplayed\":10},\"mode\":\"lines+markers\",\"name\":\"Trial46\",\"type\":\"scatter\",\"x\":[0,1],\"y\":[965.9489321952577,946.4382772231003]},{\"marker\":{\"maxdisplayed\":10},\"mode\":\"lines+markers\",\"name\":\"Trial47\",\"type\":\"scatter\",\"x\":[0,1,2,3,4,5,6,7,8,9,10,11,12,13,14,15,16,17,18,19,20,21,22,23,24,25,26,27,28,29,30,31,32,33,34,35,36,37,38,39,40,41,42,43,44,45,46,47,48,49,50,51,52,53,54,55,56,57,58,59,60,61,62,63,64,65,66,67,68,69,70,71,72,73,74,75,76,77,78,79,80,81,82,83,84,85,86,87,88,89,90,91,92,93,94,95,96,97,98,99],\"y\":[288.2238893212517,74.27647342826221,30.26724847267171,36.71261753892667,34.9870638924781,30.96614202010278,30.586207563928994,25.306690074984303,24.151439195428463,22.98546293216102,23.312736585350372,22.21591503832943,22.970604819539894,23.478006427421988,23.246622936461378,23.496010058278134,23.986570517056474,23.140965930647276,21.756890905783383,22.635749442997636,22.436554842140588,22.719817240241298,22.24660599342489,22.114987879559386,22.2667818897788,22.41728544910036,22.369004119180058,22.287539833831612,22.023859844848097,20.86859736270964,21.116410463262575,21.10124033181239,21.286244499976135,21.094955815996823,20.984050221826212,20.981924584054532,21.25892072934333,20.750456260372438,20.487853760727152,20.7939651220303,20.85473333101587,21.12841264862938,20.88662607140955,20.965437397829135,21.160828921084143,21.206703793769208,21.272313303601617,21.17642958522258,21.280689455038136,21.34326933289998,21.359823296400283,21.440851155083855,21.46173625702158,21.37658974231486,21.513074791303442,21.608113079268428,21.62996836676299,21.874417699640297,22.01109640842674,21.593711697834852,21.670263981672914,21.591505014692284,21.60224152818128,21.576413654187355,21.624293773303346,21.63823880147055,21.761404000312822,21.753107545010877,21.708111595742622,21.6825659443566,21.700713202301216,21.62220330736338,21.663017307986006,21.309886244467933,21.467020531585465,21.443425960788726,21.447765978759563,21.42767839931838,21.450089403931322,21.540197074641227,21.450676666146784,21.466509062530537,21.364526707348613,21.291397287024463,21.116616521822934,21.183796736839778,20.869821599320566,20.92339609102994,21.0258422871818,21.04431038716752,20.989389883137513,21.032932621337455,21.010886522874777,21.0182877453384,21.052903561512867,21.08510865092493,21.20753713085132,21.30529926167057,21.37475663576049,21.435601513081803]},{\"marker\":{\"maxdisplayed\":10},\"mode\":\"lines+markers\",\"name\":\"Trial48\",\"type\":\"scatter\",\"x\":[0,1,2,3],\"y\":[687.3324348881698,678.1291746518796,670.561700730466,669.2396447633529]},{\"marker\":{\"maxdisplayed\":10},\"mode\":\"lines+markers\",\"name\":\"Trial49\",\"type\":\"scatter\",\"x\":[0,1,2,3,4,5,6,7,8,9,10,11,12,13,14,15,16,17,18,19,20,21,22,23,24,25,26,27,28,29,30,31,32,33,34,35,36,37,38,39,40,41,42,43,44,45,46,47,48,49,50,51,52,53,54,55,56,57,58,59,60,61,62,63,64,65,66,67,68,69,70,71,72,73,74,75,76,77,78,79,80,81],\"y\":[91.47597941591539,8.623989376353022,11.268292431932077,15.99558491551283,15.320506292474443,21.182130274548197,24.28440920962383,22.724309491819504,17.30872249251614,19.865678108897917,20.80892079877851,22.02850711514218,23.77368337625053,22.864895821064078,23.432927193268284,23.932899342418818,24.655182189419744,24.965097794097147,25.078859484254075,25.381998137822162,25.695100623254252,25.557135206792275,25.886999568962317,25.983542374955256,26.23558199321268,26.323345233185176,26.3371355699054,26.386709391187523,26.494260054855044,26.524865299726173,26.63080680844739,26.783440893604993,26.889460995505782,26.796697313402003,26.79677560412533,26.900386469360537,27.038322557849657,27.154123416986664,27.218420218833362,27.128536573531594,27.18473401124068,27.223384875585978,27.356848354010577,27.402280875350712,27.598063713274577,26.954637987770653,26.999597304679373,27.190228197526444,27.246388173429995,27.311865695313795,27.282887599008912,27.28121400735606,27.251614670639388,27.339422667632178,27.230829676134665,27.29255837356809,27.354809939266286,27.417148850327433,27.492227561909232,27.39948775658689,27.476412430827285,27.43012312829476,27.47084823259929,27.382948367219505,27.441162945929406,27.51834172895801,27.554547285345873,27.493228715293853,27.488982840298473,27.478404482577186,27.486763612385264,27.478667465529313,27.448597224973064,27.484261222688765,27.52365357450465,27.516494323305903,27.54166295114792,27.569351413340314,27.542969597560646,27.466732861765667,27.362558869638303,27.418482009475316]},{\"marker\":{\"maxdisplayed\":10},\"mode\":\"lines+markers\",\"name\":\"Trial50\",\"type\":\"scatter\",\"x\":[0,1,2,3,4,5,6,7,8,9,10,11,12,13,14,15,16,17,18,19,20,21,22,23,24,25,26,27,28,29,30,31,32,33,34,35,36,37,38,39,40,41,42,43,44,45,46,47,48,49,50,51,52,53,54,55,56,57,58,59,60,61,62,63,64,65,66,67,68,69,70,71,72,73,74,75,76,77,78,79,80,81],\"y\":[422.6756836940603,181.47625389256334,77.95427919573478,33.53220117503249,23.088488127776788,10.844748879371641,16.86836978436942,11.726837738562995,12.167909546195435,13.744712281910486,14.34406645072992,15.453722492591714,15.56372365207906,16.0738371435088,16.62451463665717,16.028972315316135,16.581228505021205,16.967584176563474,17.408865049003822,17.45537584437128,17.27037989803977,17.527962347895954,17.615757472104058,17.515120548881217,17.510756254863935,17.637832011084896,17.691181646011707,17.913065515357385,18.041843538783464,18.192729928704253,18.030483365200112,18.053551558990694,18.139956654843164,18.037562094437554,18.07429243648259,18.142494872173366,18.121356175695187,18.20238876065767,18.21950321380337,18.082001495220638,18.1337362609446,17.866437595985015,17.942794947054512,17.648537461944063,17.722642811224894,17.661695818272868,17.692909647286587,17.743848501244283,17.67471230839748,17.706328617876572,17.828545008875203,17.82951271614103,17.863627254300994,17.84779804441701,17.8276065127334,17.822064091477912,17.899655772864886,17.968717459121404,17.927638816869585,17.962884064641067,17.994369598222605,17.981899598433387,17.980413731559256,18.035142438364524,18.06317928318482,18.068916047219542,18.075166049110823,18.08359888904502,18.032298911771747,17.995362164649485,17.924393147846303,17.900237483889004,17.924460334748336,17.914608359665284,17.988716329454906,17.965253641299515,17.96420311175998,17.960942475521215,17.970686677060932,17.951642483259274,17.915273526249067,17.83985910003929]},{\"marker\":{\"maxdisplayed\":10},\"mode\":\"lines+markers\",\"name\":\"Trial51\",\"type\":\"scatter\",\"x\":[0,1],\"y\":[847.6836590997838,729.6966891922568]},{\"marker\":{\"maxdisplayed\":10},\"mode\":\"lines+markers\",\"name\":\"Trial52\",\"type\":\"scatter\",\"x\":[0,1,2,3],\"y\":[487.44423961401844,241.32150484601328,119.49017300061078,59.19645536559545]},{\"marker\":{\"maxdisplayed\":10},\"mode\":\"lines+markers\",\"name\":\"Trial53\",\"type\":\"scatter\",\"x\":[0,1],\"y\":[923.261036665409,861.1891790795343]},{\"marker\":{\"maxdisplayed\":10},\"mode\":\"lines+markers\",\"name\":\"Trial54\",\"type\":\"scatter\",\"x\":[0,1,2,3],\"y\":[974.6402670871844,972.9928936687583,939.0896845033981,890.6177555709513]},{\"marker\":{\"maxdisplayed\":10},\"mode\":\"lines+markers\",\"name\":\"Trial55\",\"type\":\"scatter\",\"x\":[0,1,2,3],\"y\":[805.7484024968057,646.8004552902969,519.1746807096902,419.07295232792916]},{\"marker\":{\"maxdisplayed\":10},\"mode\":\"lines+markers\",\"name\":\"Trial56\",\"type\":\"scatter\",\"x\":[0,1,2,3],\"y\":[445.57682073031987,179.26792417114223,82.42105660392352,77.91780112733134]},{\"marker\":{\"maxdisplayed\":10},\"mode\":\"lines+markers\",\"name\":\"Trial57\",\"type\":\"scatter\",\"x\":[0,1,2,3],\"y\":[971.126204840746,956.5948182267391,942.2763362480538,941.8160862802858]},{\"marker\":{\"maxdisplayed\":10},\"mode\":\"lines+markers\",\"name\":\"Trial58\",\"type\":\"scatter\",\"x\":[0,1,2,3],\"y\":[983.7775691672642,982.7421040021006,981.7077253102594,980.6746321757774]},{\"marker\":{\"maxdisplayed\":10},\"mode\":\"lines+markers\",\"name\":\"Trial59\",\"type\":\"scatter\",\"x\":[0,1],\"y\":[859.4056543804162,747.8126041350483]},{\"marker\":{\"maxdisplayed\":10},\"mode\":\"lines+markers\",\"name\":\"Trial60\",\"type\":\"scatter\",\"x\":[0,1],\"y\":[984.4774858398608,930.4387347310546]},{\"marker\":{\"maxdisplayed\":10},\"mode\":\"lines+markers\",\"name\":\"Trial61\",\"type\":\"scatter\",\"x\":[0,1,2,3],\"y\":[787.3169732944555,616.0592971908037,481.67758687840893,376.93515972447426]},{\"marker\":{\"maxdisplayed\":10},\"mode\":\"lines+markers\",\"name\":\"Trial62\",\"type\":\"scatter\",\"x\":[0,1,2,3,4,5,6,7,8,9],\"y\":[573.0569292799955,308.53609418602286,168.87266493432577,97.821353701606,63.50537879297315,49.045786875405746,33.51236798078807,25.416676186424887,22.04483074122433,23.415453687379063]},{\"marker\":{\"maxdisplayed\":10},\"mode\":\"lines+markers\",\"name\":\"Trial63\",\"type\":\"scatter\",\"x\":[0,1,2,3,4,5,6,7,8,9,10,11,12,13,14,15,16,17,18,19,20,21,22,23,24,25,26,27,28,29,30,31,32,33,34,35,36,37,38,39,40,41,42,43,44,45,46,47,48,49,50,51,52,53,54,55,56,57,58,59,60,61,62,63,64,65,66,67,68,69,70,71,72,73,74,75,76,77,78,79,80,81,82,83,84,85,86,87,88,89,90,91,92,93,94,95,96,97,98,99],\"y\":[969.4213344045883,952.9510274396692,936.7558039524635,923.2458434457577,907.546058532264,901.3620969341106,886.0461244397488,870.9893684839268,856.1848725351308,841.6322329228097,827.3264727515658,813.2643662345024,799.4405167640675,785.8515817863413,772.4970267893627,759.3691838240055,747.0798808435536,734.3726476918456,721.870055605327,709.5932398742706,697.51817536793,685.6573707459385,673.9931321527273,662.5318388464184,651.2684440910119,640.1990849063567,631.6566465216367,620.9192342307969,610.363894119561,599.9875485642798,589.784289495011,579.7546402526108,569.8879762981659,560.1952039783666,550.6621244773482,541.2907120906203,532.0905559586618,523.0404192621137,514.1420530031381,505.3969721147251,496.8048301484799,488.3482389153181,480.04103143828354,471.8779893919876,463.8510332033825,457.6635694002621,449.8746611001649,443.07418616132435,435.5322102874957,428.12585482602066,420.84329178397707,413.6872634007005,406.650944924293,399.74639732471616,392.95121317640996,386.2677479735511,381.32019123294094,374.8311835706612,368.46539341364434,362.19548170039343,356.03580740179353,349.97249900294713,348.15672345332325,342.2439703530919,336.40897754189535,330.68681679393256,325.05727865963087,319.5224185150747,314.0902937588084,308.7346270765085,303.49228394981935,298.3287417351479,293.24951115424017,288.2610495504094,283.36095156049623,279.3764653324877,274.62922916889704,269.9525465620116,265.3493995014155,260.8407655513993,256.40023460067454,252.02755356763188,247.72962174413516,243.69333231880353,239.54007081442762,235.45926163488318,231.71256883496295,227.76116868316166,226.61429559849694,222.76139466893017,218.95797439622373,215.50269868571817,211.83143757253384,208.22926100654408,204.74043190076517,201.2483537900628,197.81725725801107,194.68041297895252,191.57396985601702,188.30706729165675]},{\"marker\":{\"maxdisplayed\":10},\"mode\":\"lines+markers\",\"name\":\"Trial64\",\"type\":\"scatter\",\"x\":[0,1,2,3,4,5,6,7,8,9],\"y\":[459.722549517284,193.96943142327868,91.01523122435476,55.71053597992619,36.45794608550665,31.89792644792194,27.82848193244029,24.615571764992023,23.819642635957297,24.128467410959047]},{\"marker\":{\"maxdisplayed\":10},\"mode\":\"lines+markers\",\"name\":\"Trial65\",\"type\":\"scatter\",\"x\":[0,1],\"y\":[956.8057458768753,920.628065147278]},{\"marker\":{\"maxdisplayed\":10},\"mode\":\"lines+markers\",\"name\":\"Trial66\",\"type\":\"scatter\",\"x\":[0,1,2,3,4,5,6,7,8,9],\"y\":[395.52023387292746,158.9178069371637,63.90063908527235,28.08262378560502,24.572329479718633,16.365806863738662,17.91910038815274,19.215849962450722,20.380824062287115,21.276229794981774]},{\"marker\":{\"maxdisplayed\":10},\"mode\":\"lines+markers\",\"name\":\"Trial67\",\"type\":\"scatter\",\"x\":[0,1,2,3,4,5,6,7,8,9],\"y\":[100.14150231104952,10.303338640064919,35.839395857014814,19.0177199029209,17.438745924979628,21.589177175188695,23.571132880618606,22.25451178982258,24.229650817261508,24.228349104054125]},{\"marker\":{\"maxdisplayed\":10},\"mode\":\"lines+markers\",\"name\":\"Trial68\",\"type\":\"scatter\",\"x\":[0,1,2,3],\"y\":[706.4260329813816,488.1241862338109,337.7193535753768,258.25793953396146]},{\"marker\":{\"maxdisplayed\":10},\"mode\":\"lines+markers\",\"name\":\"Trial69\",\"type\":\"scatter\",\"x\":[0,1,2,3,4,5,6,7,8,9,10,11,12,13,14,15,16,17,18,19,20,21,22,23,24,25,26,27],\"y\":[267.46058868018406,72.68718153202099,19.81064525698825,5.456203758415641,1.5936207107286389,1.5088613086293619,2.937695048985494,3.485907582890958,3.9403355243624736,2.8287831333431392,3.4362315173122786,3.4062381370288586,4.099699259753665,4.285658389731417,5.582704358938308,5.598878718853837,5.888209140693399,5.915891688332429,7.234750074783155,7.1514559195687415,7.3121036805374136,7.355415598623527,7.003141722847782,7.446470947101823,7.5862510356270345,7.982483268265863,8.392943414288327,8.71548265789341]},{\"marker\":{\"maxdisplayed\":10},\"mode\":\"lines+markers\",\"name\":\"Trial70\",\"type\":\"scatter\",\"x\":[0,1,2,3,4,5,6,7,8,9,10,11,12,13,14,15,16,17,18,19,20,21,22,23,24,25,26,27],\"y\":[193.75493352506487,38.180122794872545,18.727717091373233,6.552236336909053,6.140388023426697,10.450165969857153,11.349298611475396,10.931626073295455,11.062531676377315,10.99885287141108,11.03852347164975,11.121958575744495,11.711582580070976,12.112119977508726,12.384859365580176,12.587484962113862,12.652811662961376,12.92755393913118,12.986738781868834,13.223485465443826,13.051678122697185,13.218586661776191,13.067346221528508,13.445964560398375,13.550188080980272,13.750345993676362,13.982204688808325,13.759335397705584]},{\"marker\":{\"maxdisplayed\":10},\"mode\":\"lines+markers\",\"name\":\"Trial71\",\"type\":\"scatter\",\"x\":[0,1,2,3],\"y\":[892.1800687092382,808.3017896428377,732.3078155824963,663.4663461332613]},{\"marker\":{\"maxdisplayed\":10},\"mode\":\"lines+markers\",\"name\":\"Trial72\",\"type\":\"scatter\",\"x\":[0,1,2,3,4,5,6,7,8,9,10,11,12,13,14,15,16,17,18,19,20,21,22,23,24,25,26,27],\"y\":[862.4135124199759,746.6362498814285,646.1259240455604,560.7367119686256,485.0746192644784,456.9549817957911,402.15779600696357,347.46912499980004,299.86501021642925,259.18775284060774,224.27133524475622,194.0482148969315,167.7409796026638,145.1086302619905,125.34074034650486,108.38888504357429,99.65304806507736,86.3513668308936,74.49822502729255,67.44202030406099,58.3563412356676,50.54900201629306,44.00537583534644,38.51738811386498,32.3571644842126,28.50821605434832,25.818331649246186,22.89479827924725]},{\"marker\":{\"maxdisplayed\":10},\"mode\":\"lines+markers\",\"name\":\"Trial73\",\"type\":\"scatter\",\"x\":[0,1,2,3,4,5,6,7,8,9],\"y\":[401.4497717584282,155.39442509503579,63.0848706877797,36.99568424502664,21.39975636807106,14.074153834787552,16.09185116811425,17.8322828797676,18.12764187417787,18.9906849911228]},{\"marker\":{\"maxdisplayed\":10},\"mode\":\"lines+markers\",\"name\":\"Trial74\",\"type\":\"scatter\",\"x\":[0,1,2,3],\"y\":[825.6989640885495,692.3428455876185,580.5294626068489,486.78653319502564]},{\"marker\":{\"maxdisplayed\":10},\"mode\":\"lines+markers\",\"name\":\"Trial75\",\"type\":\"scatter\",\"x\":[0,1,2,3],\"y\":[644.2780769804845,421.53538003746445,275.81365063861466,180.49200799341077]},{\"marker\":{\"maxdisplayed\":10},\"mode\":\"lines+markers\",\"name\":\"Trial76\",\"type\":\"scatter\",\"x\":[0,1,2,3,4,5,6,7,8,9],\"y\":[976.3586218360858,967.3691920620873,958.4593062202017,949.7645786745107,941.0170756296108,937.488420605567,929.7090177715868,921.144296131229,913.7588501678962,905.3405530190597]},{\"marker\":{\"maxdisplayed\":10},\"mode\":\"lines+markers\",\"name\":\"Trial77\",\"type\":\"scatter\",\"x\":[0,1,2,3],\"y\":[981.3522201546701,977.9599532854811,974.5793971427152,971.2109522275383]},{\"marker\":{\"maxdisplayed\":10},\"mode\":\"lines+markers\",\"name\":\"Trial78\",\"type\":\"scatter\",\"x\":[0,1],\"y\":[779.1168751704529,667.3622166431759]},{\"marker\":{\"maxdisplayed\":10},\"mode\":\"lines+markers\",\"name\":\"Trial79\",\"type\":\"scatter\",\"x\":[0,1,2,3],\"y\":[982.5060109689387,980.8456644422403,855.7174793987926,655.7160640052962]},{\"marker\":{\"maxdisplayed\":10},\"mode\":\"lines+markers\",\"name\":\"Trial80\",\"type\":\"scatter\",\"x\":[0,1,2,3],\"y\":[705.6363487958586,505.6465841131327,362.3454679573326,259.6761999202941]},{\"marker\":{\"maxdisplayed\":10},\"mode\":\"lines+markers\",\"name\":\"Trial81\",\"type\":\"scatter\",\"x\":[0,1,2,3,4,5,6,7,8,9,10,11,12,13,14,15,16,17,18,19,20,21,22,23,24,25,26,27,28,29,30,31,32,33,34,35,36,37,38,39,40,41,42,43,44,45,46,47,48,49,50,51,52,53,54,55,56,57,58,59,60,61,62,63,64,65,66,67,68,69,70,71,72,73,74,75,76,77,78,79,80,81],\"y\":[365.0087918578744,135.34005502528743,50.21852799384056,19.61982768779835,10.45244575370776,5.453296372468028,5.153198114091026,6.56991291800496,6.772348221759513,7.00997483270492,7.764926549823219,8.27027466682173,8.188083050091379,8.94525588479435,8.989967636632292,9.911453628922196,10.994698800263917,11.138008914020737,10.533097229091602,10.955892210519616,10.595064820889451,10.93650461120898,10.81925473099,10.885391671790712,10.956154531963696,11.068287227721173,11.252402350112332,11.516692620170284,11.43179919463387,11.67019026973606,11.623891342851275,11.571604691998697,11.828092299600218,12.1193293556456,12.064779632492693,12.268721775150132,12.522061076896351,12.42018721592572,12.56064100701232,12.548848032794519,12.623908783867593,12.730148878631871,12.564442835370714,12.696760251104571,12.7549287699949,12.907554683395924,12.84175439553334,13.130607507869435,13.148152034383001,13.098991238082352,13.136628602711161,13.12226888682264,13.1461302806501,13.072968508457794,13.108005708908456,13.177670491341006,13.25200881306351,13.293313172741852,13.285068008503572,13.315200316731294,13.352626719439664,13.411579535452178,13.453692478005431,13.400962194194506,13.458676310415523,13.486750729509216,13.56797770592493,13.572160883727753,13.539690745612521,13.509584721317504,13.578896813694785,13.641682426446618,13.656779472047118,13.653398727997107,13.682697889540911,13.588645318456235,13.651385616520756,13.592905051322617,13.571841551853954,13.604737995226557,13.58232878753111,13.608765259385343]},{\"marker\":{\"maxdisplayed\":10},\"mode\":\"lines+markers\",\"name\":\"Trial82\",\"type\":\"scatter\",\"x\":[0,1,2,3],\"y\":[423.3100794236505,161.56299328160816,78.15276485599242,45.90625337094138]},{\"marker\":{\"maxdisplayed\":10},\"mode\":\"lines+markers\",\"name\":\"Trial83\",\"type\":\"scatter\",\"x\":[0,1],\"y\":[777.0855265703537,604.317439337686]},{\"marker\":{\"maxdisplayed\":10},\"mode\":\"lines+markers\",\"name\":\"Trial84\",\"type\":\"scatter\",\"x\":[0,1],\"y\":[983.7882672105986,983.5645568936478]},{\"marker\":{\"maxdisplayed\":10},\"mode\":\"lines+markers\",\"name\":\"Trial85\",\"type\":\"scatter\",\"x\":[0,1,2,3],\"y\":[675.7918848213294,443.67760886551906,292.7578957144049,195.22881109238148]},{\"marker\":{\"maxdisplayed\":10},\"mode\":\"lines+markers\",\"name\":\"Trial86\",\"type\":\"scatter\",\"x\":[0,1,2,3,4,5,6,7,8,9,10,11,12,13,14,15,16,17,18,19,20,21,22,23,24,25,26,27],\"y\":[18.084943793963113,0.47366976410056144,2.7887490700293105,2.772112796703405,5.659863471849264,5.839818581569946,3.514256990819267,3.5359446247317994,4.872865396046553,5.135350268227278,4.076595308084678,4.815691734593772,5.92429522576146,6.938356066796967,6.993948943374062,8.157745131051081,9.26739188618426,10.060436287993037,10.935069187042034,11.888468073325996,12.004713894835929,12.317406027335512,13.149546254052389,13.380739914899582,13.273638787353669,13.05392573734222,13.3271238800182,13.714168838732634]},{\"marker\":{\"maxdisplayed\":10},\"mode\":\"lines+markers\",\"name\":\"Trial87\",\"type\":\"scatter\",\"x\":[0,1,2,3,4,5,6,7,8,9,10,11,12,13,14,15,16,17,18,19,20,21,22,23,24,25,26,27],\"y\":[353.31878187931443,126.82341526205026,54.03252113573219,21.00683790660528,9.420742820169886,10.398759260850541,11.90883674702223,11.18371281110388,13.103307818498966,13.454284557025508,13.479818308158897,14.529455709111561,16.03844581972829,16.35970555477852,16.709432566223064,16.794080031960835,17.80793385053184,17.834010934362176,17.85993877543808,18.030535597572946,18.60079098880409,19.059665991036194,19.12378898996421,19.372572730640602,19.38396374273191,19.537680814692745,19.686620642199074,19.68882947541781]},{\"marker\":{\"maxdisplayed\":10},\"mode\":\"lines+markers\",\"name\":\"Trial88\",\"type\":\"scatter\",\"x\":[0,1,2,3],\"y\":[576.5840690175218,337.6294399421363,197.72187504458412,115.82768641080868]},{\"marker\":{\"maxdisplayed\":10},\"mode\":\"lines+markers\",\"name\":\"Trial89\",\"type\":\"scatter\",\"x\":[0,1,2,3,4,5,6,7,8,9],\"y\":[46.75844436682162,19.07365874102883,15.697396450993079,22.579717552765654,22.751153706527994,22.82717894286328,23.81975963380967,23.330549815998282,22.45312633452417,23.846014169548017]},{\"marker\":{\"maxdisplayed\":10},\"mode\":\"lines+markers\",\"name\":\"Trial90\",\"type\":\"scatter\",\"x\":[0,1,2,3,4,5,6,7,8,9],\"y\":[247.83188774522466,62.77183023889092,20.28823713028626,24.21941154765916,13.314275045561654,12.465947241938943,15.117716969244308,15.440494684512682,16.633811022243695,17.700802439886882]},{\"marker\":{\"maxdisplayed\":10},\"mode\":\"lines+markers\",\"name\":\"Trial91\",\"type\":\"scatter\",\"x\":[0,1],\"y\":[712.2541056950174,515.1822341740733]},{\"marker\":{\"maxdisplayed\":10},\"mode\":\"lines+markers\",\"name\":\"Trial92\",\"type\":\"scatter\",\"x\":[0,1],\"y\":[968.8897086735994,952.6490104474207]},{\"marker\":{\"maxdisplayed\":10},\"mode\":\"lines+markers\",\"name\":\"Trial93\",\"type\":\"scatter\",\"x\":[0,1,2,3],\"y\":[555.2078816105048,286.83503154142915,150.09114816890133,92.06742223003846]},{\"marker\":{\"maxdisplayed\":10},\"mode\":\"lines+markers\",\"name\":\"Trial94\",\"type\":\"scatter\",\"x\":[0,1,2,3,4,5,6,7,8,9],\"y\":[984.753286985694,984.7340181376612,984.7148521607122,984.6969860215321,984.6820328225332,983.8839403261027,983.87212491713,983.7286712570657,983.7065301292297,982.7286317887642]},{\"marker\":{\"maxdisplayed\":10},\"mode\":\"lines+markers\",\"name\":\"Trial95\",\"type\":\"scatter\",\"x\":[0,1],\"y\":[933.9295910751464,882.4392204307633]},{\"marker\":{\"maxdisplayed\":10},\"mode\":\"lines+markers\",\"name\":\"Trial96\",\"type\":\"scatter\",\"x\":[0,1],\"y\":[893.0013948785546,802.9947232877695]},{\"marker\":{\"maxdisplayed\":10},\"mode\":\"lines+markers\",\"name\":\"Trial97\",\"type\":\"scatter\",\"x\":[0,1,2,3,4,5,6,7,8,9],\"y\":[461.3411518016775,216.1860453606314,101.33369770974906,47.542140248957985,37.461001573199745,18.956703012998883,18.65785682588062,18.457593077289776,19.21787447545722,21.15267713874821]},{\"marker\":{\"maxdisplayed\":10},\"mode\":\"lines+markers\",\"name\":\"Trial98\",\"type\":\"scatter\",\"x\":[0,1],\"y\":[808.5691766154403,655.7838559115598]},{\"marker\":{\"maxdisplayed\":10},\"mode\":\"lines+markers\",\"name\":\"Trial99\",\"type\":\"scatter\",\"x\":[0,1],\"y\":[983.4359351228242,982.0128037192725]},{\"marker\":{\"maxdisplayed\":10},\"mode\":\"lines+markers\",\"name\":\"Trial100\",\"type\":\"scatter\",\"x\":[0,1,2,3,4,5,6,7,8,9],\"y\":[71.30346972310583,60.07701593845504,32.46827212047257,24.825345934382494,29.868818156433562,27.021784887148602,27.182673463591833,28.57222792930372,28.1518176397171,28.742883846240378]},{\"marker\":{\"maxdisplayed\":10},\"mode\":\"lines+markers\",\"name\":\"Trial101\",\"type\":\"scatter\",\"x\":[0,1,2,3,4,5,6,7,8,9,10,11,12,13,14,15,16,17,18,19,20,21,22,23,24,25,26,27],\"y\":[961.3616931527645,959.9252191660411,869.6013248921565,765.6332222523941,674.1187158995241,673.4839008809093,672.140799116385,668.3624852890691,588.1371178530558,585.5175652500036,565.8694226589434,565.2747821113944,553.804386460477,553.3836305133259,552.8630693314752,486.0383795810433,476.5462093796944,458.81069062770007,457.13684110950726,415.08008791084467,379.7332930411369,377.7813930494349,377.787931403534,377.6675465892961,371.84683379194894,371.5768981920771,326.2034142492679,297.03626726317077]},{\"marker\":{\"maxdisplayed\":10},\"mode\":\"lines+markers\",\"name\":\"Trial102\",\"type\":\"scatter\",\"x\":[0,1,2,3,4,5,6,7,8,9],\"y\":[267.93921551688874,72.98991657801011,19.962377472261224,14.662160612095184,12.654400272640197,19.077330816327805,22.894815360771222,26.443951426914847,28.26970437914222,27.36143313752256]},{\"marker\":{\"maxdisplayed\":10},\"mode\":\"lines+markers\",\"name\":\"Trial103\",\"type\":\"scatter\",\"x\":[0,1,2,3],\"y\":[479.10148093856793,233.14839531328082,113.4864022266085,55.283577620341404]},{\"marker\":{\"maxdisplayed\":10},\"mode\":\"lines+markers\",\"name\":\"Trial104\",\"type\":\"scatter\",\"x\":[0,1],\"y\":[614.1395261873682,383.0192185268098]},{\"marker\":{\"maxdisplayed\":10},\"mode\":\"lines+markers\",\"name\":\"Trial105\",\"type\":\"scatter\",\"x\":[0,1,2,3,4,5,6,7,8,9,10,11,12,13,14,15,16,17,18,19,20,21,22,23,24,25,26,27],\"y\":[53.53363471608553,3.044780735066254,4.141243206026218,7.690656238349114,11.893312383224593,10.88394476989142,13.860987133763842,16.54292856665927,15.02817167482334,15.172469157935055,16.715852363882885,17.935535463975732,17.362746999813776,17.956731755623757,18.50938169292045,18.352962206834107,18.424110232369173,19.01147081494355,19.47523649366489,19.775629703949015,19.71935408048953,19.868326788605106,20.26115268536472,20.25660819568363,20.056479680653336,20.069443339565566,20.15102926736976,20.31572835423426]},{\"marker\":{\"maxdisplayed\":10},\"mode\":\"lines+markers\",\"name\":\"Trial106\",\"type\":\"scatter\",\"x\":[0,1,2,3,4,5,6,7,8,9,10,11,12,13,14,15,16,17,18,19,20,21,22,23,24,25,26,27,28,29,30,31,32,33,34,35,36,37,38,39,40,41,42,43,44,45,46,47,48,49,50,51,52,53,54,55,56,57,58,59,60,61,62,63,64,65,66,67,68,69,70,71,72,73,74,75,76,77,78,79,80,81,82,83,84,85,86,87,88,89,90,91,92,93,94,95,96,97,98,99],\"y\":[150.07950800369653,69.11438276066032,78.93724822311094,66.15156476003303,61.472488567329314,54.872920385227,43.911153769760226,39.17246686808824,38.98978579135032,37.36443789085691,36.65134807529855,36.695053466635386,36.88101276656641,37.45988892526694,38.18369715723476,39.398932682330226,39.8435424353085,40.01162096802208,39.739127586481544,38.24473577015419,38.058094337488036,38.22028447258732,38.294675628481244,38.81053435534172,38.97646077113716,39.02105011789862,39.11108522031177,39.267699199499326,39.16767794510483,39.348788165049555,39.01571241882954,39.42285568595275,39.04484015770671,38.80763717363462,38.26691245770537,38.39971399174015,38.21337073565452,37.99470508216486,38.102197065339325,38.1079092486941,38.1060739262563,38.13253263273179,37.99351626906976,38.066708845860894,38.285806999855794,38.316512710657186,38.7307037762194,38.664546027802146,38.752504110360526,38.518954672496754,37.76787484016828,37.80632278043122,38.2026574688294,38.2131118078434,38.264403656222804,38.21052851548059,38.16381905356363,38.19182199360492,37.97775459019118,38.12917344579601,38.15518440627887,38.10286125944265,38.49159037166536,38.472880289530735,38.54661400929355,38.51328858995956,38.606343154034334,38.59255446222842,38.78053512064373,38.78288126840803,38.76627708319783,38.69823432687952,38.64738398447145,38.63589059228866,38.686788643634095,38.732787954869515,38.85215680702192,38.92891369978129,39.09444821261347,38.764499734144714,38.806155042727575,38.769896841576504,38.774001823251176,38.98474980815604,38.6445325055942,38.55893558519915,38.67069913126414,38.30157978315238,38.33920938192579,38.21321880673525,38.37025923339147,38.476583682895345,38.502252292791944,38.330041293939914,38.22492704770733,38.36258456407908,38.22270552912784,38.33263409486786,38.40937162089425,38.37272843591737]},{\"marker\":{\"maxdisplayed\":10},\"mode\":\"lines+markers\",\"name\":\"Trial107\",\"type\":\"scatter\",\"x\":[0,1],\"y\":[961.6719206856659,938.2500693426746]},{\"marker\":{\"maxdisplayed\":10},\"mode\":\"lines+markers\",\"name\":\"Trial108\",\"type\":\"scatter\",\"x\":[0,1,2,3,4,5,6,7,8,9],\"y\":[326.4596753769255,110.36326023342181,43.486733843064194,26.37503161520746,18.521583719622758,20.26047341128673,21.41020429083919,22.261849333726204,21.848119234690188,22.125409413802547]},{\"marker\":{\"maxdisplayed\":10},\"mode\":\"lines+markers\",\"name\":\"Trial109\",\"type\":\"scatter\",\"x\":[0,1],\"y\":[832.75343743544,704.2143243956632]},{\"marker\":{\"maxdisplayed\":10},\"mode\":\"lines+markers\",\"name\":\"Trial110\",\"type\":\"scatter\",\"x\":[0,1],\"y\":[762.827904710002,583.9732321238316]},{\"marker\":{\"maxdisplayed\":10},\"mode\":\"lines+markers\",\"name\":\"Trial111\",\"type\":\"scatter\",\"x\":[0,1,2,3,4,5,6,7,8,9,10,11,12,13,14,15,16,17,18,19,20,21,22,23,24,25,26,27,28,29,30,31,32,33,34,35,36,37,38,39,40,41,42,43,44,45,46,47,48,49,50,51,52,53,54,55,56,57,58,59,60,61,62,63,64,65,66,67,68,69,70,71,72,73,74,75,76,77,78,79,80,81,82,83,84,85,86,87,88,89,90,91,92,93,94,95,96,97,98,99],\"y\":[248.92254864752093,62.96580257794263,16.09853752034639,3.7191657485655822,3.33467481319622,5.547617799903542,7.869163373308504,10.248304312169784,9.439903080108884,10.148303276719574,10.017650301385931,11.362227763973136,11.339158327186764,11.520593213915191,11.518028623600806,12.39863982989276,12.846245740312337,14.25692349980026,14.421229259730687,14.66080648898172,14.703069803714957,14.899432842798307,15.291729884549996,15.43593959459949,14.300113473955228,14.785284306301524,14.91031605486274,14.801615581402958,14.888889493091673,15.107610636247692,14.74391583405065,14.396973790428529,14.645208190381407,14.999289546087255,14.973003279384796,15.042807108595543,15.192946077500734,15.294465365678322,15.197730097181093,15.294081794737835,15.358990431070099,15.404187002965253,15.48667433792805,15.686509968786892,15.693770153717404,15.774921887392773,15.827318486371595,15.891953666820463,15.805961191634879,15.790171345993985,15.749259466727585,15.807627824554562,16.008997700474836,15.957500910365935,16.059041339426315,16.027946514044057,16.072123808146596,16.17573064434189,16.181662526248942,16.18989953796775,16.144736909407033,16.174872072539834,16.226361438481412,16.14470419984231,16.13573823296402,16.084584411041142,16.092066916000423,16.127099173477156,16.157858571881828,16.171372236435886,16.187211909621578,16.196286541194546,16.211042009076607,16.22035440297436,16.055994731426857,16.101948633586964,16.119783857764617,16.111835237284517,16.141695376452788,16.150035757254752,15.993955040556454,16.050714000825394,15.933670823134785,15.99247742958915,15.998550696585783,16.04435144878021,16.0098453294606,16.024784708803868,16.032959533336093,16.03873424949695,16.037705060103484,15.998985787102347,16.035774389967333,16.032148668052645,16.004026501435348,16.000059000617043,15.986237518834477,15.982000077252415,15.966660012465088,15.945880542311155]},{\"marker\":{\"maxdisplayed\":10},\"mode\":\"lines+markers\",\"name\":\"Trial112\",\"type\":\"scatter\",\"x\":[0,1,2,3,4,5,6,7,8,9,10,11,12,13,14,15,16,17,18,19,20,21,22,23,24,25,26,27,28,29,30,31,32,33,34,35,36,37,38,39,40,41,42,43,44,45,46,47,48,49,50,51,52,53,54,55,56,57,58,59,60,61,62,63,64,65,66,67,68,69,70,71,72,73,74,75,76,77,78,79,80,81],\"y\":[276.1730132063848,77.515859518612,22.544763413050656,6.602495170614853,7.867302200189609,7.971574450457174,11.09712194470483,11.571332910496613,10.874610391596164,11.614440320915085,12.165237870455995,12.458794788054101,12.632687958101894,13.086244645819772,13.64233106224513,12.399882876548208,13.172426517981032,13.239229170985437,12.819602775606269,12.995135317557182,13.077872028065714,13.19853973188307,13.556558505160659,13.85141681523852,13.867269994706314,13.88283387573008,13.971128813156295,14.048562739923886,13.860257609859174,14.067703648432733,14.140432579847381,14.260951293975781,14.610444091248059,14.551324586395994,14.578859178938812,14.838285715784162,14.920040853549427,14.646551421977026,14.7275526131775,14.733202510863313,14.910346398643677,14.997793201419492,14.978569004251185,14.894267301887961,15.006337169452909,15.057988216232243,15.061955623673372,15.04184094964564,15.041679908309005,15.001556067965561,15.08781598195008,15.13748904189544,15.212213613417605,15.167357214966064,15.229169811796961,15.226374873600575,15.240286704585758,15.225072731415166,15.270030351415844,15.239321007470462,15.22314512316372,15.177079662012847,15.24759917288835,15.269833165869022,15.180176518243044,15.229834011692144,15.242441346518929,15.283697521005136,15.178115912532096,15.170539632791119,15.16254831123785,15.202871447833857,15.212791693608256,15.160169353001052,15.163346242109636,15.227797645737123,15.223994115753353,15.223689427830179,15.161058960181276,15.229366204581252,15.212609802586165,15.182394645637885]},{\"marker\":{\"maxdisplayed\":10},\"mode\":\"lines+markers\",\"name\":\"Trial113\",\"type\":\"scatter\",\"x\":[0,1,2,3,4,5,6,7,8,9,10,11,12,13,14,15,16,17,18,19,20,21,22,23,24,25,26,27],\"y\":[984.747147052235,984.6981317634711,984.6497820070664,984.605217417619,984.5674871466657,982.5402830655662,982.5112049205309,982.1475086277982,982.0912497028512,979.6029911869646,979.5945239571224,979.5873838268636,966.3108440789553,966.199383674578,966.199383674578,966.1614465714489,966.0262372928077,965.9952755377358,952.9031512868477,952.8716435495936,952.8631109982041,952.8204605737812,939.9049079537782,939.626537020962,937.2159995004879,924.5101446988427,924.456566311278,924.2139858966626]},{\"marker\":{\"maxdisplayed\":10},\"mode\":\"lines+markers\",\"name\":\"Trial114\",\"type\":\"scatter\",\"x\":[0,1,2,3,4,5,6,7,8,9,10,11,12,13,14,15,16,17,18,19,20,21,22,23,24,25,26,27,28,29,30,31,32,33,34,35,36,37,38,39,40,41,42,43,44,45,46,47,48,49,50,51,52,53,54,55,56,57,58,59,60,61,62,63,64,65,66,67,68,69,70,71,72,73,74,75,76,77,78,79,80,81,82,83,84,85,86,87,88,89,90,91,92,93,94,95,96,97,98,99],\"y\":[290.2177777344058,85.43401957312965,24.615763029257113,14.110262550358055,10.715373893296348,11.836256707225651,12.166237178050988,12.553917309393338,12.581497994198504,12.763997302016843,9.885697524767625,10.091585301524853,9.748204688007505,9.937834317216137,10.613782375061446,11.101731663743346,10.938373289706849,11.019100659576452,10.161502350528306,10.42020701412001,10.364544195345163,10.861465511760475,10.997229985583333,10.917019160175972,10.879602234447491,11.001547133199477,10.615452721006113,10.977059114573809,10.937278525342549,11.04069474068118,11.131592283341428,11.299155614653172,11.285267399202905,11.4134766684995,11.375832338890719,11.56698560248246,11.626387873560423,11.684669769361195,11.566213383809703,11.755339165638803,11.759187416133072,11.729556194631737,11.705028699015154,11.743197679599461,11.743563994788678,11.750016051859799,11.765933774048094,11.795766616946247,11.27037165445932,11.277084345427104,11.24418266539629,11.264879531028377,11.35935051352674,11.418444679267852,11.434292164323557,11.392743145758486,11.232278155229093,11.303497357516619,11.243070797245617,11.238262694089418,10.828809732083077,10.810268037333817,10.815392913401412,10.862834281536887,10.828807880185856,10.761962097761295,10.74764002746932,10.820295343482158,10.817372882969167,10.82332075652839,10.869615591780864,10.868930298238615,10.881049451921204,10.904348955351237,10.925592406722371,10.91979336065723,10.923652032791175,10.963783578621827,10.989221377629478,11.036537905740854,10.940778932653311,10.9400249338971,10.96726236079653,11.005103827149828,11.012237261551112,10.977252037914482,10.976542105079735,11.015234758973136,11.039546980222545,11.040379850199256,11.006539399774045,11.003657307223682,11.02073859001448,11.038341399287807,11.02614622566576,11.043409657040012,11.042288252137684,11.067426607533866,11.092920067339866,11.107789029519006]},{\"marker\":{\"maxdisplayed\":10},\"mode\":\"lines+markers\",\"name\":\"Trial115\",\"type\":\"scatter\",\"x\":[0,1,2,3,4,5,6,7,8,9],\"y\":[317.46622449134424,98.88407529011843,33.56146500936978,16.93101361908727,11.75290884342718,11.530320934140073,13.859639601731104,14.129657108163391,13.493511585152142,14.525093096047671]},{\"marker\":{\"maxdisplayed\":10},\"mode\":\"lines+markers\",\"name\":\"Trial116\",\"type\":\"scatter\",\"x\":[0,1,2,3],\"y\":[632.4699546862465,406.22534623179484,260.9192373665957,167.61120737233634]},{\"marker\":{\"maxdisplayed\":10},\"mode\":\"lines+markers\",\"name\":\"Trial117\",\"type\":\"scatter\",\"x\":[0,1,2,3],\"y\":[464.78861164915213,219.41557084923926,103.6007199839035,49.128591856144546]},{\"marker\":{\"maxdisplayed\":10},\"mode\":\"lines+markers\",\"name\":\"Trial118\",\"type\":\"scatter\",\"x\":[0,1,2,3,4,5,6,7,8,9],\"y\":[230.41929377964664,53.98808066532371,15.052202192398772,8.252455612288092,9.403529167301997,10.075858676978177,10.904680685158656,12.7710903872215,14.42564696081041,14.57216827529282]},{\"marker\":{\"maxdisplayed\":10},\"mode\":\"lines+markers\",\"name\":\"Trial119\",\"type\":\"scatter\",\"x\":[0,1,2,3,4,5,6,7,8,9,10,11,12,13,14,15,16,17,18,19,20,21,22,23,24,25,26,27],\"y\":[982.7470474819534,980.1459933910221,977.5510332132861,977.5181314441711,974.930784652217,974.0001620599575,971.722291631505,970.5267792773875,968.2669985507175,965.7032093617573,964.0302925287962,961.4781986082256,960.0191549146851,958.0544791364886,955.5182063566348,952.9888725723326,952.0758445605571,950.133175353138,947.6179241582868,946.4170593370309,943.9117727859252,941.4124013749368,939.8428667730545,937.3542898549665,936.6415980831223,934.1623945985609,932.2375362827671,929.7695648201752]},{\"marker\":{\"maxdisplayed\":10},\"mode\":\"lines+markers\",\"name\":\"Trial120\",\"type\":\"scatter\",\"x\":[0,1],\"y\":[594.4323400163817,342.2991459393336]},{\"marker\":{\"maxdisplayed\":10},\"mode\":\"lines+markers\",\"name\":\"Trial121\",\"type\":\"scatter\",\"x\":[0,1],\"y\":[695.9457410499728,474.10523588521517]},{\"marker\":{\"maxdisplayed\":10},\"mode\":\"lines+markers\",\"name\":\"Trial122\",\"type\":\"scatter\",\"x\":[0,1,2,3],\"y\":[479.35989574749465,210.1081946260546,103.07089979784709,66.26255437328851]},{\"marker\":{\"maxdisplayed\":10},\"mode\":\"lines+markers\",\"name\":\"Trial123\",\"type\":\"scatter\",\"x\":[0,1],\"y\":[982.8634404734041,982.5208208300878]},{\"marker\":{\"maxdisplayed\":10},\"mode\":\"lines+markers\",\"name\":\"Trial124\",\"type\":\"scatter\",\"x\":[0,1,2,3],\"y\":[819.5263119632945,667.4015975174528,543.3930128105825,446.49611977634993]},{\"marker\":{\"maxdisplayed\":10},\"mode\":\"lines+markers\",\"name\":\"Trial125\",\"type\":\"scatter\",\"x\":[0,1,2,3,4,5,6,7,8,9,10,11,12,13,14,15,16,17,18,19,20,21,22,23,24,25,26,27,28,29,30,31,32,33,34,35,36,37,38,39,40,41,42,43,44,45,46,47,48,49,50,51,52,53,54,55,56,57,58,59,60,61,62,63,64,65,66,67,68,69,70,71,72,73,74,75,76,77,78,79,80,81],\"y\":[214.9375272738083,46.995029182724544,10.358361402628908,7.036810103775036,8.308882256436988,10.5181069233064,11.630380490678661,8.785757048673927,8.900702150163182,9.730188994728193,9.681135195174015,9.966060041768692,9.97999866543289,11.103597678274474,11.034994538424227,11.128825300267545,11.524585398938282,12.336537731765173,12.545260297415437,11.896117270856122,11.972484272309426,12.291758425513844,12.339516691633474,12.473947024346414,12.785045265591828,12.92084058836615,12.998158207718063,13.07590157813663,13.04479383114554,13.194770087530072,13.24686092811646,13.29534466808133,13.43116994632785,13.408870206276276,13.43120002673583,13.624781448246065,13.75045798005202,13.823825434959248,13.852265737222147,13.735354213238319,13.871429440174563,13.89656799540539,13.891291327014944,13.88061366321649,13.988538041847224,14.106359657211602,14.229746601771572,14.193963104282277,14.261484750017472,14.257758834953645,14.36650867423008,14.328108139695276,14.311736813242334,14.512775232021637,14.66685889876958,14.609220043054664,14.65918586980237,14.669522214888834,14.670606011071039,14.656696735811206,14.649898099910933,14.642161445057054,14.666164858522777,14.686739598928334,14.690388329556662,14.629070666151478,14.643629016641619,14.710088551590017,14.67390525865567,14.606902686344132,14.630602145710908,14.615616357925177,14.594610630220819,14.613143085630618,14.574688561321512,14.610678750314126,14.66537441166844,14.676207634056015,14.714354804536583,14.729191741032531,14.779850167126789,14.77628116717284]},{\"marker\":{\"maxdisplayed\":10},\"mode\":\"lines+markers\",\"name\":\"Trial126\",\"type\":\"scatter\",\"x\":[0,1],\"y\":[595.4654750646883,360.0976496691295]},{\"marker\":{\"maxdisplayed\":10},\"mode\":\"lines+markers\",\"name\":\"Trial127\",\"type\":\"scatter\",\"x\":[0,1,2,3],\"y\":[887.9184103875123,796.0868146836938,713.7625352863356,639.9802801886478]},{\"marker\":{\"maxdisplayed\":10},\"mode\":\"lines+markers\",\"name\":\"Trial128\",\"type\":\"scatter\",\"x\":[0,1],\"y\":[738.7619206160663,536.9888319628585]},{\"marker\":{\"maxdisplayed\":10},\"mode\":\"lines+markers\",\"name\":\"Trial129\",\"type\":\"scatter\",\"x\":[0,1,2,3,4,5,6,7,8,9,10,11,12,13,14,15,16,17,18,19,20,21,22,23,24,25,26,27],\"y\":[173.5132313686619,27.950590201692776,28.233132448511444,30.288456837646468,19.503020827898606,16.75255114640976,17.864085630795806,18.13306893886105,16.817112384818408,17.048158197032986,17.978696753809448,17.78321775977304,19.524731021550288,20.838681483387127,20.346805394862564,20.28196030760875,20.606268168937945,20.71418356000837,20.902490797158936,20.99999530183608,21.71282017346984,21.65342672956261,22.613385629762337,22.09322224108102,22.72841827833576,22.399842201493517,22.66617734671304,22.919077964766608]},{\"marker\":{\"maxdisplayed\":10},\"mode\":\"lines+markers\",\"name\":\"Trial130\",\"type\":\"scatter\",\"x\":[0,1,2,3,4,5,6,7,8,9],\"y\":[53.82163411866324,19.55536486893191,17.375716614786796,22.42338446231938,20.41804164449824,19.24551383152823,21.611180494324266,20.651393335653047,20.642829127352332,20.567963461027805]},{\"marker\":{\"maxdisplayed\":10},\"mode\":\"lines+markers\",\"name\":\"Trial131\",\"type\":\"scatter\",\"x\":[0,1,2,3,4,5,6,7,8,9],\"y\":[323.72935298066363,106.48613927627818,35.218598995084626,13.6123922264754,10.956725185798726,10.723528283974385,11.107917173383596,12.11087240714368,12.09680985837536,14.037377384225852]},{\"marker\":{\"maxdisplayed\":10},\"mode\":\"lines+markers\",\"name\":\"Trial132\",\"type\":\"scatter\",\"x\":[0,1],\"y\":[520.0770269735759,274.71143851044667]},{\"marker\":{\"maxdisplayed\":10},\"mode\":\"lines+markers\",\"name\":\"Trial133\",\"type\":\"scatter\",\"x\":[0,1,2,3],\"y\":[923.4047620603915,913.5177971366552,626.2601780714015,427.9607078709134]},{\"marker\":{\"maxdisplayed\":10},\"mode\":\"lines+markers\",\"name\":\"Trial134\",\"type\":\"scatter\",\"x\":[0,1,2,3,4,5,6,7,8,9],\"y\":[264.4163821123497,73.54823925273548,30.993740795653586,25.40667962715016,20.607565796114656,21.975772403424347,23.95740877767385,21.756159397476235,21.521491293202907,21.61722120965633]},{\"marker\":{\"maxdisplayed\":10},\"mode\":\"lines+markers\",\"name\":\"Trial135\",\"type\":\"scatter\",\"x\":[0,1,2,3,4,5,6,7,8,9,10,11,12,13,14,15,16,17,18,19,20,21,22,23,24,25,26,27],\"y\":[983.7840159469197,983.7687773635507,983.7335211056416,983.7220453123347,983.7107913360252,983.7000548656868,983.2458065454946,982.6291871552978,981.902168166097,980.932753174639,980.8930572152841,980.1681817925868,980.1381818986487,979.9917911010382,979.8511428977553,979.1193270486631,978.1523634233617,978.1488471797446,978.1250875640966,977.9776170276841,977.9684229542918,977.9401771949982,977.7415695936742,976.7761543381491,976.7741134178267,975.8097031598173,975.0874042941904,974.3660975946406]},{\"marker\":{\"maxdisplayed\":10},\"mode\":\"lines+markers\",\"name\":\"Trial136\",\"type\":\"scatter\",\"x\":[0,1,2,3,4,5,6,7,8,9,10,11,12,13,14,15,16,17,18,19,20,21,22,23,24,25,26,27],\"y\":[983.8325997725474,982.833770462565,981.8358439429247,980.8575984606728,979.8617597045427,979.4823254173374,978.4879234484044,977.494347938101,976.5017655846818,975.7469958438754,975.0333281167477,974.0433137825526,973.0541900520458,972.0663350222201,971.0792380714364,970.0933709017103,969.727918708036,968.7433932982475,967.7596512026214,967.0028736591839,966.021069335959,965.0401631463491,964.0602318762589,963.0812403611948,962.1033821874745,961.1265957158793,960.3532725068624,959.378264527353]},{\"marker\":{\"maxdisplayed\":10},\"mode\":\"lines+markers\",\"name\":\"Trial137\",\"type\":\"scatter\",\"x\":[0,1,2,3],\"y\":[857.7639522689144,737.9838425840891,634.8289045633906,547.5888104303266]},{\"marker\":{\"maxdisplayed\":10},\"mode\":\"lines+markers\",\"name\":\"Trial138\",\"type\":\"scatter\",\"x\":[0,1,2,3,4,5,6,7,8,9,10,11,12,13,14,15,16,17,18,19,20,21,22,23,24,25,26,27,28,29,30,31,32,33,34,35,36,37,38,39,40,41,42,43,44,45,46,47,48,49,50,51,52,53,54,55,56,57,58,59,60,61,62,63,64,65,66,67,68,69,70,71,72,73,74,75,76,77,78,79,80,81,82,83,84,85,86,87,88,89,90,91,92,93,94,95,96,97,98,99],\"y\":[221.9974224814321,50.2423850700188,11.588590014523831,1.9359277944294295,7.071297169432923,5.525089948996998,10.049957223365167,9.657503044843935,10.10440106736738,9.231971479637018,9.522572073586169,9.746398515860184,10.255134459205694,10.698051588645484,11.207557274763062,11.85506615833106,11.783936615201407,11.63047097445274,11.695902584191133,11.803890974184384,11.953122077984071,12.139900979279574,12.230951677309363,12.205785139378252,12.467170150276317,12.611482291395713,12.666354428022203,12.989999497366258,12.918793956749186,13.009515548345384,13.120660677624207,13.014624970939238,12.98366602100043,12.95264255486143,12.956507857217288,12.916010918136946,13.041559091541904,13.149022450783171,13.110381297072832,13.117733279905613,13.036937514057914,13.021393271480393,13.032782807485768,13.014739931792864,13.066471261224137,13.193914334686138,13.025919720357184,13.218173550436195,13.199721410631586,13.2278245153973,13.202143012107413,13.190794663776565,13.210237679905818,13.174447377938108,13.159130924177672,13.284357541998062,13.25851487977947,13.297822991805415,13.24112638106812,13.152720111569808,13.183489642972212,13.138294367012007,13.245946239680393,13.098841389100219,13.114499759576173,13.124125313925308,13.212572966453358,13.237295215648365,13.270231653886412,13.292480909544171,13.272102510627839,13.322364956005709,13.28349195725082,13.33444003568905,13.35974362843284,13.41984655195024,13.42710418496623,13.442104615156676,13.386897842980458,13.395643752872514,13.436737536736064,13.322970691731138,13.392238941986601,13.354653105688437,13.424916373323308,13.439569001452236,13.441291751550802,13.435780096713335,13.414674702025168,13.372147550429295,13.338562830154487,13.35382753714525,13.336420124574087,13.337182663062123,13.336967311921784,13.329947381932477,13.33144385606618,13.27139370360629,13.286053399201224,13.220942021294203]},{\"marker\":{\"maxdisplayed\":10},\"mode\":\"lines+markers\",\"name\":\"Trial139\",\"type\":\"scatter\",\"x\":[0,1],\"y\":[982.1431155661085,475.8243757359264]},{\"marker\":{\"maxdisplayed\":10},\"mode\":\"lines+markers\",\"name\":\"Trial140\",\"type\":\"scatter\",\"x\":[0,1],\"y\":[883.2454060405476,792.2040740994146]},{\"marker\":{\"maxdisplayed\":10},\"mode\":\"lines+markers\",\"name\":\"Trial141\",\"type\":\"scatter\",\"x\":[0,1,2,3],\"y\":[429.6711636486645,180.47024955453847,74.83077769299246,38.27093944202501]},{\"marker\":{\"maxdisplayed\":10},\"mode\":\"lines+markers\",\"name\":\"Trial142\",\"type\":\"scatter\",\"x\":[0,1,2,3],\"y\":[450.07376843267895,82.61824721619588,53.911459042530836,70.13384904875254]},{\"marker\":{\"maxdisplayed\":10},\"mode\":\"lines+markers\",\"name\":\"Trial143\",\"type\":\"scatter\",\"x\":[0,1],\"y\":[640.8079218866733,417.0153605238227]},{\"marker\":{\"maxdisplayed\":10},\"mode\":\"lines+markers\",\"name\":\"Trial144\",\"type\":\"scatter\",\"x\":[0,1,2,3,4,5,6,7,8,9,10,11,12,13,14,15,16,17,18,19,20,21,22,23,24,25,26,27,28,29,30,31,32,33,34,35,36,37,38,39,40,41,42,43,44,45,46,47,48,49,50,51,52,53,54,55,56,57,58,59,60,61,62,63,64,65,66,67,68,69,70,71,72,73,74,75,76,77,78,79,80,81,82,83,84,85,86,87,88,89,90,91,92,93,94,95,96,97,98,99],\"y\":[366.65057241326406,136.63718357476887,51.373728948471175,21.31608927017525,8.74538118557254,4.783101034320813,4.9778110181385005,5.259375688062405,6.67544113800513,6.133247666407803,7.073083188454666,6.568644088399412,6.480226631985737,7.294879264022618,7.987447674704975,8.254808832636254,8.673064221894178,9.149648598596883,8.988120096949082,9.346283775720531,9.832482121054921,10.025366171309733,10.107237929969433,10.216441972245494,10.30403006568941,10.37409271190202,10.751458159422487,10.990612442410258,10.909849726407206,11.337843451566386,11.410727945654525,11.301028349186128,11.277211613272451,11.251747893609853,11.306681743678062,11.571763826191024,11.646757276628884,11.501889160390736,11.435324725470362,11.588794668001773,11.565454326339225,11.58886315918851,11.536721670603196,11.67467280464657,11.694102099275602,11.808216250521442,11.771723743724412,11.930661294923965,11.428952613323027,11.523759714888602,11.481751808696584,11.507857376378977,11.553800152865945,11.478806208660934,11.56470293289047,11.651206209168821,11.697425442504123,11.814786169281115,11.705623565163014,11.748847397492144,11.794059653655,11.81554110843194,11.847978032054135,11.860389012496114,11.916912036560996,11.973125571298613,11.958149744032127,12.054178161612624,12.038306675566252,12.01180033152591,12.038290475580942,12.060833852877183,12.03478635922378,12.03264571179024,11.988805473320506,12.05163866907274,12.129263949160073,12.188296062006891,12.20288767634613,12.210315882878888,12.252740970421357,12.152399267557579,12.17140641549004,12.195298699350015,12.21463058354385,12.2303309668347,12.192594029751346,12.173634699842703,12.288840495891016,12.243319419867046,12.23505661229401,12.187743189081578,12.192177271100133,12.204114730724502,12.258719948446533,12.291433103437155,12.312439227987978,12.240301835149042,12.242239935149561,12.220895443189669]},{\"marker\":{\"maxdisplayed\":10},\"mode\":\"lines+markers\",\"name\":\"Trial145\",\"type\":\"scatter\",\"x\":[0,1,2,3],\"y\":[411.87891297491626,154.6181189092005,70.01304412629767,45.443513471950894]},{\"marker\":{\"maxdisplayed\":10},\"mode\":\"lines+markers\",\"name\":\"Trial146\",\"type\":\"scatter\",\"x\":[0,1,2,3,4,5,6,7,8,9,10,11,12,13,14,15,16,17,18,19,20,21,22,23,24,25,26,27],\"y\":[232.1725881699603,54.79265955599276,20.060528605521224,6.282769059841396,6.980020299204703,6.842884010481243,7.887858997331258,9.030832144288983,9.001745472423371,10.117705857064506,10.862766474652988,11.006264737713732,10.782241836067403,11.065145410747942,11.417492076786159,12.030946048249293,11.74898851077695,11.645840647335342,11.71349884776712,12.029460918335896,12.16808046505707,12.360715299828298,12.345066905505622,12.319996383648956,12.178071155940952,12.19734143735389,12.167435390567944,12.265569398210502]},{\"marker\":{\"maxdisplayed\":10},\"mode\":\"lines+markers\",\"name\":\"Trial147\",\"type\":\"scatter\",\"x\":[0,1],\"y\":[507.7271833159905,261.8139287403399]},{\"marker\":{\"maxdisplayed\":10},\"mode\":\"lines+markers\",\"name\":\"Trial148\",\"type\":\"scatter\",\"x\":[0,1,2,3,4,5,6,7,8,9,10,11,12,13,14,15,16,17,18,19,20,21,22,23,24,25,26,27,28,29,30,31,32,33,34,35,36,37,38,39,40,41,42,43,44,45,46,47,48,49,50,51,52,53,54,55,56,57,58,59,60,61,62,63,64,65,66,67,68,69,70,71,72,73,74,75,76,77,78,79,80,81,82,83,84,85,86,87,88,89,90,91,92,93,94,95,96,97,98,99],\"y\":[724.856971585643,533.5453822947612,392.7269537046622,289.09253477767885,212.81552090322833,156.67068646274706,115.3442549264878,84.92749851452625,62.529091322818594,46.05017139967039,33.913988110071934,24.980806037783843,18.90816006105394,13.947212708288141,9.565983783171726,7.871255108074295,5.59910695780504,4.887225375350758,3.9734792491725863,3.8248070452194325,3.9856803150364657,4.085455927764931,4.052265331030257,3.99368871139057,4.218841049178542,4.24329371058133,4.360238312341554,4.467296617497851,4.653138740236006,4.58726198080914,4.866215033642797,4.902822086486643,5.110731331721854,5.095761621675368,5.067729483490726,5.2058117553951115,5.234781183203106,5.368716134015929,5.089166159889559,5.117917568776302,5.091865716110879,4.983906208909621,5.1554427874224045,5.240265899861707,5.49844221008457,5.5597505897599335,5.705498310536981,5.77705084267044,5.802866703025514,5.79194975647869,5.926475296273437,5.906130879624125,5.9044078337359265,5.943905423414416,6.043401138275808,6.0205275037973225,6.067075906807746,6.125312863336304,6.114780335083662,6.099152813614834,6.14458878775832,6.23250944469345,6.202960515229895,6.281118935537178,6.303787182046446,6.261230509890613,6.291904805326725,6.2905547677386995,6.295215676369816,6.349110153184594,6.296709220168385,6.369540169569384,6.500290655937794,6.477882057267267,6.5099448024618205,6.469412034555795,6.4798735429056515,6.507641534928332,6.55528901544091,6.529987733454787,6.539200388386685,6.5575899553937225,6.574590949379564,6.542288742204021,6.601316186748628,6.6583967629194385,6.654605157097599,6.714032440730649,6.6884871884655,6.716283243189204,6.796068511691394,6.827131452379865,6.843845766363714,6.9261337233750515,6.7541766734126485,6.710565029475689,6.752367403828231,6.7683262636692785,6.7719049811883565,6.746244480513483]},{\"marker\":{\"maxdisplayed\":10},\"mode\":\"lines+markers\",\"name\":\"Trial149\",\"type\":\"scatter\",\"x\":[0,1,2,3,4,5,6,7,8,9,10,11,12,13,14,15,16,17,18,19,20,21,22,23,24,25,26,27],\"y\":[194.09826983134272,38.59290610947939,9.430967135592697,11.75949990748817,8.546680353032729,7.954546435045439,10.088943896606658,9.957747093380302,11.570514806803276,11.987986168275066,12.166546555737234,12.755305855774333,13.100613532449026,13.768295055388526,13.733522738340982,14.297447397466543,14.38455277582974,14.776043918137729,14.672057435449545,14.915073770703428,14.990596571131793,15.258769531984234,15.490902507791628,15.445157629310918,15.465117636642042,15.312418477492582,15.512915765000567,15.656897739256205]},{\"marker\":{\"maxdisplayed\":10},\"mode\":\"lines+markers\",\"name\":\"Trial150\",\"type\":\"scatter\",\"x\":[0,1,2,3],\"y\":[561.0255156342103,313.1655137148946,176.000267943119,99.98722556689673]},{\"marker\":{\"maxdisplayed\":10},\"mode\":\"lines+markers\",\"name\":\"Trial151\",\"type\":\"scatter\",\"x\":[0,1,2,3],\"y\":[374.9887406421789,142.85148818141832,54.45044998563671,25.402830272708883]},{\"marker\":{\"maxdisplayed\":10},\"mode\":\"lines+markers\",\"name\":\"Trial152\",\"type\":\"scatter\",\"x\":[0,1],\"y\":[574.655901868679,319.0952216829931]},{\"marker\":{\"maxdisplayed\":10},\"mode\":\"lines+markers\",\"name\":\"Trial153\",\"type\":\"scatter\",\"x\":[0,1,2,3,4,5,6,7,8,9,10,11,12,13,14,15,16,17,18,19,20,21,22,23,24,25,26,27],\"y\":[974.0212075180973,973.7291208191484,973.3249997055814,973.1989354961134,972.8602720582957,972.673665346028,962.060231526406,951.5623631905021,943.7759202863477,933.4809390490568,933.0577961966876,925.4308442858334,925.0917904860218,923.494217621957,921.9105520456247,914.2766825196409,904.2989269029241,904.2697907126052,904.0304362310479,902.4333615488392,902.3299171913363,902.045680051637,899.9445611439924,890.1140103873722,890.0947429522643,880.3722578800955,873.1959033009514,866.0905599888125]},{\"marker\":{\"maxdisplayed\":10},\"mode\":\"lines+markers\",\"name\":\"Trial154\",\"type\":\"scatter\",\"x\":[0,1,2,3,4,5,6,7,8,9],\"y\":[767.0710222445737,597.5185016425069,465.449099544839,362.5671740848245,282.42562710086304,220.0128603340197,171.393588130123,133.52568000404855,104.02217566425131,81.04678380984043]},{\"marker\":{\"maxdisplayed\":10},\"mode\":\"lines+markers\",\"name\":\"Trial155\",\"type\":\"scatter\",\"x\":[0,1,2,3,4,5,6,7,8,9],\"y\":[919.225819043617,857.719831145306,800.3282384760213,746.7855451059967,696.8141408164579,650.1931791697441,606.698378499016,566.1027599001475,528.2279990375742,492.879533806642]},{\"marker\":{\"maxdisplayed\":10},\"mode\":\"lines+markers\",\"name\":\"Trial156\",\"type\":\"scatter\",\"x\":[0,1,2,3,4,5,6,7,8,9,10,11,12,13,14,15,16,17,18,19,20,21,22,23,24,25,26,27],\"y\":[276.6853158799777,77.81591205833234,20.328252826808985,17.49427394793476,13.947434843865357,14.277540931234329,16.337578174823623,15.464487491778442,16.298869087962945,16.599208310165547,16.847654008716955,16.381989693503048,17.067771533047257,17.207981810759723,17.092832591811188,17.506226210041007,17.14756999247733,16.522930563244863,16.351447937893862,16.72630109787765,16.571341151256117,16.63562899439103,16.562668873981448,16.878205579555914,16.94620186532969,16.302841401643896,16.540266435848235,16.563781070872494]},{\"marker\":{\"maxdisplayed\":10},\"mode\":\"lines+markers\",\"name\":\"Trial157\",\"type\":\"scatter\",\"x\":[0,1],\"y\":[674.4124025267757,461.8950463389463]},{\"marker\":{\"maxdisplayed\":10},\"mode\":\"lines+markers\",\"name\":\"Trial158\",\"type\":\"scatter\",\"x\":[0,1,2,3],\"y\":[45.46675901225145,23.422276556050612,29.626652330704808,32.51828732682227]},{\"marker\":{\"maxdisplayed\":10},\"mode\":\"lines+markers\",\"name\":\"Trial159\",\"type\":\"scatter\",\"x\":[0,1],\"y\":[980.5978289492062,976.0693849468166]},{\"marker\":{\"maxdisplayed\":10},\"mode\":\"lines+markers\",\"name\":\"Trial160\",\"type\":\"scatter\",\"x\":[0,1],\"y\":[773.0514189406146,767.8106795833686]},{\"marker\":{\"maxdisplayed\":10},\"mode\":\"lines+markers\",\"name\":\"Trial161\",\"type\":\"scatter\",\"x\":[0,1,2,3,4,5,6,7,8,9,10,11,12,13,14,15,16,17,18,19,20,21,22,23,24,25,26,27,28,29,30,31,32,33,34,35,36,37,38,39,40,41,42,43,44,45,46,47,48,49,50,51,52,53,54,55,56,57,58,59,60,61,62,63,64,65,66,67,68,69,70,71,72,73,74,75,76,77,78,79,80,81,82,83,84,85,86,87,88,89,90,91,92,93,94,95,96,97,98,99],\"y\":[321.58814251662665,104.93141434940782,33.7853842570072,13.37454924843909,6.64526584319862,8.056341906824674,9.208580488647906,10.084818348333336,11.38936321649459,11.866633794386164,11.865826971826545,11.911631504691837,9.681551172485804,10.000732857448805,9.994183283415024,10.1023692425205,10.096377949781,10.323949027678568,10.358105039457715,10.69303220634694,10.394095078941298,10.5951672106872,10.642925641111411,10.97963913231256,11.29224514535504,11.389539342079214,11.537052442765434,11.650609582502115,11.488782757289805,11.530615432324373,11.412220469285522,11.488375015320061,11.671066090557204,11.719160540117533,11.85490902509619,11.879244021359701,11.76616730697887,11.779116452413643,11.874918544969864,11.918524135672909,11.886013859749157,11.832225571136211,11.950738503399428,12.039346036100909,11.944095589435461,12.065236977485679,11.871166297615307,11.972240123712432,12.036340201923402,12.063959423580519,12.076421528617098,12.092894107468371,12.161913305210103,12.157569299924026,11.842828279762884,11.825654029456853,11.871913662607051,11.885896153398587,11.904319524869436,11.952640312044423,11.924968989864496,11.937146878220839,11.959803684043353,11.916557859308812,11.883268634463478,11.872105905495657,11.876380868380343,11.881314525543024,11.766006442612236,11.781098865711764,11.801280540715409,11.923148053051886,11.933267801205346,11.909433209703556,11.89424059125182,11.976403510528483,11.978210165580958,11.973646065252844,11.893404392053538,11.909079928478256,11.958843972968397,11.958350244290505,11.878679307034902,11.842329052663024,11.829331423249025,11.833840012310908,11.848694236136504,11.875300012079647,11.898940858233981,11.919801890303432,11.890307655225223,11.889336934144877,11.731996866485606,11.566814671646213,11.544149933847264,11.561922976874989,11.543312822296723,11.524747585503444,11.522048012381706,11.535134447369384]},{\"marker\":{\"maxdisplayed\":10},\"mode\":\"lines+markers\",\"name\":\"Trial162\",\"type\":\"scatter\",\"x\":[0,1,2,3,4,5,6,7,8,9,10,11,12,13,14,15,16,17,18,19,20,21,22,23,24,25,26,27,28,29,30,31,32,33,34,35,36,37,38,39,40,41,42,43,44,45,46,47,48,49,50,51,52,53,54,55,56,57,58,59,60,61,62,63,64,65,66,67,68,69,70,71,72,73,74,75,76,77,78,79,80,81],\"y\":[671.4962523002325,454.04014688128916,307.1250246929528,208.07823110254458,140.89443012981832,96.17317425677753,65.54743178810726,44.613659793765486,30.719424763976182,22.122844830315277,21.160349847436308,16.553844314612515,13.13511074944543,12.551938396525143,12.1016390257898,12.451864594491337,13.10762514775289,13.887277843169063,13.864582822935073,15.056578743423835,14.181391412525727,14.58194053591649,14.406678898456684,14.569058972661905,15.22801563260358,15.308626698638745,16.371709760800087,16.41771931839546,16.726322730607066,16.76668564523088,16.56820476427801,16.49966631738834,16.59967338128831,16.580153568197275,16.81946728237758,16.705092989929785,16.750911217768966,16.707167848666117,16.369272957788066,16.40283041483501,16.33027679475238,16.354068880786656,16.259632064010283,16.18489440231614,16.263587723921972,16.462320993773012,16.459754801525524,16.572523376621653,16.5066794468479,16.527678900476637,16.474422643122843,16.495081790950884,16.496583474469933,16.529889712962458,16.560747238624955,16.611147529899366,17.05129021991361,17.068123554599687,17.059595570585582,16.464105754591507,16.412046516806566,16.32328254320129,16.36646755464495,16.263577579906748,16.25987603919147,16.23243024748306,16.31108154917275,16.286599996210807,16.28373324625392,16.310522146326285,16.142686097051378,15.927123694511558,15.717004701604884,15.74619646735834,15.845780088505123,15.205918165776254,15.329549103031496,15.312216065811517,15.256240761327103,15.24350886440303,15.256332163900854,15.269140340815175]},{\"marker\":{\"maxdisplayed\":10},\"mode\":\"lines+markers\",\"name\":\"Trial163\",\"type\":\"scatter\",\"x\":[0,1,2,3,4,5,6,7,8,9,10,11,12,13,14,15,16,17,18,19,20,21,22,23,24,25,26,27,28,29,30,31,32,33,34,35,36,37,38,39,40,41,42,43,44,45,46,47,48,49,50,51,52,53,54,55,56,57,58,59,60,61,62,63,64,65,66,67,68,69,70,71,72,73,74,75,76,77,78,79,80,81,82,83,84,85,86,87,88,89,90,91,92,93,94,95,96,97,98,99],\"y\":[325.79856658539813,107.69759453218205,36.89021380032896,12.603932781238607,4.744460791158883,4.475800275258232,5.095054675441865,6.440598062594655,7.376758739115798,7.920816922449487,8.163843376925042,8.931162745083318,9.141916849287867,9.33275752678736,9.671878086286682,9.699169679354137,10.025803416465198,10.438760409359459,10.242489964091982,10.590513868847243,10.261366662086857,10.620200552731998,10.649168164056746,10.674641669684918,10.624019246856133,10.950018334814411,10.685774900261348,10.700332402449128,10.992603275631604,11.238831189408879,11.161779235353029,11.08269389540886,11.070115764290959,11.245337498594699,11.290801656308663,11.372551396012279,11.478314607811257,11.3689080159692,11.350535354141615,10.644569831247521,10.494500108897773,10.669843819443773,10.650735526195124,10.682806121169326,10.715085173146635,10.817160057418562,10.766388713581563,10.798427321938284,10.79515133014517,10.861675894433608,10.861731525786672,10.920265584015093,10.918429099049387,11.025248761243096,11.015471839300071,11.037811886882917,10.956312657667564,10.989495015951873,10.971865924696713,10.93620343090875,10.921696345349359,10.907330854060959,10.953519004000036,10.988923375443385,10.970611949000542,10.950023288308417,10.972040185124449,10.988843009595374,10.989690296023545,11.031193185015542,11.033113765719296,10.991714741185174,10.99194760745319,11.013806309902579,11.091632255581466,11.100319403838409,11.087198112293368,11.142823296918001,11.121022888043923,11.131182316761391,11.115165448663468,11.18703077455329,11.269891316034293,11.22588750693973,11.198946811912288,11.190074421532817,11.177491906034435,11.20505540778081,11.225260647866982,11.203309032770937,11.180706300209406,11.219544447885985,11.129886856263164,11.169764064127047,11.186550627339729,11.199120542481065,11.21127156173462,11.223979857144277,11.205461129403323,11.192122261379106]},{\"marker\":{\"maxdisplayed\":10},\"mode\":\"lines+markers\",\"name\":\"Trial164\",\"type\":\"scatter\",\"x\":[0,1,2,3,4,5,6,7,8,9,10,11,12,13,14,15,16,17,18,19,20,21,22,23,24,25,26,27,28,29,30,31,32,33,34,35,36,37,38,39,40,41,42,43,44,45,46,47,48,49,50,51,52,53,54,55,56,57,58,59,60,61,62,63,64,65,66,67,68,69,70,71,72,73,74,75,76,77,78,79,80,81,82,83,84,85,86,87,88,89,90,91,92,93,94,95,96,97,98,99],\"y\":[178.10252200226046,32.09380901852408,5.917844233619172,4.167482442747862,4.788723325939943,6.062975847673382,7.812526594028341,8.064546641759538,7.163407889963154,8.101516740270943,8.36453533843131,8.786628713021303,9.317134643228593,9.555645806246627,8.763604602803152,9.488375063689842,9.894743060742126,10.035330976774038,9.911914059986362,10.358605968636809,10.368859081800467,10.651737966472535,10.510688525088419,10.645164069022645,10.785432112770012,10.865382812223539,10.852419925726815,11.12268396561785,10.19578310854997,10.25746376605145,10.202509398972188,10.372045768507684,10.388501408070702,10.751548115869344,10.20397492335836,10.464222438189235,10.586830815093379,10.62843411113842,10.632314612966512,10.730942287878982,10.770598904270054,10.834746228369088,10.76342684243109,10.843997909201395,10.947327395909305,10.944897591553492,10.880409316304858,11.001582530599368,11.094020485609022,11.237853107146867,11.23645580560586,11.334065449026573,11.37708072544886,11.522047169903859,11.602841098025213,11.654206992213854,11.727422405523942,11.869076693535513,11.793470844429875,11.770834327654034,11.687628851480602,11.71981420154524,11.756857619564748,11.75048340045755,11.807445144897681,11.855212319906594,11.721164076154686,11.743201769445932,11.724060351411937,11.780755001780571,11.783198941978597,11.771172637313283,11.731062241343624,11.444529900317095,11.449867634346301,11.551777206037679,11.572835481748262,11.680514602253577,11.695110446473823,11.72286789056835,11.7955872134056,11.777692766879046,11.819129132021487,11.835314266856553,11.854300907294025,11.887316908530199,11.873498647483515,11.877690622192933,11.88288799229346,11.914228747334771,11.894325551413896,11.91139970553043,11.91279984344076,11.969404420459641,11.98606166215797,12.0463423493951,12.009015712630177,12.041535923565874,12.037923409953697,12.044340095724742]},{\"marker\":{\"maxdisplayed\":10},\"mode\":\"lines+markers\",\"name\":\"Trial165\",\"type\":\"scatter\",\"x\":[0,1],\"y\":[467.0757533986143,221.47148863035542]},{\"marker\":{\"maxdisplayed\":10},\"mode\":\"lines+markers\",\"name\":\"Trial166\",\"type\":\"scatter\",\"x\":[0,1,2,3],\"y\":[262.7421332475304,52.53574744933406,18.923169474746047,21.044152877676698]},{\"marker\":{\"maxdisplayed\":10},\"mode\":\"lines+markers\",\"name\":\"Trial167\",\"type\":\"scatter\",\"x\":[0,1,2,3],\"y\":[592.8293098575424,342.4718527404227,198.31835575927613,115.4505435982493]},{\"marker\":{\"maxdisplayed\":10},\"mode\":\"lines+markers\",\"name\":\"Trial168\",\"type\":\"scatter\",\"x\":[0,1],\"y\":[618.353209066303,372.72869874456165]},{\"marker\":{\"maxdisplayed\":10},\"mode\":\"lines+markers\",\"name\":\"Trial169\",\"type\":\"scatter\",\"x\":[0,1],\"y\":[949.5626432124058,911.4976997786484]},{\"marker\":{\"maxdisplayed\":10},\"mode\":\"lines+markers\",\"name\":\"Trial170\",\"type\":\"scatter\",\"x\":[0,1,2,3,4,5,6,7,8,9,10,11,12,13,14,15,16,17,18,19,20,21,22,23,24,25,26,27,28,29,30,31,32,33,34,35,36,37,38,39,40,41,42,43,44,45,46,47,48,49,50,51,52,53,54,55,56,57,58,59,60,61,62,63,64,65,66,67,68,69,70,71,72,73,74,75,76,77,78,79,80,81],\"y\":[978.0517724014304,970.8718237078929,963.7442936530093,956.8180338185962,949.793261377589,947.0203963490504,940.0679421913243,933.1650509009431,926.3139150933381,919.5119835028577,912.7605401736874,906.0579898195471,899.4516322779286,892.8482359840922,886.292162968374,879.7850090873291,873.6790061655244,867.2651778551281,860.8976549052325,855.5341357154342,849.2537223032225,843.0186522415515,836.8297042678095,830.6858246830632,824.5876931676438,818.5345889123552,813.806919542686,807.8336739380444,801.9036468528903,796.0162479900998,790.1718093298068,784.371719231549,778.614312162979,772.8984819117011,767.377391872562,761.743401036501,756.1524207008248,750.6013713867998,745.091286593054,739.6216056610789,734.1921544476902,728.8033114287505,723.4524718912443,718.1407612147791,712.8696204489628,707.7674454247434,702.5714730522712,697.5342250885639,692.4125746145,687.3289876732198,682.2830551947113,677.2739259697992,672.3022037281822,667.3674229062343,662.4688668014592,657.6061956670962,653.7217922822545,648.9238633806615,644.1614138550614,639.4319880245001,634.7392079850373,630.2335676553985,628.3706245518896,623.7586458099803,619.1798608855646,614.634464076101,610.1232988190196,605.6451788899436,601.1992925147847,596.7848465139502,592.4047266095189,588.05581541375,583.7381028940781,579.4537862191114,575.200069249089,571.1214348040068,566.928899608079,562.7653931067463,558.6334660798799,554.5318777131826,550.4609321992465,546.6591737747569]},{\"marker\":{\"maxdisplayed\":10},\"mode\":\"lines+markers\",\"name\":\"Trial171\",\"type\":\"scatter\",\"x\":[0,1,2,3,4,5,6,7,8,9,10,11,12,13,14,15,16,17,18,19,20,21,22,23,24,25,26,27],\"y\":[32.718151337937584,1.2360246636570407,0.16929289225764718,3.5933512566952643,5.55809003231281,8.139634502774115,9.31787486438866,9.196786717752783,10.36610578903157,10.185109412141408,10.675661908718707,10.977147298151417,10.992204121801617,12.164051021525943,10.819061140162459,11.043848102218892,11.236766700802999,11.323018685032132,11.392091010766027,11.602729694335045,11.75660808730009,12.623450875248865,12.801727271758715,13.02708882903564,13.299039854181457,13.327427928681377,13.5845715184858,13.860115011811121]},{\"marker\":{\"maxdisplayed\":10},\"mode\":\"lines+markers\",\"name\":\"Trial172\",\"type\":\"scatter\",\"x\":[0,1,2,3],\"y\":[440.08871474877367,153.98319764916985,88.35136771367611,80.60970298238159]},{\"marker\":{\"maxdisplayed\":10},\"mode\":\"lines+markers\",\"name\":\"Trial173\",\"type\":\"scatter\",\"x\":[0,1,2,3],\"y\":[982.7804494817124,981.1608979622657,729.0098608317574,548.7032939065613]},{\"marker\":{\"maxdisplayed\":10},\"mode\":\"lines+markers\",\"name\":\"Trial174\",\"type\":\"scatter\",\"x\":[0,1,2,3,4,5,6,7,8,9],\"y\":[984.2810744022631,983.8236647533633,936.7470128728573,881.2262282118642,826.8584018463467,786.5286588136167,770.9971728502469,723.3573906127065,689.9765816432484,681.1543814511381]},{\"marker\":{\"maxdisplayed\":10},\"mode\":\"lines+markers\",\"name\":\"Trial175\",\"type\":\"scatter\",\"x\":[0,1,2,3,4,5,6,7,8,9,10,11,12,13,14,15,16,17,18,19,20,21,22,23,24,25,26,27,28,29,30,31,32,33,34,35,36,37,38,39,40,41,42,43,44,45,46,47,48,49,50,51,52,53,54,55,56,57,58,59,60,61,62,63,64,65,66,67,68,69,70,71,72,73,74,75,76,77,78,79,80,81,82,83,84,85,86,87,88,89,90,91,92,93,94,95,96,97,98,99],\"y\":[580.7949730894502,341.0383412742393,200.24393494837875,117.60537780380646,69.27981590116657,40.76616720346904,24.126897056206733,14.041192876348646,7.496467611266509,7.373652488770863,7.448363415735398,7.496237091612638,7.63728178890861,7.827438364476862,7.805341797341908,7.891979341079929,6.9990116417157235,7.016700584354235,7.039538469999783,6.717382455563714,6.975893269578376,7.070471772908409,7.1096965670324,7.55096050295357,7.542013421892439,7.32355962445524,7.351310038106903,7.487100187734268,7.285192189022299,7.315836268726312,7.412874403446084,7.60631525764098,7.5132243523664455,7.445318657871627,7.5624614304300835,7.543208329331903,7.656622678525204,7.50389318773123,7.554660520211463,7.512549294576287,7.5566576577561255,7.703165140609917,7.733649559356386,7.649803315686032,7.732468805007949,7.801067648126397,7.740738831103102,7.67248674377237,7.707047142760417,7.754992452019825,7.7716407280193085,7.806963815916575,7.884940691612208,7.925494913112917,7.961703586888299,7.914199501854035,7.981935571913018,8.087488824382783,8.171648523039758,8.05487064181516,8.073250768066785,8.072179829136232,8.048009494434934,8.085049124108032,8.106828125025935,8.104250556699473,8.066453905957516,8.046796038117714,8.117879957137905,8.153183542350678,8.133509589178141,8.157806105999773,8.167260764349933,8.210886789811381,8.013617783745142,7.971508665496171,7.971595139244166,8.020218836231352,8.038797941730326,8.065145905804208,8.074237461998374,8.082476522672577,8.118183496594314,8.13814119978747,8.091703072452011,8.121617162631356,8.11437286914953,8.112000140676393,8.093365914243627,8.123717845157008,8.104974875120051,8.023736650179025,8.054191401933632,8.10044112221835,8.093347844325498,8.105654324961282,8.134286021966226,8.069563184040875,8.117651800540155,8.117031796872435]},{\"marker\":{\"maxdisplayed\":10},\"mode\":\"lines+markers\",\"name\":\"Trial176\",\"type\":\"scatter\",\"x\":[0,1,2,3,4,5,6,7,8,9],\"y\":[312.9819655807755,98.29403433437368,30.969081377012014,24.46137236034262,11.404861264691352,9.947306401695867,10.930843271048339,10.177489406448197,11.009439011503419,11.889185430231548]},{\"marker\":{\"maxdisplayed\":10},\"mode\":\"lines+markers\",\"name\":\"Trial177\",\"type\":\"scatter\",\"x\":[0,1,2,3],\"y\":[176.59690314462736,33.85957002912983,20.759433020629103,22.830113218152825]},{\"marker\":{\"maxdisplayed\":10},\"mode\":\"lines+markers\",\"name\":\"Trial178\",\"type\":\"scatter\",\"x\":[0,1,2,3],\"y\":[419.80578611890917,179.00540101773436,76.37386229037979,32.91709684800176]},{\"marker\":{\"maxdisplayed\":10},\"mode\":\"lines+markers\",\"name\":\"Trial179\",\"type\":\"scatter\",\"x\":[0,1,2,3,4,5,6,7,8,9],\"y\":[830.9729573944713,690.7474531834544,574.1301624086478,479.3755610317232,397.8156199963218,367.23719054718407,305.21505373104196,253.54280995355893,210.9274230159737,174.785869570064]}],                        {\"showlegend\":false,\"template\":{\"data\":{\"bar\":[{\"error_x\":{\"color\":\"#2a3f5f\"},\"error_y\":{\"color\":\"#2a3f5f\"},\"marker\":{\"line\":{\"color\":\"#E5ECF6\",\"width\":0.5},\"pattern\":{\"fillmode\":\"overlay\",\"size\":10,\"solidity\":0.2}},\"type\":\"bar\"}],\"barpolar\":[{\"marker\":{\"line\":{\"color\":\"#E5ECF6\",\"width\":0.5},\"pattern\":{\"fillmode\":\"overlay\",\"size\":10,\"solidity\":0.2}},\"type\":\"barpolar\"}],\"carpet\":[{\"aaxis\":{\"endlinecolor\":\"#2a3f5f\",\"gridcolor\":\"white\",\"linecolor\":\"white\",\"minorgridcolor\":\"white\",\"startlinecolor\":\"#2a3f5f\"},\"baxis\":{\"endlinecolor\":\"#2a3f5f\",\"gridcolor\":\"white\",\"linecolor\":\"white\",\"minorgridcolor\":\"white\",\"startlinecolor\":\"#2a3f5f\"},\"type\":\"carpet\"}],\"choropleth\":[{\"colorbar\":{\"outlinewidth\":0,\"ticks\":\"\"},\"type\":\"choropleth\"}],\"contour\":[{\"colorbar\":{\"outlinewidth\":0,\"ticks\":\"\"},\"colorscale\":[[0.0,\"#0d0887\"],[0.1111111111111111,\"#46039f\"],[0.2222222222222222,\"#7201a8\"],[0.3333333333333333,\"#9c179e\"],[0.4444444444444444,\"#bd3786\"],[0.5555555555555556,\"#d8576b\"],[0.6666666666666666,\"#ed7953\"],[0.7777777777777778,\"#fb9f3a\"],[0.8888888888888888,\"#fdca26\"],[1.0,\"#f0f921\"]],\"type\":\"contour\"}],\"contourcarpet\":[{\"colorbar\":{\"outlinewidth\":0,\"ticks\":\"\"},\"type\":\"contourcarpet\"}],\"heatmap\":[{\"colorbar\":{\"outlinewidth\":0,\"ticks\":\"\"},\"colorscale\":[[0.0,\"#0d0887\"],[0.1111111111111111,\"#46039f\"],[0.2222222222222222,\"#7201a8\"],[0.3333333333333333,\"#9c179e\"],[0.4444444444444444,\"#bd3786\"],[0.5555555555555556,\"#d8576b\"],[0.6666666666666666,\"#ed7953\"],[0.7777777777777778,\"#fb9f3a\"],[0.8888888888888888,\"#fdca26\"],[1.0,\"#f0f921\"]],\"type\":\"heatmap\"}],\"heatmapgl\":[{\"colorbar\":{\"outlinewidth\":0,\"ticks\":\"\"},\"colorscale\":[[0.0,\"#0d0887\"],[0.1111111111111111,\"#46039f\"],[0.2222222222222222,\"#7201a8\"],[0.3333333333333333,\"#9c179e\"],[0.4444444444444444,\"#bd3786\"],[0.5555555555555556,\"#d8576b\"],[0.6666666666666666,\"#ed7953\"],[0.7777777777777778,\"#fb9f3a\"],[0.8888888888888888,\"#fdca26\"],[1.0,\"#f0f921\"]],\"type\":\"heatmapgl\"}],\"histogram\":[{\"marker\":{\"pattern\":{\"fillmode\":\"overlay\",\"size\":10,\"solidity\":0.2}},\"type\":\"histogram\"}],\"histogram2d\":[{\"colorbar\":{\"outlinewidth\":0,\"ticks\":\"\"},\"colorscale\":[[0.0,\"#0d0887\"],[0.1111111111111111,\"#46039f\"],[0.2222222222222222,\"#7201a8\"],[0.3333333333333333,\"#9c179e\"],[0.4444444444444444,\"#bd3786\"],[0.5555555555555556,\"#d8576b\"],[0.6666666666666666,\"#ed7953\"],[0.7777777777777778,\"#fb9f3a\"],[0.8888888888888888,\"#fdca26\"],[1.0,\"#f0f921\"]],\"type\":\"histogram2d\"}],\"histogram2dcontour\":[{\"colorbar\":{\"outlinewidth\":0,\"ticks\":\"\"},\"colorscale\":[[0.0,\"#0d0887\"],[0.1111111111111111,\"#46039f\"],[0.2222222222222222,\"#7201a8\"],[0.3333333333333333,\"#9c179e\"],[0.4444444444444444,\"#bd3786\"],[0.5555555555555556,\"#d8576b\"],[0.6666666666666666,\"#ed7953\"],[0.7777777777777778,\"#fb9f3a\"],[0.8888888888888888,\"#fdca26\"],[1.0,\"#f0f921\"]],\"type\":\"histogram2dcontour\"}],\"mesh3d\":[{\"colorbar\":{\"outlinewidth\":0,\"ticks\":\"\"},\"type\":\"mesh3d\"}],\"parcoords\":[{\"line\":{\"colorbar\":{\"outlinewidth\":0,\"ticks\":\"\"}},\"type\":\"parcoords\"}],\"pie\":[{\"automargin\":true,\"type\":\"pie\"}],\"scatter\":[{\"marker\":{\"colorbar\":{\"outlinewidth\":0,\"ticks\":\"\"}},\"type\":\"scatter\"}],\"scatter3d\":[{\"line\":{\"colorbar\":{\"outlinewidth\":0,\"ticks\":\"\"}},\"marker\":{\"colorbar\":{\"outlinewidth\":0,\"ticks\":\"\"}},\"type\":\"scatter3d\"}],\"scattercarpet\":[{\"marker\":{\"colorbar\":{\"outlinewidth\":0,\"ticks\":\"\"}},\"type\":\"scattercarpet\"}],\"scattergeo\":[{\"marker\":{\"colorbar\":{\"outlinewidth\":0,\"ticks\":\"\"}},\"type\":\"scattergeo\"}],\"scattergl\":[{\"marker\":{\"colorbar\":{\"outlinewidth\":0,\"ticks\":\"\"}},\"type\":\"scattergl\"}],\"scattermapbox\":[{\"marker\":{\"colorbar\":{\"outlinewidth\":0,\"ticks\":\"\"}},\"type\":\"scattermapbox\"}],\"scatterpolar\":[{\"marker\":{\"colorbar\":{\"outlinewidth\":0,\"ticks\":\"\"}},\"type\":\"scatterpolar\"}],\"scatterpolargl\":[{\"marker\":{\"colorbar\":{\"outlinewidth\":0,\"ticks\":\"\"}},\"type\":\"scatterpolargl\"}],\"scatterternary\":[{\"marker\":{\"colorbar\":{\"outlinewidth\":0,\"ticks\":\"\"}},\"type\":\"scatterternary\"}],\"surface\":[{\"colorbar\":{\"outlinewidth\":0,\"ticks\":\"\"},\"colorscale\":[[0.0,\"#0d0887\"],[0.1111111111111111,\"#46039f\"],[0.2222222222222222,\"#7201a8\"],[0.3333333333333333,\"#9c179e\"],[0.4444444444444444,\"#bd3786\"],[0.5555555555555556,\"#d8576b\"],[0.6666666666666666,\"#ed7953\"],[0.7777777777777778,\"#fb9f3a\"],[0.8888888888888888,\"#fdca26\"],[1.0,\"#f0f921\"]],\"type\":\"surface\"}],\"table\":[{\"cells\":{\"fill\":{\"color\":\"#EBF0F8\"},\"line\":{\"color\":\"white\"}},\"header\":{\"fill\":{\"color\":\"#C8D4E3\"},\"line\":{\"color\":\"white\"}},\"type\":\"table\"}]},\"layout\":{\"annotationdefaults\":{\"arrowcolor\":\"#2a3f5f\",\"arrowhead\":0,\"arrowwidth\":1},\"autotypenumbers\":\"strict\",\"coloraxis\":{\"colorbar\":{\"outlinewidth\":0,\"ticks\":\"\"}},\"colorscale\":{\"diverging\":[[0,\"#8e0152\"],[0.1,\"#c51b7d\"],[0.2,\"#de77ae\"],[0.3,\"#f1b6da\"],[0.4,\"#fde0ef\"],[0.5,\"#f7f7f7\"],[0.6,\"#e6f5d0\"],[0.7,\"#b8e186\"],[0.8,\"#7fbc41\"],[0.9,\"#4d9221\"],[1,\"#276419\"]],\"sequential\":[[0.0,\"#0d0887\"],[0.1111111111111111,\"#46039f\"],[0.2222222222222222,\"#7201a8\"],[0.3333333333333333,\"#9c179e\"],[0.4444444444444444,\"#bd3786\"],[0.5555555555555556,\"#d8576b\"],[0.6666666666666666,\"#ed7953\"],[0.7777777777777778,\"#fb9f3a\"],[0.8888888888888888,\"#fdca26\"],[1.0,\"#f0f921\"]],\"sequentialminus\":[[0.0,\"#0d0887\"],[0.1111111111111111,\"#46039f\"],[0.2222222222222222,\"#7201a8\"],[0.3333333333333333,\"#9c179e\"],[0.4444444444444444,\"#bd3786\"],[0.5555555555555556,\"#d8576b\"],[0.6666666666666666,\"#ed7953\"],[0.7777777777777778,\"#fb9f3a\"],[0.8888888888888888,\"#fdca26\"],[1.0,\"#f0f921\"]]},\"colorway\":[\"#636efa\",\"#EF553B\",\"#00cc96\",\"#ab63fa\",\"#FFA15A\",\"#19d3f3\",\"#FF6692\",\"#B6E880\",\"#FF97FF\",\"#FECB52\"],\"font\":{\"color\":\"#2a3f5f\"},\"geo\":{\"bgcolor\":\"white\",\"lakecolor\":\"white\",\"landcolor\":\"#E5ECF6\",\"showlakes\":true,\"showland\":true,\"subunitcolor\":\"white\"},\"hoverlabel\":{\"align\":\"left\"},\"hovermode\":\"closest\",\"mapbox\":{\"style\":\"light\"},\"paper_bgcolor\":\"white\",\"plot_bgcolor\":\"#E5ECF6\",\"polar\":{\"angularaxis\":{\"gridcolor\":\"white\",\"linecolor\":\"white\",\"ticks\":\"\"},\"bgcolor\":\"#E5ECF6\",\"radialaxis\":{\"gridcolor\":\"white\",\"linecolor\":\"white\",\"ticks\":\"\"}},\"scene\":{\"xaxis\":{\"backgroundcolor\":\"#E5ECF6\",\"gridcolor\":\"white\",\"gridwidth\":2,\"linecolor\":\"white\",\"showbackground\":true,\"ticks\":\"\",\"zerolinecolor\":\"white\"},\"yaxis\":{\"backgroundcolor\":\"#E5ECF6\",\"gridcolor\":\"white\",\"gridwidth\":2,\"linecolor\":\"white\",\"showbackground\":true,\"ticks\":\"\",\"zerolinecolor\":\"white\"},\"zaxis\":{\"backgroundcolor\":\"#E5ECF6\",\"gridcolor\":\"white\",\"gridwidth\":2,\"linecolor\":\"white\",\"showbackground\":true,\"ticks\":\"\",\"zerolinecolor\":\"white\"}},\"shapedefaults\":{\"line\":{\"color\":\"#2a3f5f\"}},\"ternary\":{\"aaxis\":{\"gridcolor\":\"white\",\"linecolor\":\"white\",\"ticks\":\"\"},\"baxis\":{\"gridcolor\":\"white\",\"linecolor\":\"white\",\"ticks\":\"\"},\"bgcolor\":\"#E5ECF6\",\"caxis\":{\"gridcolor\":\"white\",\"linecolor\":\"white\",\"ticks\":\"\"}},\"title\":{\"x\":0.05},\"xaxis\":{\"automargin\":true,\"gridcolor\":\"white\",\"linecolor\":\"white\",\"ticks\":\"\",\"title\":{\"standoff\":15},\"zerolinecolor\":\"white\",\"zerolinewidth\":2},\"yaxis\":{\"automargin\":true,\"gridcolor\":\"white\",\"linecolor\":\"white\",\"ticks\":\"\",\"title\":{\"standoff\":15},\"zerolinecolor\":\"white\",\"zerolinewidth\":2}}},\"title\":{\"text\":\"Intermediate Values Plot\"},\"xaxis\":{\"title\":{\"text\":\"Step\"}},\"yaxis\":{\"title\":{\"text\":\"Intermediate Value\"}}},                        {\"responsive\": true}                    ).then(function(){\n",
       "                            \n",
       "var gd = document.getElementById('8034bee4-708b-46e0-aa28-1156b004e046');\n",
       "var x = new MutationObserver(function (mutations, observer) {{\n",
       "        var display = window.getComputedStyle(gd).display;\n",
       "        if (!display || display === 'none') {{\n",
       "            console.log([gd, 'removed!']);\n",
       "            Plotly.purge(gd);\n",
       "            observer.disconnect();\n",
       "        }}\n",
       "}});\n",
       "\n",
       "// Listen for the removal of the full notebook cells\n",
       "var notebookContainer = gd.closest('#notebook-container');\n",
       "if (notebookContainer) {{\n",
       "    x.observe(notebookContainer, {childList: true});\n",
       "}}\n",
       "\n",
       "// Listen for the clearing of the current output cell\n",
       "var outputEl = gd.closest('.output');\n",
       "if (outputEl) {{\n",
       "    x.observe(outputEl, {childList: true});\n",
       "}}\n",
       "\n",
       "                        })                };                });            </script>        </div>"
      ]
     },
     "metadata": {},
     "output_type": "display_data"
    }
   ],
   "source": [
    "optuna.visualization.plot_intermediate_values(study)"
   ]
  },
  {
   "cell_type": "code",
   "execution_count": 11,
   "metadata": {},
   "outputs": [
    {
     "data": {
      "application/vnd.plotly.v1+json": {
       "config": {
        "plotlyServerURL": "https://plot.ly"
       },
       "data": [
        {
         "mode": "markers",
         "name": "Objective Value",
         "type": "scatter",
         "x": [
          0,
          1,
          3,
          4,
          16,
          24,
          47,
          63,
          106,
          111,
          114,
          138,
          144,
          148,
          161,
          163,
          164,
          175
         ],
         "y": [
          171178323319070080,
          194312072790830240,
          62099159799812200,
          57174884992546130,
          572344316319023040,
          60671992001629240,
          96211281885734180,
          847349002922027800,
          172453424322979520,
          71495478733251640,
          49684025208795430,
          59174396662313290,
          54675729662873190,
          30080394683864452,
          51610138039466130,
          50064243754584440,
          53895787371721896,
          36261513475986450
         ]
        },
        {
         "name": "Best Value",
         "type": "scatter",
         "x": [
          0,
          1,
          3,
          4,
          16,
          24,
          47,
          63,
          106,
          111,
          114,
          138,
          144,
          148,
          161,
          163,
          164,
          175
         ],
         "y": [
          171178323319070080,
          171178323319070080,
          62099159799812200,
          57174884992546130,
          57174884992546130,
          57174884992546130,
          57174884992546130,
          57174884992546130,
          57174884992546130,
          57174884992546130,
          49684025208795430,
          49684025208795430,
          49684025208795430,
          30080394683864452,
          30080394683864452,
          30080394683864452,
          30080394683864452,
          30080394683864452
         ]
        }
       ],
       "layout": {
        "autosize": true,
        "template": {
         "data": {
          "bar": [
           {
            "error_x": {
             "color": "#2a3f5f"
            },
            "error_y": {
             "color": "#2a3f5f"
            },
            "marker": {
             "line": {
              "color": "#E5ECF6",
              "width": 0.5
             },
             "pattern": {
              "fillmode": "overlay",
              "size": 10,
              "solidity": 0.2
             }
            },
            "type": "bar"
           }
          ],
          "barpolar": [
           {
            "marker": {
             "line": {
              "color": "#E5ECF6",
              "width": 0.5
             },
             "pattern": {
              "fillmode": "overlay",
              "size": 10,
              "solidity": 0.2
             }
            },
            "type": "barpolar"
           }
          ],
          "carpet": [
           {
            "aaxis": {
             "endlinecolor": "#2a3f5f",
             "gridcolor": "white",
             "linecolor": "white",
             "minorgridcolor": "white",
             "startlinecolor": "#2a3f5f"
            },
            "baxis": {
             "endlinecolor": "#2a3f5f",
             "gridcolor": "white",
             "linecolor": "white",
             "minorgridcolor": "white",
             "startlinecolor": "#2a3f5f"
            },
            "type": "carpet"
           }
          ],
          "choropleth": [
           {
            "colorbar": {
             "outlinewidth": 0,
             "ticks": ""
            },
            "type": "choropleth"
           }
          ],
          "contour": [
           {
            "colorbar": {
             "outlinewidth": 0,
             "ticks": ""
            },
            "colorscale": [
             [
              0,
              "#0d0887"
             ],
             [
              0.1111111111111111,
              "#46039f"
             ],
             [
              0.2222222222222222,
              "#7201a8"
             ],
             [
              0.3333333333333333,
              "#9c179e"
             ],
             [
              0.4444444444444444,
              "#bd3786"
             ],
             [
              0.5555555555555556,
              "#d8576b"
             ],
             [
              0.6666666666666666,
              "#ed7953"
             ],
             [
              0.7777777777777778,
              "#fb9f3a"
             ],
             [
              0.8888888888888888,
              "#fdca26"
             ],
             [
              1,
              "#f0f921"
             ]
            ],
            "type": "contour"
           }
          ],
          "contourcarpet": [
           {
            "colorbar": {
             "outlinewidth": 0,
             "ticks": ""
            },
            "type": "contourcarpet"
           }
          ],
          "heatmap": [
           {
            "colorbar": {
             "outlinewidth": 0,
             "ticks": ""
            },
            "colorscale": [
             [
              0,
              "#0d0887"
             ],
             [
              0.1111111111111111,
              "#46039f"
             ],
             [
              0.2222222222222222,
              "#7201a8"
             ],
             [
              0.3333333333333333,
              "#9c179e"
             ],
             [
              0.4444444444444444,
              "#bd3786"
             ],
             [
              0.5555555555555556,
              "#d8576b"
             ],
             [
              0.6666666666666666,
              "#ed7953"
             ],
             [
              0.7777777777777778,
              "#fb9f3a"
             ],
             [
              0.8888888888888888,
              "#fdca26"
             ],
             [
              1,
              "#f0f921"
             ]
            ],
            "type": "heatmap"
           }
          ],
          "heatmapgl": [
           {
            "colorbar": {
             "outlinewidth": 0,
             "ticks": ""
            },
            "colorscale": [
             [
              0,
              "#0d0887"
             ],
             [
              0.1111111111111111,
              "#46039f"
             ],
             [
              0.2222222222222222,
              "#7201a8"
             ],
             [
              0.3333333333333333,
              "#9c179e"
             ],
             [
              0.4444444444444444,
              "#bd3786"
             ],
             [
              0.5555555555555556,
              "#d8576b"
             ],
             [
              0.6666666666666666,
              "#ed7953"
             ],
             [
              0.7777777777777778,
              "#fb9f3a"
             ],
             [
              0.8888888888888888,
              "#fdca26"
             ],
             [
              1,
              "#f0f921"
             ]
            ],
            "type": "heatmapgl"
           }
          ],
          "histogram": [
           {
            "marker": {
             "pattern": {
              "fillmode": "overlay",
              "size": 10,
              "solidity": 0.2
             }
            },
            "type": "histogram"
           }
          ],
          "histogram2d": [
           {
            "colorbar": {
             "outlinewidth": 0,
             "ticks": ""
            },
            "colorscale": [
             [
              0,
              "#0d0887"
             ],
             [
              0.1111111111111111,
              "#46039f"
             ],
             [
              0.2222222222222222,
              "#7201a8"
             ],
             [
              0.3333333333333333,
              "#9c179e"
             ],
             [
              0.4444444444444444,
              "#bd3786"
             ],
             [
              0.5555555555555556,
              "#d8576b"
             ],
             [
              0.6666666666666666,
              "#ed7953"
             ],
             [
              0.7777777777777778,
              "#fb9f3a"
             ],
             [
              0.8888888888888888,
              "#fdca26"
             ],
             [
              1,
              "#f0f921"
             ]
            ],
            "type": "histogram2d"
           }
          ],
          "histogram2dcontour": [
           {
            "colorbar": {
             "outlinewidth": 0,
             "ticks": ""
            },
            "colorscale": [
             [
              0,
              "#0d0887"
             ],
             [
              0.1111111111111111,
              "#46039f"
             ],
             [
              0.2222222222222222,
              "#7201a8"
             ],
             [
              0.3333333333333333,
              "#9c179e"
             ],
             [
              0.4444444444444444,
              "#bd3786"
             ],
             [
              0.5555555555555556,
              "#d8576b"
             ],
             [
              0.6666666666666666,
              "#ed7953"
             ],
             [
              0.7777777777777778,
              "#fb9f3a"
             ],
             [
              0.8888888888888888,
              "#fdca26"
             ],
             [
              1,
              "#f0f921"
             ]
            ],
            "type": "histogram2dcontour"
           }
          ],
          "mesh3d": [
           {
            "colorbar": {
             "outlinewidth": 0,
             "ticks": ""
            },
            "type": "mesh3d"
           }
          ],
          "parcoords": [
           {
            "line": {
             "colorbar": {
              "outlinewidth": 0,
              "ticks": ""
             }
            },
            "type": "parcoords"
           }
          ],
          "pie": [
           {
            "automargin": true,
            "type": "pie"
           }
          ],
          "scatter": [
           {
            "marker": {
             "colorbar": {
              "outlinewidth": 0,
              "ticks": ""
             }
            },
            "type": "scatter"
           }
          ],
          "scatter3d": [
           {
            "line": {
             "colorbar": {
              "outlinewidth": 0,
              "ticks": ""
             }
            },
            "marker": {
             "colorbar": {
              "outlinewidth": 0,
              "ticks": ""
             }
            },
            "type": "scatter3d"
           }
          ],
          "scattercarpet": [
           {
            "marker": {
             "colorbar": {
              "outlinewidth": 0,
              "ticks": ""
             }
            },
            "type": "scattercarpet"
           }
          ],
          "scattergeo": [
           {
            "marker": {
             "colorbar": {
              "outlinewidth": 0,
              "ticks": ""
             }
            },
            "type": "scattergeo"
           }
          ],
          "scattergl": [
           {
            "marker": {
             "colorbar": {
              "outlinewidth": 0,
              "ticks": ""
             }
            },
            "type": "scattergl"
           }
          ],
          "scattermapbox": [
           {
            "marker": {
             "colorbar": {
              "outlinewidth": 0,
              "ticks": ""
             }
            },
            "type": "scattermapbox"
           }
          ],
          "scatterpolar": [
           {
            "marker": {
             "colorbar": {
              "outlinewidth": 0,
              "ticks": ""
             }
            },
            "type": "scatterpolar"
           }
          ],
          "scatterpolargl": [
           {
            "marker": {
             "colorbar": {
              "outlinewidth": 0,
              "ticks": ""
             }
            },
            "type": "scatterpolargl"
           }
          ],
          "scatterternary": [
           {
            "marker": {
             "colorbar": {
              "outlinewidth": 0,
              "ticks": ""
             }
            },
            "type": "scatterternary"
           }
          ],
          "surface": [
           {
            "colorbar": {
             "outlinewidth": 0,
             "ticks": ""
            },
            "colorscale": [
             [
              0,
              "#0d0887"
             ],
             [
              0.1111111111111111,
              "#46039f"
             ],
             [
              0.2222222222222222,
              "#7201a8"
             ],
             [
              0.3333333333333333,
              "#9c179e"
             ],
             [
              0.4444444444444444,
              "#bd3786"
             ],
             [
              0.5555555555555556,
              "#d8576b"
             ],
             [
              0.6666666666666666,
              "#ed7953"
             ],
             [
              0.7777777777777778,
              "#fb9f3a"
             ],
             [
              0.8888888888888888,
              "#fdca26"
             ],
             [
              1,
              "#f0f921"
             ]
            ],
            "type": "surface"
           }
          ],
          "table": [
           {
            "cells": {
             "fill": {
              "color": "#EBF0F8"
             },
             "line": {
              "color": "white"
             }
            },
            "header": {
             "fill": {
              "color": "#C8D4E3"
             },
             "line": {
              "color": "white"
             }
            },
            "type": "table"
           }
          ]
         },
         "layout": {
          "annotationdefaults": {
           "arrowcolor": "#2a3f5f",
           "arrowhead": 0,
           "arrowwidth": 1
          },
          "autotypenumbers": "strict",
          "coloraxis": {
           "colorbar": {
            "outlinewidth": 0,
            "ticks": ""
           }
          },
          "colorscale": {
           "diverging": [
            [
             0,
             "#8e0152"
            ],
            [
             0.1,
             "#c51b7d"
            ],
            [
             0.2,
             "#de77ae"
            ],
            [
             0.3,
             "#f1b6da"
            ],
            [
             0.4,
             "#fde0ef"
            ],
            [
             0.5,
             "#f7f7f7"
            ],
            [
             0.6,
             "#e6f5d0"
            ],
            [
             0.7,
             "#b8e186"
            ],
            [
             0.8,
             "#7fbc41"
            ],
            [
             0.9,
             "#4d9221"
            ],
            [
             1,
             "#276419"
            ]
           ],
           "sequential": [
            [
             0,
             "#0d0887"
            ],
            [
             0.1111111111111111,
             "#46039f"
            ],
            [
             0.2222222222222222,
             "#7201a8"
            ],
            [
             0.3333333333333333,
             "#9c179e"
            ],
            [
             0.4444444444444444,
             "#bd3786"
            ],
            [
             0.5555555555555556,
             "#d8576b"
            ],
            [
             0.6666666666666666,
             "#ed7953"
            ],
            [
             0.7777777777777778,
             "#fb9f3a"
            ],
            [
             0.8888888888888888,
             "#fdca26"
            ],
            [
             1,
             "#f0f921"
            ]
           ],
           "sequentialminus": [
            [
             0,
             "#0d0887"
            ],
            [
             0.1111111111111111,
             "#46039f"
            ],
            [
             0.2222222222222222,
             "#7201a8"
            ],
            [
             0.3333333333333333,
             "#9c179e"
            ],
            [
             0.4444444444444444,
             "#bd3786"
            ],
            [
             0.5555555555555556,
             "#d8576b"
            ],
            [
             0.6666666666666666,
             "#ed7953"
            ],
            [
             0.7777777777777778,
             "#fb9f3a"
            ],
            [
             0.8888888888888888,
             "#fdca26"
            ],
            [
             1,
             "#f0f921"
            ]
           ]
          },
          "colorway": [
           "#636efa",
           "#EF553B",
           "#00cc96",
           "#ab63fa",
           "#FFA15A",
           "#19d3f3",
           "#FF6692",
           "#B6E880",
           "#FF97FF",
           "#FECB52"
          ],
          "font": {
           "color": "#2a3f5f"
          },
          "geo": {
           "bgcolor": "white",
           "lakecolor": "white",
           "landcolor": "#E5ECF6",
           "showlakes": true,
           "showland": true,
           "subunitcolor": "white"
          },
          "hoverlabel": {
           "align": "left"
          },
          "hovermode": "closest",
          "mapbox": {
           "style": "light"
          },
          "paper_bgcolor": "white",
          "plot_bgcolor": "#E5ECF6",
          "polar": {
           "angularaxis": {
            "gridcolor": "white",
            "linecolor": "white",
            "ticks": ""
           },
           "bgcolor": "#E5ECF6",
           "radialaxis": {
            "gridcolor": "white",
            "linecolor": "white",
            "ticks": ""
           }
          },
          "scene": {
           "xaxis": {
            "backgroundcolor": "#E5ECF6",
            "gridcolor": "white",
            "gridwidth": 2,
            "linecolor": "white",
            "showbackground": true,
            "ticks": "",
            "zerolinecolor": "white"
           },
           "yaxis": {
            "backgroundcolor": "#E5ECF6",
            "gridcolor": "white",
            "gridwidth": 2,
            "linecolor": "white",
            "showbackground": true,
            "ticks": "",
            "zerolinecolor": "white"
           },
           "zaxis": {
            "backgroundcolor": "#E5ECF6",
            "gridcolor": "white",
            "gridwidth": 2,
            "linecolor": "white",
            "showbackground": true,
            "ticks": "",
            "zerolinecolor": "white"
           }
          },
          "shapedefaults": {
           "line": {
            "color": "#2a3f5f"
           }
          },
          "ternary": {
           "aaxis": {
            "gridcolor": "white",
            "linecolor": "white",
            "ticks": ""
           },
           "baxis": {
            "gridcolor": "white",
            "linecolor": "white",
            "ticks": ""
           },
           "bgcolor": "#E5ECF6",
           "caxis": {
            "gridcolor": "white",
            "linecolor": "white",
            "ticks": ""
           }
          },
          "title": {
           "x": 0.05
          },
          "xaxis": {
           "automargin": true,
           "gridcolor": "white",
           "linecolor": "white",
           "ticks": "",
           "title": {
            "standoff": 15
           },
           "zerolinecolor": "white",
           "zerolinewidth": 2
          },
          "yaxis": {
           "automargin": true,
           "gridcolor": "white",
           "linecolor": "white",
           "ticks": "",
           "title": {
            "standoff": 15
           },
           "zerolinecolor": "white",
           "zerolinewidth": 2
          }
         }
        },
        "title": {
         "text": "Optimization History Plot"
        },
        "xaxis": {
         "autorange": true,
         "range": [
          -10.39364640883978,
          185.39364640883977
         ],
         "title": {
          "text": "#Trials"
         },
         "type": "linear"
        },
        "yaxis": {
         "autorange": true,
         "range": [
          -37364102112488830,
          914793499718381000
         ],
         "title": {
          "text": "Objective Value"
         },
         "type": "linear"
        }
       }
      },
      "image/png": "[encoded data removed]",
      "text/html": [
       "<div>                            <div id=\"2110a194-7b7d-46d2-92e8-c49e934072f5\" class=\"plotly-graph-div\" style=\"height:525px; width:100%;\"></div>            <script type=\"text/javascript\">                require([\"plotly\"], function(Plotly) {                    window.PLOTLYENV=window.PLOTLYENV || {};                                    if (document.getElementById(\"2110a194-7b7d-46d2-92e8-c49e934072f5\")) {                    Plotly.newPlot(                        \"2110a194-7b7d-46d2-92e8-c49e934072f5\",                        [{\"mode\":\"markers\",\"name\":\"Objective Value\",\"type\":\"scatter\",\"x\":[0,1,3,4,16,24,47,63,106,111,114,138,144,148,161,163,164,175],\"y\":[1.7117832331907008e+17,1.9431207279083024e+17,6.20991597998122e+16,5.717488499254613e+16,5.7234431631902304e+17,6.067199200162924e+16,9.621128188573418e+16,8.473490029220278e+17,1.7245342432297952e+17,7.149547873325164e+16,4.968402520879543e+16,5.917439666231329e+16,5.467572966287319e+16,3.0080394683864452e+16,5.161013803946613e+16,5.006424375458444e+16,5.3895787371721896e+16,3.626151347598645e+16]},{\"name\":\"Best Value\",\"type\":\"scatter\",\"x\":[0,1,3,4,16,24,47,63,106,111,114,138,144,148,161,163,164,175],\"y\":[1.7117832331907008e+17,1.7117832331907008e+17,6.20991597998122e+16,5.717488499254613e+16,5.717488499254613e+16,5.717488499254613e+16,5.717488499254613e+16,5.717488499254613e+16,5.717488499254613e+16,5.717488499254613e+16,4.968402520879543e+16,4.968402520879543e+16,4.968402520879543e+16,3.0080394683864452e+16,3.0080394683864452e+16,3.0080394683864452e+16,3.0080394683864452e+16,3.0080394683864452e+16]}],                        {\"template\":{\"data\":{\"bar\":[{\"error_x\":{\"color\":\"#2a3f5f\"},\"error_y\":{\"color\":\"#2a3f5f\"},\"marker\":{\"line\":{\"color\":\"#E5ECF6\",\"width\":0.5},\"pattern\":{\"fillmode\":\"overlay\",\"size\":10,\"solidity\":0.2}},\"type\":\"bar\"}],\"barpolar\":[{\"marker\":{\"line\":{\"color\":\"#E5ECF6\",\"width\":0.5},\"pattern\":{\"fillmode\":\"overlay\",\"size\":10,\"solidity\":0.2}},\"type\":\"barpolar\"}],\"carpet\":[{\"aaxis\":{\"endlinecolor\":\"#2a3f5f\",\"gridcolor\":\"white\",\"linecolor\":\"white\",\"minorgridcolor\":\"white\",\"startlinecolor\":\"#2a3f5f\"},\"baxis\":{\"endlinecolor\":\"#2a3f5f\",\"gridcolor\":\"white\",\"linecolor\":\"white\",\"minorgridcolor\":\"white\",\"startlinecolor\":\"#2a3f5f\"},\"type\":\"carpet\"}],\"choropleth\":[{\"colorbar\":{\"outlinewidth\":0,\"ticks\":\"\"},\"type\":\"choropleth\"}],\"contour\":[{\"colorbar\":{\"outlinewidth\":0,\"ticks\":\"\"},\"colorscale\":[[0.0,\"#0d0887\"],[0.1111111111111111,\"#46039f\"],[0.2222222222222222,\"#7201a8\"],[0.3333333333333333,\"#9c179e\"],[0.4444444444444444,\"#bd3786\"],[0.5555555555555556,\"#d8576b\"],[0.6666666666666666,\"#ed7953\"],[0.7777777777777778,\"#fb9f3a\"],[0.8888888888888888,\"#fdca26\"],[1.0,\"#f0f921\"]],\"type\":\"contour\"}],\"contourcarpet\":[{\"colorbar\":{\"outlinewidth\":0,\"ticks\":\"\"},\"type\":\"contourcarpet\"}],\"heatmap\":[{\"colorbar\":{\"outlinewidth\":0,\"ticks\":\"\"},\"colorscale\":[[0.0,\"#0d0887\"],[0.1111111111111111,\"#46039f\"],[0.2222222222222222,\"#7201a8\"],[0.3333333333333333,\"#9c179e\"],[0.4444444444444444,\"#bd3786\"],[0.5555555555555556,\"#d8576b\"],[0.6666666666666666,\"#ed7953\"],[0.7777777777777778,\"#fb9f3a\"],[0.8888888888888888,\"#fdca26\"],[1.0,\"#f0f921\"]],\"type\":\"heatmap\"}],\"heatmapgl\":[{\"colorbar\":{\"outlinewidth\":0,\"ticks\":\"\"},\"colorscale\":[[0.0,\"#0d0887\"],[0.1111111111111111,\"#46039f\"],[0.2222222222222222,\"#7201a8\"],[0.3333333333333333,\"#9c179e\"],[0.4444444444444444,\"#bd3786\"],[0.5555555555555556,\"#d8576b\"],[0.6666666666666666,\"#ed7953\"],[0.7777777777777778,\"#fb9f3a\"],[0.8888888888888888,\"#fdca26\"],[1.0,\"#f0f921\"]],\"type\":\"heatmapgl\"}],\"histogram\":[{\"marker\":{\"pattern\":{\"fillmode\":\"overlay\",\"size\":10,\"solidity\":0.2}},\"type\":\"histogram\"}],\"histogram2d\":[{\"colorbar\":{\"outlinewidth\":0,\"ticks\":\"\"},\"colorscale\":[[0.0,\"#0d0887\"],[0.1111111111111111,\"#46039f\"],[0.2222222222222222,\"#7201a8\"],[0.3333333333333333,\"#9c179e\"],[0.4444444444444444,\"#bd3786\"],[0.5555555555555556,\"#d8576b\"],[0.6666666666666666,\"#ed7953\"],[0.7777777777777778,\"#fb9f3a\"],[0.8888888888888888,\"#fdca26\"],[1.0,\"#f0f921\"]],\"type\":\"histogram2d\"}],\"histogram2dcontour\":[{\"colorbar\":{\"outlinewidth\":0,\"ticks\":\"\"},\"colorscale\":[[0.0,\"#0d0887\"],[0.1111111111111111,\"#46039f\"],[0.2222222222222222,\"#7201a8\"],[0.3333333333333333,\"#9c179e\"],[0.4444444444444444,\"#bd3786\"],[0.5555555555555556,\"#d8576b\"],[0.6666666666666666,\"#ed7953\"],[0.7777777777777778,\"#fb9f3a\"],[0.8888888888888888,\"#fdca26\"],[1.0,\"#f0f921\"]],\"type\":\"histogram2dcontour\"}],\"mesh3d\":[{\"colorbar\":{\"outlinewidth\":0,\"ticks\":\"\"},\"type\":\"mesh3d\"}],\"parcoords\":[{\"line\":{\"colorbar\":{\"outlinewidth\":0,\"ticks\":\"\"}},\"type\":\"parcoords\"}],\"pie\":[{\"automargin\":true,\"type\":\"pie\"}],\"scatter\":[{\"marker\":{\"colorbar\":{\"outlinewidth\":0,\"ticks\":\"\"}},\"type\":\"scatter\"}],\"scatter3d\":[{\"line\":{\"colorbar\":{\"outlinewidth\":0,\"ticks\":\"\"}},\"marker\":{\"colorbar\":{\"outlinewidth\":0,\"ticks\":\"\"}},\"type\":\"scatter3d\"}],\"scattercarpet\":[{\"marker\":{\"colorbar\":{\"outlinewidth\":0,\"ticks\":\"\"}},\"type\":\"scattercarpet\"}],\"scattergeo\":[{\"marker\":{\"colorbar\":{\"outlinewidth\":0,\"ticks\":\"\"}},\"type\":\"scattergeo\"}],\"scattergl\":[{\"marker\":{\"colorbar\":{\"outlinewidth\":0,\"ticks\":\"\"}},\"type\":\"scattergl\"}],\"scattermapbox\":[{\"marker\":{\"colorbar\":{\"outlinewidth\":0,\"ticks\":\"\"}},\"type\":\"scattermapbox\"}],\"scatterpolar\":[{\"marker\":{\"colorbar\":{\"outlinewidth\":0,\"ticks\":\"\"}},\"type\":\"scatterpolar\"}],\"scatterpolargl\":[{\"marker\":{\"colorbar\":{\"outlinewidth\":0,\"ticks\":\"\"}},\"type\":\"scatterpolargl\"}],\"scatterternary\":[{\"marker\":{\"colorbar\":{\"outlinewidth\":0,\"ticks\":\"\"}},\"type\":\"scatterternary\"}],\"surface\":[{\"colorbar\":{\"outlinewidth\":0,\"ticks\":\"\"},\"colorscale\":[[0.0,\"#0d0887\"],[0.1111111111111111,\"#46039f\"],[0.2222222222222222,\"#7201a8\"],[0.3333333333333333,\"#9c179e\"],[0.4444444444444444,\"#bd3786\"],[0.5555555555555556,\"#d8576b\"],[0.6666666666666666,\"#ed7953\"],[0.7777777777777778,\"#fb9f3a\"],[0.8888888888888888,\"#fdca26\"],[1.0,\"#f0f921\"]],\"type\":\"surface\"}],\"table\":[{\"cells\":{\"fill\":{\"color\":\"#EBF0F8\"},\"line\":{\"color\":\"white\"}},\"header\":{\"fill\":{\"color\":\"#C8D4E3\"},\"line\":{\"color\":\"white\"}},\"type\":\"table\"}]},\"layout\":{\"annotationdefaults\":{\"arrowcolor\":\"#2a3f5f\",\"arrowhead\":0,\"arrowwidth\":1},\"autotypenumbers\":\"strict\",\"coloraxis\":{\"colorbar\":{\"outlinewidth\":0,\"ticks\":\"\"}},\"colorscale\":{\"diverging\":[[0,\"#8e0152\"],[0.1,\"#c51b7d\"],[0.2,\"#de77ae\"],[0.3,\"#f1b6da\"],[0.4,\"#fde0ef\"],[0.5,\"#f7f7f7\"],[0.6,\"#e6f5d0\"],[0.7,\"#b8e186\"],[0.8,\"#7fbc41\"],[0.9,\"#4d9221\"],[1,\"#276419\"]],\"sequential\":[[0.0,\"#0d0887\"],[0.1111111111111111,\"#46039f\"],[0.2222222222222222,\"#7201a8\"],[0.3333333333333333,\"#9c179e\"],[0.4444444444444444,\"#bd3786\"],[0.5555555555555556,\"#d8576b\"],[0.6666666666666666,\"#ed7953\"],[0.7777777777777778,\"#fb9f3a\"],[0.8888888888888888,\"#fdca26\"],[1.0,\"#f0f921\"]],\"sequentialminus\":[[0.0,\"#0d0887\"],[0.1111111111111111,\"#46039f\"],[0.2222222222222222,\"#7201a8\"],[0.3333333333333333,\"#9c179e\"],[0.4444444444444444,\"#bd3786\"],[0.5555555555555556,\"#d8576b\"],[0.6666666666666666,\"#ed7953\"],[0.7777777777777778,\"#fb9f3a\"],[0.8888888888888888,\"#fdca26\"],[1.0,\"#f0f921\"]]},\"colorway\":[\"#636efa\",\"#EF553B\",\"#00cc96\",\"#ab63fa\",\"#FFA15A\",\"#19d3f3\",\"#FF6692\",\"#B6E880\",\"#FF97FF\",\"#FECB52\"],\"font\":{\"color\":\"#2a3f5f\"},\"geo\":{\"bgcolor\":\"white\",\"lakecolor\":\"white\",\"landcolor\":\"#E5ECF6\",\"showlakes\":true,\"showland\":true,\"subunitcolor\":\"white\"},\"hoverlabel\":{\"align\":\"left\"},\"hovermode\":\"closest\",\"mapbox\":{\"style\":\"light\"},\"paper_bgcolor\":\"white\",\"plot_bgcolor\":\"#E5ECF6\",\"polar\":{\"angularaxis\":{\"gridcolor\":\"white\",\"linecolor\":\"white\",\"ticks\":\"\"},\"bgcolor\":\"#E5ECF6\",\"radialaxis\":{\"gridcolor\":\"white\",\"linecolor\":\"white\",\"ticks\":\"\"}},\"scene\":{\"xaxis\":{\"backgroundcolor\":\"#E5ECF6\",\"gridcolor\":\"white\",\"gridwidth\":2,\"linecolor\":\"white\",\"showbackground\":true,\"ticks\":\"\",\"zerolinecolor\":\"white\"},\"yaxis\":{\"backgroundcolor\":\"#E5ECF6\",\"gridcolor\":\"white\",\"gridwidth\":2,\"linecolor\":\"white\",\"showbackground\":true,\"ticks\":\"\",\"zerolinecolor\":\"white\"},\"zaxis\":{\"backgroundcolor\":\"#E5ECF6\",\"gridcolor\":\"white\",\"gridwidth\":2,\"linecolor\":\"white\",\"showbackground\":true,\"ticks\":\"\",\"zerolinecolor\":\"white\"}},\"shapedefaults\":{\"line\":{\"color\":\"#2a3f5f\"}},\"ternary\":{\"aaxis\":{\"gridcolor\":\"white\",\"linecolor\":\"white\",\"ticks\":\"\"},\"baxis\":{\"gridcolor\":\"white\",\"linecolor\":\"white\",\"ticks\":\"\"},\"bgcolor\":\"#E5ECF6\",\"caxis\":{\"gridcolor\":\"white\",\"linecolor\":\"white\",\"ticks\":\"\"}},\"title\":{\"x\":0.05},\"xaxis\":{\"automargin\":true,\"gridcolor\":\"white\",\"linecolor\":\"white\",\"ticks\":\"\",\"title\":{\"standoff\":15},\"zerolinecolor\":\"white\",\"zerolinewidth\":2},\"yaxis\":{\"automargin\":true,\"gridcolor\":\"white\",\"linecolor\":\"white\",\"ticks\":\"\",\"title\":{\"standoff\":15},\"zerolinecolor\":\"white\",\"zerolinewidth\":2}}},\"title\":{\"text\":\"Optimization History Plot\"},\"xaxis\":{\"title\":{\"text\":\"#Trials\"}},\"yaxis\":{\"title\":{\"text\":\"Objective Value\"}}},                        {\"responsive\": true}                    ).then(function(){\n",
       "                            \n",
       "var gd = document.getElementById('2110a194-7b7d-46d2-92e8-c49e934072f5');\n",
       "var x = new MutationObserver(function (mutations, observer) {{\n",
       "        var display = window.getComputedStyle(gd).display;\n",
       "        if (!display || display === 'none') {{\n",
       "            console.log([gd, 'removed!']);\n",
       "            Plotly.purge(gd);\n",
       "            observer.disconnect();\n",
       "        }}\n",
       "}});\n",
       "\n",
       "// Listen for the removal of the full notebook cells\n",
       "var notebookContainer = gd.closest('#notebook-container');\n",
       "if (notebookContainer) {{\n",
       "    x.observe(notebookContainer, {childList: true});\n",
       "}}\n",
       "\n",
       "// Listen for the clearing of the current output cell\n",
       "var outputEl = gd.closest('.output');\n",
       "if (outputEl) {{\n",
       "    x.observe(outputEl, {childList: true});\n",
       "}}\n",
       "\n",
       "                        })                };                });            </script>        </div>"
      ]
     },
     "metadata": {},
     "output_type": "display_data"
    }
   ],
   "source": [
    "optuna.visualization.plot_optimization_history(study)"
   ]
  }
 ],
 "metadata": {
  "kernelspec": {
   "display_name": "Python 3 (ipykernel)",
   "language": "python",
   "name": "python3"
  },
  "language_info": {
   "codemirror_mode": {
    "name": "ipython",
    "version": 3
   },
   "file_extension": ".py",
   "mimetype": "text/x-python",
   "name": "python",
   "nbconvert_exporter": "python",
   "pygments_lexer": "ipython3",
   "version": "3.9.7"
  }
 },
 "nbformat": 4,
 "nbformat_minor": 4
}
