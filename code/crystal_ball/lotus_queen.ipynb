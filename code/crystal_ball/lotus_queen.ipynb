{
 "cells": [
  {
   "cell_type": "markdown",
   "metadata": {},
   "source": [
    "Licensed under the MIT License.\n",
    "\n",
    "Copyright (c) 2021-2031. All rights reserved.\n",
    "\n",
    "# Lotus Queen - Outlier Plot\n",
    "\n",
    "* How to convert an image to a matplot marker\n",
    "  * Find an image (I perfer .png format) that you want to use as the marker\n",
    "  * Download free version of Inkscape and open the image. Select the image and click \"trace bitmap\". Then drag the image object, you will find another object with the path has been created, delete the original image object. `Ctr + Shift + R` to resize canvas to the same size as the selected object, then save it as .svg file.\n",
    "  * With the saved .svg file, you can parse the path string with `minidom` as what I did below\n",
    "  * Then use `parse_path()` from `svgpath2mpl` will parse the marker output"
   ]
  },
  {
   "cell_type": "code",
   "execution_count": 1,
   "metadata": {},
   "outputs": [],
   "source": [
    "# !pip install svgpath2mpl matplotlib\n",
    "from svgpath2mpl import parse_path\n",
    "import matplotlib.pyplot as plt       \n",
    "import pandas as pd\n",
    "import numpy as np\n",
    "from xml.dom import minidom"
   ]
  },
  {
   "cell_type": "code",
   "execution_count": 92,
   "metadata": {},
   "outputs": [
    {
     "name": "stdout",
     "output_type": "stream",
     "text": [
      "6.7487058078153765 9.362964073052211\n",
      "6.871789650976231 8.03653222060046\n"
     ]
    }
   ],
   "source": [
    "n = 300\n",
    "\n",
    "time_mean = 8\n",
    "time_std = 0.5\n",
    "month_mean = 7.5\n",
    "month_std = 0.2\n",
    "\n",
    "normal_lotus_time = np.random.normal(time_mean, time_std, n)\n",
    "normal_lotus_month = np.random.normal(month_mean, month_std, n)\n",
    "\n",
    "print(min(normal_lotus_time), max(normal_lotus_time))\n",
    "print(min(normal_lotus_month), max(normal_lotus_month))"
   ]
  },
  {
   "cell_type": "code",
   "execution_count": 93,
   "metadata": {},
   "outputs": [
    {
     "data": {
      "text/html": [
       "<div>\n",
       "<style scoped>\n",
       "    .dataframe tbody tr th:only-of-type {\n",
       "        vertical-align: middle;\n",
       "    }\n",
       "\n",
       "    .dataframe tbody tr th {\n",
       "        vertical-align: top;\n",
       "    }\n",
       "\n",
       "    .dataframe thead th {\n",
       "        text-align: right;\n",
       "    }\n",
       "</style>\n",
       "<table border=\"1\" class=\"dataframe\">\n",
       "  <thead>\n",
       "    <tr style=\"text-align: right;\">\n",
       "      <th></th>\n",
       "      <th>open_month</th>\n",
       "      <th>open_time</th>\n",
       "    </tr>\n",
       "  </thead>\n",
       "  <tbody>\n",
       "    <tr>\n",
       "      <th>295</th>\n",
       "      <td>7.641805</td>\n",
       "      <td>7.250905</td>\n",
       "    </tr>\n",
       "    <tr>\n",
       "      <th>296</th>\n",
       "      <td>7.733384</td>\n",
       "      <td>7.320628</td>\n",
       "    </tr>\n",
       "    <tr>\n",
       "      <th>297</th>\n",
       "      <td>8.258770</td>\n",
       "      <td>7.304842</td>\n",
       "    </tr>\n",
       "    <tr>\n",
       "      <th>298</th>\n",
       "      <td>7.760009</td>\n",
       "      <td>7.656979</td>\n",
       "    </tr>\n",
       "    <tr>\n",
       "      <th>299</th>\n",
       "      <td>8.155292</td>\n",
       "      <td>7.668065</td>\n",
       "    </tr>\n",
       "  </tbody>\n",
       "</table>\n",
       "</div>"
      ],
      "text/plain": [
       "     open_month  open_time\n",
       "295    7.641805   7.250905\n",
       "296    7.733384   7.320628\n",
       "297    8.258770   7.304842\n",
       "298    7.760009   7.656979\n",
       "299    8.155292   7.668065"
      ]
     },
     "execution_count": 93,
     "metadata": {},
     "output_type": "execute_result"
    }
   ],
   "source": [
    "lotus_df = pd.DataFrame({'open_month': normal_lotus_time, 'open_time':normal_lotus_month})\n",
    "\n",
    "lotus_df.tail()"
   ]
  },
  {
   "cell_type": "code",
   "execution_count": 94,
   "metadata": {},
   "outputs": [
    {
     "data": {
      "text/html": [
       "<div>\n",
       "<style scoped>\n",
       "    .dataframe tbody tr th:only-of-type {\n",
       "        vertical-align: middle;\n",
       "    }\n",
       "\n",
       "    .dataframe tbody tr th {\n",
       "        vertical-align: top;\n",
       "    }\n",
       "\n",
       "    .dataframe thead th {\n",
       "        text-align: right;\n",
       "    }\n",
       "</style>\n",
       "<table border=\"1\" class=\"dataframe\">\n",
       "  <thead>\n",
       "    <tr style=\"text-align: right;\">\n",
       "      <th></th>\n",
       "      <th>open_month</th>\n",
       "      <th>open_time</th>\n",
       "    </tr>\n",
       "  </thead>\n",
       "  <tbody>\n",
       "    <tr>\n",
       "      <th>296</th>\n",
       "      <td>7.733384</td>\n",
       "      <td>7.320628</td>\n",
       "    </tr>\n",
       "    <tr>\n",
       "      <th>297</th>\n",
       "      <td>8.258770</td>\n",
       "      <td>7.304842</td>\n",
       "    </tr>\n",
       "    <tr>\n",
       "      <th>298</th>\n",
       "      <td>7.760009</td>\n",
       "      <td>7.656979</td>\n",
       "    </tr>\n",
       "    <tr>\n",
       "      <th>299</th>\n",
       "      <td>8.155292</td>\n",
       "      <td>7.668065</td>\n",
       "    </tr>\n",
       "    <tr>\n",
       "      <th>300</th>\n",
       "      <td>12.000000</td>\n",
       "      <td>22.000000</td>\n",
       "    </tr>\n",
       "  </tbody>\n",
       "</table>\n",
       "</div>"
      ],
      "text/plain": [
       "     open_month  open_time\n",
       "296    7.733384   7.320628\n",
       "297    8.258770   7.304842\n",
       "298    7.760009   7.656979\n",
       "299    8.155292   7.668065\n",
       "300   12.000000  22.000000"
      ]
     },
     "execution_count": 94,
     "metadata": {},
     "output_type": "execute_result"
    }
   ],
   "source": [
    "lotus_df.loc[len(lotus_df)] = [12, 22]\n",
    "\n",
    "lotus_df.tail()"
   ]
  },
  {
   "cell_type": "code",
   "execution_count": 95,
   "metadata": {},
   "outputs": [
    {
     "data": {
      "text/plain": [
       "['m 161.03049,137.91065 c 8.31135,1.45443 14.70076,6.20864 18.77736,13.97176 2.22694,4.2408 3.77244,8.60174 3.22649,9.10421 -0.43076,0.39645 -8.07175,1.55837 -10.36589,1.57628 l -2.09578,0.0164 -0.29507,5.51071 c -0.31924,5.96184 -1.10643,9.43227 -2.22948,9.8289 -0.99614,0.35181 -7.70811,-1.97847 -11.07798,-3.84607 l -2.82003,-1.56289 -1.512,2.42137 c -1.79361,2.87234 -6.0245,7.75439 -7.34577,8.47631 -0.79354,0.43358 -1.28063,0.15568 -3.21452,-1.83397 -1.2536,-1.28974 -3.30752,-3.85433 -4.56427,-5.69908 l -2.285,-3.35409 -2.81053,1.55762 c -3.39698,1.88263 -10.0773,4.19085 -11.09189,3.83253 -1.03986,-0.36726 -1.92735,-4.43258 -2.22695,-10.20099 l -0.25725,-4.95308 -5.29641,-0.54472 c -6.44358,-0.6627 -7.45167,-1.06815 -7.00412,-2.81705 1.50597,-5.88492 6.32614,-13.53388 10.48739,-16.64206 5.28251,-3.94569 10.41045,-5.33656 18.75235,-5.08629 9.68847,0.29068 11.76202,0.28358 16.81623,-0.0576 3.30996,-0.22343 5.97711,-0.12797 8.43312,0.30182 z m -9.61579,1.51448 -2.34407,0.2957 4.69347,2.15387 c 3.61719,1.65996 5.59416,2.96978 8.62118,5.71186 4.06588,3.68315 5.87849,6.4658 7.12303,10.93496 l 0.64162,2.30409 4.09069,-0.29886 c 6.12764,-0.44767 6.54214,-0.60543 6.18049,-2.35226 -1.02568,-4.95421 -7.47249,-13.378 -12.18252,-15.91842 -4.41215,-2.37975 -11.26265,-3.53248 -16.82389,-2.83094 z m -25.90983,1.13752 c -3.8777,1.20226 -6.73059,2.97428 -9.7274,6.04198 -2.37807,2.43433 -6.23321,9.00728 -6.78833,11.57399 -0.37545,1.73595 -0.0747,1.8493 6.17973,2.32916 l 4.10249,0.31476 0.89846,-2.99086 c 1.10415,-3.6756 2.84597,-6.48534 5.89362,-9.50702 2.67834,-2.65552 8.61218,-6.38309 12.14019,-7.62633 l 2.41854,-0.85226 -1.52874,-0.33402 c -2.62664,-0.5739 -10.25,0.0155 -13.58856,1.0506 z m 24.42284,3.1395 c 2.29046,2.69878 4.20277,5.94413 5.68471,9.64739 1.24459,3.11015 1.54084,3.46457 3.87985,4.64167 2.4773,1.24668 7.64337,2.61995 8.1392,2.1636 0.56886,-0.52355 -1.42722,-5.18191 -3.36455,-7.85201 -2.33636,-3.22007 -5.90137,-6.00095 -11.01646,-8.59338 -4.43099,-2.24571 -5.22399,-2.24745 -3.32275,-0.007 z m -13.64449,-0.10453 c -7.29605,3.37347 -12.81458,9.2539 -14.4624,15.41085 l -0.36229,1.35368 2.19287,-0.30806 c 2.58888,-0.36369 8.61704,-3.03322 9.12463,-4.04078 0.19493,-0.38693 0.96068,-2.20919 1.70167,-4.04948 0.74099,-1.8403 2.48141,-4.86121 3.8676,-6.71316 2.76696,-3.69665 2.61729,-3.81664 -2.06208,-1.65305 z m 12.99156,4.29619 c 1.03368,1.75727 2.44169,3.82818 3.12891,4.60202 l 1.24951,1.40699 -0.51662,-1.29292 c -1.19504,-2.99082 -4.97785,-8.61369 -5.48245,-8.14928 -0.14232,0.13099 0.58697,1.67592 1.62065,3.43319 z m -5.05701,5.65637 c 0.33956,2.67314 0.45856,2.94736 0.76356,1.75963 0.4915,-1.914 0.55104,-7.08824 0.10794,-9.37993 -0.35798,-1.85146 -0.36868,-1.8346 -0.81823,1.28884 -0.25053,1.74067 -0.2745,4.58982 -0.0533,6.33146 z m -5.85893,-4.80632 c -0.81796,1.28974 -1.74081,2.97813 -2.05078,3.75197 l -0.56358,1.40699 1.27326,-1.40699 c 1.3291,-1.46868 4.88672,-7.34671 4.86706,-8.04152 -0.0167,-0.59146 -1.8275,1.61145 -3.52596,4.28955 z m 8.08903,9.70935 c -0.52009,2.02977 -0.45607,2.38976 0.80376,4.52013 1.86294,3.15021 5.73145,6.6462 6.34438,5.73344 0.81777,-1.21779 1.67816,-6.60407 1.43181,-8.9636 -0.20839,-1.99606 -0.59563,-2.66579 -2.76623,-4.78416 -1.38816,-1.35475 -2.96972,-3.16365 -3.51459,-4.01976 l -0.99067,-1.55658 -0.37168,3.43256 c -0.20443,1.88791 -0.62598,4.425 -0.93678,5.63797 z m -9.97903,-2.62773 c -1.8904,1.78585 -1.93667,1.9129 -1.94721,5.34679 -0.0104,3.3882 1.00068,7.97294 1.75827,7.97294 0.81845,0 5.04217,-4.43506 6.12619,-6.43273 1.04756,-1.93046 1.1043,-2.36618 0.58027,-4.45559 -0.31946,-1.27373 -0.72881,-3.7813 -0.90968,-5.57236 l -0.32885,-3.25648 -1.67128,2.28406 c -0.91921,1.25623 -2.54268,3.10724 -3.60771,4.11337 z m 20.56992,6.87103 c -0.16058,1.87012 -0.65876,4.34054 -1.10706,5.48983 -0.4483,1.14928 -0.71432,2.33131 -0.59114,2.62672 0.29102,0.698 8.24656,4.32125 10.32364,4.70178 l 1.60121,0.29335 0.58937,-3.21591 c 0.32416,-1.76875 0.52086,-4.76993 0.43712,-6.66929 l -0.15225,-3.45338 -3.66951,-0.85615 c -2.01823,-0.47088 -4.31135,-1.17643 -5.09583,-1.56789 -0.78447,-0.39145 -1.5652,-0.72018 -1.73495,-0.73051 -0.16975,-0.0103 -0.44002,1.51132 -0.6006,3.38145 z m -26.92607,-2.66673 c -0.84765,0.40342 -3.18672,1.11927 -5.19792,1.59077 l -3.65674,0.85727 0.008,4.38894 c 0.004,2.41391 0.19401,5.41452 0.42178,6.66801 0.40968,2.25469 0.43139,2.27592 2.03066,1.98523 1.75823,-0.31959 8.17577,-3.04841 9.69146,-4.12094 0.89334,-0.63215 0.89939,-0.79383 0.12006,-3.20911 -0.45137,-1.39888 -0.96496,-3.97222 -1.14131,-5.71854 -0.17635,-1.74632 -0.41375,-3.17513 -0.52756,-3.17513 -0.1138,0 -0.90044,0.33008 -1.74809,0.7335 z m 13.50876,4.52909 c -0.46682,0.83083 -2.12402,2.74109 -3.68265,4.24501 l -2.83388,2.73439 1.24905,2.11483 c 0.68697,1.16315 2.36256,3.38412 3.72354,4.9355 l 2.47449,2.82069 1.26538,-1.09033 c 1.46895,-1.26573 6.27041,-7.73896 6.27041,-8.45363 0,-0.26634 -1.26319,-1.73999 -2.80709,-3.27477 -1.5439,-1.53478 -3.15497,-3.40966 -3.58016,-4.1664 -0.4252,-0.75675 -0.87596,-1.37591 -1.0017,-1.37591 -0.12574,0 -0.61057,0.67978 -1.07739,1.51062 z']"
      ]
     },
     "execution_count": 95,
     "metadata": {},
     "output_type": "execute_result"
    }
   ],
   "source": [
    "# Get the path string from the .svg file\n",
    "doc = minidom.parse('lotus.svg')\n",
    "path_strings = [path.getAttribute('d') for path\n",
    "                in doc.getElementsByTagName('path')]\n",
    "doc.unlink()\n",
    "\n",
    "path_strings"
   ]
  },
  {
   "cell_type": "code",
   "execution_count": 101,
   "metadata": {},
   "outputs": [
    {
     "data": {
      "image/png": "[encoded data removed]",
      "text/plain": [
       "<Figure size 576x360 with 1 Axes>"
      ]
     },
     "metadata": {
      "needs_background": "light"
     },
     "output_type": "display_data"
    }
   ],
   "source": [
    "plt.figure(figsize=(8,5))\n",
    "lotus = parse_path(path_strings[0])\n",
    "lotus.vertices -= lotus.vertices.mean(axis=0)         \n",
    "plt.plot(lotus_df['open_month'].values[:-1], lotus_df['open_time'].values[:-1], marker=lotus, markersize=20, color='c', alpha=0.5, label='normal lotus')\n",
    "plt.plot(lotus_df['open_month'].values[-1], lotus_df['open_time'].values[-1], marker=lotus, markersize=20, color='deeppink', label='the queen :)')\n",
    "plt.xlabel('open_time')\n",
    "plt.ylabel('open_month')\n",
    "plt.legend()\n",
    "plt.show()"
   ]
  }
 ],
 "metadata": {
  "kernelspec": {
   "display_name": "Python 3 (ipykernel)",
   "language": "python",
   "name": "python3"
  },
  "language_info": {
   "codemirror_mode": {
    "name": "ipython",
    "version": 3
   },
   "file_extension": ".py",
   "mimetype": "text/x-python",
   "name": "python",
   "nbconvert_exporter": "python",
   "pygments_lexer": "ipython3",
   "version": "3.9.7"
  }
 },
 "nbformat": 4,
 "nbformat_minor": 4
}
